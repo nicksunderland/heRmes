{
 "cells": [
  {
   "cell_type": "markdown",
   "id": "d0f06bf7-cb6a-4f97-beaf-0333d0a82e22",
   "metadata": {},
   "source": [
    "# HERMES 3.0 PHENOTYPING"
   ]
  },
  {
   "cell_type": "markdown",
   "id": "ac9542c3-a1cb-4599-a9c0-92a47b4e55eb",
   "metadata": {},
   "source": [
    "## Libraries"
   ]
  },
  {
   "cell_type": "code",
   "execution_count": 23,
   "id": "8dcc3f8f-d5b0-4b74-a2f6-150de23481c9",
   "metadata": {
    "tags": []
   },
   "outputs": [],
   "source": [
    "import dxpy\n",
    "import subprocess\n",
    "import os\n",
    "import glob\n",
    "import pandas as pd"
   ]
  },
  {
   "cell_type": "markdown",
   "id": "4392fe9a-9293-4a3e-9399-8f176719fce4",
   "metadata": {},
   "source": [
    "## Project and record IDs"
   ]
  },
  {
   "cell_type": "code",
   "execution_count": 7,
   "id": "acbf446d-0f83-4372-b1f7-e819c9869afb",
   "metadata": {
    "tags": []
   },
   "outputs": [
    {
     "name": "stdout",
     "output_type": "stream",
     "text": [
      "Dataset id: project-GvZyZ20J81vgPJGbJy8pgpyq:record-Gvb0Bg0Jfxfv0q8Fb2pXqKjg\n"
     ]
    }
   ],
   "source": [
    "dispensed_dataset_id = dxpy.find_one_data_object(typename='Dataset', name='app*.dataset', folder='/', name_mode='glob')['id']\n",
    "project_id = dxpy.find_one_project()[\"id\"]\n",
    "dataset = (':').join([project_id, dispensed_dataset_id])\n",
    "print(\"Dataset id: \" + dataset)"
   ]
  },
  {
   "cell_type": "markdown",
   "id": "228447e2-334f-4ba3-a491-a032d4371bbc",
   "metadata": {},
   "source": [
    "## Get data dictionaries"
   ]
  },
  {
   "cell_type": "code",
   "execution_count": 18,
   "id": "4658196f-497b-4f7c-b472-1115098c0b3c",
   "metadata": {
    "tags": []
   },
   "outputs": [
    {
     "data": {
      "text/plain": [
       "0"
      ]
     },
     "execution_count": 18,
     "metadata": {},
     "output_type": "execute_result"
    }
   ],
   "source": [
    "os.chdir(\"/opt/notebooks\")\n",
    "cmd = [\"dx\", \"extract_dataset\", dataset, \"-ddd\", \"--delimiter\", \",\"]\n",
    "subprocess.check_call(cmd)"
   ]
  },
  {
   "cell_type": "code",
   "execution_count": 92,
   "id": "948e9f4a-4318-42f1-acd4-2893af3b994b",
   "metadata": {
    "tags": []
   },
   "outputs": [
    {
     "name": "stderr",
     "output_type": "stream",
     "text": [
      "/tmp/ipykernel_105/1109791923.py:3: DtypeWarning: Columns (4,7,8,9,10,15) have mixed types. Specify dtype option on import or set low_memory=False.\n",
      "  data_dict_df = pd.read_csv(data_dict_csv)\n"
     ]
    },
    {
     "name": "stdout",
     "output_type": "stream",
     "text": [
      "Command failed with error code 3\n",
      "Command output: dxpy.exceptions.DXCLIError: Some inputs (dataset_or_cohort_or_dashboard) are missing, and interactive mode is not available\n",
      "\n"
     ]
    },
    {
     "ename": "AttributeError",
     "evalue": "'NoneType' object has no attribute 'decode'",
     "output_type": "error",
     "traceback": [
      "\u001b[0;31m---------------------------------------------------------------------------\u001b[0m",
      "\u001b[0;31mCalledProcessError\u001b[0m                        Traceback (most recent call last)",
      "Cell \u001b[0;32mIn[92], line 43\u001b[0m\n\u001b[1;32m     42\u001b[0m \u001b[38;5;28;01mtry\u001b[39;00m:\n\u001b[0;32m---> 43\u001b[0m     output \u001b[38;5;241m=\u001b[39m \u001b[43msubprocess\u001b[49m\u001b[38;5;241;43m.\u001b[39;49m\u001b[43mcheck_output\u001b[49m\u001b[43m(\u001b[49m\u001b[43mcmd\u001b[49m\u001b[43m,\u001b[49m\u001b[43m \u001b[49m\u001b[43mstderr\u001b[49m\u001b[38;5;241;43m=\u001b[39;49m\u001b[43msubprocess\u001b[49m\u001b[38;5;241;43m.\u001b[39;49m\u001b[43mSTDOUT\u001b[49m\u001b[43m)\u001b[49m\n\u001b[1;32m     44\u001b[0m     \u001b[38;5;28mprint\u001b[39m(\u001b[38;5;124m\"\u001b[39m\u001b[38;5;124mCommand Output:\u001b[39m\u001b[38;5;124m\"\u001b[39m)\n",
      "File \u001b[0;32m/opt/conda/lib/python3.11/subprocess.py:466\u001b[0m, in \u001b[0;36mcheck_output\u001b[0;34m(timeout, *popenargs, **kwargs)\u001b[0m\n\u001b[1;32m    464\u001b[0m     kwargs[\u001b[38;5;124m'\u001b[39m\u001b[38;5;124minput\u001b[39m\u001b[38;5;124m'\u001b[39m] \u001b[38;5;241m=\u001b[39m empty\n\u001b[0;32m--> 466\u001b[0m \u001b[38;5;28;01mreturn\u001b[39;00m \u001b[43mrun\u001b[49m\u001b[43m(\u001b[49m\u001b[38;5;241;43m*\u001b[39;49m\u001b[43mpopenargs\u001b[49m\u001b[43m,\u001b[49m\u001b[43m \u001b[49m\u001b[43mstdout\u001b[49m\u001b[38;5;241;43m=\u001b[39;49m\u001b[43mPIPE\u001b[49m\u001b[43m,\u001b[49m\u001b[43m \u001b[49m\u001b[43mtimeout\u001b[49m\u001b[38;5;241;43m=\u001b[39;49m\u001b[43mtimeout\u001b[49m\u001b[43m,\u001b[49m\u001b[43m \u001b[49m\u001b[43mcheck\u001b[49m\u001b[38;5;241;43m=\u001b[39;49m\u001b[38;5;28;43;01mTrue\u001b[39;49;00m\u001b[43m,\u001b[49m\n\u001b[1;32m    467\u001b[0m \u001b[43m           \u001b[49m\u001b[38;5;241;43m*\u001b[39;49m\u001b[38;5;241;43m*\u001b[39;49m\u001b[43mkwargs\u001b[49m\u001b[43m)\u001b[49m\u001b[38;5;241m.\u001b[39mstdout\n",
      "File \u001b[0;32m/opt/conda/lib/python3.11/subprocess.py:571\u001b[0m, in \u001b[0;36mrun\u001b[0;34m(input, capture_output, timeout, check, *popenargs, **kwargs)\u001b[0m\n\u001b[1;32m    570\u001b[0m     \u001b[38;5;28;01mif\u001b[39;00m check \u001b[38;5;129;01mand\u001b[39;00m retcode:\n\u001b[0;32m--> 571\u001b[0m         \u001b[38;5;28;01mraise\u001b[39;00m CalledProcessError(retcode, process\u001b[38;5;241m.\u001b[39margs,\n\u001b[1;32m    572\u001b[0m                                  output\u001b[38;5;241m=\u001b[39mstdout, stderr\u001b[38;5;241m=\u001b[39mstderr)\n\u001b[1;32m    573\u001b[0m \u001b[38;5;28;01mreturn\u001b[39;00m CompletedProcess(process\u001b[38;5;241m.\u001b[39margs, retcode, stdout, stderr)\n",
      "\u001b[0;31mCalledProcessError\u001b[0m: Command '['dx', 'run', 'table-exporter', '-dataset_or_cohort_or_dashboard=project-GvZyZ20J81vgPJGbJy8pgpyq:record-Gvb0Bg0Jfxfv0q8Fb2pXqKjg', '-ientity=participant', '-ioutput_format=TSV', '-ifield_names=p31', '--destination', 'data_participant.tsv']' returned non-zero exit status 3.",
      "\nDuring handling of the above exception, another exception occurred:\n",
      "\u001b[0;31mAttributeError\u001b[0m                            Traceback (most recent call last)",
      "Cell \u001b[0;32mIn[92], line 49\u001b[0m\n\u001b[1;32m     47\u001b[0m \u001b[38;5;28mprint\u001b[39m(\u001b[38;5;124mf\u001b[39m\u001b[38;5;124m\"\u001b[39m\u001b[38;5;124mCommand failed with error code \u001b[39m\u001b[38;5;132;01m{\u001b[39;00me\u001b[38;5;241m.\u001b[39mreturncode\u001b[38;5;132;01m}\u001b[39;00m\u001b[38;5;124m\"\u001b[39m)\n\u001b[1;32m     48\u001b[0m \u001b[38;5;28mprint\u001b[39m(\u001b[38;5;124mf\u001b[39m\u001b[38;5;124m\"\u001b[39m\u001b[38;5;124mCommand output: \u001b[39m\u001b[38;5;132;01m{\u001b[39;00me\u001b[38;5;241m.\u001b[39moutput\u001b[38;5;241m.\u001b[39mdecode()\u001b[38;5;132;01m}\u001b[39;00m\u001b[38;5;124m\"\u001b[39m)\n\u001b[0;32m---> 49\u001b[0m \u001b[38;5;28mprint\u001b[39m(\u001b[38;5;124mf\u001b[39m\u001b[38;5;124m\"\u001b[39m\u001b[38;5;124mCommand error: \u001b[39m\u001b[38;5;132;01m{\u001b[39;00m\u001b[43me\u001b[49m\u001b[38;5;241;43m.\u001b[39;49m\u001b[43mstderr\u001b[49m\u001b[38;5;241;43m.\u001b[39;49m\u001b[43mdecode\u001b[49m()\u001b[38;5;132;01m}\u001b[39;00m\u001b[38;5;124m\"\u001b[39m)\n",
      "\u001b[0;31mAttributeError\u001b[0m: 'NoneType' object has no attribute 'decode'"
     ]
    }
   ],
   "source": [
    "path = \"/opt/notebooks\"\n",
    "data_dict_csv = glob.glob(os.path.join(path, \"*.data_dictionary.csv\"))[0]\n",
    "data_dict_df = pd.read_csv(data_dict_csv)\n",
    "\n",
    "codes_to_extract = {\n",
    "    \"eid\":               {\"name\": \"eid\",       \"entity\": \"participant\", \"search\": \"matches\"},\n",
    "    \"sex\":               {\"name\": \"p31\",       \"entity\": \"participant\", \"search\": \"matches\"},\n",
    "    \"age\":               {\"name\": \"p21022\",    \"entity\": \"participant\", \"search\": \"matches\"},\n",
    "    \"ethnicity\":         {\"name\": \"p21000\",    \"entity\": \"participant\", \"search\": \"matches\"},\n",
    "    \"genetic_sex\":       {\"name\": \"p22001\",    \"entity\": \"participant\", \"search\": \"matches\"},\n",
    "    \"genetic_ethnicity\": {\"name\": \"p22006\",    \"entity\": \"participant\", \"search\": \"matches\"},\n",
    "    \"pc1\":               {\"name\": \"p22009_a1\", \"entity\": \"participant\", \"search\": \"matches\"},\n",
    "    \"pc2\":               {\"name\": \"p22009_a2\", \"entity\": \"participant\", \"search\": \"matches\"},\n",
    "    \"pc3\":               {\"name\": \"p22009_a3\", \"entity\": \"participant\", \"search\": \"matches\"},\n",
    "    \"pc4\":               {\"name\": \"p22009_a4\", \"entity\": \"participant\", \"search\": \"matches\"},\n",
    "    \"pc5\":               {\"name\": \"p22009_a5\", \"entity\": \"participant\", \"search\": \"matches\"},\n",
    "    \"self_rep_ill\":      {\"name\": \"p20002\",    \"entity\": \"participant\", \"search\": \"startswith\"},\n",
    "    \"self_rep_ill_year\": {\"name\": \"p20008\",    \"entity\": \"participant\", \"search\": \"startswith\"},\n",
    "    \"self_rep_proc\":     {\"name\": \"p20004\",    \"entity\": \"participant\", \"search\": \"startswith\"},\n",
    "    \"self_rep_proc_year\":{\"name\": \"p20010\",    \"entity\": \"participant\", \"search\": \"startswith\"},\n",
    "}\n",
    "\n",
    "filtered_df = pd.DataFrame()\n",
    "\n",
    "for desc, criteria in codes_to_extract.items():\n",
    "    df = data_dict_df[data_dict_df[\"entity\"] == criteria[\"entity\"]]\n",
    "    if criteria[\"search\"] == \"matches\":\n",
    "        filtered_df = pd.concat([filtered_df, df[df[\"name\"] == criteria[\"name\"]]])\n",
    "    elif criteria[\"search\"] == \"startswith\":\n",
    "        filtered_df = pd.concat([filtered_df, df[df[\"name\"].str.startswith(criteria[\"name\"])]])\n",
    "        \n",
    "filtered_df = filtered_df.reset_index(drop=True)\n",
    "filtered_df[\"name\"].to_csv(\"field_name.txt\", index=False, header=False)\n",
    "\n",
    "\n",
    "cmd = \"dx run table-exporter -dataset_or_cohort_or_dashboard=\" + dataset +\n",
    "      \"-ientity=participant \" +\n",
    "      \"-ioutput_format=TSV \" +\n",
    "      \"-ifield_names=p31 \" +\n",
    "      \"--destination data_participant.tsv\"\n",
    "subprocess.check_output(cmd,\n",
    "try:\n",
    "    output = subprocess.check_output(cmd, stderr=subprocess.STDOUT)\n",
    "    print(\"Command Output:\")\n",
    "    print(output.decode())\n",
    "except subprocess.CalledProcessError as e:\n",
    "    print(f\"Command failed with error code {e.returncode}\")\n",
    "    print(f\"Command output: {e.output.decode()}\")\n",
    "    print(f\"Command error: {e.stderr.decode()}\")"
   ]
  },
  {
   "cell_type": "code",
   "execution_count": null,
   "id": "feefc530-7793-4779-b9c6-b4beefd4032e",
   "metadata": {},
   "outputs": [],
   "source": [
    "import dxpy\n",
    "import pyspark\n",
    "\n",
    "config = pyspark.SparkConf().setAll([('spark.kryoserializer.buffer.max', '128'),('spark.sql.execution.arrow.pyspark.enabled','true')])  \n",
    "sc = pyspark.SparkContext(conf=config)\n",
    "spark = pyspark.sql.SparkSession(sc)"
   ]
  }
 ],
 "metadata": {
  "kernelspec": {
   "display_name": "Python 3 (ipykernel)",
   "language": "python",
   "name": "python3"
  },
  "language_info": {
   "codemirror_mode": {
    "name": "ipython",
    "version": 3
   },
   "file_extension": ".py",
   "mimetype": "text/x-python",
   "name": "python",
   "nbconvert_exporter": "python",
   "pygments_lexer": "ipython3",
   "version": "3.11.5"
  }
 },
 "nbformat": 4,
 "nbformat_minor": 5
}
