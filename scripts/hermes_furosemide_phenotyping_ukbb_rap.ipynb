{
 "cells": [
  {
   "cell_type": "markdown",
   "id": "253614e0-ef79-4cff-abeb-9c7cec202dfe",
   "metadata": {},
   "source": [
    "## HERMES - furosemide phenotype"
   ]
  },
  {
   "cell_type": "markdown",
   "id": "1a2c0ff6-0886-449e-af31-3044b98588bf",
   "metadata": {},
   "source": [
    "#### Clone HeRmes repository"
   ]
  },
  {
   "cell_type": "code",
   "execution_count": 5,
   "id": "fce7e00b-cb51-40d1-977d-16026831d2f0",
   "metadata": {
    "tags": []
   },
   "outputs": [],
   "source": [
    "#system(\"git clone https://github.com/nicksunderland/heRmes.git\")"
   ]
  },
  {
   "cell_type": "markdown",
   "id": "8a01c3b1-910b-405d-aa4a-8fdb18dda816",
   "metadata": {},
   "source": [
    "#### Pushing changes to Github"
   ]
  },
  {
   "cell_type": "code",
   "execution_count": 6,
   "id": "4fa66f5d-c128-45fb-88f4-255436e20299",
   "metadata": {
    "tags": []
   },
   "outputs": [],
   "source": [
    "# in ther terminal run\n",
    "# cd /opt/notebooks\n",
    "# dx download git_push.sh\n",
    "# run bash git_push.sh "
   ]
  },
  {
   "cell_type": "markdown",
   "id": "221c70a8-b701-4482-a6d1-a2c00f877a5d",
   "metadata": {},
   "source": [
    "#### Project & record ID"
   ]
  },
  {
   "cell_type": "code",
   "execution_count": 7,
   "id": "a5958289-b652-4c12-8a11-0f4683a6da8f",
   "metadata": {
    "tags": []
   },
   "outputs": [],
   "source": [
    "projectid <- \"project-GvZyZ20J81vgPJGbJy8pgpyq\"\n",
    "recordid  <- \"record-Gvb0Bg0Jfxfv0q8Fb2pXqKjg\""
   ]
  },
  {
   "cell_type": "markdown",
   "id": "092c42b4-2cee-4b1c-93f2-b51b73e697fa",
   "metadata": {
    "tags": []
   },
   "source": [
    "#### Libraries"
   ]
  },
  {
   "cell_type": "code",
   "execution_count": 8,
   "id": "60c4b528-545b-4f31-b1a1-0352ad833814",
   "metadata": {
    "tags": []
   },
   "outputs": [],
   "source": [
    "library(glue)\n",
    "library(data.table)"
   ]
  },
  {
   "cell_type": "markdown",
   "id": "e519ed12-f0ed-4ca8-b16d-27eb53a787be",
   "metadata": {},
   "source": [
    "## Extract GP data"
   ]
  },
  {
   "cell_type": "markdown",
   "id": "82469460-c77b-45e2-a07e-59e21906c8ae",
   "metadata": {},
   "source": [
    "#### Download data dictionary"
   ]
  },
  {
   "cell_type": "code",
   "execution_count": 9,
   "id": "1f59a396-ecfd-499d-8fd2-12c5d863e8cf",
   "metadata": {
    "tags": []
   },
   "outputs": [],
   "source": [
    "setwd(\"/opt/notebooks\")\n",
    "dataset <- glue(\"{projectid}:{recordid}\")\n",
    "cmd <- glue(\"dx extract_dataset {dataset} -ddd\")\n",
    "system(cmd)\n",
    "dict_files <- list.files(pattern=\"codings|data_dictionary|entity_dictionary\")\n",
    "data_dict_file <- dict_files[grepl(\"data_dictionary\", dict_files)]"
   ]
  },
  {
   "cell_type": "markdown",
   "id": "6d526b7d-5f9d-4fcb-8e7c-9b6b37148d21",
   "metadata": {},
   "source": [
    "#### Data dictionary filter function"
   ]
  },
  {
   "cell_type": "code",
   "execution_count": 10,
   "id": "58f48ced-e3e2-49bf-9442-f9c8b76f5952",
   "metadata": {
    "tags": []
   },
   "outputs": [],
   "source": [
    "#' @title filter_data_dict\n",
    "#'\n",
    "#' @param dict_path, str, path to the dataset.data_dictionary.csv\n",
    "#' @param codes_str, list, list of lists representing UKBB column name, table entity, and search strategy list(name=, entity=, search=). \n",
    "#'   name must be a valid column name in the data_dictionary, entity a valid entity in the entity dictionary, and search either \"matches\"\n",
    "#'   for exact matches, or starts with to match cases of multiple instances (repeated measures usually)\n",
    "#'\n",
    "#' @returns a filtered subset of the data_dictionary \n",
    "#'\n",
    "filter_data_dict <- function(dict_path, codes_struc) {\n",
    "    \n",
    "    data_dict <- fread(dict_path)\n",
    "    \n",
    "    d <- lapply(codes_struc, function(x) {\n",
    "        \n",
    "        d0 <- data.table()\n",
    "        if (x$search==\"matches\") {\n",
    "            d0 <- data_dict[entity==x$entity & name==x$name]\n",
    "        } else if (x$search==\"startswith\") {\n",
    "            d0 <- data_dict[entity==x$entity & grepl(paste0(\"^\", x$name), name)]\n",
    "        }\n",
    "        \n",
    "        if (nrow(d0)==0) {\n",
    "            cat(glue(\"Code [{x$name}] not found in data dictionary\\n\"))\n",
    "            stop(\"Code not found error\")\n",
    "        }\n",
    "        \n",
    "        d0\n",
    "        \n",
    "    }) |> rbindlist(idcol = \"item\")\n",
    "    \n",
    "    return(d)\n",
    "}"
   ]
  },
  {
   "cell_type": "markdown",
   "id": "15c7daf4-282a-4d6f-a197-f13d93e4c68a",
   "metadata": {
    "tags": []
   },
   "source": [
    "#### Data extraction function"
   ]
  },
  {
   "cell_type": "code",
   "execution_count": 11,
   "id": "e06b047b-93c2-42f9-8110-47a10f48d15c",
   "metadata": {
    "tags": []
   },
   "outputs": [],
   "source": [
    "#' @title extract_data\n",
    "#'\n",
    "#' @param dataset, str, a valid dataset id - format \"{projectid}:{recordid}\" \n",
    "#' @param fields, str, vector of UK-BB format column names e.g. p31\n",
    "#' @param entity, str, string of length one - the entity to extract from e.g. participants\n",
    "#' @param output, str, the base name for the output file, no extension\n",
    "#'\n",
    "#' @returns NULL side effect is starting a table-exporter job which outputs the file to /hermes3_data directory in the RAP\n",
    "#'\n",
    "extract_data <- function(dataset, fields, entity, output) {\n",
    "    \n",
    "    field_str <- paste0('-ifield_names=\"', fields, '\"', collapse=\" \") \n",
    "    \n",
    "    cmd <- glue(\n",
    "      \"dx run table-exporter \",\n",
    "      \"-idataset_or_cohort_or_dashboard={dataset} \",\n",
    "      \"-ioutput={output} \",\n",
    "      \"-ioutput_format=TSV \",\n",
    "      \"-iheader_style=FIELD-NAME \",\n",
    "      \"-icoding_option=RAW \",\n",
    "      \"{field_str} \",\n",
    "      \"-ientity={entity} \",\n",
    "      \"--destination hermes3_data/\"\n",
    "    )    \n",
    "\n",
    "    o <- system(cmd, intern = TRUE)\n",
    "    cat(o, sep = \"\\n\")\n",
    "}"
   ]
  },
  {
   "cell_type": "markdown",
   "id": "f52f2dc1-1206-4de3-bd04-d31ff06ea7da",
   "metadata": {},
   "source": [
    "#### Define GP clinical data"
   ]
  },
  {
   "cell_type": "code",
   "execution_count": 12,
   "id": "c343e2b8-f2ba-4ea3-9637-28563100028e",
   "metadata": {
    "tags": []
   },
   "outputs": [
    {
     "data": {
      "text/html": [
       "<table class=\"dataframe\">\n",
       "<caption>A data.table: 3 × 17</caption>\n",
       "<thead>\n",
       "\t<tr><th scope=col>item</th><th scope=col>entity</th><th scope=col>name</th><th scope=col>type</th><th scope=col>primary_key_type</th><th scope=col>coding_name</th><th scope=col>concept</th><th scope=col>description</th><th scope=col>folder_path</th><th scope=col>is_multi_select</th><th scope=col>is_sparse_coding</th><th scope=col>linkout</th><th scope=col>longitudinal_axis_type</th><th scope=col>referenced_entity_field</th><th scope=col>relationship</th><th scope=col>title</th><th scope=col>units</th></tr>\n",
       "\t<tr><th scope=col>&lt;chr&gt;</th><th scope=col>&lt;chr&gt;</th><th scope=col>&lt;chr&gt;</th><th scope=col>&lt;chr&gt;</th><th scope=col>&lt;chr&gt;</th><th scope=col>&lt;chr&gt;</th><th scope=col>&lt;lgl&gt;</th><th scope=col>&lt;lgl&gt;</th><th scope=col>&lt;chr&gt;</th><th scope=col>&lt;chr&gt;</th><th scope=col>&lt;chr&gt;</th><th scope=col>&lt;chr&gt;</th><th scope=col>&lt;lgl&gt;</th><th scope=col>&lt;chr&gt;</th><th scope=col>&lt;chr&gt;</th><th scope=col>&lt;chr&gt;</th><th scope=col>&lt;chr&gt;</th></tr>\n",
       "</thead>\n",
       "<tbody>\n",
       "\t<tr><td>eid          </td><td>gp_clinical</td><td>eid          </td><td>string</td><td></td><td>               </td><td>NA</td><td>NA</td><td></td><td></td><td>   </td><td></td><td>NA</td><td>participant:eid</td><td>many_to_one</td><td>Participant ID                </td><td></td></tr>\n",
       "\t<tr><td>data_provider</td><td>gp_clinical</td><td>data_provider</td><td>string</td><td></td><td>data_coding_626</td><td>NA</td><td>NA</td><td></td><td></td><td>   </td><td></td><td>NA</td><td>               </td><td>           </td><td>Data provider                 </td><td></td></tr>\n",
       "\t<tr><td>date         </td><td>gp_clinical</td><td>event_dt     </td><td>date  </td><td></td><td>data_coding_819</td><td>NA</td><td>NA</td><td></td><td></td><td>yes</td><td></td><td>NA</td><td>               </td><td>           </td><td>Date clinical code was entered</td><td></td></tr>\n",
       "</tbody>\n",
       "</table>\n"
      ],
      "text/latex": [
       "A data.table: 3 × 17\n",
       "\\begin{tabular}{lllllllllllllllll}\n",
       " item & entity & name & type & primary\\_key\\_type & coding\\_name & concept & description & folder\\_path & is\\_multi\\_select & is\\_sparse\\_coding & linkout & longitudinal\\_axis\\_type & referenced\\_entity\\_field & relationship & title & units\\\\\n",
       " <chr> & <chr> & <chr> & <chr> & <chr> & <chr> & <lgl> & <lgl> & <chr> & <chr> & <chr> & <chr> & <lgl> & <chr> & <chr> & <chr> & <chr>\\\\\n",
       "\\hline\n",
       "\t eid           & gp\\_clinical & eid           & string &  &                 & NA & NA &  &  &     &  & NA & participant:eid & many\\_to\\_one & Participant ID                 & \\\\\n",
       "\t data\\_provider & gp\\_clinical & data\\_provider & string &  & data\\_coding\\_626 & NA & NA &  &  &     &  & NA &                 &             & Data provider                  & \\\\\n",
       "\t date          & gp\\_clinical & event\\_dt      & date   &  & data\\_coding\\_819 & NA & NA &  &  & yes &  & NA &                 &             & Date clinical code was entered & \\\\\n",
       "\\end{tabular}\n"
      ],
      "text/markdown": [
       "\n",
       "A data.table: 3 × 17\n",
       "\n",
       "| item &lt;chr&gt; | entity &lt;chr&gt; | name &lt;chr&gt; | type &lt;chr&gt; | primary_key_type &lt;chr&gt; | coding_name &lt;chr&gt; | concept &lt;lgl&gt; | description &lt;lgl&gt; | folder_path &lt;chr&gt; | is_multi_select &lt;chr&gt; | is_sparse_coding &lt;chr&gt; | linkout &lt;chr&gt; | longitudinal_axis_type &lt;lgl&gt; | referenced_entity_field &lt;chr&gt; | relationship &lt;chr&gt; | title &lt;chr&gt; | units &lt;chr&gt; |\n",
       "|---|---|---|---|---|---|---|---|---|---|---|---|---|---|---|---|---|\n",
       "| eid           | gp_clinical | eid           | string | <!----> | <!----> | NA | NA | <!----> | <!----> | <!----> | <!----> | NA | participant:eid | many_to_one | Participant ID                 | <!----> |\n",
       "| data_provider | gp_clinical | data_provider | string | <!----> | data_coding_626 | NA | NA | <!----> | <!----> | <!----> | <!----> | NA | <!----> | <!----> | Data provider                  | <!----> |\n",
       "| date          | gp_clinical | event_dt      | date   | <!----> | data_coding_819 | NA | NA | <!----> | <!----> | yes | <!----> | NA | <!----> | <!----> | Date clinical code was entered | <!----> |\n",
       "\n"
      ],
      "text/plain": [
       "  item          entity      name          type   primary_key_type\n",
       "1 eid           gp_clinical eid           string                 \n",
       "2 data_provider gp_clinical data_provider string                 \n",
       "3 date          gp_clinical event_dt      date                   \n",
       "  coding_name     concept description folder_path is_multi_select\n",
       "1                 NA      NA                                     \n",
       "2 data_coding_626 NA      NA                                     \n",
       "3 data_coding_819 NA      NA                                     \n",
       "  is_sparse_coding linkout longitudinal_axis_type referenced_entity_field\n",
       "1                          NA                     participant:eid        \n",
       "2                          NA                                            \n",
       "3 yes                      NA                                            \n",
       "  relationship title                          units\n",
       "1 many_to_one  Participant ID                      \n",
       "2              Data provider                       \n",
       "3              Date clinical code was entered      "
      ]
     },
     "metadata": {},
     "output_type": "display_data"
    }
   ],
   "source": [
    "gp_clinical_codes= list(eid           = list(name=\"eid\",           entity=\"gp_clinical\", search=\"matches\"),\n",
    "                        data_provider = list(name=\"data_provider\", entity=\"gp_clinical\", search=\"matches\"),\n",
    "                        date          = list(name=\"event_dt\",      entity=\"gp_clinical\", search=\"matches\"),\n",
    "                        read_2        = list(name=\"read_2\",        entity=\"gp_clinical\", search=\"matches\"),\n",
    "                        read_3        = list(name=\"read_3\",        entity=\"gp_clinical\", search=\"matches\"),\n",
    "                        value1        = list(name=\"value1\",        entity=\"gp_clinical\", search=\"matches\"),\n",
    "                        value2        = list(name=\"value2\",        entity=\"gp_clinical\", search=\"matches\"),\n",
    "                        value3        = list(name=\"value3\",        entity=\"gp_clinical\", search=\"matches\"))\n",
    "\n",
    "gp_clinical_data_dict = filter_data_dict(data_dict_file, gp_clinical_codes)\n",
    "head(gp_clinical_data_dict, 3)"
   ]
  },
  {
   "cell_type": "markdown",
   "id": "58389547-f535-4385-ab00-77dd097f8e40",
   "metadata": {},
   "source": [
    "#### Define GP medications data"
   ]
  },
  {
   "cell_type": "code",
   "execution_count": 13,
   "id": "ae366890-5135-4c23-acee-1293fe0dfb82",
   "metadata": {
    "tags": []
   },
   "outputs": [
    {
     "data": {
      "text/html": [
       "<table class=\"dataframe\">\n",
       "<caption>A data.table: 3 × 17</caption>\n",
       "<thead>\n",
       "\t<tr><th scope=col>item</th><th scope=col>entity</th><th scope=col>name</th><th scope=col>type</th><th scope=col>primary_key_type</th><th scope=col>coding_name</th><th scope=col>concept</th><th scope=col>description</th><th scope=col>folder_path</th><th scope=col>is_multi_select</th><th scope=col>is_sparse_coding</th><th scope=col>linkout</th><th scope=col>longitudinal_axis_type</th><th scope=col>referenced_entity_field</th><th scope=col>relationship</th><th scope=col>title</th><th scope=col>units</th></tr>\n",
       "\t<tr><th scope=col>&lt;chr&gt;</th><th scope=col>&lt;chr&gt;</th><th scope=col>&lt;chr&gt;</th><th scope=col>&lt;chr&gt;</th><th scope=col>&lt;chr&gt;</th><th scope=col>&lt;chr&gt;</th><th scope=col>&lt;lgl&gt;</th><th scope=col>&lt;lgl&gt;</th><th scope=col>&lt;chr&gt;</th><th scope=col>&lt;chr&gt;</th><th scope=col>&lt;chr&gt;</th><th scope=col>&lt;chr&gt;</th><th scope=col>&lt;lgl&gt;</th><th scope=col>&lt;chr&gt;</th><th scope=col>&lt;chr&gt;</th><th scope=col>&lt;chr&gt;</th><th scope=col>&lt;chr&gt;</th></tr>\n",
       "</thead>\n",
       "<tbody>\n",
       "\t<tr><td>eid          </td><td>gp_scripts</td><td>eid          </td><td>string</td><td></td><td>               </td><td>NA</td><td>NA</td><td></td><td></td><td>   </td><td></td><td>NA</td><td>participant:eid</td><td>many_to_one</td><td>Participant ID              </td><td></td></tr>\n",
       "\t<tr><td>data_provider</td><td>gp_scripts</td><td>data_provider</td><td>string</td><td></td><td>data_coding_626</td><td>NA</td><td>NA</td><td></td><td></td><td>   </td><td></td><td>NA</td><td>               </td><td>           </td><td>Data provider               </td><td></td></tr>\n",
       "\t<tr><td>date         </td><td>gp_scripts</td><td>issue_date   </td><td>date  </td><td></td><td>data_coding_819</td><td>NA</td><td>NA</td><td></td><td></td><td>yes</td><td></td><td>NA</td><td>               </td><td>           </td><td>Date prescription was issued</td><td></td></tr>\n",
       "</tbody>\n",
       "</table>\n"
      ],
      "text/latex": [
       "A data.table: 3 × 17\n",
       "\\begin{tabular}{lllllllllllllllll}\n",
       " item & entity & name & type & primary\\_key\\_type & coding\\_name & concept & description & folder\\_path & is\\_multi\\_select & is\\_sparse\\_coding & linkout & longitudinal\\_axis\\_type & referenced\\_entity\\_field & relationship & title & units\\\\\n",
       " <chr> & <chr> & <chr> & <chr> & <chr> & <chr> & <lgl> & <lgl> & <chr> & <chr> & <chr> & <chr> & <lgl> & <chr> & <chr> & <chr> & <chr>\\\\\n",
       "\\hline\n",
       "\t eid           & gp\\_scripts & eid           & string &  &                 & NA & NA &  &  &     &  & NA & participant:eid & many\\_to\\_one & Participant ID               & \\\\\n",
       "\t data\\_provider & gp\\_scripts & data\\_provider & string &  & data\\_coding\\_626 & NA & NA &  &  &     &  & NA &                 &             & Data provider                & \\\\\n",
       "\t date          & gp\\_scripts & issue\\_date    & date   &  & data\\_coding\\_819 & NA & NA &  &  & yes &  & NA &                 &             & Date prescription was issued & \\\\\n",
       "\\end{tabular}\n"
      ],
      "text/markdown": [
       "\n",
       "A data.table: 3 × 17\n",
       "\n",
       "| item &lt;chr&gt; | entity &lt;chr&gt; | name &lt;chr&gt; | type &lt;chr&gt; | primary_key_type &lt;chr&gt; | coding_name &lt;chr&gt; | concept &lt;lgl&gt; | description &lt;lgl&gt; | folder_path &lt;chr&gt; | is_multi_select &lt;chr&gt; | is_sparse_coding &lt;chr&gt; | linkout &lt;chr&gt; | longitudinal_axis_type &lt;lgl&gt; | referenced_entity_field &lt;chr&gt; | relationship &lt;chr&gt; | title &lt;chr&gt; | units &lt;chr&gt; |\n",
       "|---|---|---|---|---|---|---|---|---|---|---|---|---|---|---|---|---|\n",
       "| eid           | gp_scripts | eid           | string | <!----> | <!----> | NA | NA | <!----> | <!----> | <!----> | <!----> | NA | participant:eid | many_to_one | Participant ID               | <!----> |\n",
       "| data_provider | gp_scripts | data_provider | string | <!----> | data_coding_626 | NA | NA | <!----> | <!----> | <!----> | <!----> | NA | <!----> | <!----> | Data provider                | <!----> |\n",
       "| date          | gp_scripts | issue_date    | date   | <!----> | data_coding_819 | NA | NA | <!----> | <!----> | yes | <!----> | NA | <!----> | <!----> | Date prescription was issued | <!----> |\n",
       "\n"
      ],
      "text/plain": [
       "  item          entity     name          type   primary_key_type\n",
       "1 eid           gp_scripts eid           string                 \n",
       "2 data_provider gp_scripts data_provider string                 \n",
       "3 date          gp_scripts issue_date    date                   \n",
       "  coding_name     concept description folder_path is_multi_select\n",
       "1                 NA      NA                                     \n",
       "2 data_coding_626 NA      NA                                     \n",
       "3 data_coding_819 NA      NA                                     \n",
       "  is_sparse_coding linkout longitudinal_axis_type referenced_entity_field\n",
       "1                          NA                     participant:eid        \n",
       "2                          NA                                            \n",
       "3 yes                      NA                                            \n",
       "  relationship title                        units\n",
       "1 many_to_one  Participant ID                    \n",
       "2              Data provider                     \n",
       "3              Date prescription was issued      "
      ]
     },
     "metadata": {},
     "output_type": "display_data"
    }
   ],
   "source": [
    "gp_medication_codes= list(eid           = list(name=\"eid\",           entity=\"gp_scripts\", search=\"matches\"),\n",
    "                          data_provider = list(name=\"data_provider\", entity=\"gp_scripts\", search=\"matches\"),\n",
    "                          date          = list(name=\"issue_date\",    entity=\"gp_scripts\", search=\"matches\"),\n",
    "                          read_2        = list(name=\"read_2\",        entity=\"gp_scripts\", search=\"matches\"),\n",
    "                          bnf_code      = list(name=\"bnf_code\",      entity=\"gp_scripts\", search=\"matches\"),\n",
    "                          dmd_code      = list(name=\"dmd_code\",      entity=\"gp_scripts\", search=\"matches\"),\n",
    "                          drug_name     = list(name=\"drug_name\",     entity=\"gp_scripts\", search=\"matches\"),\n",
    "                          quantity      = list(name=\"quantity\",      entity=\"gp_scripts\", search=\"matches\"))\n",
    "\n",
    "gp_medication_data_dict = filter_data_dict(data_dict_file, gp_medication_codes)\n",
    "head(gp_medication_data_dict, 3)"
   ]
  },
  {
   "cell_type": "markdown",
   "id": "98871d66-93ef-4404-8ea9-be43f0a4e634",
   "metadata": {},
   "source": [
    "#### Run Table-Exporter extraction"
   ]
  },
  {
   "cell_type": "code",
   "execution_count": 16,
   "id": "c67949c2-9bae-4ef0-abe5-904b2659d402",
   "metadata": {
    "tags": []
   },
   "outputs": [],
   "source": [
    "data_file_paths <- list(\n",
    "    gp_clinical   = \"/mnt/project/hermes3_data/data_gp_clinical.tsv\",\n",
    "    gp_medication = \"/mnt/project/hermes3_data/data_gp_medication.tsv\"\n",
    ")\n",
    "\n",
    "if (!file.exists(data_file_paths$gp_clinical)) {\n",
    "    extract_data(dataset=dataset, fields=gp_clinical_data_dict$name, entity=\"gp_clinical\", output = \"data_gp_clinical\")\n",
    "}\n",
    "if (!file.exists(data_file_paths$gp_medication)) {\n",
    "    extract_data(dataset=dataset, fields=gp_medication_data_dict$name, entity=\"gp_scripts\", output = \"data_gp_medication\")\n",
    "}"
   ]
  },
  {
   "cell_type": "markdown",
   "id": "f9772232-7243-48f7-99ec-0782eb962390",
   "metadata": {},
   "source": [
    "## Read in extracted data"
   ]
  },
  {
   "cell_type": "code",
   "execution_count": null,
   "id": "d9b5c136-87fd-451e-89ea-da43b7599fce",
   "metadata": {
    "tags": []
   },
   "outputs": [
    {
     "name": "stdout",
     "output_type": "stream",
     "text": [
      "...gp_clinical: /mnt/project/hermes3_data/data_gp_clinical.tsv\n"
     ]
    }
   ],
   "source": [
    "data_files <- list()\n",
    "\n",
    "for (i in seq_along(data_file_paths)) {\n",
    "    if (!file.exists(data_file_paths[[i]])) {\n",
    "        cat(glue(\"Error:\\nFile {basename(data_file_paths[[i]])} not found, \",\n",
    "                 \"check the Monitor tab for the status of the Table-exporter \",\n",
    "                 \"and the 'hermes_data' folder. If this has finished try \",\n",
    "                 \"launching another Notebook session/instance (I'm not sure why \",\n",
    "                 \"the mounted /mnt/project/ file structure doesn't refresh when \",\n",
    "                 \"files are added externally.\"))\n",
    "        stop(\"file not found error\")\n",
    "    }\n",
    "    f <- data_file_paths[[i]]\n",
    "    n <- names(data_file_paths)[i]\n",
    "    cat(glue('...{n}: {f}\\n'), sep=\"\\n\")\n",
    "    flush.console()\n",
    "    data_files[[n]] <- fread(f)\n",
    "}\n",
    "\n",
    "lapply(data_files, head, n = 5)"
   ]
  },
  {
   "cell_type": "markdown",
   "id": "7723b218-e199-4faa-a334-0ee50fe71fb5",
   "metadata": {},
   "source": [
    "## Rename columns"
   ]
  },
  {
   "cell_type": "code",
   "execution_count": null,
   "id": "52f079d6-b7f5-40ec-a0a6-56b4084c4fb1",
   "metadata": {
    "tags": []
   },
   "outputs": [],
   "source": [
    "rename_cols <- function(d, code_struc) {\n",
    "    for (col in names(code_struc)) {\n",
    "        if (code_struc[[col]]$search==\"matches\") {\n",
    "            setnames(d, code_struc[[col]]$name, col)\n",
    "        } else if (code_struc[[col]]$search==\"startswith\") {\n",
    "            regex     <- paste0(\"^\", code_struc[[col]]$name)\n",
    "            matches   <- names(d)[grepl(regex, names(d))]\n",
    "            new_names <- paste0(col, \"_\", 1:length(matches))\n",
    "            setnames(d, matches, new_names)\n",
    "        }\n",
    "    }\n",
    "    return(d)\n",
    "}\n",
    "\n",
    "data_files$gp_clinical, code_struc=gp_clinical_codes)\n",
    "data_files$gp_medication,  code_struc=gp_medication_codes)\n",
    "\n",
    "lapply(data_files, head, n = 5)"
   ]
  },
  {
   "cell_type": "code",
   "execution_count": null,
   "id": "f6c2be41-45c6-4da1-901d-cdf2e71d6c97",
   "metadata": {},
   "outputs": [],
   "source": []
  },
  {
   "cell_type": "code",
   "execution_count": null,
   "id": "f5eea41f-4a8f-4d09-9d64-ba9a339fc05a",
   "metadata": {},
   "outputs": [],
   "source": []
  }
 ],
 "metadata": {
  "kernelspec": {
   "display_name": "R",
   "language": "R",
   "name": "ir"
  },
  "language_info": {
   "codemirror_mode": "r",
   "file_extension": ".r",
   "mimetype": "text/x-r-source",
   "name": "R",
   "pygments_lexer": "r",
   "version": "4.4.0"
  }
 },
 "nbformat": 4,
 "nbformat_minor": 5
}
