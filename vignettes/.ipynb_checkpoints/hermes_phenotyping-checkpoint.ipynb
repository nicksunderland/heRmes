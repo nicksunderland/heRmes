{
 "cells": [
  {
   "cell_type": "code",
   "execution_count": null,
   "id": "fb543422-2198-4f1d-a862-9786bcb40801",
   "metadata": {},
   "outputs": [],
   "source": [
    "system(\"pip3 show dxpy\", intern = TRUE)"
   ]
  },
  {
   "cell_type": "code",
   "execution_count": null,
   "id": "bdb57ea6-ecdc-4d37-b40c-016ef7e8bf48",
   "metadata": {},
   "outputs": [],
   "source": [
    "library(glue)\n",
    "library(data.table)"
   ]
  },
  {
   "cell_type": "code",
   "execution_count": null,
   "id": "7b1b95fa-d787-49e1-a1b1-89124d92df9a",
   "metadata": {},
   "outputs": [],
   "source": [
    "projectid <- \"project-GvZyZ20J81vgPJGbJy8pgpyq\"\n",
    "rid <- \"record-Gvb0Bg0Jfxfv0q8Fb2pXqKjg\"\n",
    "dataset <- glue(\"{projectid}:{rid}\")\n",
    "dataset"
   ]
  },
  {
   "cell_type": "code",
   "execution_count": null,
   "id": "bb3060b7-4af8-45e1-a638-88ab720fdd43",
   "metadata": {},
   "outputs": [],
   "source": [
    "setwd(\"/opt/notebooks\")\n",
    "cmd <- glue(\"dx extract_dataset {dataset} -ddd\")\n",
    "system(cmd)\n",
    "dict_files <- list.files(pattern=\"codings|data_dictionary|entity_dictionary\")\n",
    "dict_files"
   ]
  },
  {
   "cell_type": "code",
   "execution_count": null,
   "id": "59997f6a-b821-4666-aaa1-6dbb4a3f0387",
   "metadata": {},
   "outputs": [],
   "source": [
    "data_dict = fread(dict_files[grepl(\"data_dictionary\", dict_files)])\n",
    "\n",
    "codes_to_extract = list(eid                = list(name=\"eid\",       entity=\"participant\", search=\"matches\"),\n",
    "                        sex                = list(name=\"p31\",       entity=\"participant\", search=\"matches\"),\n",
    "                        age                = list(name=\"p21022\",    entity=\"participant\", search=\"matches\"),\n",
    "                        ethnicity          = list(name=\"p21000\",    entity=\"participant\", search=\"matches\"),\n",
    "                        genetic_sex        = list(name=\"p22001\",    entity=\"participant\", search=\"matches\"),\n",
    "                        genetic_ethnicity  = list(name=\"p22006\",    entity=\"participant\", search=\"matches\"),\n",
    "                        pc1                = list(name=\"p22009_a1\", entity=\"participant\", search=\"matches\"),\n",
    "                        pc2                = list(name=\"p22009_a2\", entity=\"participant\", search=\"matches\"),\n",
    "                        pc3                = list(name=\"p22009_a3\", entity=\"participant\", search=\"matches\"),\n",
    "                        pc4                = list(name=\"p22009_a4\", entity=\"participant\", search=\"matches\"),\n",
    "                        pc5                = list(name=\"p22009_a5\", entity=\"participant\", search=\"matches\"),\n",
    "                        self_rep_ill       = list(name=\"p20002\",    entity=\"participant\", search=\"startswith\"),\n",
    "                        self_rep_ill_year  = list(name=\"p20008\",    entity=\"participant\", search=\"startswith\"),\n",
    "                        self_rep_proc      = list(name=\"p20004\",    entity=\"participant\", search=\"startswith\"),\n",
    "                        self_rep_proc_year = list(name=\"p20010\",    entity=\"participant\", search=\"startswith\"))\n",
    "\n",
    "filt_data_dict = lapply(codes_to_extract, function(x) {\n",
    "    if (x$search==\"matches\") {\n",
    "        data_dict[entity==x$entity & name==x$name]\n",
    "    } else if (x$search==\"startswith\") {\n",
    "        data_dict[entity==x$entity & grepl(paste0(\"^\", x$name), name)]\n",
    "    }\n",
    "}) |> rbindlist(idcol = \"item\")\n",
    "\n",
    "filt_data_dict"
   ]
  },
  {
   "cell_type": "code",
   "execution_count": null,
   "id": "706d1c1a-149c-44da-b736-092a4697d641",
   "metadata": {},
   "outputs": [],
   "source": [
    "fields <- paste0(filt_data_dict$entity, \".\", filt_data_dict$name, collapse = \",\")\n",
    "cmd <- glue(\"dx extract_dataset {dataset} --fields {fields} -o cohort_data.csv\")\n",
    "system(cmd)"
   ]
  },
  {
   "cell_type": "code",
   "execution_count": null,
   "id": "2bf4f405-0e1d-4417-93d4-bfc0f8ef51ef",
   "metadata": {},
   "outputs": [],
   "source": [
    "data_df <- fread(\"cohort_data.csv\")\n",
    "head(data_df)"
   ]
  }
 ],
 "metadata": {
  "kernelspec": {
   "display_name": "R",
   "language": "R",
   "name": "ir"
  },
  "language_info": {
   "codemirror_mode": "r",
   "file_extension": ".r",
   "mimetype": "text/x-r-source",
   "name": "R",
   "pygments_lexer": "r",
   "version": "4.4.0"
  }
 },
 "nbformat": 4,
 "nbformat_minor": 5
}
