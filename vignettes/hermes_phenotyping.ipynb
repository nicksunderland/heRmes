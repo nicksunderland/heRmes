{
 "cells": [
  {
   "cell_type": "code",
   "execution_count": 1,
   "id": "fb543422-2198-4f1d-a862-9786bcb40801",
   "metadata": {
    "tags": []
   },
   "outputs": [
    {
     "data": {
      "text/html": [
       "<style>\n",
       ".list-inline {list-style: none; margin:0; padding: 0}\n",
       ".list-inline>li {display: inline-block}\n",
       ".list-inline>li:not(:last-child)::after {content: \"\\00b7\"; padding: 0 .5ex}\n",
       "</style>\n",
       "<ol class=list-inline><li>'Name: dxpy'</li><li>'Version: 0.377.0'</li><li>'Summary: DNAnexus Platform API bindings for Python'</li><li>'Home-page: https://github.com/dnanexus/dx-toolkit'</li><li>'Author: Aleksandra Zalcman, Andrey Kislyuk, Anurag Biyani, Geet Duggal, Katherine Lai, Kurt Jensen, Marek Hrvol, Ohad Rodeh, Phil Sung'</li><li>'Author-email: support@dnanexus.com'</li><li>'License: Apache Software License'</li><li>'Location: /opt/conda/lib/python3.11/site-packages'</li><li>'Requires: argcomplete, certifi, psutil, python-dateutil, urllib3, websocket-client'</li><li>'Required-by: '</li></ol>\n"
      ],
      "text/latex": [
       "\\begin{enumerate*}\n",
       "\\item 'Name: dxpy'\n",
       "\\item 'Version: 0.377.0'\n",
       "\\item 'Summary: DNAnexus Platform API bindings for Python'\n",
       "\\item 'Home-page: https://github.com/dnanexus/dx-toolkit'\n",
       "\\item 'Author: Aleksandra Zalcman, Andrey Kislyuk, Anurag Biyani, Geet Duggal, Katherine Lai, Kurt Jensen, Marek Hrvol, Ohad Rodeh, Phil Sung'\n",
       "\\item 'Author-email: support@dnanexus.com'\n",
       "\\item 'License: Apache Software License'\n",
       "\\item 'Location: /opt/conda/lib/python3.11/site-packages'\n",
       "\\item 'Requires: argcomplete, certifi, psutil, python-dateutil, urllib3, websocket-client'\n",
       "\\item 'Required-by: '\n",
       "\\end{enumerate*}\n"
      ],
      "text/markdown": [
       "1. 'Name: dxpy'\n",
       "2. 'Version: 0.377.0'\n",
       "3. 'Summary: DNAnexus Platform API bindings for Python'\n",
       "4. 'Home-page: https://github.com/dnanexus/dx-toolkit'\n",
       "5. 'Author: Aleksandra Zalcman, Andrey Kislyuk, Anurag Biyani, Geet Duggal, Katherine Lai, Kurt Jensen, Marek Hrvol, Ohad Rodeh, Phil Sung'\n",
       "6. 'Author-email: support@dnanexus.com'\n",
       "7. 'License: Apache Software License'\n",
       "8. 'Location: /opt/conda/lib/python3.11/site-packages'\n",
       "9. 'Requires: argcomplete, certifi, psutil, python-dateutil, urllib3, websocket-client'\n",
       "10. 'Required-by: '\n",
       "\n",
       "\n"
      ],
      "text/plain": [
       " [1] \"Name: dxpy\"                                                                                                                            \n",
       " [2] \"Version: 0.377.0\"                                                                                                                      \n",
       " [3] \"Summary: DNAnexus Platform API bindings for Python\"                                                                                    \n",
       " [4] \"Home-page: https://github.com/dnanexus/dx-toolkit\"                                                                                     \n",
       " [5] \"Author: Aleksandra Zalcman, Andrey Kislyuk, Anurag Biyani, Geet Duggal, Katherine Lai, Kurt Jensen, Marek Hrvol, Ohad Rodeh, Phil Sung\"\n",
       " [6] \"Author-email: support@dnanexus.com\"                                                                                                    \n",
       " [7] \"License: Apache Software License\"                                                                                                      \n",
       " [8] \"Location: /opt/conda/lib/python3.11/site-packages\"                                                                                     \n",
       " [9] \"Requires: argcomplete, certifi, psutil, python-dateutil, urllib3, websocket-client\"                                                    \n",
       "[10] \"Required-by: \"                                                                                                                         "
      ]
     },
     "metadata": {},
     "output_type": "display_data"
    }
   ],
   "source": [
    "system(\"pip3 show dxpy\", intern = TRUE)"
   ]
  },
  {
   "cell_type": "code",
   "execution_count": 2,
   "id": "bdb57ea6-ecdc-4d37-b40c-016ef7e8bf48",
   "metadata": {
    "tags": []
   },
   "outputs": [],
   "source": [
    "library(glue)\n",
    "library(data.table)"
   ]
  },
  {
   "cell_type": "code",
   "execution_count": 3,
   "id": "7b1b95fa-d787-49e1-a1b1-89124d92df9a",
   "metadata": {
    "tags": []
   },
   "outputs": [
    {
     "data": {
      "text/html": [
       "'project-GvZyZ20J81vgPJGbJy8pgpyq:record-Gvb0Bg0Jfxfv0q8Fb2pXqKjg'"
      ],
      "text/latex": [
       "'project-GvZyZ20J81vgPJGbJy8pgpyq:record-Gvb0Bg0Jfxfv0q8Fb2pXqKjg'"
      ],
      "text/markdown": [
       "'project-GvZyZ20J81vgPJGbJy8pgpyq:record-Gvb0Bg0Jfxfv0q8Fb2pXqKjg'"
      ],
      "text/plain": [
       "project-GvZyZ20J81vgPJGbJy8pgpyq:record-Gvb0Bg0Jfxfv0q8Fb2pXqKjg"
      ]
     },
     "metadata": {},
     "output_type": "display_data"
    }
   ],
   "source": [
    "projectid <- \"project-GvZyZ20J81vgPJGbJy8pgpyq\"\n",
    "rid <- \"record-Gvb0Bg0Jfxfv0q8Fb2pXqKjg\"\n",
    "dataset <- glue(\"{projectid}:{rid}\")\n",
    "dataset"
   ]
  },
  {
   "cell_type": "code",
   "execution_count": 4,
   "id": "bb3060b7-4af8-45e1-a638-88ab720fdd43",
   "metadata": {
    "tags": []
   },
   "outputs": [
    {
     "data": {
      "text/html": [
       "<style>\n",
       ".list-inline {list-style: none; margin:0; padding: 0}\n",
       ".list-inline>li {display: inline-block}\n",
       ".list-inline>li:not(:last-child)::after {content: \"\\00b7\"; padding: 0 .5ex}\n",
       "</style>\n",
       "<ol class=list-inline><li>'app81499_20241105095754.dataset.codings.csv'</li><li>'app81499_20241105095754.dataset.data_dictionary.csv'</li><li>'app81499_20241105095754.dataset.entity_dictionary.csv'</li></ol>\n"
      ],
      "text/latex": [
       "\\begin{enumerate*}\n",
       "\\item 'app81499\\_20241105095754.dataset.codings.csv'\n",
       "\\item 'app81499\\_20241105095754.dataset.data\\_dictionary.csv'\n",
       "\\item 'app81499\\_20241105095754.dataset.entity\\_dictionary.csv'\n",
       "\\end{enumerate*}\n"
      ],
      "text/markdown": [
       "1. 'app81499_20241105095754.dataset.codings.csv'\n",
       "2. 'app81499_20241105095754.dataset.data_dictionary.csv'\n",
       "3. 'app81499_20241105095754.dataset.entity_dictionary.csv'\n",
       "\n",
       "\n"
      ],
      "text/plain": [
       "[1] \"app81499_20241105095754.dataset.codings.csv\"          \n",
       "[2] \"app81499_20241105095754.dataset.data_dictionary.csv\"  \n",
       "[3] \"app81499_20241105095754.dataset.entity_dictionary.csv\""
      ]
     },
     "metadata": {},
     "output_type": "display_data"
    }
   ],
   "source": [
    "setwd(\"/opt/notebooks\")\n",
    "cmd <- glue(\"dx extract_dataset {dataset} -ddd\")\n",
    "system(cmd)\n",
    "dict_files <- list.files(pattern=\"codings|data_dictionary|entity_dictionary\")\n",
    "dict_files"
   ]
  },
  {
   "cell_type": "code",
   "execution_count": 11,
   "id": "59997f6a-b821-4666-aaa1-6dbb4a3f0387",
   "metadata": {
    "tags": []
   },
   "outputs": [
    {
     "data": {
      "text/html": [
       "<table class=\"dataframe\">\n",
       "<caption>A data.table: 3 × 18</caption>\n",
       "<thead>\n",
       "\t<tr><th scope=col>item</th><th scope=col>entity</th><th scope=col>name</th><th scope=col>type</th><th scope=col>primary_key_type</th><th scope=col>coding_name</th><th scope=col>concept</th><th scope=col>description</th><th scope=col>folder_path</th><th scope=col>is_multi_select</th><th scope=col>is_sparse_coding</th><th scope=col>linkout</th><th scope=col>longitudinal_axis_type</th><th scope=col>referenced_entity_field</th><th scope=col>relationship</th><th scope=col>title</th><th scope=col>units</th><th scope=col>field_id</th></tr>\n",
       "\t<tr><th scope=col>&lt;chr&gt;</th><th scope=col>&lt;chr&gt;</th><th scope=col>&lt;chr&gt;</th><th scope=col>&lt;chr&gt;</th><th scope=col>&lt;chr&gt;</th><th scope=col>&lt;chr&gt;</th><th scope=col>&lt;lgl&gt;</th><th scope=col>&lt;lgl&gt;</th><th scope=col>&lt;chr&gt;</th><th scope=col>&lt;chr&gt;</th><th scope=col>&lt;chr&gt;</th><th scope=col>&lt;chr&gt;</th><th scope=col>&lt;lgl&gt;</th><th scope=col>&lt;chr&gt;</th><th scope=col>&lt;chr&gt;</th><th scope=col>&lt;chr&gt;</th><th scope=col>&lt;chr&gt;</th><th scope=col>&lt;chr&gt;</th></tr>\n",
       "</thead>\n",
       "<tbody>\n",
       "\t<tr><td>eid</td><td>participant</td><td>eid   </td><td>string </td><td>global</td><td>             </td><td>NA</td><td>NA</td><td>Participant Information                              </td><td></td><td></td><td>                                                       </td><td>NA</td><td></td><td></td><td>Participant ID    </td><td>     </td><td>participant.eid   </td></tr>\n",
       "\t<tr><td>sex</td><td>participant</td><td><span style=white-space:pre-wrap>p31   </span></td><td>integer</td><td><span style=white-space:pre-wrap>      </span></td><td>data_coding_9</td><td>NA</td><td>NA</td><td>Population characteristics &gt; Baseline characteristics</td><td></td><td></td><td><span style=white-space:pre-wrap>http://biobank.ctsu.ox.ac.uk/crystal/field.cgi?id=31   </span></td><td>NA</td><td></td><td></td><td><span style=white-space:pre-wrap>Sex               </span></td><td><span style=white-space:pre-wrap>     </span></td><td><span style=white-space:pre-wrap>participant.p31   </span></td></tr>\n",
       "\t<tr><td>age</td><td>participant</td><td>p21022</td><td>integer</td><td><span style=white-space:pre-wrap>      </span></td><td><span style=white-space:pre-wrap>             </span></td><td>NA</td><td>NA</td><td>Population characteristics &gt; Baseline characteristics</td><td></td><td></td><td>http://biobank.ctsu.ox.ac.uk/crystal/field.cgi?id=21022</td><td>NA</td><td></td><td></td><td>Age at recruitment</td><td>years</td><td>participant.p21022</td></tr>\n",
       "</tbody>\n",
       "</table>\n"
      ],
      "text/latex": [
       "A data.table: 3 × 18\n",
       "\\begin{tabular}{llllllllllllllllll}\n",
       " item & entity & name & type & primary\\_key\\_type & coding\\_name & concept & description & folder\\_path & is\\_multi\\_select & is\\_sparse\\_coding & linkout & longitudinal\\_axis\\_type & referenced\\_entity\\_field & relationship & title & units & field\\_id\\\\\n",
       " <chr> & <chr> & <chr> & <chr> & <chr> & <chr> & <lgl> & <lgl> & <chr> & <chr> & <chr> & <chr> & <lgl> & <chr> & <chr> & <chr> & <chr> & <chr>\\\\\n",
       "\\hline\n",
       "\t eid & participant & eid    & string  & global &               & NA & NA & Participant Information                               &  &  &                                                         & NA &  &  & Participant ID     &       & participant.eid   \\\\\n",
       "\t sex & participant & p31    & integer &        & data\\_coding\\_9 & NA & NA & Population characteristics > Baseline characteristics &  &  & http://biobank.ctsu.ox.ac.uk/crystal/field.cgi?id=31    & NA &  &  & Sex                &       & participant.p31   \\\\\n",
       "\t age & participant & p21022 & integer &        &               & NA & NA & Population characteristics > Baseline characteristics &  &  & http://biobank.ctsu.ox.ac.uk/crystal/field.cgi?id=21022 & NA &  &  & Age at recruitment & years & participant.p21022\\\\\n",
       "\\end{tabular}\n"
      ],
      "text/markdown": [
       "\n",
       "A data.table: 3 × 18\n",
       "\n",
       "| item &lt;chr&gt; | entity &lt;chr&gt; | name &lt;chr&gt; | type &lt;chr&gt; | primary_key_type &lt;chr&gt; | coding_name &lt;chr&gt; | concept &lt;lgl&gt; | description &lt;lgl&gt; | folder_path &lt;chr&gt; | is_multi_select &lt;chr&gt; | is_sparse_coding &lt;chr&gt; | linkout &lt;chr&gt; | longitudinal_axis_type &lt;lgl&gt; | referenced_entity_field &lt;chr&gt; | relationship &lt;chr&gt; | title &lt;chr&gt; | units &lt;chr&gt; | field_id &lt;chr&gt; |\n",
       "|---|---|---|---|---|---|---|---|---|---|---|---|---|---|---|---|---|---|\n",
       "| eid | participant | eid    | string  | global | <!----> | NA | NA | Participant Information                               | <!----> | <!----> | <!----> | NA | <!----> | <!----> | Participant ID     | <!----> | participant.eid    |\n",
       "| sex | participant | p31    | integer | <!----> | data_coding_9 | NA | NA | Population characteristics &gt; Baseline characteristics | <!----> | <!----> | http://biobank.ctsu.ox.ac.uk/crystal/field.cgi?id=31    | NA | <!----> | <!----> | Sex                | <!----> | participant.p31    |\n",
       "| age | participant | p21022 | integer | <!----> | <!----> | NA | NA | Population characteristics &gt; Baseline characteristics | <!----> | <!----> | http://biobank.ctsu.ox.ac.uk/crystal/field.cgi?id=21022 | NA | <!----> | <!----> | Age at recruitment | years | participant.p21022 |\n",
       "\n"
      ],
      "text/plain": [
       "  item entity      name   type    primary_key_type coding_name   concept\n",
       "1 eid  participant eid    string  global                         NA     \n",
       "2 sex  participant p31    integer                  data_coding_9 NA     \n",
       "3 age  participant p21022 integer                                NA     \n",
       "  description folder_path                                          \n",
       "1 NA          Participant Information                              \n",
       "2 NA          Population characteristics > Baseline characteristics\n",
       "3 NA          Population characteristics > Baseline characteristics\n",
       "  is_multi_select is_sparse_coding\n",
       "1                                 \n",
       "2                                 \n",
       "3                                 \n",
       "  linkout                                                \n",
       "1                                                        \n",
       "2 http://biobank.ctsu.ox.ac.uk/crystal/field.cgi?id=31   \n",
       "3 http://biobank.ctsu.ox.ac.uk/crystal/field.cgi?id=21022\n",
       "  longitudinal_axis_type referenced_entity_field relationship\n",
       "1 NA                                                         \n",
       "2 NA                                                         \n",
       "3 NA                                                         \n",
       "  title              units field_id          \n",
       "1 Participant ID           participant.eid   \n",
       "2 Sex                      participant.p31   \n",
       "3 Age at recruitment years participant.p21022"
      ]
     },
     "metadata": {},
     "output_type": "display_data"
    }
   ],
   "source": [
    "data_dict = fread(dict_files[grepl(\"data_dictionary\", dict_files)])\n",
    "\n",
    "codes_to_extract = list(eid                = list(name=\"eid\",       entity=\"participant\", search=\"matches\"),\n",
    "                        sex                = list(name=\"p31\",       entity=\"participant\", search=\"matches\"),\n",
    "                        age                = list(name=\"p21022\",    entity=\"participant\", search=\"matches\"),\n",
    "                        ethnicity          = list(name=\"p21000\",    entity=\"participant\", search=\"matches\"),\n",
    "                        genetic_sex        = list(name=\"p22001\",    entity=\"participant\", search=\"matches\"),\n",
    "                        genetic_ethnicity  = list(name=\"p22006\",    entity=\"participant\", search=\"matches\"),\n",
    "                        pc1                = list(name=\"p22009_a1\", entity=\"participant\", search=\"matches\"),\n",
    "                        pc2                = list(name=\"p22009_a2\", entity=\"participant\", search=\"matches\"),\n",
    "                        pc3                = list(name=\"p22009_a3\", entity=\"participant\", search=\"matches\"),\n",
    "                        pc4                = list(name=\"p22009_a4\", entity=\"participant\", search=\"matches\"),\n",
    "                        pc5                = list(name=\"p22009_a5\", entity=\"participant\", search=\"matches\"),\n",
    "                        self_rep_ill       = list(name=\"p20002\",    entity=\"participant\", search=\"startswith\"),\n",
    "                        self_rep_ill_year  = list(name=\"p20008\",    entity=\"participant\", search=\"startswith\"),\n",
    "                        self_rep_proc      = list(name=\"p20004\",    entity=\"participant\", search=\"startswith\"),\n",
    "                        self_rep_proc_year = list(name=\"p20010\",    entity=\"participant\", search=\"startswith\"))\n",
    "\n",
    "filt_data_dict = lapply(codes_to_extract, function(x) {\n",
    "    if (x$search==\"matches\") {\n",
    "        data_dict[entity==x$entity & name==x$name]\n",
    "    } else if (x$search==\"startswith\") {\n",
    "        data_dict[entity==x$entity & grepl(paste0(\"^\", x$name), name)]\n",
    "    }\n",
    "}) |> rbindlist(idcol = \"item\")\n",
    "\n",
    "filt_data_dict[, field_id := paste(entity, name, sep=\".\")]\n",
    "head(filt_data_dict, 3)"
   ]
  },
  {
   "cell_type": "code",
   "execution_count": 8,
   "id": "706d1c1a-149c-44da-b736-092a4697d641",
   "metadata": {
    "tags": []
   },
   "outputs": [
    {
     "data": {
      "text/html": [
       "'participant.eid,participant.p31'"
      ],
      "text/latex": [
       "'participant.eid,participant.p31'"
      ],
      "text/markdown": [
       "'participant.eid,participant.p31'"
      ],
      "text/plain": [
       "[1] \"participant.eid,participant.p31\""
      ]
     },
     "metadata": {},
     "output_type": "display_data"
    }
   ],
   "source": [
    "\n",
    "#cmd <- glue(\"dx extract_dataset {dataset} --fields {fields} -o cohort_data.csv\")\n",
    "#system(cmd)"
   ]
  },
  {
   "cell_type": "code",
   "execution_count": null,
   "id": "2bf4f405-0e1d-4417-93d4-bfc0f8ef51ef",
   "metadata": {},
   "outputs": [],
   "source": [
    "data_df <- fread(\"cohort_data.csv\")\n",
    "head(data_df)"
   ]
  }
 ],
 "metadata": {
  "kernelspec": {
   "display_name": "R",
   "language": "R",
   "name": "ir"
  },
  "language_info": {
   "codemirror_mode": "r",
   "file_extension": ".r",
   "mimetype": "text/x-r-source",
   "name": "R",
   "pygments_lexer": "r",
   "version": "4.4.0"
  }
 },
 "nbformat": 4,
 "nbformat_minor": 5
}
