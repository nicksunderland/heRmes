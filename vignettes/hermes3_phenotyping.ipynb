{
 "cells": [
  {
   "cell_type": "markdown",
   "id": "d0f06bf7-cb6a-4f97-beaf-0333d0a82e22",
   "metadata": {},
   "source": [
    "# HERMES 3.0 PHENOTYPING"
   ]
  },
  {
   "cell_type": "markdown",
   "id": "ac9542c3-a1cb-4599-a9c0-92a47b4e55eb",
   "metadata": {},
   "source": [
    "## Libraries"
   ]
  },
  {
   "cell_type": "code",
   "execution_count": 23,
   "id": "8dcc3f8f-d5b0-4b74-a2f6-150de23481c9",
   "metadata": {
    "tags": []
   },
   "outputs": [],
   "source": [
    "import dxpy\n",
    "import subprocess\n",
    "import os\n",
    "import glob\n",
    "import pandas as pd"
   ]
  },
  {
   "cell_type": "markdown",
   "id": "4392fe9a-9293-4a3e-9399-8f176719fce4",
   "metadata": {},
   "source": [
    "## Project and record IDs"
   ]
  },
  {
   "cell_type": "code",
   "execution_count": 7,
   "id": "acbf446d-0f83-4372-b1f7-e819c9869afb",
   "metadata": {
    "tags": []
   },
   "outputs": [
    {
     "name": "stdout",
     "output_type": "stream",
     "text": [
      "Dataset id: project-GvZyZ20J81vgPJGbJy8pgpyq:record-Gvb0Bg0Jfxfv0q8Fb2pXqKjg\n"
     ]
    }
   ],
   "source": [
    "dispensed_dataset_id = dxpy.find_one_data_object(typename='Dataset', name='app*.dataset', folder='/', name_mode='glob')['id']\n",
    "project_id = dxpy.find_one_project()[\"id\"]\n",
    "dataset = (':').join([project_id, dispensed_dataset_id])\n",
    "print(\"Dataset id: \" + dataset)"
   ]
  },
  {
   "cell_type": "markdown",
   "id": "228447e2-334f-4ba3-a491-a032d4371bbc",
   "metadata": {},
   "source": [
    "## Get data dictionaries"
   ]
  },
  {
   "cell_type": "code",
   "execution_count": 18,
   "id": "4658196f-497b-4f7c-b472-1115098c0b3c",
   "metadata": {
    "tags": []
   },
   "outputs": [
    {
     "data": {
      "text/plain": [
       "0"
      ]
     },
     "execution_count": 18,
     "metadata": {},
     "output_type": "execute_result"
    }
   ],
   "source": [
    "os.chdir(\"/opt/notebooks\")\n",
    "cmd = [\"dx\", \"extract_dataset\", dataset, \"-ddd\", \"--delimiter\", \",\"]\n",
    "subprocess.check_call(cmd)"
   ]
  },
  {
   "cell_type": "code",
   "execution_count": 133,
   "id": "948e9f4a-4318-42f1-acd4-2893af3b994b",
   "metadata": {
    "collapsed": true,
    "jupyter": {
     "outputs_hidden": true
    },
    "tags": []
   },
   "outputs": [
    {
     "name": "stdout",
     "output_type": "stream",
     "text": [
      "Command Output:\n",
      "ID                                file-Gz5Jv5jJ81vv928Xy0VvVX5G\n",
      "Class                             file\n",
      "Project                           project-GvZyZ20J81vgPJGbJy8pgpyq\n",
      "Folder                            /\n",
      "Name                              hermes_field_names.txt\n",
      "State                             closing\n",
      "Visibility                        visible\n",
      "Types                             -\n",
      "Properties                        -\n",
      "Tags                              -\n",
      "Outgoing links                    -\n",
      "Created                           Fri Mar  7 11:52:55 2025\n",
      "Created by                        nicholas.sunderland\n",
      " via the job                      job-Gz5FZfQJ81vzvj1p12Y171y9\n",
      "Last modified                     Fri Mar  7 11:52:55 2025\n",
      "Media type                        \n",
      "archivalState                     \"live\"\n",
      "cloudAccount                      \"cloudaccount-dnanexus\"\n",
      "\n"
     ]
    }
   ],
   "source": [
    "path = \"/opt/notebooks\"\n",
    "data_dict_csv = glob.glob(os.path.join(path, \"*.data_dictionary.csv\"))[0]\n",
    "data_dict_df = pd.read_csv(data_dict_csv, low_memory=False)\n",
    "\n",
    "codes_to_extract = {\n",
    "    \"eid\":               {\"name\": \"eid\",       \"entity\": \"participant\", \"search\": \"matches\"},\n",
    "    \"sex\":               {\"name\": \"p31\",       \"entity\": \"participant\", \"search\": \"matches\"},\n",
    "    \"age\":               {\"name\": \"p21022\",    \"entity\": \"participant\", \"search\": \"matches\"},\n",
    "    \"ethnicity\":         {\"name\": \"p21000\",    \"entity\": \"participant\", \"search\": \"matches\"},\n",
    "    \"genetic_sex\":       {\"name\": \"p22001\",    \"entity\": \"participant\", \"search\": \"matches\"},\n",
    "    \"genetic_ethnicity\": {\"name\": \"p22006\",    \"entity\": \"participant\", \"search\": \"matches\"},\n",
    "    \"pc1\":               {\"name\": \"p22009_a1\", \"entity\": \"participant\", \"search\": \"matches\"},\n",
    "    \"pc2\":               {\"name\": \"p22009_a2\", \"entity\": \"participant\", \"search\": \"matches\"},\n",
    "    \"pc3\":               {\"name\": \"p22009_a3\", \"entity\": \"participant\", \"search\": \"matches\"},\n",
    "    \"pc4\":               {\"name\": \"p22009_a4\", \"entity\": \"participant\", \"search\": \"matches\"},\n",
    "    \"pc5\":               {\"name\": \"p22009_a5\", \"entity\": \"participant\", \"search\": \"matches\"},\n",
    "    \"self_rep_ill\":      {\"name\": \"p20002\",    \"entity\": \"participant\", \"search\": \"startswith\"},\n",
    "    \"self_rep_ill_year\": {\"name\": \"p20008\",    \"entity\": \"participant\", \"search\": \"startswith\"},\n",
    "    \"self_rep_proc\":     {\"name\": \"p20004\",    \"entity\": \"participant\", \"search\": \"startswith\"},\n",
    "    \"self_rep_proc_year\":{\"name\": \"p20010\",    \"entity\": \"participant\", \"search\": \"startswith\"},\n",
    "}\n",
    "\n",
    "filtered_df = pd.DataFrame()\n",
    "\n",
    "for desc, criteria in codes_to_extract.items():\n",
    "    df = data_dict_df[data_dict_df[\"entity\"] == criteria[\"entity\"]]\n",
    "    if criteria[\"search\"] == \"matches\":\n",
    "        filtered_df = pd.concat([filtered_df, df[df[\"name\"] == criteria[\"name\"]]])\n",
    "    elif criteria[\"search\"] == \"startswith\":\n",
    "        filtered_df = pd.concat([filtered_df, df[df[\"name\"].str.startswith(criteria[\"name\"])]])\n",
    "        \n",
    "filtered_df = filtered_df.reset_index(drop=True)\n",
    "filtered_df[\"name\"].to_csv(\"hermes_field_names.txt\", index=False, header=False)\n",
    "\n",
    "fields_file = \"hermes_field_names.txt\"\n",
    "cmd = [\"dx\", \"upload\", fields_file, \"--path\", \"/\"]\n",
    "try:\n",
    "    output = subprocess.check_output(cmd, stderr=subprocess.STDOUT)\n",
    "    print(\"Command Output:\")\n",
    "    print(output.decode())\n",
    "except subprocess.CalledProcessError as e:\n",
    "    print(f\"Command failed with error code {e.returncode}\")\n",
    "    print(f\"Command output: {e.output.decode()}\")\n",
    "    print(f\"Command error: {e.stderr.decode()}\")"
   ]
  },
  {
   "cell_type": "code",
   "execution_count": 136,
   "id": "feefc530-7793-4779-b9c6-b4beefd4032e",
   "metadata": {
    "collapsed": true,
    "jupyter": {
     "outputs_hidden": true
    },
    "tags": []
   },
   "outputs": [
    {
     "name": "stdout",
     "output_type": "stream",
     "text": [
      "Command Output:\n",
      "\n",
      "Using input JSON:\n",
      "{\n",
      "    \"output\": \"data\",\n",
      "    \"output_format\": \"TSV\",\n",
      "    \"coding_option\": \"REPLACE\",\n",
      "    \"header_style\": \"FIELD-NAME\",\n",
      "    \"entity\": \"participant\",\n",
      "    \"field_names\": [\n",
      "        \"eid -ifield_names=p31 -ifield_names=p21022 -ifield_names=p22001 -ifield_names=p22006 -ifield_names=p22009_a1 -ifield_names=p22009_a2 -ifield_names=p22009_a3 -ifield_names=p22009_a4 -ifield_names=p22009_a5 -ifield_names=p20002_i0_a0 -ifield_names=p20002_i0_a1 -ifield_names=p20002_i0_a2 -ifield_names=p20002_i0_a3 -ifield_names=p20002_i0_a4 -ifield_names=p20002_i0_a5 -ifield_names=p20002_i0_a6 -ifield_names=p20002_i0_a7 -ifield_names=p20002_i0_a8 -ifield_names=p20002_i0_a9 -ifield_names=p20002_i0_a10 -ifield_names=p20002_i0_a11 -ifield_names=p20002_i0_a12 -ifield_names=p20002_i0_a13 -ifield_names=p20002_i0_a14 -ifield_names=p20002_i0_a15 -ifield_names=p20002_i0_a16 -ifield_names=p20002_i0_a17 -ifield_names=p20002_i0_a18 -ifield_names=p20002_i0_a19 -ifield_names=p20002_i0_a20 -ifield_names=p20002_i0_a21 -ifield_names=p20002_i0_a22 -ifield_names=p20002_i0_a23 -ifield_names=p20002_i0_a24 -ifield_names=p20002_i0_a25 -ifield_names=p20002_i0_a26 -ifield_names=p20002_i0_a27 -ifield_names=p20002_i0_a28 -ifield_names=p20002_i0_a29 -ifield_names=p20002_i0_a30 -ifield_names=p20002_i0_a31 -ifield_names=p20002_i0_a32 -ifield_names=p20002_i0_a33 -ifield_names=p20002_i1_a0 -ifield_names=p20002_i1_a1 -ifield_names=p20002_i1_a2 -ifield_names=p20002_i1_a3 -ifield_names=p20002_i1_a4 -ifield_names=p20002_i1_a5 -ifield_names=p20002_i1_a6 -ifield_names=p20002_i1_a7 -ifield_names=p20002_i1_a8 -ifield_names=p20002_i1_a9 -ifield_names=p20002_i1_a10 -ifield_names=p20002_i1_a11 -ifield_names=p20002_i1_a12 -ifield_names=p20002_i1_a13 -ifield_names=p20002_i1_a14 -ifield_names=p20002_i1_a15 -ifield_names=p20002_i1_a16 -ifield_names=p20002_i1_a17 -ifield_names=p20002_i1_a18 -ifield_names=p20002_i1_a19 -ifield_names=p20002_i1_a20 -ifield_names=p20002_i1_a21 -ifield_names=p20002_i1_a22 -ifield_names=p20002_i1_a23 -ifield_names=p20002_i1_a24 -ifield_names=p20002_i1_a25 -ifield_names=p20002_i1_a26 -ifield_names=p20002_i1_a27 -ifield_names=p20002_i1_a28 -ifield_names=p20002_i1_a29 -ifield_names=p20002_i1_a30 -ifield_names=p20002_i1_a31 -ifield_names=p20002_i1_a32 -ifield_names=p20002_i1_a33 -ifield_names=p20002_i2_a0 -ifield_names=p20002_i2_a1 -ifield_names=p20002_i2_a2 -ifield_names=p20002_i2_a3 -ifield_names=p20002_i2_a4 -ifield_names=p20002_i2_a5 -ifield_names=p20002_i2_a6 -ifield_names=p20002_i2_a7 -ifield_names=p20002_i2_a8 -ifield_names=p20002_i2_a9 -ifield_names=p20002_i2_a10 -ifield_names=p20002_i2_a11 -ifield_names=p20002_i2_a12 -ifield_names=p20002_i2_a13 -ifield_names=p20002_i2_a14 -ifield_names=p20002_i2_a15 -ifield_names=p20002_i2_a16 -ifield_names=p20002_i2_a17 -ifield_names=p20002_i2_a18 -ifield_names=p20002_i2_a19 -ifield_names=p20002_i2_a20 -ifield_names=p20002_i2_a21 -ifield_names=p20002_i2_a22 -ifield_names=p20002_i2_a23 -ifield_names=p20002_i2_a24 -ifield_names=p20002_i2_a25 -ifield_names=p20002_i2_a26 -ifield_names=p20002_i2_a27 -ifield_names=p20002_i2_a28 -ifield_names=p20002_i2_a29 -ifield_names=p20002_i2_a30 -ifield_names=p20002_i2_a31 -ifield_names=p20002_i2_a32 -ifield_names=p20002_i2_a33 -ifield_names=p20002_i3_a0 -ifield_names=p20002_i3_a1 -ifield_names=p20002_i3_a2 -ifield_names=p20002_i3_a3 -ifield_names=p20002_i3_a4 -ifield_names=p20002_i3_a5 -ifield_names=p20002_i3_a6 -ifield_names=p20002_i3_a7 -ifield_names=p20002_i3_a8 -ifield_names=p20002_i3_a9 -ifield_names=p20002_i3_a10 -ifield_names=p20002_i3_a11 -ifield_names=p20002_i3_a12 -ifield_names=p20002_i3_a13 -ifield_names=p20002_i3_a14 -ifield_names=p20002_i3_a15 -ifield_names=p20002_i3_a16 -ifield_names=p20002_i3_a17 -ifield_names=p20002_i3_a18 -ifield_names=p20002_i3_a19 -ifield_names=p20002_i3_a20 -ifield_names=p20002_i3_a21 -ifield_names=p20002_i3_a22 -ifield_names=p20002_i3_a23 -ifield_names=p20002_i3_a24 -ifield_names=p20002_i3_a25 -ifield_names=p20002_i3_a26 -ifield_names=p20002_i3_a27 -ifield_names=p20002_i3_a28 -ifield_names=p20002_i3_a29 -ifield_names=p20002_i3_a30 -ifield_names=p20002_i3_a31 -ifield_names=p20002_i3_a32 -ifield_names=p20002_i3_a33 -ifield_names=p20008_i0_a0 -ifield_names=p20008_i0_a1 -ifield_names=p20008_i0_a2 -ifield_names=p20008_i0_a3 -ifield_names=p20008_i0_a4 -ifield_names=p20008_i0_a5 -ifield_names=p20008_i0_a6 -ifield_names=p20008_i0_a7 -ifield_names=p20008_i0_a8 -ifield_names=p20008_i0_a9 -ifield_names=p20008_i0_a10 -ifield_names=p20008_i0_a11 -ifield_names=p20008_i0_a12 -ifield_names=p20008_i0_a13 -ifield_names=p20008_i0_a14 -ifield_names=p20008_i0_a15 -ifield_names=p20008_i0_a16 -ifield_names=p20008_i0_a17 -ifield_names=p20008_i0_a18 -ifield_names=p20008_i0_a19 -ifield_names=p20008_i0_a20 -ifield_names=p20008_i0_a21 -ifield_names=p20008_i0_a22 -ifield_names=p20008_i0_a23 -ifield_names=p20008_i0_a24 -ifield_names=p20008_i0_a25 -ifield_names=p20008_i0_a26 -ifield_names=p20008_i0_a27 -ifield_names=p20008_i0_a28 -ifield_names=p20008_i0_a29 -ifield_names=p20008_i0_a30 -ifield_names=p20008_i0_a31 -ifield_names=p20008_i0_a32 -ifield_names=p20008_i0_a33 -ifield_names=p20008_i1_a0 -ifield_names=p20008_i1_a1 -ifield_names=p20008_i1_a2 -ifield_names=p20008_i1_a3 -ifield_names=p20008_i1_a4 -ifield_names=p20008_i1_a5 -ifield_names=p20008_i1_a6 -ifield_names=p20008_i1_a7 -ifield_names=p20008_i1_a8 -ifield_names=p20008_i1_a9 -ifield_names=p20008_i1_a10 -ifield_names=p20008_i1_a11 -ifield_names=p20008_i1_a12 -ifield_names=p20008_i1_a13 -ifield_names=p20008_i1_a14 -ifield_names=p20008_i1_a15 -ifield_names=p20008_i1_a16 -ifield_names=p20008_i1_a17 -ifield_names=p20008_i1_a18 -ifield_names=p20008_i1_a19 -ifield_names=p20008_i1_a20 -ifield_names=p20008_i1_a21 -ifield_names=p20008_i1_a22 -ifield_names=p20008_i1_a23 -ifield_names=p20008_i1_a24 -ifield_names=p20008_i1_a25 -ifield_names=p20008_i1_a26 -ifield_names=p20008_i1_a27 -ifield_names=p20008_i1_a28 -ifield_names=p20008_i1_a29 -ifield_names=p20008_i1_a30 -ifield_names=p20008_i1_a31 -ifield_names=p20008_i1_a32 -ifield_names=p20008_i1_a33 -ifield_names=p20008_i2_a0 -ifield_names=p20008_i2_a1 -ifield_names=p20008_i2_a2 -ifield_names=p20008_i2_a3 -ifield_names=p20008_i2_a4 -ifield_names=p20008_i2_a5 -ifield_names=p20008_i2_a6 -ifield_names=p20008_i2_a7 -ifield_names=p20008_i2_a8 -ifield_names=p20008_i2_a9 -ifield_names=p20008_i2_a10 -ifield_names=p20008_i2_a11 -ifield_names=p20008_i2_a12 -ifield_names=p20008_i2_a13 -ifield_names=p20008_i2_a14 -ifield_names=p20008_i2_a15 -ifield_names=p20008_i2_a16 -ifield_names=p20008_i2_a17 -ifield_names=p20008_i2_a18 -ifield_names=p20008_i2_a19 -ifield_names=p20008_i2_a20 -ifield_names=p20008_i2_a21 -ifield_names=p20008_i2_a22 -ifield_names=p20008_i2_a23 -ifield_names=p20008_i2_a24 -ifield_names=p20008_i2_a25 -ifield_names=p20008_i2_a26 -ifield_names=p20008_i2_a27 -ifield_names=p20008_i2_a28 -ifield_names=p20008_i2_a29 -ifield_names=p20008_i2_a30 -ifield_names=p20008_i2_a31 -ifield_names=p20008_i2_a32 -ifield_names=p20008_i2_a33 -ifield_names=p20008_i3_a0 -ifield_names=p20008_i3_a1 -ifield_names=p20008_i3_a2 -ifield_names=p20008_i3_a3 -ifield_names=p20008_i3_a4 -ifield_names=p20008_i3_a5 -ifield_names=p20008_i3_a6 -ifield_names=p20008_i3_a7 -ifield_names=p20008_i3_a8 -ifield_names=p20008_i3_a9 -ifield_names=p20008_i3_a10 -ifield_names=p20008_i3_a11 -ifield_names=p20008_i3_a12 -ifield_names=p20008_i3_a13 -ifield_names=p20008_i3_a14 -ifield_names=p20008_i3_a15 -ifield_names=p20008_i3_a16 -ifield_names=p20008_i3_a17 -ifield_names=p20008_i3_a18 -ifield_names=p20008_i3_a19 -ifield_names=p20008_i3_a20 -ifield_names=p20008_i3_a21 -ifield_names=p20008_i3_a22 -ifield_names=p20008_i3_a23 -ifield_names=p20008_i3_a24 -ifield_names=p20008_i3_a25 -ifield_names=p20008_i3_a26 -ifield_names=p20008_i3_a27 -ifield_names=p20008_i3_a28 -ifield_names=p20008_i3_a29 -ifield_names=p20008_i3_a30 -ifield_names=p20008_i3_a31 -ifield_names=p20008_i3_a32 -ifield_names=p20008_i3_a33 -ifield_names=p20004_i0_a0 -ifield_names=p20004_i0_a1 -ifield_names=p20004_i0_a2 -ifield_names=p20004_i0_a3 -ifield_names=p20004_i0_a4 -ifield_names=p20004_i0_a5 -ifield_names=p20004_i0_a6 -ifield_names=p20004_i0_a7 -ifield_names=p20004_i0_a8 -ifield_names=p20004_i0_a9 -ifield_names=p20004_i0_a10 -ifield_names=p20004_i0_a11 -ifield_names=p20004_i0_a12 -ifield_names=p20004_i0_a13 -ifield_names=p20004_i0_a14 -ifield_names=p20004_i0_a15 -ifield_names=p20004_i0_a16 -ifield_names=p20004_i0_a17 -ifield_names=p20004_i0_a18 -ifield_names=p20004_i0_a19 -ifield_names=p20004_i0_a20 -ifield_names=p20004_i0_a21 -ifield_names=p20004_i0_a22 -ifield_names=p20004_i0_a23 -ifield_names=p20004_i0_a24 -ifield_names=p20004_i0_a25 -ifield_names=p20004_i0_a26 -ifield_names=p20004_i0_a27 -ifield_names=p20004_i0_a28 -ifield_names=p20004_i0_a29 -ifield_names=p20004_i0_a30 -ifield_names=p20004_i0_a31 -ifield_names=p20004_i1_a0 -ifield_names=p20004_i1_a1 -ifield_names=p20004_i1_a2 -ifield_names=p20004_i1_a3 -ifield_names=p20004_i1_a4 -ifield_names=p20004_i1_a5 -ifield_names=p20004_i1_a6 -ifield_names=p20004_i1_a7 -ifield_names=p20004_i1_a8 -ifield_names=p20004_i1_a9 -ifield_names=p20004_i1_a10 -ifield_names=p20004_i1_a11 -ifield_names=p20004_i1_a12 -ifield_names=p20004_i1_a13 -ifield_names=p20004_i1_a14 -ifield_names=p20004_i1_a15 -ifield_names=p20004_i1_a16 -ifield_names=p20004_i1_a17 -ifield_names=p20004_i1_a18 -ifield_names=p20004_i1_a19 -ifield_names=p20004_i1_a20 -ifield_names=p20004_i1_a21 -ifield_names=p20004_i1_a22 -ifield_names=p20004_i1_a23 -ifield_names=p20004_i1_a24 -ifield_names=p20004_i1_a25 -ifield_names=p20004_i1_a26 -ifield_names=p20004_i1_a27 -ifield_names=p20004_i1_a28 -ifield_names=p20004_i1_a29 -ifield_names=p20004_i1_a30 -ifield_names=p20004_i1_a31 -ifield_names=p20004_i2_a0 -ifield_names=p20004_i2_a1 -ifield_names=p20004_i2_a2 -ifield_names=p20004_i2_a3 -ifield_names=p20004_i2_a4 -ifield_names=p20004_i2_a5 -ifield_names=p20004_i2_a6 -ifield_names=p20004_i2_a7 -ifield_names=p20004_i2_a8 -ifield_names=p20004_i2_a9 -ifield_names=p20004_i2_a10 -ifield_names=p20004_i2_a11 -ifield_names=p20004_i2_a12 -ifield_names=p20004_i2_a13 -ifield_names=p20004_i2_a14 -ifield_names=p20004_i2_a15 -ifield_names=p20004_i2_a16 -ifield_names=p20004_i2_a17 -ifield_names=p20004_i2_a18 -ifield_names=p20004_i2_a19 -ifield_names=p20004_i2_a20 -ifield_names=p20004_i2_a21 -ifield_names=p20004_i2_a22 -ifield_names=p20004_i2_a23 -ifield_names=p20004_i2_a24 -ifield_names=p20004_i2_a25 -ifield_names=p20004_i2_a26 -ifield_names=p20004_i2_a27 -ifield_names=p20004_i2_a28 -ifield_names=p20004_i2_a29 -ifield_names=p20004_i2_a30 -ifield_names=p20004_i2_a31 -ifield_names=p20004_i3_a0 -ifield_names=p20004_i3_a1 -ifield_names=p20004_i3_a2 -ifield_names=p20004_i3_a3 -ifield_names=p20004_i3_a4 -ifield_names=p20004_i3_a5 -ifield_names=p20004_i3_a6 -ifield_names=p20004_i3_a7 -ifield_names=p20004_i3_a8 -ifield_names=p20004_i3_a9 -ifield_names=p20004_i3_a10 -ifield_names=p20004_i3_a11 -ifield_names=p20004_i3_a12 -ifield_names=p20004_i3_a13 -ifield_names=p20004_i3_a14 -ifield_names=p20004_i3_a15 -ifield_names=p20004_i3_a16 -ifield_names=p20004_i3_a17 -ifield_names=p20004_i3_a18 -ifield_names=p20004_i3_a19 -ifield_names=p20004_i3_a20 -ifield_names=p20004_i3_a21 -ifield_names=p20004_i3_a22 -ifield_names=p20004_i3_a23 -ifield_names=p20004_i3_a24 -ifield_names=p20004_i3_a25 -ifield_names=p20004_i3_a26 -ifield_names=p20004_i3_a27 -ifield_names=p20004_i3_a28 -ifield_names=p20004_i3_a29 -ifield_names=p20004_i3_a30 -ifield_names=p20004_i3_a31 -ifield_names=p20010_i0_a0 -ifield_names=p20010_i0_a1 -ifield_names=p20010_i0_a2 -ifield_names=p20010_i0_a3 -ifield_names=p20010_i0_a4 -ifield_names=p20010_i0_a5 -ifield_names=p20010_i0_a6 -ifield_names=p20010_i0_a7 -ifield_names=p20010_i0_a8 -ifield_names=p20010_i0_a9 -ifield_names=p20010_i0_a10 -ifield_names=p20010_i0_a11 -ifield_names=p20010_i0_a12 -ifield_names=p20010_i0_a13 -ifield_names=p20010_i0_a14 -ifield_names=p20010_i0_a15 -ifield_names=p20010_i0_a16 -ifield_names=p20010_i0_a17 -ifield_names=p20010_i0_a18 -ifield_names=p20010_i0_a19 -ifield_names=p20010_i0_a20 -ifield_names=p20010_i0_a21 -ifield_names=p20010_i0_a22 -ifield_names=p20010_i0_a23 -ifield_names=p20010_i0_a24 -ifield_names=p20010_i0_a25 -ifield_names=p20010_i0_a26 -ifield_names=p20010_i0_a27 -ifield_names=p20010_i0_a28 -ifield_names=p20010_i0_a29 -ifield_names=p20010_i0_a30 -ifield_names=p20010_i0_a31 -ifield_names=p20010_i1_a0 -ifield_names=p20010_i1_a1 -ifield_names=p20010_i1_a2 -ifield_names=p20010_i1_a3 -ifield_names=p20010_i1_a4 -ifield_names=p20010_i1_a5 -ifield_names=p20010_i1_a6 -ifield_names=p20010_i1_a7 -ifield_names=p20010_i1_a8 -ifield_names=p20010_i1_a9 -ifield_names=p20010_i1_a10 -ifield_names=p20010_i1_a11 -ifield_names=p20010_i1_a12 -ifield_names=p20010_i1_a13 -ifield_names=p20010_i1_a14 -ifield_names=p20010_i1_a15 -ifield_names=p20010_i1_a16 -ifield_names=p20010_i1_a17 -ifield_names=p20010_i1_a18 -ifield_names=p20010_i1_a19 -ifield_names=p20010_i1_a20 -ifield_names=p20010_i1_a21 -ifield_names=p20010_i1_a22 -ifield_names=p20010_i1_a23 -ifield_names=p20010_i1_a24 -ifield_names=p20010_i1_a25 -ifield_names=p20010_i1_a26 -ifield_names=p20010_i1_a27 -ifield_names=p20010_i1_a28 -ifield_names=p20010_i1_a29 -ifield_names=p20010_i1_a30 -ifield_names=p20010_i1_a31 -ifield_names=p20010_i2_a0 -ifield_names=p20010_i2_a1 -ifield_names=p20010_i2_a2 -ifield_names=p20010_i2_a3 -ifield_names=p20010_i2_a4 -ifield_names=p20010_i2_a5 -ifield_names=p20010_i2_a6 -ifield_names=p20010_i2_a7 -ifield_names=p20010_i2_a8 -ifield_names=p20010_i2_a9 -ifield_names=p20010_i2_a10 -ifield_names=p20010_i2_a11 -ifield_names=p20010_i2_a12 -ifield_names=p20010_i2_a13 -ifield_names=p20010_i2_a14 -ifield_names=p20010_i2_a15 -ifield_names=p20010_i2_a16 -ifield_names=p20010_i2_a17 -ifield_names=p20010_i2_a18 -ifield_names=p20010_i2_a19 -ifield_names=p20010_i2_a20 -ifield_names=p20010_i2_a21 -ifield_names=p20010_i2_a22 -ifield_names=p20010_i2_a23 -ifield_names=p20010_i2_a24 -ifield_names=p20010_i2_a25 -ifield_names=p20010_i2_a26 -ifield_names=p20010_i2_a27 -ifield_names=p20010_i2_a28 -ifield_names=p20010_i2_a29 -ifield_names=p20010_i2_a30 -ifield_names=p20010_i2_a31 -ifield_names=p20010_i3_a0 -ifield_names=p20010_i3_a1 -ifield_names=p20010_i3_a2 -ifield_names=p20010_i3_a3 -ifield_names=p20010_i3_a4 -ifield_names=p20010_i3_a5 -ifield_names=p20010_i3_a6 -ifield_names=p20010_i3_a7 -ifield_names=p20010_i3_a8 -ifield_names=p20010_i3_a9 -ifield_names=p20010_i3_a10 -ifield_names=p20010_i3_a11 -ifield_names=p20010_i3_a12 -ifield_names=p20010_i3_a13 -ifield_names=p20010_i3_a14 -ifield_names=p20010_i3_a15 -ifield_names=p20010_i3_a16 -ifield_names=p20010_i3_a17 -ifield_names=p20010_i3_a18 -ifield_names=p20010_i3_a19 -ifield_names=p20010_i3_a20 -ifield_names=p20010_i3_a21 -ifield_names=p20010_i3_a22 -ifield_names=p20010_i3_a23 -ifield_names=p20010_i3_a24 -ifield_names=p20010_i3_a25 -ifield_names=p20010_i3_a26 -ifield_names=p20010_i3_a27 -ifield_names=p20010_i3_a28 -ifield_names=p20010_i3_a29 -ifield_names=p20010_i3_a30 -ifield_names=p20010_i3_a31\"\n",
      "    ],\n",
      "    \"dataset_or_cohort_or_dashboard\": {\n",
      "        \"$dnanexus_link\": {\n",
      "            \"project\": \"project-GvZyZ20J81vgPJGbJy8pgpyq\",\n",
      "            \"id\": \"record-Gvb0Bg0Jfxfv0q8Fb2pXqKjg\"\n",
      "        }\n",
      "    }\n",
      "}\n",
      "\n",
      "Calling app-GyY66z89pP7JGx68BX8GB0Xp with output destination\n",
      "  project-GvZyZ20J81vgPJGbJy8pgpyq:/\n",
      "\n",
      "Job ID: job-Gz5JxpjJ81vg5f1k2F89vbv2\n",
      "\n"
     ]
    }
   ],
   "source": [
    "cmd = [\"dx\", \"run\", \"app-table-exporter\", \n",
    "       \"-idataset_or_cohort_or_dashboard=\" + dataset, \n",
    "       \"-ioutput=data\", \n",
    "       \"-ioutput_format=TSV\",\n",
    "       \"-icoding_option=REPLACE\",\n",
    "       \"-iheader_style=FIELD-NAME\",\n",
    "       \"-ientity=participant\",\n",
    "       \" \".join([f\"-ifield_names={field}\" for field in filtered_df[\"name\"]])]\n",
    "try:\n",
    "    output = subprocess.check_output(cmd, stderr=subprocess.STDOUT)\n",
    "    print(\"Command Output:\")\n",
    "    print(output.decode())\n",
    "except subprocess.CalledProcessError as e:\n",
    "    print(f\"Command failed with error code {e.returncode}\")\n",
    "    print(f\"Command output: {e.output.decode()}\")\n",
    "    print(f\"Command error: {e.stderr.decode()}\")"
   ]
  },
  {
   "cell_type": "code",
   "execution_count": 137,
   "id": "4c7292e9-fb03-442c-96ab-fabc19e9dcf8",
   "metadata": {
    "tags": []
   },
   "outputs": [
    {
     "ename": "RuntimeError",
     "evalue": "Java gateway process exited before sending its port number",
     "output_type": "error",
     "traceback": [
      "\u001b[0;31m---------------------------------------------------------------------------\u001b[0m",
      "\u001b[0;31mRuntimeError\u001b[0m                              Traceback (most recent call last)",
      "Cell \u001b[0;32mIn[137], line 5\u001b[0m\n\u001b[1;32m      2\u001b[0m \u001b[38;5;28;01mimport\u001b[39;00m\u001b[38;5;250m \u001b[39m\u001b[38;5;21;01mpyspark\u001b[39;00m\n\u001b[1;32m      4\u001b[0m config \u001b[38;5;241m=\u001b[39m pyspark\u001b[38;5;241m.\u001b[39mSparkConf()\u001b[38;5;241m.\u001b[39msetAll([(\u001b[38;5;124m'\u001b[39m\u001b[38;5;124mspark.kryoserializer.buffer.max\u001b[39m\u001b[38;5;124m'\u001b[39m, \u001b[38;5;124m'\u001b[39m\u001b[38;5;124m128\u001b[39m\u001b[38;5;124m'\u001b[39m),(\u001b[38;5;124m'\u001b[39m\u001b[38;5;124mspark.sql.execution.arrow.pyspark.enabled\u001b[39m\u001b[38;5;124m'\u001b[39m,\u001b[38;5;124m'\u001b[39m\u001b[38;5;124mtrue\u001b[39m\u001b[38;5;124m'\u001b[39m)])  \n\u001b[0;32m----> 5\u001b[0m sc \u001b[38;5;241m=\u001b[39m \u001b[43mpyspark\u001b[49m\u001b[38;5;241;43m.\u001b[39;49m\u001b[43mSparkContext\u001b[49m\u001b[43m(\u001b[49m\u001b[43mconf\u001b[49m\u001b[38;5;241;43m=\u001b[39;49m\u001b[43mconfig\u001b[49m\u001b[43m)\u001b[49m\n\u001b[1;32m      6\u001b[0m spark \u001b[38;5;241m=\u001b[39m pyspark\u001b[38;5;241m.\u001b[39msql\u001b[38;5;241m.\u001b[39mSparkSession(sc)\n",
      "File \u001b[0;32m/opt/conda/lib/python3.11/site-packages/pyspark/context.py:144\u001b[0m, in \u001b[0;36mSparkContext.__init__\u001b[0;34m(self, master, appName, sparkHome, pyFiles, environment, batchSize, serializer, conf, gateway, jsc, profiler_cls)\u001b[0m\n\u001b[1;32m    139\u001b[0m \u001b[38;5;28;01mif\u001b[39;00m gateway \u001b[38;5;129;01mis\u001b[39;00m \u001b[38;5;129;01mnot\u001b[39;00m \u001b[38;5;28;01mNone\u001b[39;00m \u001b[38;5;129;01mand\u001b[39;00m gateway\u001b[38;5;241m.\u001b[39mgateway_parameters\u001b[38;5;241m.\u001b[39mauth_token \u001b[38;5;129;01mis\u001b[39;00m \u001b[38;5;28;01mNone\u001b[39;00m:\n\u001b[1;32m    140\u001b[0m     \u001b[38;5;28;01mraise\u001b[39;00m \u001b[38;5;167;01mValueError\u001b[39;00m(\n\u001b[1;32m    141\u001b[0m         \u001b[38;5;124m\"\u001b[39m\u001b[38;5;124mYou are trying to pass an insecure Py4j gateway to Spark. This\u001b[39m\u001b[38;5;124m\"\u001b[39m\n\u001b[1;32m    142\u001b[0m         \u001b[38;5;124m\"\u001b[39m\u001b[38;5;124m is not allowed as it is a security risk.\u001b[39m\u001b[38;5;124m\"\u001b[39m)\n\u001b[0;32m--> 144\u001b[0m \u001b[43mSparkContext\u001b[49m\u001b[38;5;241;43m.\u001b[39;49m\u001b[43m_ensure_initialized\u001b[49m\u001b[43m(\u001b[49m\u001b[38;5;28;43mself\u001b[39;49m\u001b[43m,\u001b[49m\u001b[43m \u001b[49m\u001b[43mgateway\u001b[49m\u001b[38;5;241;43m=\u001b[39;49m\u001b[43mgateway\u001b[49m\u001b[43m,\u001b[49m\u001b[43m \u001b[49m\u001b[43mconf\u001b[49m\u001b[38;5;241;43m=\u001b[39;49m\u001b[43mconf\u001b[49m\u001b[43m)\u001b[49m\n\u001b[1;32m    145\u001b[0m \u001b[38;5;28;01mtry\u001b[39;00m:\n\u001b[1;32m    146\u001b[0m     \u001b[38;5;28mself\u001b[39m\u001b[38;5;241m.\u001b[39m_do_init(master, appName, sparkHome, pyFiles, environment, batchSize, serializer,\n\u001b[1;32m    147\u001b[0m                   conf, jsc, profiler_cls)\n",
      "File \u001b[0;32m/opt/conda/lib/python3.11/site-packages/pyspark/context.py:339\u001b[0m, in \u001b[0;36mSparkContext._ensure_initialized\u001b[0;34m(cls, instance, gateway, conf)\u001b[0m\n\u001b[1;32m    337\u001b[0m \u001b[38;5;28;01mwith\u001b[39;00m SparkContext\u001b[38;5;241m.\u001b[39m_lock:\n\u001b[1;32m    338\u001b[0m     \u001b[38;5;28;01mif\u001b[39;00m \u001b[38;5;129;01mnot\u001b[39;00m SparkContext\u001b[38;5;241m.\u001b[39m_gateway:\n\u001b[0;32m--> 339\u001b[0m         SparkContext\u001b[38;5;241m.\u001b[39m_gateway \u001b[38;5;241m=\u001b[39m gateway \u001b[38;5;129;01mor\u001b[39;00m \u001b[43mlaunch_gateway\u001b[49m\u001b[43m(\u001b[49m\u001b[43mconf\u001b[49m\u001b[43m)\u001b[49m\n\u001b[1;32m    340\u001b[0m         SparkContext\u001b[38;5;241m.\u001b[39m_jvm \u001b[38;5;241m=\u001b[39m SparkContext\u001b[38;5;241m.\u001b[39m_gateway\u001b[38;5;241m.\u001b[39mjvm\n\u001b[1;32m    342\u001b[0m     \u001b[38;5;28;01mif\u001b[39;00m instance:\n",
      "File \u001b[0;32m/opt/conda/lib/python3.11/site-packages/pyspark/java_gateway.py:108\u001b[0m, in \u001b[0;36mlaunch_gateway\u001b[0;34m(conf, popen_kwargs)\u001b[0m\n\u001b[1;32m    105\u001b[0m     time\u001b[38;5;241m.\u001b[39msleep(\u001b[38;5;241m0.1\u001b[39m)\n\u001b[1;32m    107\u001b[0m \u001b[38;5;28;01mif\u001b[39;00m \u001b[38;5;129;01mnot\u001b[39;00m os\u001b[38;5;241m.\u001b[39mpath\u001b[38;5;241m.\u001b[39misfile(conn_info_file):\n\u001b[0;32m--> 108\u001b[0m     \u001b[38;5;28;01mraise\u001b[39;00m \u001b[38;5;167;01mRuntimeError\u001b[39;00m(\u001b[38;5;124m\"\u001b[39m\u001b[38;5;124mJava gateway process exited before sending its port number\u001b[39m\u001b[38;5;124m\"\u001b[39m)\n\u001b[1;32m    110\u001b[0m \u001b[38;5;28;01mwith\u001b[39;00m \u001b[38;5;28mopen\u001b[39m(conn_info_file, \u001b[38;5;124m\"\u001b[39m\u001b[38;5;124mrb\u001b[39m\u001b[38;5;124m\"\u001b[39m) \u001b[38;5;28;01mas\u001b[39;00m info:\n\u001b[1;32m    111\u001b[0m     gateway_port \u001b[38;5;241m=\u001b[39m read_int(info)\n",
      "\u001b[0;31mRuntimeError\u001b[0m: Java gateway process exited before sending its port number"
     ]
    }
   ],
   "source": [
    "import dxpy\n",
    "import pyspark\n",
    "\n",
    "config = pyspark.SparkConf().setAll([('spark.kryoserializer.buffer.max', '128'),('spark.sql.execution.arrow.pyspark.enabled','true')])  \n",
    "sc = pyspark.SparkContext(conf=config)\n",
    "spark = pyspark.sql.SparkSession(sc)"
   ]
  },
  {
   "cell_type": "code",
   "execution_count": 129,
   "id": "efb7e52a-763f-407a-93bf-1caff239a654",
   "metadata": {
    "tags": []
   },
   "outputs": [
    {
     "name": "stdout",
     "output_type": "stream",
     "text": [
      "Command Output:\n",
      "\n",
      "Using input JSON:\n",
      "{\n",
      "    \"dataset_or_cohort_or_dashboard\": {\n",
      "        \"$dnanexus_link\": {\n",
      "            \"project\": \"project-GvZyZ20J81vgPJGbJy8pgpyq\",\n",
      "            \"id\": \"record-Gvb0Bg0Jfxfv0q8Fb2pXqKjg\"\n",
      "        }\n",
      "    }\n",
      "}\n",
      "\n",
      "Calling app-GyY66z89pP7JGx68BX8GB0Xp with output destination\n",
      "  project-GvZyZ20J81vgPJGbJy8pgpyq:/\n",
      "\n",
      "Job ID: job-Gz5JjbjJ81vvGG55Kv4g04xY\n",
      "\n"
     ]
    }
   ],
   "source": []
  },
  {
   "cell_type": "code",
   "execution_count": null,
   "id": "3c5a70df-6a47-4f6c-81ad-87c3479b5102",
   "metadata": {},
   "outputs": [],
   "source": []
  }
 ],
 "metadata": {
  "kernelspec": {
   "display_name": "Python 3 (ipykernel)",
   "language": "python",
   "name": "python3"
  },
  "language_info": {
   "codemirror_mode": {
    "name": "ipython",
    "version": 3
   },
   "file_extension": ".py",
   "mimetype": "text/x-python",
   "name": "python",
   "nbconvert_exporter": "python",
   "pygments_lexer": "ipython3",
   "version": "3.11.5"
  }
 },
 "nbformat": 4,
 "nbformat_minor": 5
}
