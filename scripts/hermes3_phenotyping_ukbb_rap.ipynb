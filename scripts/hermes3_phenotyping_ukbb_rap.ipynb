{
 "cells": [
  {
   "cell_type": "markdown",
   "id": "81e72fef-291b-45d4-a94e-61cbf9facc00",
   "metadata": {
    "tags": []
   },
   "source": [
    "# HERMES 3.0 UK Biobank Phenotyping\n",
    "#### Nicholas Sunderland - Mar 2025\n",
    "#### nicholas.sunderland@bristol.ac.uk"
   ]
  },
  {
   "cell_type": "markdown",
   "id": "eab4a74a-f3e1-4c31-80d0-f77659deed6c",
   "metadata": {
    "tags": []
   },
   "source": [
    "## **Warning** - these scripts have changed 14/03/25"
   ]
  },
  {
   "cell_type": "markdown",
   "id": "64e7d4a72fb9e446",
   "metadata": {},
   "source": [
    "## Setup\n",
    "First open an R JupytrLab session on the UK Biobank RAP with standard settings. \n",
    "\n",
    "Open the terminal app and clone the heRmes Github repository into `/opt/notebooks` by running: \n",
    "\n",
    "`git clone https://github.com/nicksunderland/heRmes.git`\n",
    "\n",
    "This will put the **heRmes** directory at `/opt/notebooks/heRmes`. \n",
    "\n",
    "First we will need to extract the necessary data. The data extraction script will pull data from the databases into your project directory storgae. The script is located at: \n",
    "\n",
    "`/opt/notebooks/heRmes/scripts/extract_ukbb_data.ipynb`\n",
    "\n",
    "Ensure this runs and wait for the table extraction jobs to finish, resulting in a new folder in your project called `hermes3_data` filled with data tables. \n",
    "\n",
    "The HERMES 3.0 phenotyping script (this script) is located at:\n",
    "\n",
    "`/opt/notebooks/heRmes/scripts/hermes3_phenotyping_ukbb_rap.ipynb`\n",
    "\n",
    "Running this script will process the phenotypes, resulting in a phenotype file at called ``hermes3_data/hermes3_phenotypes.tsv.gz` and a counts summary at `hermes3_data/hermes3_phenotype_summary.tsv`.\n",
    "\n",
    "You need to set the project and record IDs below to your own project.\n",
    "\n",
    "* **Project ID**: the `Project ID` is available from the 'Settings' tab after clicking on your project in the UK Biobak RAP.  \n",
    "* **Record ID**: the record or dataset `ID` is available from the 'Manage' tab, where you select the checkbox to the left of your dispensed `.dataset` (e.g. app81499_20241105095754.dataset) which then displays the `ID` in the information pane on the right."
   ]
  },
  {
   "cell_type": "code",
   "execution_count": null,
   "id": "1adf1fc3c6b00040",
   "metadata": {
    "collapsed": false,
    "jupyter": {
     "outputs_hidden": false
    },
    "tags": []
   },
   "outputs": [],
   "source": [
    "projectid <- \"project-GvZyZ20J81vgPJGbJy8pgpyq\"\n",
    "recordid  <- \"record-Gvb0Bg0Jfxfv0q8Fb2pXqKjg\""
   ]
  },
  {
   "cell_type": "markdown",
   "id": "9f94aa4c-a983-4661-9795-0d72f9b70067",
   "metadata": {},
   "source": [
    "### Libraries"
   ]
  },
  {
   "cell_type": "code",
   "execution_count": null,
   "id": "bdb57ea6-ecdc-4d37-b40c-016ef7e8bf48",
   "metadata": {
    "tags": []
   },
   "outputs": [],
   "source": [
    "library(glue)\n",
    "library(data.table)\n",
    "library(yaml)\n",
    "source(\"/opt/notebooks/heRmes/R/ukbb_extraction_utils.R\")"
   ]
  },
  {
   "cell_type": "markdown",
   "id": "02275c61-f665-45b2-b530-1b9b00b4ff8d",
   "metadata": {
    "tags": []
   },
   "source": [
    "## Read in extracted data"
   ]
  },
  {
   "cell_type": "code",
   "execution_count": null,
   "id": "19f00eed-1147-4d16-b45d-c167003c0a43",
   "metadata": {
    "tags": []
   },
   "outputs": [],
   "source": [
    "# get the extract config\n",
    "config <- read_yaml(\"/opt/notebooks/heRmes/scripts/ukbb_extraction_config.yml\")\n",
    "\n",
    "# take the required tables for this phenotyping\n",
    "config <- config[c(\"participant\", \"hesin\", \"hes_diag\", \"hes_oper\")]\n",
    "\n",
    "# function to \n",
    "\n",
    "# read data \n",
    "data <- list()\n",
    "for (i in seq_along(config)) {\n",
    "    \n",
    "    file_path <- file.path(\"/mnt/project\", config[[i]][[\"output\"]])\n",
    "    \n",
    "    if (!file.exists(file_path)) {\n",
    "        cat(glue(\"Error:\\nFile {file_path} not found, \",\n",
    "                 \"check the Monitor tab for the status of the Table-exporter \",\n",
    "                 \"and the 'hermes_data' folder. If this has finished try \",\n",
    "                 \"launching another Notebook session/instance (I'm not sure why \",\n",
    "                 \"the mounted /mnt/project/ file structure doesn't refresh when \",\n",
    "                 \"files are added externally.\"), sep=\"\\n\")\n",
    "        stop(\"file not found error\")\n",
    "    }\n",
    "    \n",
    "    n <- names(config)[i]\n",
    "    cat(glue('...{n}: {file_path}\\n'), sep=\"\\n\")\n",
    "    flush.console()\n",
    "    data[[n]] <- fread(file_path)\n",
    "    \n",
    "    #print(typeof(config[[i]][[\"columns\"]]))\n",
    "    rename_ukbb_cols(data[[n]], col_config=config[[i]][[\"columns\"]])\n",
    "    \n",
    "}\n",
    "\n",
    "lapply(data, head, n = 5)"
   ]
  },
  {
   "cell_type": "markdown",
   "id": "ecb78f2e-b3ad-4d18-b2de-14792073ce31",
   "metadata": {},
   "source": [
    "## Data processing"
   ]
  },
  {
   "cell_type": "markdown",
   "id": "34079878-d881-462f-8ce6-8ed17029b799",
   "metadata": {},
   "source": [
    "### Read in the heRmes codes\n",
    "ICD-9/10 coding is provided but we need to add the self reported codes from the UK-BB too."
   ]
  },
  {
   "cell_type": "code",
   "execution_count": null,
   "id": "60a80c57-ba34-45d9-a6d4-2318928c12be",
   "metadata": {
    "tags": []
   },
   "outputs": [],
   "source": [
    "codes <- fread(file.path(\"/opt/notebooks\", \"heRmes\", \"inst\", \"extdata\", \"hermes_3_codes\", \"hermes_3_codes.tsv\"))\n",
    "self_reported_codes <- list(\n",
    "  list(name = \"Heart Failure\",                      code = \"1076\", code_type = \"ukbb_self_reported_illness\"),\n",
    "  list(name = \"Myocardial infarction\",              code = \"1075\", code_type = \"ukbb_self_reported_illness\"),\n",
    "  list(name = \"Hypertrophic cardiomyopathy\",        code = \"1588\", code_type = \"ukbb_self_reported_illness\"),\n",
    "  list(name = \"Coronary artery bypass grafting\",    code = \"1095\", code_type = \"ukbb_self_reported_procedure\"),\n",
    "  list(name = \"Percutaneous coronary intervention\", code = \"1070\", code_type = \"ukbb_self_reported_procedure\")\n",
    ")\n",
    "codes <- rbind(codes,\n",
    "               data.table(Concept     = paste0(sapply(self_reported_codes, function(x) x$name), \" Self Reported\"),\n",
    "                          Code        = sapply(self_reported_codes, function(x) x$code),\n",
    "                          Source      = sapply(self_reported_codes, function(x) x$code_type),\n",
    "                          Description = sapply(self_reported_codes, function(x) x$name)))\n",
    "codes[, `:=`(code      = Code,\n",
    "             code_type = fcase(Source==\"ICD10\", \"icd10\",\n",
    "                               Source==\"ICD9\",  \"icd9\",\n",
    "                               Source==\"OPCS4\", \"opcs4\",\n",
    "                               Source==\"ukbb_self_reported_illness\", \"ukbb_self_reported_illness\",\n",
    "                               Source==\"ukbb_self_reported_procedure\", \"ukbb_self_reported_procedure\"))]\n",
    "codes <- codes[!is.na(code_type)] \n",
    "head(codes)"
   ]
  },
  {
   "cell_type": "markdown",
   "id": "593b715d-22e1-4904-a58e-c7411ffd843f",
   "metadata": {},
   "source": [
    "### Clean up the cohort data"
   ]
  },
  {
   "cell_type": "code",
   "execution_count": null,
   "id": "78749200-dbd4-4127-b57d-939587408675",
   "metadata": {
    "tags": []
   },
   "outputs": [],
   "source": [
    "ethnicity_codes <- list(\n",
    "  white                 = 1,\n",
    "  british               = 1001,\n",
    "  white_black_caribbean = 2001,\n",
    "  indian                = 3001,\n",
    "  caribbean             = 4001,\n",
    "  mixed                 = 2,\n",
    "  irish                 = 1002,\n",
    "  white_black_african   = 2002,\n",
    "  pakistani             = 3002,\n",
    "  african               = 4002,\n",
    "  asian_or_asian_british= 3,\n",
    "  any_other_white       = 1003,\n",
    "  white_asian           = 2003,\n",
    "  bangladeshi           = 3003,\n",
    "  any_other_black       = 4003,\n",
    "  black_or_black_british= 4,\n",
    "  any_other_mixed       = 2004,\n",
    "  any_other_asian       = 3004,\n",
    "  chinese               = 5,\n",
    "  other_ethnic_group    = 6)\n",
    "\n",
    "data$participant[, ethnicity := fcoalesce(.SD), .SDcols = names(data$participant)[grepl(\"^ethnicity_[0-9]$\", names(data$participant))]]\n",
    "\n",
    "data$demog <- data$participant[, \n",
    "    list(eid               = eid,\n",
    "         reason_lost_fu    = reason_lost_fu,\n",
    "         age               = as.integer(age),\n",
    "         sex               = factor(sex, levels = 0:1, labels = c(\"female\", \"male\")),\n",
    "         ethnicity         = factor(ethnicity, levels = unlist(ethnicity_codes), labels = names(ethnicity_codes)),\n",
    "         ethnicity_group   = factor(sub(\"([0-9])00[0-9]\", \"\\\\1\", ethnicity), levels = unlist(ethnicity_codes), labels = names(ethnicity_codes)),\n",
    "         genetic_sex       = factor(genetic_sex, levels = 0:1, labels = c(\"female\", \"male\")),\n",
    "         genetic_ethnicity = factor(genetic_ethnicity, levels = 1, labels = c(\"caucasian\")), \n",
    "         pc1               = pc1,\n",
    "         pc2               = pc2,\n",
    "         pc3               = pc3,\n",
    "         pc4               = pc4,\n",
    "         pc5               = pc5)]"
   ]
  },
  {
   "cell_type": "markdown",
   "id": "bd2e43ef-4628-4dbb-b517-f75e15829596",
   "metadata": {},
   "source": [
    "### Self-report illness codes to long"
   ]
  },
  {
   "cell_type": "code",
   "execution_count": null,
   "id": "05591e70-6e38-4474-b860-60465100a180",
   "metadata": {
    "tags": []
   },
   "outputs": [],
   "source": [
    "self_rep_code_cols <- grep(\"self_rep_ill_[0-9]+\",      names(data$participant), value = TRUE)\n",
    "self_rep_year_cols <- grep(\"self_rep_ill_year_[0-9]+\", names(data$participant), value = TRUE)\n",
    "data$participant[, (self_rep_code_cols) := lapply(.SD, as.character), .SDcols = self_rep_code_cols]\n",
    "data$participant[, (self_rep_year_cols) := lapply(.SD, as.numeric),   .SDcols = self_rep_year_cols]\n",
    "data$self_illness <- data.table::melt(data$participant,\n",
    "                                      id.vars = \"eid\",\n",
    "                                      measure = patterns(\"self_rep_ill_[0-9]+\", \"self_rep_ill_year_[0-9]+\"),\n",
    "                                      variable.name = \"element\",\n",
    "                                      value.name = c(\"code\", \"year\"),\n",
    "                                      na.rm = TRUE)\n",
    "data$self_illness <- data$self_illness[year != -1 & year != -3] # unknown / prefer not to answer\n",
    "data$self_illness[, `:=`(date      = lubridate::ymd(paste0(as.character(floor(year)), \"-01-01\")) + lubridate::days(as.integer(365.25 * (year - floor(year)))),\n",
    "                         year      = NULL,\n",
    "                         element   = NULL,\n",
    "                         code      = as.character(code),\n",
    "                         code_type = \"ukbb_self_reported_illness\")]\n",
    "\n",
    "# check self report illness table\n",
    "stopifnot(\"unable to parse dates for self-reported illness codes\" = all(!is.na(data$self_illness$date)))\n",
    "stopifnot(\"are you sure something happened before 1900?\" = all(data$self_illness$date > as.Date(\"1900-01-01\")))"
   ]
  },
  {
   "cell_type": "markdown",
   "id": "c635c0db-6817-4284-96a0-7f85763ca25b",
   "metadata": {},
   "source": [
    "### Self-report procedure codes to long"
   ]
  },
  {
   "cell_type": "code",
   "execution_count": null,
   "id": "5ce3cea8-7d90-4196-9a5a-5a814a2ac9e8",
   "metadata": {
    "tags": []
   },
   "outputs": [],
   "source": [
    "self_rep_proc_code_cols <- grep(\"self_rep_proc_[0-9]+\",      names(data$participant), value = TRUE)\n",
    "self_rep_proc_year_cols <- grep(\"self_rep_proc_year_[0-9]+\", names(data$participant), value = TRUE)\n",
    "data$participant[, (self_rep_proc_code_cols) := lapply(.SD, as.character), .SDcols = self_rep_proc_code_cols]\n",
    "data$participant[, (self_rep_proc_year_cols) := lapply(.SD, as.numeric),   .SDcols = self_rep_proc_year_cols]\n",
    "data$self_oper <- data.table::melt(data$participant,\n",
    "                                   id.vars = \"eid\",\n",
    "                                   measure = patterns(\"self_rep_proc_[0-9]+\", \"self_rep_proc_year_[0-9]+\"),\n",
    "                                   variable.name = \"element\",\n",
    "                                   value.name = c(\"code\", \"year\"),\n",
    "                                   na.rm = TRUE)\n",
    "data$self_oper <- data$self_oper[year != -1 & year != -3] # unknown / prefer not to answer\n",
    "data$self_oper[, `:=`(date      = lubridate::ymd(paste0(as.character(floor(year)), \"-01-01\")) + lubridate::days(as.integer(365.25 * (year - floor(year)))),\n",
    "                      year      = NULL,\n",
    "                      element   = NULL,\n",
    "                      code      = as.character(code),\n",
    "                      code_type = \"ukbb_self_reported_procedure\")]\n",
    "\n",
    "# check self report illness table\n",
    "stopifnot(\"unable to parse dates for self-reported procedure codes\" = all(!is.na(data$self_oper$date)))\n",
    "stopifnot(\"are you sure something happened before 1900?\" = all(data$self_oper$date > as.Date(\"1900-01-01\")))"
   ]
  },
  {
   "cell_type": "markdown",
   "id": "61f3db7e-224a-40cf-a29c-162cd645976b",
   "metadata": {},
   "source": [
    "### Inpatient diagnosis codes"
   ]
  },
  {
   "cell_type": "code",
   "execution_count": null,
   "id": "8a63f2b4-59ae-4e80-b2dc-6b984d9575d2",
   "metadata": {
    "tags": []
   },
   "outputs": [],
   "source": [
    "data$hesin[is.na(epistart) | epistart == \"\", epistart := admidate]\n",
    "data$hes_diag[data$hesin, date := as.Date(i.epistart), on = c(\"eid\", \"ins_index\")]\n",
    "data$hes_diag[diag_icd9 == \"\", diag_icd9 := NA_character_]\n",
    "data$hes_diag[diag_icd10 == \"\", diag_icd10 := NA_character_]\n",
    "data$hes_diag <- data.table::melt(data$hes_diag,\n",
    "                                  id.vars = c(\"eid\", \"date\"),\n",
    "                                  measure.vars  = c(\"diag_icd9\", \"diag_icd10\"),\n",
    "                                  variable.name = \"code_type\",\n",
    "                                  value.name = \"code\",\n",
    "                                  na.rm = TRUE)\n",
    "data$hes_diag[, code_type := data.table::fcase(code_type == \"diag_icd9\", \"icd9\",\n",
    "                                               code_type == \"diag_icd10\", \"icd10\")]"
   ]
  },
  {
   "cell_type": "markdown",
   "id": "52b4caf2-e20c-4388-bd89-49e05272f596",
   "metadata": {},
   "source": [
    "### Inpatient procedure codes"
   ]
  },
  {
   "cell_type": "code",
   "execution_count": null,
   "id": "7635964b-7bad-4e6e-8637-ea5a52f7533a",
   "metadata": {
    "tags": []
   },
   "outputs": [],
   "source": [
    "data$hes_oper[data$hesin, date := as.Date(i.epistart), on = c(\"eid\", \"ins_index\")]\n",
    "data$hes_oper[oper3 == \"\", oper3 := NA_character_]\n",
    "data$hes_oper[oper4 == \"\", oper4 := NA_character_]\n",
    "data$hes_oper <- data.table::melt(data$hes_oper,\n",
    "                                  id.vars = c(\"eid\", \"date\"),\n",
    "                                  measure.vars  = c(\"oper3\", \"oper4\"),\n",
    "                                  variable.name = \"code_type\",\n",
    "                                  value.name = \"code\",\n",
    "                                  na.rm = TRUE)\n",
    "data$hes_oper[, code_type := data.table::fcase(code_type == \"oper3\", \"opcs3\",\n",
    "                                               code_type == \"oper4\", \"opcs4\")]"
   ]
  },
  {
   "cell_type": "markdown",
   "id": "41be10ed-464e-48a6-bf7e-bd5318ffceb7",
   "metadata": {},
   "source": [
    "### Combine all codes\n",
    "Keep only unique codes per individuals at the code's first occurance."
   ]
  },
  {
   "cell_type": "code",
   "execution_count": null,
   "id": "9f09239b-4ecd-4908-a6ad-59f7b2d3126f",
   "metadata": {
    "tags": []
   },
   "outputs": [],
   "source": [
    "combined <- rbind(data$self_illness, data$self_oper, data$hes_diag, data$hes_oper)\n",
    "combined <- codes[combined, on = c(\"code\" = \"code\", \"code_type\" = \"code_type\"), allow.cartesian = TRUE]\n",
    "combined <- combined[!is.na(Concept)]\n",
    "combined <- combined[combined[, .I[which.min(date)], by = c(\"eid\", \"Concept\")]$V1]"
   ]
  },
  {
   "cell_type": "markdown",
   "id": "7fe9da7b-9ccb-423a-8fef-3718aecbba0e",
   "metadata": {},
   "source": [
    "### Annotate the cohort with the codes"
   ]
  },
  {
   "cell_type": "code",
   "execution_count": null,
   "id": "f8cf8bb0-6a5e-4cf2-94d5-5b7b9e553a54",
   "metadata": {
    "tags": []
   },
   "outputs": [],
   "source": [
    "cohort <- data$demog\n",
    "concepts <- unique(codes$Concept)\n",
    "for (g in concepts) {\n",
    "\n",
    "  col_name <- tolower(gsub(\" \", \"_\", gsub(\"[()]\",\"\",g)))\n",
    "  cohort[combined[Concept == g], paste0(col_name, c(\"\", \"_first_date\")) := list(TRUE, as.Date(i.date)), on = \"eid\"]\n",
    "  cohort[is.na(get(col_name)), (col_name) := FALSE]\n",
    "\n",
    "}"
   ]
  },
  {
   "cell_type": "markdown",
   "id": "054054a6-2b74-4d0b-8aeb-d72b57cfab35",
   "metadata": {},
   "source": [
    "### Remove withdrawals"
   ]
  },
  {
   "cell_type": "code",
   "execution_count": null,
   "id": "691efb87-8dc8-4fad-a1ec-f219a82317a9",
   "metadata": {
    "tags": []
   },
   "outputs": [],
   "source": [
    "cat(glue('{cohort[reason_lost_fu==5, .N]} withdrawals to remove'), sep=\"\\n\")\n",
    "cohort <- cohort[is.na(reason_lost_fu) | reason_lost_fu!=5] # 5 - Participant has withdrawn consent for future linkage"
   ]
  },
  {
   "cell_type": "markdown",
   "id": "7267ff1d-c847-4ad6-bb65-11f42cc28f2c",
   "metadata": {
    "tags": []
   },
   "source": [
    "## Run phenotyping"
   ]
  },
  {
   "cell_type": "code",
   "execution_count": null,
   "id": "2c39fec9-95ae-4cc1-acb3-73ca9e88a44a",
   "metadata": {
    "tags": []
   },
   "outputs": [],
   "source": [
    "# any ischaemic ICD codes\n",
    "ischaemic_cols <- c(\"myocardial_infarction\", \"coronary_artery_bypass_grafting\", \"percutaneous_coronary_intervention\", \"thrombolysis_coronary\", \"ischaemic_cardiomyopathy\")\n",
    "cohort[, ischaemic := rowSums(.SD) > 0, .SDcols = ischaemic_cols]\n",
    "cohort[, ischaemic_first_date := do.call(pmin, c(.SD, na.rm = TRUE)), .SDcols = paste0(ischaemic_cols, \"_first_date\")]\n",
    "\n",
    "# combined NICM ICD codes\n",
    "nicm_cols <- c(\"dilated_cardiomyopathy\", \"dilated_cardiomyopathy_associated_with\", \"left_ventricular_systolic_dysfunction\")\n",
    "cohort[, nicm_comb := rowSums(.SD) > 0, .SDcols = nicm_cols]\n",
    "cohort[, nicm_comb_first_date := do.call(pmin, c(.SD, na.rm = TRUE)), .SDcols = paste0(nicm_cols, \"_first_date\")]\n",
    "\n",
    "# any ischaemic self reported codes\n",
    "self_isch_cols <- c(\"myocardial_infarction_self_reported\", \"coronary_artery_bypass_grafting_self_reported\", \"percutaneous_coronary_intervention_self_reported\")\n",
    "cohort[, self_isch := rowSums(.SD) > 0, .SDcols = self_isch_cols]\n",
    "cohort[, self_isch_first_date := do.call(pmin, c(.SD, na.rm = TRUE)), .SDcols = paste0(self_isch_cols, \"_first_date\")]\n",
    "\n",
    "# any self reported HF codes\n",
    "self_hf_col = c(\"heart_failure_self_reported\")\n",
    "cohort[, self_hf := rowSums(.SD) > 0, .SDcols = self_hf_col]\n",
    "cohort[, self_hf_first_date := do.call(pmin, c(.SD, na.rm = TRUE)), .SDcols = paste0(self_hf_col, \"_first_date\")]\n",
    "\n",
    "# any self reported HCM codes\n",
    "self_hcm_col = c(\"hypertrophic_cardiomyopathy_self_reported\")\n",
    "cohort[, self_hcm := rowSums(.SD) > 0, .SDcols = self_hcm_col]\n",
    "cohort[, self_hcm_first_date := do.call(pmin, c(.SD, na.rm = TRUE)), .SDcols = paste0(self_hcm_col, \"_first_date\")]\n",
    "\n",
    "# HF exclusions\n",
    "cohort[, hf_exclude := congenital_heart_disease==TRUE |  # all congenital heart disease\n",
    "                       (heart_failure==FALSE & (self_hf==TRUE | ischaemic==TRUE | self_isch==TRUE)) | # non-HF but with ischaemic ICD history or self reported heart failure or ischaemic history\n",
    "                       (heart_failure==TRUE  & (ischaemic==TRUE & ischaemic_first_date > heart_failure_first_date))] # HF but with first ischaemic event after the HF diagnosis\n",
    "# pheno 1\n",
    "cohort[, pheno1 := congenital_heart_disease==FALSE & heart_failure==TRUE]\n",
    "\n",
    "# pheno 2\n",
    "cohort[, pheno2 := hf_exclude==FALSE & heart_failure==TRUE & ischaemic==TRUE]\n",
    "\n",
    "# pheno 3\n",
    "cohort[, pheno3 := hf_exclude==FALSE & heart_failure==TRUE & ischaemic==FALSE]\n",
    "\n",
    "# HF controls\n",
    "cohort[, hf_control := hf_exclude==FALSE & pheno1==FALSE & pheno2==FALSE & pheno3==FALSE]\n",
    "\n",
    "# DCM exclusions\n",
    "cohort[, cm_exclude := congenital_heart_disease==TRUE |  # all congenital heart disease\n",
    "                       hypertrophic_cardiomyopathy==TRUE | self_hcm==TRUE | # all HCM\n",
    "                       restrictive_cardiomyopathy==TRUE] # all RCM\n",
    "\n",
    "# pheno 4\n",
    "cohort[, pheno4 := cm_exclude==FALSE &\n",
    "                   !(dilated_cardiomyopathy==TRUE  & (ischaemic==TRUE & ischaemic_first_date <= dilated_cardiomyopathy_first_date)) & # DCM but with first ischaemic event prior to the DCM diagnosis\n",
    "                   dilated_cardiomyopathy==TRUE]\n",
    "\n",
    "# pheno 5\n",
    "cohort[, pheno5 := cm_exclude==FALSE &\n",
    "         !(nicm_comb==TRUE & (ischaemic==TRUE & ischaemic_first_date <= nicm_comb_first_date)) &  # NICM but with first ischaemic event prior to the NICM diagnosis\n",
    "         nicm_comb==TRUE]\n",
    "\n",
    "# CM controls\n",
    "cohort[, cm_control := cm_exclude==FALSE &\n",
    "                       pheno4==FALSE &\n",
    "                       pheno5==FALSE &\n",
    "                       ischaemic==FALSE &\n",
    "                       self_isch==FALSE]\n",
    "\n",
    "\n",
    "# check HF phenotyping\n",
    "base_cols <- c(\"eid\", \"age\", \"sex\", \"ethnicity\", \"ethnicity_group\",\"genetic_sex\", \"genetic_ethnicity\", paste0(\"pc\",1:5))\n",
    "sum_cols <- names(cohort)[!names(cohort) %in% base_cols\n",
    "                          &\n",
    "                          !grepl(\"date\", names(cohort))]\n",
    "summary <- data.table (name = c(\"total\", sum_cols), sex = \"all\", N = c(nrow(cohort), cohort[, .(sapply(.SD, sum)), .SDcols = sum_cols]$V1))\n",
    "summary <- rbind(summary,\n",
    "                 data.table(name = rep(sum_cols, 2), cohort[, .(N = sapply(.SD, sum)), .SDcols = sum_cols, by = \"sex\"]), fill=TRUE)\n",
    "summary\n",
    "\n",
    "# write summary\n",
    "fwrite(dcast(summary, name ~ sex, value.var = \"N\"),\n",
    "       file = \"hermes3_phenotype_summary.tsv\",\n",
    "       sep  = \"\\t\")\n",
    "\n",
    "cat(\"Total =\", summary[name==\"total\",N], \"; Sum (exc/crtl/1) = \", sum(summary[name%in%c(\"hf_exclude\",paste0(\"pheno1\"),\"hf_control\"), N]), \"\\n\")\n",
    "cat(\"Total =\", summary[name==\"total\",N], \"; Sum (exc/crtl/2/3) = \", sum(summary[name%in%c(\"hf_exclude\",paste0(\"pheno\",2:3),\"hf_control\"), N]), \"\\n\")\n",
    "cat(\"Total =\", summary[name==\"total\",N], \"; Sum (exc/crtl/5) = \", sum(summary[name%in%c(\"cm_exclude\",paste0(\"pheno5\"),\"cm_control\"), N]), \"\\n\")\n",
    "\n",
    "# write out\n",
    "fwrite(cohort[, mget(c(base_cols,\n",
    "                       paste0(\"pheno\", 1:3), \"hf_exclude\", \"hf_control\",\n",
    "                       paste0(\"pheno\", 4:5), \"cm_exclude\", \"cm_control\"))],\n",
    "       file = \"hermes3_phenotypes.tsv.gz\",\n",
    "       sep  = \"\\t\")"
   ]
  },
  {
   "cell_type": "markdown",
   "id": "275031d0-d497-417d-88be-0ef48438b7be",
   "metadata": {},
   "source": [
    "### Copy output to project"
   ]
  },
  {
   "cell_type": "code",
   "execution_count": null,
   "id": "c73e5bc2-a13f-4f78-bbea-4db854e4a014",
   "metadata": {
    "tags": []
   },
   "outputs": [],
   "source": [
    "o <- system(\"dx upload hermes3_phenotype_summary.tsv hermes3_phenotypes.tsv.gz --destination hermes3_data\", intern = TRUE)\n",
    "cat(o, sep = \"\\n\")"
   ]
  },
  {
   "cell_type": "markdown",
   "id": "44c8a306-cd5d-4a19-a206-3f5a763e19a7",
   "metadata": {
    "tags": []
   },
   "source": [
    "# End"
   ]
  }
 ],
 "metadata": {
  "kernelspec": {
   "display_name": "R",
   "language": "R",
   "name": "ir"
  },
  "language_info": {
   "codemirror_mode": "r",
   "file_extension": ".r",
   "mimetype": "text/x-r-source",
   "name": "R",
   "pygments_lexer": "r",
   "version": "4.4.0"
  }
 },
 "nbformat": 4,
 "nbformat_minor": 5
}
