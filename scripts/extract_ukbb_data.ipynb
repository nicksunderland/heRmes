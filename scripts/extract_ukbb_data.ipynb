{
 "cells": [
  {
   "cell_type": "markdown",
   "id": "253614e0-ef79-4cff-abeb-9c7cec202dfe",
   "metadata": {},
   "source": [
    "## HERMES - furosemide phenotype"
   ]
  },
  {
   "cell_type": "markdown",
   "id": "1a2c0ff6-0886-449e-af31-3044b98588bf",
   "metadata": {},
   "source": [
    "#### Clone HeRmes repository"
   ]
  },
  {
   "cell_type": "code",
   "execution_count": null,
   "id": "fce7e00b-cb51-40d1-977d-16026831d2f0",
   "metadata": {
    "tags": []
   },
   "outputs": [],
   "source": [
    "#system(\"git clone https://github.com/nicksunderland/heRmes.git\")"
   ]
  },
  {
   "cell_type": "markdown",
   "id": "8a01c3b1-910b-405d-aa4a-8fdb18dda816",
   "metadata": {},
   "source": [
    "#### Pushing changes to Github"
   ]
  },
  {
   "cell_type": "code",
   "execution_count": null,
   "id": "4fa66f5d-c128-45fb-88f4-255436e20299",
   "metadata": {
    "tags": []
   },
   "outputs": [],
   "source": [
    "# in ther terminal run\n",
    "# cd /opt/notebooks\n",
    "# dx download git_push.sh\n",
    "# run bash git_push.sh "
   ]
  },
  {
   "cell_type": "markdown",
   "id": "221c70a8-b701-4482-a6d1-a2c00f877a5d",
   "metadata": {},
   "source": [
    "#### Project & record ID"
   ]
  },
  {
   "cell_type": "code",
   "execution_count": 1,
   "id": "a5958289-b652-4c12-8a11-0f4683a6da8f",
   "metadata": {
    "tags": []
   },
   "outputs": [],
   "source": [
    "projectid <- \"project-GvZyZ20J81vgPJGbJy8pgpyq\"\n",
    "recordid  <- \"record-Gvb0Bg0Jfxfv0q8Fb2pXqKjg\""
   ]
  },
  {
   "cell_type": "markdown",
   "id": "092c42b4-2cee-4b1c-93f2-b51b73e697fa",
   "metadata": {
    "tags": []
   },
   "source": [
    "#### Libraries"
   ]
  },
  {
   "cell_type": "code",
   "execution_count": 17,
   "id": "faddfa1e-4e3b-415d-bf27-b52c4334df49",
   "metadata": {
    "tags": []
   },
   "outputs": [],
   "source": [
    "library(glue)\n",
    "library(data.table)\n",
    "library(yaml)\n",
    "source(\"/opt/notebooks/heRmes/R/ukbb_extraction_utils.R\")"
   ]
  },
  {
   "cell_type": "markdown",
   "id": "e519ed12-f0ed-4ca8-b16d-27eb53a787be",
   "metadata": {},
   "source": [
    "## Extract data"
   ]
  },
  {
   "cell_type": "markdown",
   "id": "82469460-c77b-45e2-a07e-59e21906c8ae",
   "metadata": {},
   "source": [
    "#### Download data dictionary"
   ]
  },
  {
   "cell_type": "code",
   "execution_count": 13,
   "id": "1f59a396-ecfd-499d-8fd2-12c5d863e8cf",
   "metadata": {
    "tags": []
   },
   "outputs": [],
   "source": [
    "setwd(\"/opt/notebooks\")\n",
    "dataset <- glue(\"{projectid}:{recordid}\")\n",
    "cmd <- glue(\"dx extract_dataset {dataset} -ddd\")\n",
    "system(cmd)\n",
    "dict_files <- list.files(pattern=\"codings|data_dictionary|entity_dictionary\")\n",
    "data_dict_file <- dict_files[grepl(\"data_dictionary\", dict_files)]"
   ]
  },
  {
   "cell_type": "markdown",
   "id": "ce1455d7-7c73-4ec6-8dad-f60bcdb593c4",
   "metadata": {},
   "source": [
    "#### Read the extraction config file"
   ]
  },
  {
   "cell_type": "code",
   "execution_count": 20,
   "id": "98e3732a-60a8-476b-bb37-6a85fd020ba6",
   "metadata": {
    "tags": []
   },
   "outputs": [
    {
     "data": {
      "text/html": [
       "<dl>\n",
       "\t<dt>$participant</dt>\n",
       "\t\t<dd><table class=\"dataframe\">\n",
       "<caption>A data.table: 3 × 17</caption>\n",
       "<thead>\n",
       "\t<tr><th scope=col>item</th><th scope=col>entity</th><th scope=col>name</th><th scope=col>type</th><th scope=col>primary_key_type</th><th scope=col>coding_name</th><th scope=col>concept</th><th scope=col>description</th><th scope=col>folder_path</th><th scope=col>is_multi_select</th><th scope=col>is_sparse_coding</th><th scope=col>linkout</th><th scope=col>longitudinal_axis_type</th><th scope=col>referenced_entity_field</th><th scope=col>relationship</th><th scope=col>title</th><th scope=col>units</th></tr>\n",
       "\t<tr><th scope=col>&lt;chr&gt;</th><th scope=col>&lt;chr&gt;</th><th scope=col>&lt;chr&gt;</th><th scope=col>&lt;chr&gt;</th><th scope=col>&lt;chr&gt;</th><th scope=col>&lt;chr&gt;</th><th scope=col>&lt;lgl&gt;</th><th scope=col>&lt;lgl&gt;</th><th scope=col>&lt;chr&gt;</th><th scope=col>&lt;chr&gt;</th><th scope=col>&lt;chr&gt;</th><th scope=col>&lt;chr&gt;</th><th scope=col>&lt;lgl&gt;</th><th scope=col>&lt;chr&gt;</th><th scope=col>&lt;chr&gt;</th><th scope=col>&lt;chr&gt;</th><th scope=col>&lt;chr&gt;</th></tr>\n",
       "</thead>\n",
       "<tbody>\n",
       "\t<tr><td>eid           </td><td>participant</td><td>eid </td><td>string </td><td>global</td><td>                </td><td>NA</td><td>NA</td><td>Participant Information                              </td><td></td><td></td><td>                                                     </td><td>NA</td><td></td><td></td><td>Participant ID          </td><td></td></tr>\n",
       "\t<tr><td>reason_lost_fu</td><td>participant</td><td>p190</td><td>integer</td><td><span style=white-space:pre-wrap>      </span></td><td>data_coding_1965</td><td>NA</td><td>NA</td><td>Population characteristics &gt; Ongoing characteristics </td><td></td><td></td><td>http://biobank.ctsu.ox.ac.uk/crystal/field.cgi?id=190</td><td>NA</td><td></td><td></td><td>Reason lost to follow-up</td><td></td></tr>\n",
       "\t<tr><td><span style=white-space:pre-wrap>sex           </span></td><td>participant</td><td>p31 </td><td>integer</td><td><span style=white-space:pre-wrap>      </span></td><td><span style=white-space:pre-wrap>data_coding_9   </span></td><td>NA</td><td>NA</td><td>Population characteristics &gt; Baseline characteristics</td><td></td><td></td><td>http://biobank.ctsu.ox.ac.uk/crystal/field.cgi?id=31 </td><td>NA</td><td></td><td></td><td><span style=white-space:pre-wrap>Sex                     </span></td><td></td></tr>\n",
       "</tbody>\n",
       "</table>\n",
       "</dd>\n",
       "\t<dt>$hesin</dt>\n",
       "\t\t<dd><table class=\"dataframe\">\n",
       "<caption>A data.table: 3 × 17</caption>\n",
       "<thead>\n",
       "\t<tr><th scope=col>item</th><th scope=col>entity</th><th scope=col>name</th><th scope=col>type</th><th scope=col>primary_key_type</th><th scope=col>coding_name</th><th scope=col>concept</th><th scope=col>description</th><th scope=col>folder_path</th><th scope=col>is_multi_select</th><th scope=col>is_sparse_coding</th><th scope=col>linkout</th><th scope=col>longitudinal_axis_type</th><th scope=col>referenced_entity_field</th><th scope=col>relationship</th><th scope=col>title</th><th scope=col>units</th></tr>\n",
       "\t<tr><th scope=col>&lt;chr&gt;</th><th scope=col>&lt;chr&gt;</th><th scope=col>&lt;chr&gt;</th><th scope=col>&lt;chr&gt;</th><th scope=col>&lt;chr&gt;</th><th scope=col>&lt;chr&gt;</th><th scope=col>&lt;lgl&gt;</th><th scope=col>&lt;lgl&gt;</th><th scope=col>&lt;chr&gt;</th><th scope=col>&lt;chr&gt;</th><th scope=col>&lt;chr&gt;</th><th scope=col>&lt;chr&gt;</th><th scope=col>&lt;lgl&gt;</th><th scope=col>&lt;chr&gt;</th><th scope=col>&lt;chr&gt;</th><th scope=col>&lt;chr&gt;</th><th scope=col>&lt;chr&gt;</th></tr>\n",
       "</thead>\n",
       "<tbody>\n",
       "\t<tr><td>eid      </td><td>hesin</td><td>eid      </td><td>string </td><td></td><td></td><td>NA</td><td>NA</td><td></td><td></td><td></td><td></td><td>NA</td><td>participant:eid</td><td>many_to_one</td><td>Participant ID    </td><td></td></tr>\n",
       "\t<tr><td>ins_index</td><td>hesin</td><td>ins_index</td><td>integer</td><td></td><td></td><td>NA</td><td>NA</td><td></td><td></td><td></td><td></td><td>NA</td><td>               </td><td>           </td><td>Instance index    </td><td></td></tr>\n",
       "\t<tr><td>epistart </td><td>hesin</td><td>epistart </td><td>date   </td><td></td><td></td><td>NA</td><td>NA</td><td></td><td></td><td></td><td></td><td>NA</td><td>               </td><td>           </td><td>Episode start date</td><td></td></tr>\n",
       "</tbody>\n",
       "</table>\n",
       "</dd>\n",
       "\t<dt>$hes_diag</dt>\n",
       "\t\t<dd><table class=\"dataframe\">\n",
       "<caption>A data.table: 3 × 17</caption>\n",
       "<thead>\n",
       "\t<tr><th scope=col>item</th><th scope=col>entity</th><th scope=col>name</th><th scope=col>type</th><th scope=col>primary_key_type</th><th scope=col>coding_name</th><th scope=col>concept</th><th scope=col>description</th><th scope=col>folder_path</th><th scope=col>is_multi_select</th><th scope=col>is_sparse_coding</th><th scope=col>linkout</th><th scope=col>longitudinal_axis_type</th><th scope=col>referenced_entity_field</th><th scope=col>relationship</th><th scope=col>title</th><th scope=col>units</th></tr>\n",
       "\t<tr><th scope=col>&lt;chr&gt;</th><th scope=col>&lt;chr&gt;</th><th scope=col>&lt;chr&gt;</th><th scope=col>&lt;chr&gt;</th><th scope=col>&lt;chr&gt;</th><th scope=col>&lt;chr&gt;</th><th scope=col>&lt;lgl&gt;</th><th scope=col>&lt;lgl&gt;</th><th scope=col>&lt;chr&gt;</th><th scope=col>&lt;chr&gt;</th><th scope=col>&lt;chr&gt;</th><th scope=col>&lt;chr&gt;</th><th scope=col>&lt;lgl&gt;</th><th scope=col>&lt;chr&gt;</th><th scope=col>&lt;chr&gt;</th><th scope=col>&lt;chr&gt;</th><th scope=col>&lt;chr&gt;</th></tr>\n",
       "</thead>\n",
       "<tbody>\n",
       "\t<tr><td>eid      </td><td>hesin_diag</td><td>eid      </td><td>string </td><td></td><td>              </td><td>NA</td><td>NA</td><td></td><td></td><td></td><td></td><td>NA</td><td></td><td></td><td>Participant ID  </td><td></td></tr>\n",
       "\t<tr><td>ins_index</td><td>hesin_diag</td><td>ins_index</td><td>integer</td><td></td><td>              </td><td>NA</td><td>NA</td><td></td><td></td><td></td><td></td><td>NA</td><td></td><td></td><td>Instance index  </td><td></td></tr>\n",
       "\t<tr><td>diag_icd9</td><td>hesin_diag</td><td>diag_icd9</td><td>string </td><td></td><td>data_coding_87</td><td>NA</td><td>NA</td><td></td><td></td><td></td><td></td><td>NA</td><td></td><td></td><td>Diagnoses - ICD9</td><td></td></tr>\n",
       "</tbody>\n",
       "</table>\n",
       "</dd>\n",
       "\t<dt>$hesin_oper</dt>\n",
       "\t\t<dd><table class=\"dataframe\">\n",
       "<caption>A data.table: 3 × 17</caption>\n",
       "<thead>\n",
       "\t<tr><th scope=col>item</th><th scope=col>entity</th><th scope=col>name</th><th scope=col>type</th><th scope=col>primary_key_type</th><th scope=col>coding_name</th><th scope=col>concept</th><th scope=col>description</th><th scope=col>folder_path</th><th scope=col>is_multi_select</th><th scope=col>is_sparse_coding</th><th scope=col>linkout</th><th scope=col>longitudinal_axis_type</th><th scope=col>referenced_entity_field</th><th scope=col>relationship</th><th scope=col>title</th><th scope=col>units</th></tr>\n",
       "\t<tr><th scope=col>&lt;chr&gt;</th><th scope=col>&lt;chr&gt;</th><th scope=col>&lt;chr&gt;</th><th scope=col>&lt;chr&gt;</th><th scope=col>&lt;chr&gt;</th><th scope=col>&lt;chr&gt;</th><th scope=col>&lt;lgl&gt;</th><th scope=col>&lt;lgl&gt;</th><th scope=col>&lt;chr&gt;</th><th scope=col>&lt;chr&gt;</th><th scope=col>&lt;chr&gt;</th><th scope=col>&lt;chr&gt;</th><th scope=col>&lt;lgl&gt;</th><th scope=col>&lt;chr&gt;</th><th scope=col>&lt;chr&gt;</th><th scope=col>&lt;chr&gt;</th><th scope=col>&lt;chr&gt;</th></tr>\n",
       "</thead>\n",
       "<tbody>\n",
       "\t<tr><td>eid      </td><td>hesin_oper</td><td>eid      </td><td>string </td><td></td><td>               </td><td>NA</td><td>NA</td><td></td><td></td><td></td><td></td><td>NA</td><td></td><td></td><td>Participant ID              </td><td></td></tr>\n",
       "\t<tr><td>ins_index</td><td>hesin_oper</td><td>ins_index</td><td>integer</td><td></td><td>               </td><td>NA</td><td>NA</td><td></td><td></td><td></td><td></td><td>NA</td><td></td><td></td><td>Instance index              </td><td></td></tr>\n",
       "\t<tr><td>oper3    </td><td>hesin_oper</td><td>oper3    </td><td>string </td><td></td><td>data_coding_259</td><td>NA</td><td>NA</td><td></td><td></td><td></td><td></td><td>NA</td><td></td><td></td><td>Operative procedures - OPCS3</td><td></td></tr>\n",
       "</tbody>\n",
       "</table>\n",
       "</dd>\n",
       "\t<dt>$gp_clinical</dt>\n",
       "\t\t<dd><table class=\"dataframe\">\n",
       "<caption>A data.table: 3 × 17</caption>\n",
       "<thead>\n",
       "\t<tr><th scope=col>item</th><th scope=col>entity</th><th scope=col>name</th><th scope=col>type</th><th scope=col>primary_key_type</th><th scope=col>coding_name</th><th scope=col>concept</th><th scope=col>description</th><th scope=col>folder_path</th><th scope=col>is_multi_select</th><th scope=col>is_sparse_coding</th><th scope=col>linkout</th><th scope=col>longitudinal_axis_type</th><th scope=col>referenced_entity_field</th><th scope=col>relationship</th><th scope=col>title</th><th scope=col>units</th></tr>\n",
       "\t<tr><th scope=col>&lt;chr&gt;</th><th scope=col>&lt;chr&gt;</th><th scope=col>&lt;chr&gt;</th><th scope=col>&lt;chr&gt;</th><th scope=col>&lt;chr&gt;</th><th scope=col>&lt;chr&gt;</th><th scope=col>&lt;lgl&gt;</th><th scope=col>&lt;lgl&gt;</th><th scope=col>&lt;chr&gt;</th><th scope=col>&lt;chr&gt;</th><th scope=col>&lt;chr&gt;</th><th scope=col>&lt;chr&gt;</th><th scope=col>&lt;lgl&gt;</th><th scope=col>&lt;chr&gt;</th><th scope=col>&lt;chr&gt;</th><th scope=col>&lt;chr&gt;</th><th scope=col>&lt;chr&gt;</th></tr>\n",
       "</thead>\n",
       "<tbody>\n",
       "\t<tr><td>eid          </td><td>gp_clinical</td><td>eid          </td><td>string</td><td></td><td>               </td><td>NA</td><td>NA</td><td></td><td></td><td>   </td><td></td><td>NA</td><td>participant:eid</td><td>many_to_one</td><td>Participant ID                </td><td></td></tr>\n",
       "\t<tr><td>data_provider</td><td>gp_clinical</td><td>data_provider</td><td>string</td><td></td><td>data_coding_626</td><td>NA</td><td>NA</td><td></td><td></td><td>   </td><td></td><td>NA</td><td>               </td><td>           </td><td>Data provider                 </td><td></td></tr>\n",
       "\t<tr><td>date         </td><td>gp_clinical</td><td>event_dt     </td><td>date  </td><td></td><td>data_coding_819</td><td>NA</td><td>NA</td><td></td><td></td><td>yes</td><td></td><td>NA</td><td>               </td><td>           </td><td>Date clinical code was entered</td><td></td></tr>\n",
       "</tbody>\n",
       "</table>\n",
       "</dd>\n",
       "\t<dt>$gp_scripts</dt>\n",
       "\t\t<dd><table class=\"dataframe\">\n",
       "<caption>A data.table: 3 × 17</caption>\n",
       "<thead>\n",
       "\t<tr><th scope=col>item</th><th scope=col>entity</th><th scope=col>name</th><th scope=col>type</th><th scope=col>primary_key_type</th><th scope=col>coding_name</th><th scope=col>concept</th><th scope=col>description</th><th scope=col>folder_path</th><th scope=col>is_multi_select</th><th scope=col>is_sparse_coding</th><th scope=col>linkout</th><th scope=col>longitudinal_axis_type</th><th scope=col>referenced_entity_field</th><th scope=col>relationship</th><th scope=col>title</th><th scope=col>units</th></tr>\n",
       "\t<tr><th scope=col>&lt;chr&gt;</th><th scope=col>&lt;chr&gt;</th><th scope=col>&lt;chr&gt;</th><th scope=col>&lt;chr&gt;</th><th scope=col>&lt;chr&gt;</th><th scope=col>&lt;chr&gt;</th><th scope=col>&lt;lgl&gt;</th><th scope=col>&lt;lgl&gt;</th><th scope=col>&lt;chr&gt;</th><th scope=col>&lt;chr&gt;</th><th scope=col>&lt;chr&gt;</th><th scope=col>&lt;chr&gt;</th><th scope=col>&lt;lgl&gt;</th><th scope=col>&lt;chr&gt;</th><th scope=col>&lt;chr&gt;</th><th scope=col>&lt;chr&gt;</th><th scope=col>&lt;chr&gt;</th></tr>\n",
       "</thead>\n",
       "<tbody>\n",
       "\t<tr><td>eid          </td><td>gp_scripts</td><td>eid          </td><td>string</td><td></td><td>               </td><td>NA</td><td>NA</td><td></td><td></td><td>   </td><td></td><td>NA</td><td>participant:eid</td><td>many_to_one</td><td>Participant ID              </td><td></td></tr>\n",
       "\t<tr><td>data_provider</td><td>gp_scripts</td><td>data_provider</td><td>string</td><td></td><td>data_coding_626</td><td>NA</td><td>NA</td><td></td><td></td><td>   </td><td></td><td>NA</td><td>               </td><td>           </td><td>Data provider               </td><td></td></tr>\n",
       "\t<tr><td>date         </td><td>gp_scripts</td><td>issue_date   </td><td>date  </td><td></td><td>data_coding_819</td><td>NA</td><td>NA</td><td></td><td></td><td>yes</td><td></td><td>NA</td><td>               </td><td>           </td><td>Date prescription was issued</td><td></td></tr>\n",
       "</tbody>\n",
       "</table>\n",
       "</dd>\n",
       "\t<dt>$olink_instance_0</dt>\n",
       "\t\t<dd><table class=\"dataframe\">\n",
       "<caption>A data.table: 3 × 17</caption>\n",
       "<thead>\n",
       "\t<tr><th scope=col>item</th><th scope=col>entity</th><th scope=col>name</th><th scope=col>type</th><th scope=col>primary_key_type</th><th scope=col>coding_name</th><th scope=col>concept</th><th scope=col>description</th><th scope=col>folder_path</th><th scope=col>is_multi_select</th><th scope=col>is_sparse_coding</th><th scope=col>linkout</th><th scope=col>longitudinal_axis_type</th><th scope=col>referenced_entity_field</th><th scope=col>relationship</th><th scope=col>title</th><th scope=col>units</th></tr>\n",
       "\t<tr><th scope=col>&lt;chr&gt;</th><th scope=col>&lt;chr&gt;</th><th scope=col>&lt;chr&gt;</th><th scope=col>&lt;chr&gt;</th><th scope=col>&lt;chr&gt;</th><th scope=col>&lt;chr&gt;</th><th scope=col>&lt;lgl&gt;</th><th scope=col>&lt;lgl&gt;</th><th scope=col>&lt;chr&gt;</th><th scope=col>&lt;chr&gt;</th><th scope=col>&lt;chr&gt;</th><th scope=col>&lt;chr&gt;</th><th scope=col>&lt;lgl&gt;</th><th scope=col>&lt;chr&gt;</th><th scope=col>&lt;chr&gt;</th><th scope=col>&lt;chr&gt;</th><th scope=col>&lt;chr&gt;</th></tr>\n",
       "</thead>\n",
       "<tbody>\n",
       "\t<tr><td>eid     </td><td>olink_instance_0</td><td>eid     </td><td>string</td><td>local</td><td></td><td>NA</td><td>NA</td><td></td><td></td><td></td><td></td><td>NA</td><td>participant:eid</td><td>one_to_one</td><td>Participant ID                                             </td><td></td></tr>\n",
       "\t<tr><td>ntprobnp</td><td>olink_instance_0</td><td>ntprobnp</td><td>float </td><td>     </td><td></td><td>NA</td><td>NA</td><td></td><td></td><td></td><td></td><td>NA</td><td>               </td><td>          </td><td>NTproBNP;N-terminal prohormone of brain natriuretic peptide</td><td></td></tr>\n",
       "\t<tr><td>glp1r   </td><td>olink_instance_0</td><td>glp1r   </td><td>float </td><td>     </td><td></td><td>NA</td><td>NA</td><td></td><td></td><td></td><td></td><td>NA</td><td>               </td><td>          </td><td>GLP1R;Glucagon-like peptide 1 receptor                     </td><td></td></tr>\n",
       "</tbody>\n",
       "</table>\n",
       "</dd>\n",
       "\t<dt>$olink_instance_2</dt>\n",
       "\t\t<dd><table class=\"dataframe\">\n",
       "<caption>A data.table: 2 × 17</caption>\n",
       "<thead>\n",
       "\t<tr><th scope=col>item</th><th scope=col>entity</th><th scope=col>name</th><th scope=col>type</th><th scope=col>primary_key_type</th><th scope=col>coding_name</th><th scope=col>concept</th><th scope=col>description</th><th scope=col>folder_path</th><th scope=col>is_multi_select</th><th scope=col>is_sparse_coding</th><th scope=col>linkout</th><th scope=col>longitudinal_axis_type</th><th scope=col>referenced_entity_field</th><th scope=col>relationship</th><th scope=col>title</th><th scope=col>units</th></tr>\n",
       "\t<tr><th scope=col>&lt;chr&gt;</th><th scope=col>&lt;chr&gt;</th><th scope=col>&lt;chr&gt;</th><th scope=col>&lt;chr&gt;</th><th scope=col>&lt;chr&gt;</th><th scope=col>&lt;chr&gt;</th><th scope=col>&lt;lgl&gt;</th><th scope=col>&lt;lgl&gt;</th><th scope=col>&lt;chr&gt;</th><th scope=col>&lt;chr&gt;</th><th scope=col>&lt;chr&gt;</th><th scope=col>&lt;chr&gt;</th><th scope=col>&lt;lgl&gt;</th><th scope=col>&lt;chr&gt;</th><th scope=col>&lt;chr&gt;</th><th scope=col>&lt;chr&gt;</th><th scope=col>&lt;chr&gt;</th></tr>\n",
       "</thead>\n",
       "<tbody>\n",
       "\t<tr><td>eid     </td><td>olink_instance_2</td><td>eid     </td><td>string</td><td>local</td><td></td><td>NA</td><td>NA</td><td></td><td></td><td></td><td></td><td>NA</td><td>participant:eid</td><td>one_to_one</td><td>Participant ID                                             </td><td></td></tr>\n",
       "\t<tr><td>ntprobnp</td><td>olink_instance_2</td><td>ntprobnp</td><td>float </td><td>     </td><td></td><td>NA</td><td>NA</td><td></td><td></td><td></td><td></td><td>NA</td><td>               </td><td>          </td><td>NTproBNP;N-terminal prohormone of brain natriuretic peptide</td><td></td></tr>\n",
       "</tbody>\n",
       "</table>\n",
       "</dd>\n",
       "\t<dt>$olink_instance_3</dt>\n",
       "\t\t<dd><table class=\"dataframe\">\n",
       "<caption>A data.table: 2 × 17</caption>\n",
       "<thead>\n",
       "\t<tr><th scope=col>item</th><th scope=col>entity</th><th scope=col>name</th><th scope=col>type</th><th scope=col>primary_key_type</th><th scope=col>coding_name</th><th scope=col>concept</th><th scope=col>description</th><th scope=col>folder_path</th><th scope=col>is_multi_select</th><th scope=col>is_sparse_coding</th><th scope=col>linkout</th><th scope=col>longitudinal_axis_type</th><th scope=col>referenced_entity_field</th><th scope=col>relationship</th><th scope=col>title</th><th scope=col>units</th></tr>\n",
       "\t<tr><th scope=col>&lt;chr&gt;</th><th scope=col>&lt;chr&gt;</th><th scope=col>&lt;chr&gt;</th><th scope=col>&lt;chr&gt;</th><th scope=col>&lt;chr&gt;</th><th scope=col>&lt;chr&gt;</th><th scope=col>&lt;lgl&gt;</th><th scope=col>&lt;lgl&gt;</th><th scope=col>&lt;chr&gt;</th><th scope=col>&lt;chr&gt;</th><th scope=col>&lt;chr&gt;</th><th scope=col>&lt;chr&gt;</th><th scope=col>&lt;lgl&gt;</th><th scope=col>&lt;chr&gt;</th><th scope=col>&lt;chr&gt;</th><th scope=col>&lt;chr&gt;</th><th scope=col>&lt;chr&gt;</th></tr>\n",
       "</thead>\n",
       "<tbody>\n",
       "\t<tr><td>eid     </td><td>olink_instance_3</td><td>eid     </td><td>string</td><td>local</td><td></td><td>NA</td><td>NA</td><td></td><td></td><td></td><td></td><td>NA</td><td>participant:eid</td><td>one_to_one</td><td>Participant ID                                             </td><td></td></tr>\n",
       "\t<tr><td>ntprobnp</td><td>olink_instance_3</td><td>ntprobnp</td><td>float </td><td>     </td><td></td><td>NA</td><td>NA</td><td></td><td></td><td></td><td></td><td>NA</td><td>               </td><td>          </td><td>NTproBNP;N-terminal prohormone of brain natriuretic peptide</td><td></td></tr>\n",
       "</tbody>\n",
       "</table>\n",
       "</dd>\n",
       "</dl>\n"
      ],
      "text/latex": [
       "\\begin{description}\n",
       "\\item[\\$participant] A data.table: 3 × 17\n",
       "\\begin{tabular}{lllllllllllllllll}\n",
       " item & entity & name & type & primary\\_key\\_type & coding\\_name & concept & description & folder\\_path & is\\_multi\\_select & is\\_sparse\\_coding & linkout & longitudinal\\_axis\\_type & referenced\\_entity\\_field & relationship & title & units\\\\\n",
       " <chr> & <chr> & <chr> & <chr> & <chr> & <chr> & <lgl> & <lgl> & <chr> & <chr> & <chr> & <chr> & <lgl> & <chr> & <chr> & <chr> & <chr>\\\\\n",
       "\\hline\n",
       "\t eid            & participant & eid  & string  & global &                  & NA & NA & Participant Information                               &  &  &                                                       & NA &  &  & Participant ID           & \\\\\n",
       "\t reason\\_lost\\_fu & participant & p190 & integer &        & data\\_coding\\_1965 & NA & NA & Population characteristics > Ongoing characteristics  &  &  & http://biobank.ctsu.ox.ac.uk/crystal/field.cgi?id=190 & NA &  &  & Reason lost to follow-up & \\\\\n",
       "\t sex            & participant & p31  & integer &        & data\\_coding\\_9    & NA & NA & Population characteristics > Baseline characteristics &  &  & http://biobank.ctsu.ox.ac.uk/crystal/field.cgi?id=31  & NA &  &  & Sex                      & \\\\\n",
       "\\end{tabular}\n",
       "\n",
       "\\item[\\$hesin] A data.table: 3 × 17\n",
       "\\begin{tabular}{lllllllllllllllll}\n",
       " item & entity & name & type & primary\\_key\\_type & coding\\_name & concept & description & folder\\_path & is\\_multi\\_select & is\\_sparse\\_coding & linkout & longitudinal\\_axis\\_type & referenced\\_entity\\_field & relationship & title & units\\\\\n",
       " <chr> & <chr> & <chr> & <chr> & <chr> & <chr> & <lgl> & <lgl> & <chr> & <chr> & <chr> & <chr> & <lgl> & <chr> & <chr> & <chr> & <chr>\\\\\n",
       "\\hline\n",
       "\t eid       & hesin & eid       & string  &  &  & NA & NA &  &  &  &  & NA & participant:eid & many\\_to\\_one & Participant ID     & \\\\\n",
       "\t ins\\_index & hesin & ins\\_index & integer &  &  & NA & NA &  &  &  &  & NA &                 &             & Instance index     & \\\\\n",
       "\t epistart  & hesin & epistart  & date    &  &  & NA & NA &  &  &  &  & NA &                 &             & Episode start date & \\\\\n",
       "\\end{tabular}\n",
       "\n",
       "\\item[\\$hes\\_diag] A data.table: 3 × 17\n",
       "\\begin{tabular}{lllllllllllllllll}\n",
       " item & entity & name & type & primary\\_key\\_type & coding\\_name & concept & description & folder\\_path & is\\_multi\\_select & is\\_sparse\\_coding & linkout & longitudinal\\_axis\\_type & referenced\\_entity\\_field & relationship & title & units\\\\\n",
       " <chr> & <chr> & <chr> & <chr> & <chr> & <chr> & <lgl> & <lgl> & <chr> & <chr> & <chr> & <chr> & <lgl> & <chr> & <chr> & <chr> & <chr>\\\\\n",
       "\\hline\n",
       "\t eid       & hesin\\_diag & eid       & string  &  &                & NA & NA &  &  &  &  & NA &  &  & Participant ID   & \\\\\n",
       "\t ins\\_index & hesin\\_diag & ins\\_index & integer &  &                & NA & NA &  &  &  &  & NA &  &  & Instance index   & \\\\\n",
       "\t diag\\_icd9 & hesin\\_diag & diag\\_icd9 & string  &  & data\\_coding\\_87 & NA & NA &  &  &  &  & NA &  &  & Diagnoses - ICD9 & \\\\\n",
       "\\end{tabular}\n",
       "\n",
       "\\item[\\$hesin\\_oper] A data.table: 3 × 17\n",
       "\\begin{tabular}{lllllllllllllllll}\n",
       " item & entity & name & type & primary\\_key\\_type & coding\\_name & concept & description & folder\\_path & is\\_multi\\_select & is\\_sparse\\_coding & linkout & longitudinal\\_axis\\_type & referenced\\_entity\\_field & relationship & title & units\\\\\n",
       " <chr> & <chr> & <chr> & <chr> & <chr> & <chr> & <lgl> & <lgl> & <chr> & <chr> & <chr> & <chr> & <lgl> & <chr> & <chr> & <chr> & <chr>\\\\\n",
       "\\hline\n",
       "\t eid       & hesin\\_oper & eid       & string  &  &                 & NA & NA &  &  &  &  & NA &  &  & Participant ID               & \\\\\n",
       "\t ins\\_index & hesin\\_oper & ins\\_index & integer &  &                 & NA & NA &  &  &  &  & NA &  &  & Instance index               & \\\\\n",
       "\t oper3     & hesin\\_oper & oper3     & string  &  & data\\_coding\\_259 & NA & NA &  &  &  &  & NA &  &  & Operative procedures - OPCS3 & \\\\\n",
       "\\end{tabular}\n",
       "\n",
       "\\item[\\$gp\\_clinical] A data.table: 3 × 17\n",
       "\\begin{tabular}{lllllllllllllllll}\n",
       " item & entity & name & type & primary\\_key\\_type & coding\\_name & concept & description & folder\\_path & is\\_multi\\_select & is\\_sparse\\_coding & linkout & longitudinal\\_axis\\_type & referenced\\_entity\\_field & relationship & title & units\\\\\n",
       " <chr> & <chr> & <chr> & <chr> & <chr> & <chr> & <lgl> & <lgl> & <chr> & <chr> & <chr> & <chr> & <lgl> & <chr> & <chr> & <chr> & <chr>\\\\\n",
       "\\hline\n",
       "\t eid           & gp\\_clinical & eid           & string &  &                 & NA & NA &  &  &     &  & NA & participant:eid & many\\_to\\_one & Participant ID                 & \\\\\n",
       "\t data\\_provider & gp\\_clinical & data\\_provider & string &  & data\\_coding\\_626 & NA & NA &  &  &     &  & NA &                 &             & Data provider                  & \\\\\n",
       "\t date          & gp\\_clinical & event\\_dt      & date   &  & data\\_coding\\_819 & NA & NA &  &  & yes &  & NA &                 &             & Date clinical code was entered & \\\\\n",
       "\\end{tabular}\n",
       "\n",
       "\\item[\\$gp\\_scripts] A data.table: 3 × 17\n",
       "\\begin{tabular}{lllllllllllllllll}\n",
       " item & entity & name & type & primary\\_key\\_type & coding\\_name & concept & description & folder\\_path & is\\_multi\\_select & is\\_sparse\\_coding & linkout & longitudinal\\_axis\\_type & referenced\\_entity\\_field & relationship & title & units\\\\\n",
       " <chr> & <chr> & <chr> & <chr> & <chr> & <chr> & <lgl> & <lgl> & <chr> & <chr> & <chr> & <chr> & <lgl> & <chr> & <chr> & <chr> & <chr>\\\\\n",
       "\\hline\n",
       "\t eid           & gp\\_scripts & eid           & string &  &                 & NA & NA &  &  &     &  & NA & participant:eid & many\\_to\\_one & Participant ID               & \\\\\n",
       "\t data\\_provider & gp\\_scripts & data\\_provider & string &  & data\\_coding\\_626 & NA & NA &  &  &     &  & NA &                 &             & Data provider                & \\\\\n",
       "\t date          & gp\\_scripts & issue\\_date    & date   &  & data\\_coding\\_819 & NA & NA &  &  & yes &  & NA &                 &             & Date prescription was issued & \\\\\n",
       "\\end{tabular}\n",
       "\n",
       "\\item[\\$olink\\_instance\\_0] A data.table: 3 × 17\n",
       "\\begin{tabular}{lllllllllllllllll}\n",
       " item & entity & name & type & primary\\_key\\_type & coding\\_name & concept & description & folder\\_path & is\\_multi\\_select & is\\_sparse\\_coding & linkout & longitudinal\\_axis\\_type & referenced\\_entity\\_field & relationship & title & units\\\\\n",
       " <chr> & <chr> & <chr> & <chr> & <chr> & <chr> & <lgl> & <lgl> & <chr> & <chr> & <chr> & <chr> & <lgl> & <chr> & <chr> & <chr> & <chr>\\\\\n",
       "\\hline\n",
       "\t eid      & olink\\_instance\\_0 & eid      & string & local &  & NA & NA &  &  &  &  & NA & participant:eid & one\\_to\\_one & Participant ID                                              & \\\\\n",
       "\t ntprobnp & olink\\_instance\\_0 & ntprobnp & float  &       &  & NA & NA &  &  &  &  & NA &                 &            & NTproBNP;N-terminal prohormone of brain natriuretic peptide & \\\\\n",
       "\t glp1r    & olink\\_instance\\_0 & glp1r    & float  &       &  & NA & NA &  &  &  &  & NA &                 &            & GLP1R;Glucagon-like peptide 1 receptor                      & \\\\\n",
       "\\end{tabular}\n",
       "\n",
       "\\item[\\$olink\\_instance\\_2] A data.table: 2 × 17\n",
       "\\begin{tabular}{lllllllllllllllll}\n",
       " item & entity & name & type & primary\\_key\\_type & coding\\_name & concept & description & folder\\_path & is\\_multi\\_select & is\\_sparse\\_coding & linkout & longitudinal\\_axis\\_type & referenced\\_entity\\_field & relationship & title & units\\\\\n",
       " <chr> & <chr> & <chr> & <chr> & <chr> & <chr> & <lgl> & <lgl> & <chr> & <chr> & <chr> & <chr> & <lgl> & <chr> & <chr> & <chr> & <chr>\\\\\n",
       "\\hline\n",
       "\t eid      & olink\\_instance\\_2 & eid      & string & local &  & NA & NA &  &  &  &  & NA & participant:eid & one\\_to\\_one & Participant ID                                              & \\\\\n",
       "\t ntprobnp & olink\\_instance\\_2 & ntprobnp & float  &       &  & NA & NA &  &  &  &  & NA &                 &            & NTproBNP;N-terminal prohormone of brain natriuretic peptide & \\\\\n",
       "\\end{tabular}\n",
       "\n",
       "\\item[\\$olink\\_instance\\_3] A data.table: 2 × 17\n",
       "\\begin{tabular}{lllllllllllllllll}\n",
       " item & entity & name & type & primary\\_key\\_type & coding\\_name & concept & description & folder\\_path & is\\_multi\\_select & is\\_sparse\\_coding & linkout & longitudinal\\_axis\\_type & referenced\\_entity\\_field & relationship & title & units\\\\\n",
       " <chr> & <chr> & <chr> & <chr> & <chr> & <chr> & <lgl> & <lgl> & <chr> & <chr> & <chr> & <chr> & <lgl> & <chr> & <chr> & <chr> & <chr>\\\\\n",
       "\\hline\n",
       "\t eid      & olink\\_instance\\_3 & eid      & string & local &  & NA & NA &  &  &  &  & NA & participant:eid & one\\_to\\_one & Participant ID                                              & \\\\\n",
       "\t ntprobnp & olink\\_instance\\_3 & ntprobnp & float  &       &  & NA & NA &  &  &  &  & NA &                 &            & NTproBNP;N-terminal prohormone of brain natriuretic peptide & \\\\\n",
       "\\end{tabular}\n",
       "\n",
       "\\end{description}\n"
      ],
      "text/markdown": [
       "$participant\n",
       ":   \n",
       "A data.table: 3 × 17\n",
       "\n",
       "| item &lt;chr&gt; | entity &lt;chr&gt; | name &lt;chr&gt; | type &lt;chr&gt; | primary_key_type &lt;chr&gt; | coding_name &lt;chr&gt; | concept &lt;lgl&gt; | description &lt;lgl&gt; | folder_path &lt;chr&gt; | is_multi_select &lt;chr&gt; | is_sparse_coding &lt;chr&gt; | linkout &lt;chr&gt; | longitudinal_axis_type &lt;lgl&gt; | referenced_entity_field &lt;chr&gt; | relationship &lt;chr&gt; | title &lt;chr&gt; | units &lt;chr&gt; |\n",
       "|---|---|---|---|---|---|---|---|---|---|---|---|---|---|---|---|---|\n",
       "| eid            | participant | eid  | string  | global | <!----> | NA | NA | Participant Information                               | <!----> | <!----> | <!----> | NA | <!----> | <!----> | Participant ID           | <!----> |\n",
       "| reason_lost_fu | participant | p190 | integer | <!----> | data_coding_1965 | NA | NA | Population characteristics &gt; Ongoing characteristics  | <!----> | <!----> | http://biobank.ctsu.ox.ac.uk/crystal/field.cgi?id=190 | NA | <!----> | <!----> | Reason lost to follow-up | <!----> |\n",
       "| sex            | participant | p31  | integer | <!----> | data_coding_9    | NA | NA | Population characteristics &gt; Baseline characteristics | <!----> | <!----> | http://biobank.ctsu.ox.ac.uk/crystal/field.cgi?id=31  | NA | <!----> | <!----> | Sex                      | <!----> |\n",
       "\n",
       "\n",
       "$hesin\n",
       ":   \n",
       "A data.table: 3 × 17\n",
       "\n",
       "| item &lt;chr&gt; | entity &lt;chr&gt; | name &lt;chr&gt; | type &lt;chr&gt; | primary_key_type &lt;chr&gt; | coding_name &lt;chr&gt; | concept &lt;lgl&gt; | description &lt;lgl&gt; | folder_path &lt;chr&gt; | is_multi_select &lt;chr&gt; | is_sparse_coding &lt;chr&gt; | linkout &lt;chr&gt; | longitudinal_axis_type &lt;lgl&gt; | referenced_entity_field &lt;chr&gt; | relationship &lt;chr&gt; | title &lt;chr&gt; | units &lt;chr&gt; |\n",
       "|---|---|---|---|---|---|---|---|---|---|---|---|---|---|---|---|---|\n",
       "| eid       | hesin | eid       | string  | <!----> | <!----> | NA | NA | <!----> | <!----> | <!----> | <!----> | NA | participant:eid | many_to_one | Participant ID     | <!----> |\n",
       "| ins_index | hesin | ins_index | integer | <!----> | <!----> | NA | NA | <!----> | <!----> | <!----> | <!----> | NA | <!----> | <!----> | Instance index     | <!----> |\n",
       "| epistart  | hesin | epistart  | date    | <!----> | <!----> | NA | NA | <!----> | <!----> | <!----> | <!----> | NA | <!----> | <!----> | Episode start date | <!----> |\n",
       "\n",
       "\n",
       "$hes_diag\n",
       ":   \n",
       "A data.table: 3 × 17\n",
       "\n",
       "| item &lt;chr&gt; | entity &lt;chr&gt; | name &lt;chr&gt; | type &lt;chr&gt; | primary_key_type &lt;chr&gt; | coding_name &lt;chr&gt; | concept &lt;lgl&gt; | description &lt;lgl&gt; | folder_path &lt;chr&gt; | is_multi_select &lt;chr&gt; | is_sparse_coding &lt;chr&gt; | linkout &lt;chr&gt; | longitudinal_axis_type &lt;lgl&gt; | referenced_entity_field &lt;chr&gt; | relationship &lt;chr&gt; | title &lt;chr&gt; | units &lt;chr&gt; |\n",
       "|---|---|---|---|---|---|---|---|---|---|---|---|---|---|---|---|---|\n",
       "| eid       | hesin_diag | eid       | string  | <!----> | <!----> | NA | NA | <!----> | <!----> | <!----> | <!----> | NA | <!----> | <!----> | Participant ID   | <!----> |\n",
       "| ins_index | hesin_diag | ins_index | integer | <!----> | <!----> | NA | NA | <!----> | <!----> | <!----> | <!----> | NA | <!----> | <!----> | Instance index   | <!----> |\n",
       "| diag_icd9 | hesin_diag | diag_icd9 | string  | <!----> | data_coding_87 | NA | NA | <!----> | <!----> | <!----> | <!----> | NA | <!----> | <!----> | Diagnoses - ICD9 | <!----> |\n",
       "\n",
       "\n",
       "$hesin_oper\n",
       ":   \n",
       "A data.table: 3 × 17\n",
       "\n",
       "| item &lt;chr&gt; | entity &lt;chr&gt; | name &lt;chr&gt; | type &lt;chr&gt; | primary_key_type &lt;chr&gt; | coding_name &lt;chr&gt; | concept &lt;lgl&gt; | description &lt;lgl&gt; | folder_path &lt;chr&gt; | is_multi_select &lt;chr&gt; | is_sparse_coding &lt;chr&gt; | linkout &lt;chr&gt; | longitudinal_axis_type &lt;lgl&gt; | referenced_entity_field &lt;chr&gt; | relationship &lt;chr&gt; | title &lt;chr&gt; | units &lt;chr&gt; |\n",
       "|---|---|---|---|---|---|---|---|---|---|---|---|---|---|---|---|---|\n",
       "| eid       | hesin_oper | eid       | string  | <!----> | <!----> | NA | NA | <!----> | <!----> | <!----> | <!----> | NA | <!----> | <!----> | Participant ID               | <!----> |\n",
       "| ins_index | hesin_oper | ins_index | integer | <!----> | <!----> | NA | NA | <!----> | <!----> | <!----> | <!----> | NA | <!----> | <!----> | Instance index               | <!----> |\n",
       "| oper3     | hesin_oper | oper3     | string  | <!----> | data_coding_259 | NA | NA | <!----> | <!----> | <!----> | <!----> | NA | <!----> | <!----> | Operative procedures - OPCS3 | <!----> |\n",
       "\n",
       "\n",
       "$gp_clinical\n",
       ":   \n",
       "A data.table: 3 × 17\n",
       "\n",
       "| item &lt;chr&gt; | entity &lt;chr&gt; | name &lt;chr&gt; | type &lt;chr&gt; | primary_key_type &lt;chr&gt; | coding_name &lt;chr&gt; | concept &lt;lgl&gt; | description &lt;lgl&gt; | folder_path &lt;chr&gt; | is_multi_select &lt;chr&gt; | is_sparse_coding &lt;chr&gt; | linkout &lt;chr&gt; | longitudinal_axis_type &lt;lgl&gt; | referenced_entity_field &lt;chr&gt; | relationship &lt;chr&gt; | title &lt;chr&gt; | units &lt;chr&gt; |\n",
       "|---|---|---|---|---|---|---|---|---|---|---|---|---|---|---|---|---|\n",
       "| eid           | gp_clinical | eid           | string | <!----> | <!----> | NA | NA | <!----> | <!----> | <!----> | <!----> | NA | participant:eid | many_to_one | Participant ID                 | <!----> |\n",
       "| data_provider | gp_clinical | data_provider | string | <!----> | data_coding_626 | NA | NA | <!----> | <!----> | <!----> | <!----> | NA | <!----> | <!----> | Data provider                  | <!----> |\n",
       "| date          | gp_clinical | event_dt      | date   | <!----> | data_coding_819 | NA | NA | <!----> | <!----> | yes | <!----> | NA | <!----> | <!----> | Date clinical code was entered | <!----> |\n",
       "\n",
       "\n",
       "$gp_scripts\n",
       ":   \n",
       "A data.table: 3 × 17\n",
       "\n",
       "| item &lt;chr&gt; | entity &lt;chr&gt; | name &lt;chr&gt; | type &lt;chr&gt; | primary_key_type &lt;chr&gt; | coding_name &lt;chr&gt; | concept &lt;lgl&gt; | description &lt;lgl&gt; | folder_path &lt;chr&gt; | is_multi_select &lt;chr&gt; | is_sparse_coding &lt;chr&gt; | linkout &lt;chr&gt; | longitudinal_axis_type &lt;lgl&gt; | referenced_entity_field &lt;chr&gt; | relationship &lt;chr&gt; | title &lt;chr&gt; | units &lt;chr&gt; |\n",
       "|---|---|---|---|---|---|---|---|---|---|---|---|---|---|---|---|---|\n",
       "| eid           | gp_scripts | eid           | string | <!----> | <!----> | NA | NA | <!----> | <!----> | <!----> | <!----> | NA | participant:eid | many_to_one | Participant ID               | <!----> |\n",
       "| data_provider | gp_scripts | data_provider | string | <!----> | data_coding_626 | NA | NA | <!----> | <!----> | <!----> | <!----> | NA | <!----> | <!----> | Data provider                | <!----> |\n",
       "| date          | gp_scripts | issue_date    | date   | <!----> | data_coding_819 | NA | NA | <!----> | <!----> | yes | <!----> | NA | <!----> | <!----> | Date prescription was issued | <!----> |\n",
       "\n",
       "\n",
       "$olink_instance_0\n",
       ":   \n",
       "A data.table: 3 × 17\n",
       "\n",
       "| item &lt;chr&gt; | entity &lt;chr&gt; | name &lt;chr&gt; | type &lt;chr&gt; | primary_key_type &lt;chr&gt; | coding_name &lt;chr&gt; | concept &lt;lgl&gt; | description &lt;lgl&gt; | folder_path &lt;chr&gt; | is_multi_select &lt;chr&gt; | is_sparse_coding &lt;chr&gt; | linkout &lt;chr&gt; | longitudinal_axis_type &lt;lgl&gt; | referenced_entity_field &lt;chr&gt; | relationship &lt;chr&gt; | title &lt;chr&gt; | units &lt;chr&gt; |\n",
       "|---|---|---|---|---|---|---|---|---|---|---|---|---|---|---|---|---|\n",
       "| eid      | olink_instance_0 | eid      | string | local | <!----> | NA | NA | <!----> | <!----> | <!----> | <!----> | NA | participant:eid | one_to_one | Participant ID                                              | <!----> |\n",
       "| ntprobnp | olink_instance_0 | ntprobnp | float  | <!----> | <!----> | NA | NA | <!----> | <!----> | <!----> | <!----> | NA | <!----> | <!----> | NTproBNP;N-terminal prohormone of brain natriuretic peptide | <!----> |\n",
       "| glp1r    | olink_instance_0 | glp1r    | float  | <!----> | <!----> | NA | NA | <!----> | <!----> | <!----> | <!----> | NA | <!----> | <!----> | GLP1R;Glucagon-like peptide 1 receptor                      | <!----> |\n",
       "\n",
       "\n",
       "$olink_instance_2\n",
       ":   \n",
       "A data.table: 2 × 17\n",
       "\n",
       "| item &lt;chr&gt; | entity &lt;chr&gt; | name &lt;chr&gt; | type &lt;chr&gt; | primary_key_type &lt;chr&gt; | coding_name &lt;chr&gt; | concept &lt;lgl&gt; | description &lt;lgl&gt; | folder_path &lt;chr&gt; | is_multi_select &lt;chr&gt; | is_sparse_coding &lt;chr&gt; | linkout &lt;chr&gt; | longitudinal_axis_type &lt;lgl&gt; | referenced_entity_field &lt;chr&gt; | relationship &lt;chr&gt; | title &lt;chr&gt; | units &lt;chr&gt; |\n",
       "|---|---|---|---|---|---|---|---|---|---|---|---|---|---|---|---|---|\n",
       "| eid      | olink_instance_2 | eid      | string | local | <!----> | NA | NA | <!----> | <!----> | <!----> | <!----> | NA | participant:eid | one_to_one | Participant ID                                              | <!----> |\n",
       "| ntprobnp | olink_instance_2 | ntprobnp | float  | <!----> | <!----> | NA | NA | <!----> | <!----> | <!----> | <!----> | NA | <!----> | <!----> | NTproBNP;N-terminal prohormone of brain natriuretic peptide | <!----> |\n",
       "\n",
       "\n",
       "$olink_instance_3\n",
       ":   \n",
       "A data.table: 2 × 17\n",
       "\n",
       "| item &lt;chr&gt; | entity &lt;chr&gt; | name &lt;chr&gt; | type &lt;chr&gt; | primary_key_type &lt;chr&gt; | coding_name &lt;chr&gt; | concept &lt;lgl&gt; | description &lt;lgl&gt; | folder_path &lt;chr&gt; | is_multi_select &lt;chr&gt; | is_sparse_coding &lt;chr&gt; | linkout &lt;chr&gt; | longitudinal_axis_type &lt;lgl&gt; | referenced_entity_field &lt;chr&gt; | relationship &lt;chr&gt; | title &lt;chr&gt; | units &lt;chr&gt; |\n",
       "|---|---|---|---|---|---|---|---|---|---|---|---|---|---|---|---|---|\n",
       "| eid      | olink_instance_3 | eid      | string | local | <!----> | NA | NA | <!----> | <!----> | <!----> | <!----> | NA | participant:eid | one_to_one | Participant ID                                              | <!----> |\n",
       "| ntprobnp | olink_instance_3 | ntprobnp | float  | <!----> | <!----> | NA | NA | <!----> | <!----> | <!----> | <!----> | NA | <!----> | <!----> | NTproBNP;N-terminal prohormone of brain natriuretic peptide | <!----> |\n",
       "\n",
       "\n",
       "\n",
       "\n"
      ],
      "text/plain": [
       "$participant\n",
       "             item      entity   name    type primary_key_type      coding_name\n",
       "           <char>      <char> <char>  <char>           <char>           <char>\n",
       "1:            eid participant    eid  string           global                 \n",
       "2: reason_lost_fu participant   p190 integer                  data_coding_1965\n",
       "3:            sex participant    p31 integer                     data_coding_9\n",
       "   concept description                                           folder_path\n",
       "    <lgcl>      <lgcl>                                                <char>\n",
       "1:      NA          NA                               Participant Information\n",
       "2:      NA          NA  Population characteristics > Ongoing characteristics\n",
       "3:      NA          NA Population characteristics > Baseline characteristics\n",
       "   is_multi_select is_sparse_coding\n",
       "            <char>           <char>\n",
       "1:                                 \n",
       "2:                                 \n",
       "3:                                 \n",
       "                                                 linkout longitudinal_axis_type\n",
       "                                                  <char>                 <lgcl>\n",
       "1:                                                                           NA\n",
       "2: http://biobank.ctsu.ox.ac.uk/crystal/field.cgi?id=190                     NA\n",
       "3:  http://biobank.ctsu.ox.ac.uk/crystal/field.cgi?id=31                     NA\n",
       "   referenced_entity_field relationship                    title  units\n",
       "                    <char>       <char>                   <char> <char>\n",
       "1:                                                Participant ID       \n",
       "2:                                      Reason lost to follow-up       \n",
       "3:                                                           Sex       \n",
       "\n",
       "$hesin\n",
       "        item entity      name    type primary_key_type coding_name concept\n",
       "      <char> <char>    <char>  <char>           <char>      <char>  <lgcl>\n",
       "1:       eid  hesin       eid  string                                   NA\n",
       "2: ins_index  hesin ins_index integer                                   NA\n",
       "3:  epistart  hesin  epistart    date                                   NA\n",
       "   description folder_path is_multi_select is_sparse_coding linkout\n",
       "        <lgcl>      <char>          <char>           <char>  <char>\n",
       "1:          NA                                                     \n",
       "2:          NA                                                     \n",
       "3:          NA                                                     \n",
       "   longitudinal_axis_type referenced_entity_field relationship\n",
       "                   <lgcl>                  <char>       <char>\n",
       "1:                     NA         participant:eid  many_to_one\n",
       "2:                     NA                                     \n",
       "3:                     NA                                     \n",
       "                title  units\n",
       "               <char> <char>\n",
       "1:     Participant ID       \n",
       "2:     Instance index       \n",
       "3: Episode start date       \n",
       "\n",
       "$hes_diag\n",
       "        item     entity      name    type primary_key_type    coding_name\n",
       "      <char>     <char>    <char>  <char>           <char>         <char>\n",
       "1:       eid hesin_diag       eid  string                                \n",
       "2: ins_index hesin_diag ins_index integer                                \n",
       "3: diag_icd9 hesin_diag diag_icd9  string                  data_coding_87\n",
       "   concept description folder_path is_multi_select is_sparse_coding linkout\n",
       "    <lgcl>      <lgcl>      <char>          <char>           <char>  <char>\n",
       "1:      NA          NA                                                     \n",
       "2:      NA          NA                                                     \n",
       "3:      NA          NA                                                     \n",
       "   longitudinal_axis_type referenced_entity_field relationship            title\n",
       "                   <lgcl>                  <char>       <char>           <char>\n",
       "1:                     NA                                        Participant ID\n",
       "2:                     NA                                        Instance index\n",
       "3:                     NA                                      Diagnoses - ICD9\n",
       "    units\n",
       "   <char>\n",
       "1:       \n",
       "2:       \n",
       "3:       \n",
       "\n",
       "$hesin_oper\n",
       "        item     entity      name    type primary_key_type     coding_name\n",
       "      <char>     <char>    <char>  <char>           <char>          <char>\n",
       "1:       eid hesin_oper       eid  string                                 \n",
       "2: ins_index hesin_oper ins_index integer                                 \n",
       "3:     oper3 hesin_oper     oper3  string                  data_coding_259\n",
       "   concept description folder_path is_multi_select is_sparse_coding linkout\n",
       "    <lgcl>      <lgcl>      <char>          <char>           <char>  <char>\n",
       "1:      NA          NA                                                     \n",
       "2:      NA          NA                                                     \n",
       "3:      NA          NA                                                     \n",
       "   longitudinal_axis_type referenced_entity_field relationship\n",
       "                   <lgcl>                  <char>       <char>\n",
       "1:                     NA                                     \n",
       "2:                     NA                                     \n",
       "3:                     NA                                     \n",
       "                          title  units\n",
       "                         <char> <char>\n",
       "1:               Participant ID       \n",
       "2:               Instance index       \n",
       "3: Operative procedures - OPCS3       \n",
       "\n",
       "$gp_clinical\n",
       "            item      entity          name   type primary_key_type\n",
       "          <char>      <char>        <char> <char>           <char>\n",
       "1:           eid gp_clinical           eid string                 \n",
       "2: data_provider gp_clinical data_provider string                 \n",
       "3:          date gp_clinical      event_dt   date                 \n",
       "       coding_name concept description folder_path is_multi_select\n",
       "            <char>  <lgcl>      <lgcl>      <char>          <char>\n",
       "1:                      NA          NA                            \n",
       "2: data_coding_626      NA          NA                            \n",
       "3: data_coding_819      NA          NA                            \n",
       "   is_sparse_coding linkout longitudinal_axis_type referenced_entity_field\n",
       "             <char>  <char>                 <lgcl>                  <char>\n",
       "1:                                              NA         participant:eid\n",
       "2:                                              NA                        \n",
       "3:              yes                             NA                        \n",
       "   relationship                          title  units\n",
       "         <char>                         <char> <char>\n",
       "1:  many_to_one                 Participant ID       \n",
       "2:                               Data provider       \n",
       "3:              Date clinical code was entered       \n",
       "\n",
       "$gp_scripts\n",
       "            item     entity          name   type primary_key_type\n",
       "          <char>     <char>        <char> <char>           <char>\n",
       "1:           eid gp_scripts           eid string                 \n",
       "2: data_provider gp_scripts data_provider string                 \n",
       "3:          date gp_scripts    issue_date   date                 \n",
       "       coding_name concept description folder_path is_multi_select\n",
       "            <char>  <lgcl>      <lgcl>      <char>          <char>\n",
       "1:                      NA          NA                            \n",
       "2: data_coding_626      NA          NA                            \n",
       "3: data_coding_819      NA          NA                            \n",
       "   is_sparse_coding linkout longitudinal_axis_type referenced_entity_field\n",
       "             <char>  <char>                 <lgcl>                  <char>\n",
       "1:                                              NA         participant:eid\n",
       "2:                                              NA                        \n",
       "3:              yes                             NA                        \n",
       "   relationship                        title  units\n",
       "         <char>                       <char> <char>\n",
       "1:  many_to_one               Participant ID       \n",
       "2:                             Data provider       \n",
       "3:              Date prescription was issued       \n",
       "\n",
       "$olink_instance_0\n",
       "       item           entity     name   type primary_key_type coding_name\n",
       "     <char>           <char>   <char> <char>           <char>      <char>\n",
       "1:      eid olink_instance_0      eid string            local            \n",
       "2: ntprobnp olink_instance_0 ntprobnp  float                             \n",
       "3:    glp1r olink_instance_0    glp1r  float                             \n",
       "   concept description folder_path is_multi_select is_sparse_coding linkout\n",
       "    <lgcl>      <lgcl>      <char>          <char>           <char>  <char>\n",
       "1:      NA          NA                                                     \n",
       "2:      NA          NA                                                     \n",
       "3:      NA          NA                                                     \n",
       "   longitudinal_axis_type referenced_entity_field relationship\n",
       "                   <lgcl>                  <char>       <char>\n",
       "1:                     NA         participant:eid   one_to_one\n",
       "2:                     NA                                     \n",
       "3:                     NA                                     \n",
       "                                                         title  units\n",
       "                                                        <char> <char>\n",
       "1:                                              Participant ID       \n",
       "2: NTproBNP;N-terminal prohormone of brain natriuretic peptide       \n",
       "3:                      GLP1R;Glucagon-like peptide 1 receptor       \n",
       "\n",
       "$olink_instance_2\n",
       "       item           entity     name   type primary_key_type coding_name\n",
       "     <char>           <char>   <char> <char>           <char>      <char>\n",
       "1:      eid olink_instance_2      eid string            local            \n",
       "2: ntprobnp olink_instance_2 ntprobnp  float                             \n",
       "   concept description folder_path is_multi_select is_sparse_coding linkout\n",
       "    <lgcl>      <lgcl>      <char>          <char>           <char>  <char>\n",
       "1:      NA          NA                                                     \n",
       "2:      NA          NA                                                     \n",
       "   longitudinal_axis_type referenced_entity_field relationship\n",
       "                   <lgcl>                  <char>       <char>\n",
       "1:                     NA         participant:eid   one_to_one\n",
       "2:                     NA                                     \n",
       "                                                         title  units\n",
       "                                                        <char> <char>\n",
       "1:                                              Participant ID       \n",
       "2: NTproBNP;N-terminal prohormone of brain natriuretic peptide       \n",
       "\n",
       "$olink_instance_3\n",
       "       item           entity     name   type primary_key_type coding_name\n",
       "     <char>           <char>   <char> <char>           <char>      <char>\n",
       "1:      eid olink_instance_3      eid string            local            \n",
       "2: ntprobnp olink_instance_3 ntprobnp  float                             \n",
       "   concept description folder_path is_multi_select is_sparse_coding linkout\n",
       "    <lgcl>      <lgcl>      <char>          <char>           <char>  <char>\n",
       "1:      NA          NA                                                     \n",
       "2:      NA          NA                                                     \n",
       "   longitudinal_axis_type referenced_entity_field relationship\n",
       "                   <lgcl>                  <char>       <char>\n",
       "1:                     NA         participant:eid   one_to_one\n",
       "2:                     NA                                     \n",
       "                                                         title  units\n",
       "                                                        <char> <char>\n",
       "1:                                              Participant ID       \n",
       "2: NTproBNP;N-terminal prohormone of brain natriuretic peptide       \n"
      ]
     },
     "metadata": {},
     "output_type": "display_data"
    }
   ],
   "source": [
    "config <- read_yaml(\"/opt/notebooks/heRmes/scripts/extraction_config.yml\")\n",
    "\n",
    "extraction_template <- lapply(config, function(table) filter_data_dict(data_dict_file, table$entity, table$columns))\n",
    "                       \n",
    "lapply(extraction_template, head, 3)               "
   ]
  },
  {
   "cell_type": "markdown",
   "id": "98871d66-93ef-4404-8ea9-be43f0a4e634",
   "metadata": {},
   "source": [
    "#### Run Table-Exporter extraction"
   ]
  },
  {
   "cell_type": "code",
   "execution_count": null,
   "id": "c67949c2-9bae-4ef0-abe5-904b2659d402",
   "metadata": {
    "tags": []
   },
   "outputs": [],
   "source": [
    "for (table in names(config)) {\n",
    "    \n",
    "    if (!file.exists(config[[table]][[\"output\"]])) {\n",
    "        extract_data(dataset = dataset, \n",
    "                     fields  = extraction_template[[table]],\n",
    "                     entity  = config[[table]][[\"entity\"]],\n",
    "                     output  = config[[table]][[\"output\"]])\n",
    "    }\n",
    "    \n",
    "}\n",
    "\n",
    "if (!file.exists(data_file_paths$demog)) {\n",
    "    extract_data(dataset=dataset, fields=participant_data_dict$name, entity=\"participant\", output = \"data_participant\")\n",
    "}\n",
    "if (!file.exists(data_file_paths$self)) {\n",
    "    extract_data(dataset=dataset, fields=self_rep_data_dict$name,    entity=\"participant\", output = \"data_selfreportedillness\")\n",
    "}\n",
    "if (!file.exists(data_file_paths$smed)) {\n",
    "    extract_data(dataset=dataset, fields=self_med_data_dict$name,    entity=\"participant\", output = \"data_selfreportedmedication\")\n",
    "}\n",
    "if (!file.exists(data_file_paths$hesin)) {\n",
    "    extract_data(dataset=dataset, fields=hes_data_dict$name,         entity=\"hesin\",       output = \"data_hesin\")\n",
    "}\n",
    "if (!file.exists(data_file_paths$diag)) {\n",
    "    extract_data(dataset=dataset, fields=hesdiag_data_dict$name,     entity=\"hesin_diag\",  output = \"data_hesin_diag\")\n",
    "}\n",
    "if (!file.exists(data_file_paths$oper)) {\n",
    "    extract_data(dataset=dataset, fields=hesoper_data_dict$name,     entity=\"hesin_oper\",  output = \"data_hesin_oper\")\n",
    "}\n",
    "if (!file.exists(data_file_paths$gp)) {\n",
    "    extract_data(dataset=dataset, fields=gp_clinical_data_dict$name, entity=\"gp_clinical\", output = \"data_gp_clinical\")\n",
    "}\n",
    "if (!file.exists(data_file_paths$med)) {\n",
    "    extract_data(dataset=dataset, fields=gp_medication_data_dict$name, entity=\"gp_scripts\", output = \"data_gp_medication\")\n",
    "}"
   ]
  },
  {
   "cell_type": "markdown",
   "id": "f9772232-7243-48f7-99ec-0782eb962390",
   "metadata": {},
   "source": [
    "## Read in extracted data"
   ]
  },
  {
   "cell_type": "code",
   "execution_count": null,
   "id": "d9b5c136-87fd-451e-89ea-da43b7599fce",
   "metadata": {
    "tags": []
   },
   "outputs": [],
   "source": [
    "data_files <- list()\n",
    "\n",
    "for (i in seq_along(data_file_paths)) {\n",
    "    if (!file.exists(data_file_paths[[i]])) {\n",
    "        cat(glue(\"Error:\\nFile {basename(data_file_paths[[i]])} not found, \",\n",
    "                 \"check the Monitor tab for the status of the Table-exporter \",\n",
    "                 \"and the 'hermes_data' folder. If this has finished try \",\n",
    "                 \"launching another Notebook session/instance (I'm not sure why \",\n",
    "                 \"the mounted /mnt/project/ file structure doesn't refresh when \",\n",
    "                 \"files are added externally.\"))\n",
    "        stop(\"file not found error\")\n",
    "    }\n",
    "    f <- data_file_paths[[i]]\n",
    "    n <- names(data_file_paths)[i]\n",
    "    cat(glue('...{n}: {f}\\n'), sep=\"\\n\")\n",
    "    flush.console()\n",
    "    data_files[[n]] <- fread(f, quote=\"\")\n",
    "}\n",
    "\n",
    "#lapply(data_files, head, n = 5)"
   ]
  },
  {
   "cell_type": "markdown",
   "id": "7723b218-e199-4faa-a334-0ee50fe71fb5",
   "metadata": {},
   "source": [
    "## Rename columns"
   ]
  },
  {
   "cell_type": "code",
   "execution_count": null,
   "id": "52f079d6-b7f5-40ec-a0a6-56b4084c4fb1",
   "metadata": {
    "tags": []
   },
   "outputs": [],
   "source": [
    "rename_cols <- function(d, code_struc) {\n",
    "    for (col in names(code_struc)) {\n",
    "        if (code_struc[[col]]$search==\"matches\") {\n",
    "            setnames(d, code_struc[[col]]$name, col)\n",
    "        } else if (code_struc[[col]]$search==\"startswith\") {\n",
    "            regex     <- paste0(\"^\", code_struc[[col]]$name)\n",
    "            matches   <- names(d)[grepl(regex, names(d))]\n",
    "            new_names <- paste0(col, \"_\", 1:length(matches))\n",
    "            setnames(d, matches, new_names)\n",
    "        }\n",
    "    }\n",
    "    return(d)\n",
    "}\n",
    "\n",
    "data_files$demog <- rename_cols(data_files$demog, code_struc=participant_codes)\n",
    "data_files$self  <- rename_cols(data_files$self,  code_struc=self_illness_codes)\n",
    "data_files$smed  <- rename_cols(data_files$smed,  code_struc=self_medication_codes)\n",
    "data_files$hesin <- rename_cols(data_files$hesin, code_struc=hesin_to_extract)\n",
    "data_files$diag  <- rename_cols(data_files$diag,  code_struc=hesdiag_to_extract)\n",
    "data_files$oper  <- rename_cols(data_files$oper,  code_struc=hesproc_to_extract)\n",
    "data_files$gp    <- rename_cols(data_files$gp,    code_struc=gp_clinical_codes)\n",
    "data_files$med   <- rename_cols(data_files$med,   code_struc=gp_medication_codes)\n",
    "\n",
    "#lapply(data_files, head, n = 1)"
   ]
  },
  {
   "cell_type": "markdown",
   "id": "4c1c9d7b-1ebd-477f-b628-18b408b28f85",
   "metadata": {},
   "source": [
    "## Data processing"
   ]
  },
  {
   "cell_type": "code",
   "execution_count": null,
   "id": "f5eea41f-4a8f-4d09-9d64-ba9a339fc05a",
   "metadata": {
    "tags": []
   },
   "outputs": [],
   "source": [
    "codes <- fread(file.path(\"heRmes\", \"inst\", \"extdata\", \"hermes_furosemide_codes\", \"hermes_furosemide_codes.tsv\"))\n",
    "codes[, code := sub(\"^'(.+?)'$\", \"\\\\1\", code)]\n",
    "head(codes)"
   ]
  },
  {
   "cell_type": "markdown",
   "id": "b4bb4f48-fd46-49c4-b995-8f1e2072a060",
   "metadata": {},
   "source": [
    "### Clean up the cohort data"
   ]
  },
  {
   "cell_type": "code",
   "execution_count": null,
   "id": "cb6e0baa-566b-4cee-b885-59c5385dc0ab",
   "metadata": {
    "tags": []
   },
   "outputs": [],
   "source": [
    "ethnicity_codes <- list(\n",
    "  white                 = 1,\n",
    "  british               = 1001,\n",
    "  white_black_caribbean = 2001,\n",
    "  indian                = 3001,\n",
    "  caribbean             = 4001,\n",
    "  mixed                 = 2,\n",
    "  irish                 = 1002,\n",
    "  white_black_african   = 2002,\n",
    "  pakistani             = 3002,\n",
    "  african               = 4002,\n",
    "  asian_or_asian_british= 3,\n",
    "  any_other_white       = 1003,\n",
    "  white_asian           = 2003,\n",
    "  bangladeshi           = 3003,\n",
    "  any_other_black       = 4003,\n",
    "  black_or_black_british= 4,\n",
    "  any_other_mixed       = 2004,\n",
    "  any_other_asian       = 3004,\n",
    "  chinese               = 5,\n",
    "  other_ethnic_group    = 6)\n",
    "\n",
    "data_files$demog[, ethnicity := fcoalesce(.SD), .SDcols = names(data_files$demog)[grepl(\"^ethnicity_[0-9]$\", names(data_files$demog))]]\n",
    "\n",
    "data_files$demog <- data_files$demog[, \n",
    "    list(eid               = eid,\n",
    "         reason_lost_fu    = reason_lost_fu,\n",
    "         age               = as.integer(age),\n",
    "         sex               = factor(sex, levels = 0:1, labels = c(\"female\", \"male\")),\n",
    "         ethnicity         = factor(ethnicity, levels = unlist(ethnicity_codes), labels = names(ethnicity_codes)),\n",
    "         ethnicity_group   = factor(sub(\"([0-9])00[0-9]\", \"\\\\1\", ethnicity), levels = unlist(ethnicity_codes), labels = names(ethnicity_codes)),\n",
    "         genetic_sex       = factor(genetic_sex, levels = 0:1, labels = c(\"female\", \"male\")),\n",
    "         genetic_ethnicity = factor(genetic_ethnicity, levels = 1, labels = c(\"caucasian\")), \n",
    "         pc1               = pc1,\n",
    "         pc2               = pc2,\n",
    "         pc3               = pc3,\n",
    "         pc4               = pc4,\n",
    "         pc5               = pc5)]\n",
    "\n",
    "# check\n",
    "stopifnot(\"Failed to parse some date of births\" = all(!is.na(data_files$demog$dob)))\n",
    "stopifnot(\"some ages / dob indicate cohort age <37, is this right?\" = all(data_files$demog$dob <= as.Date(\"1972-01-01\")))"
   ]
  },
  {
   "cell_type": "markdown",
   "id": "11c71fbf-d9bc-4792-911f-f03a4c8df24b",
   "metadata": {},
   "source": [
    "### Self-report illness codes to long"
   ]
  },
  {
   "cell_type": "code",
   "execution_count": null,
   "id": "185abb58-aab7-4a2f-84f8-1b07ccbffb4b",
   "metadata": {
    "tags": []
   },
   "outputs": [],
   "source": [
    "self_rep_code_cols <- grep(\"self_rep_ill_[0-9]+\",      names(data_files$self), value = TRUE)\n",
    "self_rep_year_cols <- grep(\"self_rep_ill_year_[0-9]+\", names(data_files$self), value = TRUE)\n",
    "data_files$self[, (self_rep_code_cols) := lapply(.SD, as.character), .SDcols = self_rep_code_cols]\n",
    "data_files$self[, (self_rep_year_cols) := lapply(.SD, as.numeric),   .SDcols = self_rep_year_cols]\n",
    "data_files$self_illness <- data.table::melt(data_files$self,\n",
    "                                            id.vars = \"eid\",\n",
    "                                            measure = patterns(\"self_rep_ill_[0-9]+\", \"self_rep_ill_year_[0-9]+\"),\n",
    "                                            variable.name = \"element\",\n",
    "                                            value.name = c(\"code\", \"year\"),\n",
    "                                            na.rm = TRUE)\n",
    "data_files$self_illness <- data_files$self_illness[year != -1 & year != -3] # unknown / prefer not to answer\n",
    "data_files$self_illness[, `:=`(date      = lubridate::ymd(paste0(as.character(floor(year)), \"-01-01\")) + lubridate::days(as.integer(365.25 * (year - floor(year)))),\n",
    "                               year      = NULL,\n",
    "                               element   = NULL,\n",
    "                               code      = as.character(code),\n",
    "                               code_type = \"ukbb_self_reported_illness\")]\n",
    "\n",
    "# check self report illness table\n",
    "stopifnot(\"unable to parse dates for self-reported illness codes\" = all(!is.na(data_files$self_illness$date)))\n",
    "stopifnot(\"are you sure something happened before 1900?\" = all(data_files$self_illness$date > as.Date(\"1900-01-01\")))"
   ]
  },
  {
   "cell_type": "markdown",
   "id": "7d47bbfb-296b-4742-a436-589e38786fd8",
   "metadata": {},
   "source": [
    "### Self-report medication codes to long"
   ]
  },
  {
   "cell_type": "code",
   "execution_count": null,
   "id": "3e816036-5c81-4ade-8730-b82a4e9664fa",
   "metadata": {
    "tags": []
   },
   "outputs": [],
   "source": [
    "self_med_code_cols <- grep(\"self_rep_med_[0-9]+\", names(data_files$smed), value = TRUE)\n",
    "data_files$smed[, (self_med_code_cols) := lapply(.SD, as.character), .SDcols = self_med_code_cols]\n",
    "\n",
    "data_files$smed <- data.table::melt(data_files$smed,\n",
    "                                    id.vars = \"eid\",\n",
    "                                    measure = patterns(\"self_rep_med_[0-9]+\"),\n",
    "                                            variable.name = \"element\",\n",
    "                                            value.name = c(\"code\"),\n",
    "                                            na.rm = TRUE)\n",
    "data_files$smed[, `:=`(date      = as.Date(NA_real_),\n",
    "                       element   = NULL,\n",
    "                       code      = as.character(code),\n",
    "                       code_type = \"ukbb_self_reported_medication\")]"
   ]
  },
  {
   "cell_type": "markdown",
   "id": "3c991e4f-c5d3-47c4-8e70-c1819cfd4cc2",
   "metadata": {},
   "source": [
    "### Inpatient diagnosis codes"
   ]
  },
  {
   "cell_type": "code",
   "execution_count": null,
   "id": "872f8578-5090-4854-af5c-be5d9ae2f880",
   "metadata": {
    "tags": []
   },
   "outputs": [],
   "source": [
    "data_files$hesin[is.na(epistart) | epistart == \"\", epistart := admidate]\n",
    "data_files$diag[data_files$hesin, date := as.Date(i.epistart), on = c(\"eid\", \"ins_index\")]\n",
    "data_files$diag[diag_icd9 == \"\", diag_icd9 := NA_character_]\n",
    "data_files$diag[diag_icd10 == \"\", diag_icd10 := NA_character_]\n",
    "data_files$diag <- data.table::melt(data_files$diag,\n",
    "                                    id.vars = c(\"eid\", \"date\"),\n",
    "                                    measure.vars  = c(\"diag_icd9\", \"diag_icd10\"),\n",
    "                                    variable.name = \"code_type\",\n",
    "                                    value.name = \"code\",\n",
    "                                    na.rm = TRUE)\n",
    "data_files$diag[, code_type := data.table::fcase(code_type == \"diag_icd9\", \"icd9\",\n",
    "                                                 code_type == \"diag_icd10\", \"icd10\")]"
   ]
  },
  {
   "cell_type": "markdown",
   "id": "d94f3243-36f5-462c-add5-45778b7bd2cc",
   "metadata": {},
   "source": [
    "### GP activity data"
   ]
  },
  {
   "cell_type": "code",
   "execution_count": null,
   "id": "34987cf1-2ae1-42df-9eb4-6ec0cf8cb099",
   "metadata": {
    "tags": []
   },
   "outputs": [],
   "source": [
    "data_files$gp[read_2 == \"\", read_2 := NA_character_]\n",
    "data_files$gp[read_3 == \"\", read_3 := NA_character_]\n",
    "data_files$gp <- data.table::melt(data_files$gp,\n",
    "                                  id.vars = c(\"eid\", \"date\"),\n",
    "                                  measure.vars  = c(\"read_2\", \"read_3\"),\n",
    "                                  variable.name = \"code_type\",\n",
    "                                  value.name = \"code\",\n",
    "                                  na.rm = TRUE)\n",
    "data_files$gp[, code_type := data.table::fcase(code_type == \"read_2\", \"read2\",\n",
    "                                               code_type == \"read_3\", \"read3\")]"
   ]
  },
  {
   "cell_type": "markdown",
   "id": "8739d805-7178-4af7-8271-7e083522eb72",
   "metadata": {},
   "source": [
    "### GP medication data"
   ]
  },
  {
   "cell_type": "code",
   "execution_count": null,
   "id": "97667f0c-e722-4156-ad8b-a87c7549b0b5",
   "metadata": {
    "tags": []
   },
   "outputs": [],
   "source": [
    "data_files$med[read_2 == \"\", read_2 := NA_character_]\n",
    "data_files$med[bnf_code == \"\", bnf_code := NA_character_]\n",
    "data_files$med[, dmd_code := as.character(dmd_code)]\n",
    "data_files$med <- data.table::melt(data_files$med,\n",
    "                                   id.vars = c(\"eid\", \"date\"),\n",
    "                                   measure.vars  = c(\"read_2\", \"bnf_code\", \"dmd_code\"),\n",
    "                                   variable.name = \"code_type\",\n",
    "                                   value.name = \"code\",\n",
    "                                   na.rm = TRUE)\n",
    "data_files$med[, code_type := data.table::fcase(code_type == \"read_2\",   \"read_med\",\n",
    "                                                code_type == \"bnf_code\", \"bnf\",\n",
    "                                                code_type == \"dmd_code\", \"dmd\")]"
   ]
  },
  {
   "cell_type": "markdown",
   "id": "2db6567b-c7d4-4ffc-9875-dd0c26204b91",
   "metadata": {},
   "source": [
    "### Combine all codes and annotate concepts"
   ]
  },
  {
   "cell_type": "code",
   "execution_count": null,
   "id": "4d061c86-4c48-41fb-a9e4-e5a6494a63db",
   "metadata": {
    "tags": []
   },
   "outputs": [],
   "source": [
    "combined <- rbind(data_files$self_illness, data_files$smed, data_files$diag, data_files$gp, data_files$med)\n",
    "combined <- codes[combined, on = c(\"code\" = \"code\", \"code_type\" = \"code_type\"), allow.cartesian = TRUE]"
   ]
  },
  {
   "cell_type": "markdown",
   "id": "ed609119-1bf2-4c97-a7d3-bcb3457d175b",
   "metadata": {},
   "source": [
    "### Save all ICD-10 codes"
   ]
  },
  {
   "cell_type": "code",
   "execution_count": null,
   "id": "91b55a96-31fc-4336-b90b-09f27f9345dd",
   "metadata": {
    "tags": []
   },
   "outputs": [],
   "source": [
    "all_icd10_codes <- combined[code_type==\"icd10\"][, .(all_icd10_codes = paste0(unique(code),collapse=\";\")), by=eid]\n",
    "data_files$demog[all_icd10_codes, all_icd10_codes := i.all_icd10_codes, on=\"eid\"]"
   ]
  },
  {
   "cell_type": "markdown",
   "id": "83581bce-5358-4736-b28b-5008d00ad6bc",
   "metadata": {},
   "source": [
    "### Annotate individuals with code:code_type counts"
   ]
  },
  {
   "cell_type": "code",
   "execution_count": null,
   "id": "a1a42dfa-a671-4a0c-9f50-e2cd169b179e",
   "metadata": {
    "tags": []
   },
   "outputs": [],
   "source": [
    "combined <- combined[!is.na(concept)] # discard non-annotated codes\n",
    "combined[, concept := tolower(gsub(\" \",\"_\",concept))] # rename\n",
    "d <- dcast(combined, eid ~ concept + code_type, value.var = \"code\",  \n",
    "           fun.aggregate = function(x) paste(x, collapse = \";\"))\n",
    "d[, heart_failure := ifelse(apply(.SD, 1, function(x) any(x != \"\" & !is.na(x))), \"1\", \"\"), .SDcols = names(d)[grepl(\"^heart_failure\", names(d))]]\n",
    "d[, loop_diuretic := ifelse(apply(.SD, 1, function(x) any(x != \"\" & !is.na(x))), \"1\", \"\"), .SDcols = names(d)[grepl(\"^loop_diuretic\", names(d))]]"
   ]
  },
  {
   "cell_type": "markdown",
   "id": "c8e67266-af70-4dc3-bf6b-f0569b98bfdf",
   "metadata": {},
   "source": [
    "### Combine with full cohort"
   ]
  },
  {
   "cell_type": "code",
   "execution_count": null,
   "id": "07244b40-fdef-45b0-b572-e499f7166b08",
   "metadata": {
    "tags": []
   },
   "outputs": [],
   "source": [
    "base_cols <- c(\"eid\", \"age\", \"sex\", \"ethnicity\", \"ethnicity_group\",\"genetic_sex\", \"genetic_ethnicity\", paste0(\"pc\",1:5), \"all_icd10_codes\")\n",
    "measure_cols <- names(d)[names(d) != \"eid\"]\n",
    "cohort <- d[data_files$demog[,mget(base_cols)], on=\"eid\"]\n",
    "#head(cohort)\n",
    "cohort[, (measure_cols) := lapply(.SD, function(x) fifelse(is.na(x),\"\",x)), .SDcols=measure_cols]\n",
    "setcolorder(cohort, base_cols)\n",
    "head(cohort)\n",
    "                                  \n",
    "cohort[data_files$gp[,\"eid\"], any_gp := \"1\", on=\"eid\"][is.na(any_gp), any_gp := \"\"]\n",
    "cohort[data_files$med[,\"eid\"], any_gp_med := \"1\", on=\"eid\"][is.na(any_gp_med), any_gp_med := \"\"]\n",
    "cohort[data_files$diag[,\"eid\"], any_hes := \"1\", on=\"eid\"][is.na(any_hes), any_hes := \"\"]\n",
    "\n",
    "measure_cols <- names(cohort)[!names(cohort) %in% base_cols]\n",
    "summary <- data.table (name = c(\"total\", measure_cols), N = c(nrow(cohort), cohort[, .(sapply(.SD, function(x) sum(!is.na(x) & x!=\"\"))), .SDcols = measure_cols]$V1))\n",
    "head(summary,100)                                                          \n",
    "\n",
    "fwrite(summary,\n",
    "       file = \"hermes_furosemide_phenotype_summary.tsv\",\n",
    "       sep  = \"\\t\")\n",
    "                                                                                              \n",
    "# write out\n",
    "fwrite(cohort,\n",
    "       file = \"hermes_furosemide_phenotypes.tsv.gz\",\n",
    "       sep  = \"\\t\")"
   ]
  },
  {
   "cell_type": "code",
   "execution_count": null,
   "id": "4afcfc57-48be-4228-8502-b2ea8d58a458",
   "metadata": {
    "tags": []
   },
   "outputs": [],
   "source": [
    "### Copy output to project"
   ]
  },
  {
   "cell_type": "code",
   "execution_count": null,
   "id": "46b87ab2-d82a-4043-b7ff-ca971a5583ec",
   "metadata": {
    "tags": []
   },
   "outputs": [],
   "source": [
    "o <- system(\"dx upload hermes_furosemide_phenotype_summary.tsv hermes_furosemide_phenotypes.tsv.gz --destination hermes_furosemide_data\", intern = TRUE)\n",
    "cat(o, sep = \"\\n\")"
   ]
  }
 ],
 "metadata": {
  "kernelspec": {
   "display_name": "R",
   "language": "R",
   "name": "ir"
  },
  "language_info": {
   "codemirror_mode": "r",
   "file_extension": ".r",
   "mimetype": "text/x-r-source",
   "name": "R",
   "pygments_lexer": "r",
   "version": "4.4.0"
  }
 },
 "nbformat": 4,
 "nbformat_minor": 5
}
