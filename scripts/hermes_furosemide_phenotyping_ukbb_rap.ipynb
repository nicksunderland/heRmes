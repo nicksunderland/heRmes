{
 "cells": [
  {
   "cell_type": "markdown",
   "id": "253614e0-ef79-4cff-abeb-9c7cec202dfe",
   "metadata": {},
   "source": [
    "## HERMES - furosemide phenotype"
   ]
  },
  {
   "cell_type": "markdown",
   "id": "1a2c0ff6-0886-449e-af31-3044b98588bf",
   "metadata": {},
   "source": [
    "#### Clone HeRmes repository"
   ]
  },
  {
   "cell_type": "code",
   "execution_count": null,
   "id": "fce7e00b-cb51-40d1-977d-16026831d2f0",
   "metadata": {},
   "outputs": [],
   "source": [
    "system(\"git clone https://github.com/nicksunderland/heRmes.git\")"
   ]
  },
  {
   "cell_type": "markdown",
   "id": "8a01c3b1-910b-405d-aa4a-8fdb18dda816",
   "metadata": {},
   "source": [
    "#### Pushing changes to Github"
   ]
  }
 ],
 "metadata": {
  "kernelspec": {
   "display_name": "R",
   "language": "R",
   "name": "ir"
  },
  "language_info": {
   "codemirror_mode": "r",
   "file_extension": ".r",
   "mimetype": "text/x-r-source",
   "name": "R",
   "pygments_lexer": "r",
   "version": "4.4.0"
  }
 },
 "nbformat": 4,
 "nbformat_minor": 5
}
