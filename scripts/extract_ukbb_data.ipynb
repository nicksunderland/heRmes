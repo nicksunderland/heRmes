{
 "cells": [
  {
   "cell_type": "markdown",
   "id": "253614e0-ef79-4cff-abeb-9c7cec202dfe",
   "metadata": {},
   "source": [
    "## HERMES - furosemide phenotype"
   ]
  },
  {
   "cell_type": "markdown",
   "id": "1a2c0ff6-0886-449e-af31-3044b98588bf",
   "metadata": {},
   "source": [
    "#### Clone HeRmes repository"
   ]
  },
  {
   "cell_type": "code",
   "execution_count": null,
   "id": "fce7e00b-cb51-40d1-977d-16026831d2f0",
   "metadata": {
    "tags": []
   },
   "outputs": [],
   "source": [
    "#system(\"git clone https://github.com/nicksunderland/heRmes.git\")"
   ]
  },
  {
   "cell_type": "markdown",
   "id": "8a01c3b1-910b-405d-aa4a-8fdb18dda816",
   "metadata": {},
   "source": [
    "#### Pushing changes to Github"
   ]
  },
  {
   "cell_type": "code",
   "execution_count": null,
   "id": "4fa66f5d-c128-45fb-88f4-255436e20299",
   "metadata": {
    "tags": []
   },
   "outputs": [],
   "source": [
    "# in ther terminal run\n",
    "# cd /opt/notebooks\n",
    "# dx download git_push.sh\n",
    "# run bash git_push.sh "
   ]
  },
  {
   "cell_type": "markdown",
   "id": "221c70a8-b701-4482-a6d1-a2c00f877a5d",
   "metadata": {},
   "source": [
    "#### Project & record ID"
   ]
  },
  {
   "cell_type": "code",
   "execution_count": 1,
   "id": "a5958289-b652-4c12-8a11-0f4683a6da8f",
   "metadata": {
    "tags": []
   },
   "outputs": [],
   "source": [
    "projectid <- \"project-GvZyZ20J81vgPJGbJy8pgpyq\"\n",
    "recordid  <- \"record-Gvb0Bg0Jfxfv0q8Fb2pXqKjg\""
   ]
  },
  {
   "cell_type": "markdown",
   "id": "092c42b4-2cee-4b1c-93f2-b51b73e697fa",
   "metadata": {
    "tags": []
   },
   "source": [
    "#### Libraries"
   ]
  },
  {
   "cell_type": "code",
   "execution_count": 2,
   "id": "60c4b528-545b-4f31-b1a1-0352ad833814",
   "metadata": {
    "tags": []
   },
   "outputs": [],
   "source": [
    "library(glue)\n",
    "library(data.table)\n",
    "library(yaml)"
   ]
  },
  {
   "cell_type": "markdown",
   "id": "e519ed12-f0ed-4ca8-b16d-27eb53a787be",
   "metadata": {},
   "source": [
    "## Extract data"
   ]
  },
  {
   "cell_type": "markdown",
   "id": "82469460-c77b-45e2-a07e-59e21906c8ae",
   "metadata": {},
   "source": [
    "#### Download data dictionary"
   ]
  },
  {
   "cell_type": "code",
   "execution_count": null,
   "id": "1f59a396-ecfd-499d-8fd2-12c5d863e8cf",
   "metadata": {
    "tags": []
   },
   "outputs": [],
   "source": [
    "setwd(\"/opt/notebooks\")\n",
    "dataset <- glue(\"{projectid}:{recordid}\")\n",
    "cmd <- glue(\"dx extract_dataset {dataset} -ddd\")\n",
    "system(cmd)\n",
    "dict_files <- list.files(pattern=\"codings|data_dictionary|entity_dictionary\")\n",
    "data_dict_file <- dict_files[grepl(\"data_dictionary\", dict_files)]"
   ]
  },
  {
   "cell_type": "markdown",
   "id": "6d526b7d-5f9d-4fcb-8e7c-9b6b37148d21",
   "metadata": {},
   "source": [
    "#### Data dictionary filter function"
   ]
  },
  {
   "cell_type": "code",
   "execution_count": null,
   "id": "58f48ced-e3e2-49bf-9442-f9c8b76f5952",
   "metadata": {
    "tags": []
   },
   "outputs": [],
   "source": [
    "#' @title filter_data_dict\n",
    "#'\n",
    "#' @param dict_path, str, path to the dataset.data_dictionary.csv\n",
    "#' @param codes_str, list, list of lists representing UKBB column name, table entity, and search strategy list(name=, entity=, search=). \n",
    "#'   name must be a valid column name in the data_dictionary, entity a valid entity in the entity dictionary, and search either \"matches\"\n",
    "#'   for exact matches, or starts with to match cases of multiple instances (repeated measures usually)\n",
    "#'\n",
    "#' @returns a filtered subset of the data_dictionary \n",
    "#'\n",
    "filter_data_dict <- function(dict_path, codes_struc) {\n",
    "    \n",
    "    data_dict <- fread(dict_path)\n",
    "    \n",
    "    d <- lapply(codes_struc, function(x) {\n",
    "        \n",
    "        d0 <- data.table()\n",
    "        if (x$search==\"matches\") {\n",
    "            d0 <- data_dict[entity==x$entity & name==x$name]\n",
    "        } else if (x$search==\"startswith\") {\n",
    "            d0 <- data_dict[entity==x$entity & grepl(paste0(\"^\", x$name), name)]\n",
    "        }\n",
    "        \n",
    "        if (nrow(d0)==0) {\n",
    "            cat(glue(\"Code [{x$name}] not found in data dictionary\\n\"))\n",
    "            stop(\"Code not found error\")\n",
    "        }\n",
    "        \n",
    "        d0\n",
    "        \n",
    "    }) |> rbindlist(idcol = \"item\")\n",
    "    \n",
    "    return(d)\n",
    "}"
   ]
  },
  {
   "cell_type": "markdown",
   "id": "15c7daf4-282a-4d6f-a197-f13d93e4c68a",
   "metadata": {
    "tags": []
   },
   "source": [
    "#### Data extraction function"
   ]
  },
  {
   "cell_type": "code",
   "execution_count": null,
   "id": "e06b047b-93c2-42f9-8110-47a10f48d15c",
   "metadata": {
    "tags": []
   },
   "outputs": [],
   "source": [
    "#' @title extract_data\n",
    "#'\n",
    "#' @param dataset, str, a valid dataset id - format \"{projectid}:{recordid}\" \n",
    "#' @param fields, str, vector of UK-BB format column names e.g. p31\n",
    "#' @param entity, str, string of length one - the entity to extract from e.g. participants\n",
    "#' @param output, str, the base name for the output file, no extension\n",
    "#'\n",
    "#' @returns NULL side effect is starting a table-exporter job which outputs the file to /hermes3_data directory in the RAP\n",
    "#'\n",
    "extract_data <- function(dataset, fields, entity, output) {\n",
    "    \n",
    "    field_str <- paste0('-ifield_names=\"', fields, '\"', collapse=\" \") \n",
    "    \n",
    "    cmd <- glue(\n",
    "      \"dx run table-exporter \",\n",
    "      \"-idataset_or_cohort_or_dashboard={dataset} \",\n",
    "      \"-ioutput={output} \",\n",
    "      \"-ioutput_format=TSV \",\n",
    "      \"-iheader_style=FIELD-NAME \",\n",
    "      \"-icoding_option=RAW \",\n",
    "      \"{field_str} \",\n",
    "      \"-ientity={entity} \",\n",
    "      \"--destination hermes3_data/\"\n",
    "    )    \n",
    "\n",
    "    o <- system(cmd, intern = TRUE)\n",
    "    cat(o, sep = \"\\n\")\n",
    "}"
   ]
  },
  {
   "cell_type": "markdown",
   "id": "ce1455d7-7c73-4ec6-8dad-f60bcdb593c4",
   "metadata": {},
   "source": [
    "### Define participant data"
   ]
  },
  {
   "cell_type": "code",
   "execution_count": null,
   "id": "98e3732a-60a8-476b-bb37-6a85fd020ba6",
   "metadata": {
    "tags": []
   },
   "outputs": [],
   "source": [
    "participant_codes= list(eid                = list(name=\"eid\",       entity=\"participant\", search=\"matches\"),\n",
    "                        reason_lost_fu     = list(name=\"p190\",      entity=\"participant\", search=\"matches\"),\n",
    "                        sex                = list(name=\"p31\",       entity=\"participant\", search=\"matches\"),\n",
    "                        age                = list(name=\"p21022\",    entity=\"participant\", search=\"matches\"),\n",
    "                        date_sample        = list(name=\"p21842\",    entity=\"participant\", search=\"startswith\"),\n",
    "                        ethnicity          = list(name=\"p21000\",    entity=\"participant\", search=\"startswith\"),\n",
    "                        genetic_sex        = list(name=\"p22001\",    entity=\"participant\", search=\"matches\"),\n",
    "                        genetic_ethnicity  = list(name=\"p22006\",    entity=\"participant\", search=\"matches\"),\n",
    "                        pc1                = list(name=\"p22009_a1\", entity=\"participant\", search=\"matches\"),\n",
    "                        pc2                = list(name=\"p22009_a2\", entity=\"participant\", search=\"matches\"),\n",
    "                        pc3                = list(name=\"p22009_a3\", entity=\"participant\", search=\"matches\"),\n",
    "                        pc4                = list(name=\"p22009_a4\", entity=\"participant\", search=\"matches\"),\n",
    "                        pc5                = list(name=\"p22009_a5\", entity=\"participant\", search=\"matches\"))\n",
    "\n",
    "participant_data_dict = filter_data_dict(data_dict_file, participant_codes)\n",
    "head(participant_data_dict, 3)"
   ]
  },
  {
   "cell_type": "markdown",
   "id": "dd6a0459-196c-4fe3-aeef-03f2f7aec841",
   "metadata": {},
   "source": [
    "### Define self-report illness data"
   ]
  },
  {
   "cell_type": "code",
   "execution_count": null,
   "id": "e8f71e5a-d357-4d51-bae5-5087045532d9",
   "metadata": {
    "tags": []
   },
   "outputs": [],
   "source": [
    "self_illness_codes=list(eid                = list(name=\"eid\",    entity=\"participant\", search=\"matches\"),\n",
    "                        self_rep_ill       = list(name=\"p20002\", entity=\"participant\", search=\"startswith\"), # 0:3 instances\n",
    "                        self_rep_ill_year  = list(name=\"p20008\", entity=\"participant\", search=\"startswith\"), # 0:3 instances\n",
    "                        self_rep_proc      = list(name=\"p20004\", entity=\"participant\", search=\"startswith\"), # 0:3 instances\n",
    "                        self_rep_proc_year = list(name=\"p20010\", entity=\"participant\", search=\"startswith\")) # 0:3 instances\n",
    "\n",
    "self_rep_data_dict = filter_data_dict(data_dict_file, self_illness_codes)\n",
    "head(self_rep_data_dict, 3)"
   ]
  },
  {
   "cell_type": "markdown",
   "id": "f8be70be-4083-4593-a748-8782b3ebb390",
   "metadata": {},
   "source": [
    "### Define self-report medication data"
   ]
  },
  {
   "cell_type": "code",
   "execution_count": null,
   "id": "8f7f8dc1-4525-4405-82ef-99b9a5829a8d",
   "metadata": {
    "tags": []
   },
   "outputs": [],
   "source": [
    "self_medication_codes=list(eid                = list(name=\"eid\",    entity=\"participant\", search=\"matches\"),\n",
    "                           self_rep_med       = list(name=\"p20003\", entity=\"participant\", search=\"startswith\")) # 0:3 instances\n",
    "\n",
    "self_med_data_dict = filter_data_dict(data_dict_file, self_medication_codes)\n",
    "head(self_med_data_dict, 3)"
   ]
  },
  {
   "cell_type": "markdown",
   "id": "25601612-93ea-493d-97cf-c9ffc49b6aed",
   "metadata": {},
   "source": [
    "### Define HES inpatient data"
   ]
  },
  {
   "cell_type": "code",
   "execution_count": null,
   "id": "b72f11de-3981-4856-9413-064cb210f589",
   "metadata": {
    "tags": []
   },
   "outputs": [],
   "source": [
    "hesin_to_extract = list(eid                = list(name=\"eid\",       entity=\"hesin\", search=\"matches\"),\n",
    "                        ins_index          = list(name=\"ins_index\", entity=\"hesin\", search=\"matches\"),\n",
    "                        epistart           = list(name=\"epistart\",  entity=\"hesin\", search=\"matches\"),\n",
    "                        admidate           = list(name=\"admidate\",  entity=\"hesin\", search=\"matches\"))\n",
    "\n",
    "hes_data_dict = filter_data_dict(data_dict_file, hesin_to_extract)\n",
    "head(hes_data_dict, 4)"
   ]
  },
  {
   "cell_type": "markdown",
   "id": "1e0ff29e-9037-4c53-b14c-7d56c5fe2da1",
   "metadata": {},
   "source": [
    "### Define HES diagnoses data"
   ]
  },
  {
   "cell_type": "code",
   "execution_count": null,
   "id": "eeb900fa-1b69-430d-89cb-a6626d5a209d",
   "metadata": {
    "tags": []
   },
   "outputs": [],
   "source": [
    "hesdiag_to_extract=list(eid                = list(name=\"eid\",        entity=\"hesin_diag\", search=\"matches\"),\n",
    "                        ins_index          = list(name=\"ins_index\",  entity=\"hesin_diag\", search=\"matches\"),\n",
    "                        diag_icd9          = list(name=\"diag_icd9\",  entity=\"hesin_diag\", search=\"matches\"),\n",
    "                        diag_icd10         = list(name=\"diag_icd10\", entity=\"hesin_diag\", search=\"matches\"))\n",
    "\n",
    "hesdiag_data_dict = filter_data_dict(data_dict_file, hesdiag_to_extract)\n",
    "head(hesdiag_data_dict, 4)"
   ]
  },
  {
   "cell_type": "markdown",
   "id": "fe49ac85-0407-4f8e-b82d-d81729e6195d",
   "metadata": {},
   "source": [
    "### Define HES procedures data"
   ]
  },
  {
   "cell_type": "code",
   "execution_count": null,
   "id": "8e4362f5-d8f0-4c49-acd0-c5519230ba50",
   "metadata": {
    "tags": []
   },
   "outputs": [],
   "source": [
    "hesproc_to_extract=list(eid                = list(name=\"eid\",       entity=\"hesin_oper\", search=\"matches\"),\n",
    "                        ins_index          = list(name=\"ins_index\", entity=\"hesin_oper\", search=\"matches\"),\n",
    "                        oper3              = list(name=\"oper3\",     entity=\"hesin_oper\", search=\"matches\"),\n",
    "                        oper4              = list(name=\"oper4\",     entity=\"hesin_oper\", search=\"matches\"))\n",
    "hesoper_data_dict = filter_data_dict(data_dict_file, hesproc_to_extract)\n",
    "head(hesoper_data_dict, 4)"
   ]
  },
  {
   "cell_type": "markdown",
   "id": "f52f2dc1-1206-4de3-bd04-d31ff06ea7da",
   "metadata": {},
   "source": [
    "### Define GP clinical data"
   ]
  },
  {
   "cell_type": "code",
   "execution_count": null,
   "id": "c343e2b8-f2ba-4ea3-9637-28563100028e",
   "metadata": {
    "tags": []
   },
   "outputs": [],
   "source": [
    "gp_clinical_codes= list(eid           = list(name=\"eid\",           entity=\"gp_clinical\", search=\"matches\"),\n",
    "                        data_provider = list(name=\"data_provider\", entity=\"gp_clinical\", search=\"matches\"),\n",
    "                        date          = list(name=\"event_dt\",      entity=\"gp_clinical\", search=\"matches\"),\n",
    "                        read_2        = list(name=\"read_2\",        entity=\"gp_clinical\", search=\"matches\"),\n",
    "                        read_3        = list(name=\"read_3\",        entity=\"gp_clinical\", search=\"matches\"),\n",
    "                        value1        = list(name=\"value1\",        entity=\"gp_clinical\", search=\"matches\"),\n",
    "                        value2        = list(name=\"value2\",        entity=\"gp_clinical\", search=\"matches\"),\n",
    "                        value3        = list(name=\"value3\",        entity=\"gp_clinical\", search=\"matches\"))\n",
    "\n",
    "gp_clinical_data_dict = filter_data_dict(data_dict_file, gp_clinical_codes)\n",
    "head(gp_clinical_data_dict, 3)"
   ]
  },
  {
   "cell_type": "markdown",
   "id": "58389547-f535-4385-ab00-77dd097f8e40",
   "metadata": {},
   "source": [
    "### Define GP medications data"
   ]
  },
  {
   "cell_type": "code",
   "execution_count": null,
   "id": "ae366890-5135-4c23-acee-1293fe0dfb82",
   "metadata": {
    "tags": []
   },
   "outputs": [],
   "source": [
    "gp_medication_codes= list(eid           = list(name=\"eid\",           entity=\"gp_scripts\", search=\"matches\"),\n",
    "                          data_provider = list(name=\"data_provider\", entity=\"gp_scripts\", search=\"matches\"),\n",
    "                          date          = list(name=\"issue_date\",    entity=\"gp_scripts\", search=\"matches\"),\n",
    "                          read_2        = list(name=\"read_2\",        entity=\"gp_scripts\", search=\"matches\"),\n",
    "                          bnf_code      = list(name=\"bnf_code\",      entity=\"gp_scripts\", search=\"matches\"),\n",
    "                          dmd_code      = list(name=\"dmd_code\",      entity=\"gp_scripts\", search=\"matches\"),\n",
    "                          drug_name     = list(name=\"drug_name\",     entity=\"gp_scripts\", search=\"matches\"),\n",
    "                          quantity      = list(name=\"quantity\",      entity=\"gp_scripts\", search=\"matches\"))\n",
    "\n",
    "gp_medication_data_dict = filter_data_dict(data_dict_file, gp_medication_codes)\n",
    "head(gp_medication_data_dict, 3)"
   ]
  },
  {
   "cell_type": "markdown",
   "id": "1525d203-a1b9-4245-992e-86be36891414",
   "metadata": {},
   "source": [
    "### Define OLINK data"
   ]
  },
  {
   "cell_type": "code",
   "execution_count": null,
   "id": "20336a6a-65f7-4003-a6a6-d9aa734b518a",
   "metadata": {
    "tags": []
   },
   "outputs": [],
   "source": [
    "olink_codes_0 = list(eid      = list(name=\"eid\",      entity=\"olink_instance_0\", search=\"matches\"),\n",
    "                     ntprobnp = list(name=\"ntprobnp\", entity=\"olink_instance_0\", search=\"matches\"),\n",
    "                     glp1r    = list(name=\"glp1r\",    entity=\"olink_instance_0\", search=\"matches\"))\n",
    "\n",
    "olink_codes_0_data_dict = filter_data_dict(data_dict_file, olink_codes)\n",
    "head(olink_codes_data_dict, 3)"
   ]
  },
  {
   "cell_type": "markdown",
   "id": "98871d66-93ef-4404-8ea9-be43f0a4e634",
   "metadata": {},
   "source": [
    "#### Run Table-Exporter extraction"
   ]
  },
  {
   "cell_type": "code",
   "execution_count": null,
   "id": "c67949c2-9bae-4ef0-abe5-904b2659d402",
   "metadata": {
    "tags": []
   },
   "outputs": [],
   "source": [
    "data_file_paths <- list(\n",
    "    demog = \"/mnt/project/hermes3_data/data_participant.tsv\",\n",
    "    self  = \"/mnt/project/hermes3_data/data_selfreportedillness.tsv\",\n",
    "    smed  = \"/mnt/project/hermes3_data/data_selfreportedmedication.tsv\",\n",
    "    hesin = \"/mnt/project/hermes3_data/data_hesin.tsv\",\n",
    "    diag  = \"/mnt/project/hermes3_data/data_hesin_diag.tsv\",\n",
    "    oper  = \"/mnt/project/hermes3_data/data_hesin_oper.tsv\",\n",
    "    gp    = \"/mnt/project/hermes3_data/data_gp_clinical.tsv\",\n",
    "    med   = \"/mnt/project/hermes3_data/data_gp_medication.tsv\"\n",
    ")\n",
    "\n",
    "if (!file.exists(data_file_paths$demog)) {\n",
    "    extract_data(dataset=dataset, fields=participant_data_dict$name, entity=\"participant\", output = \"data_participant\")\n",
    "}\n",
    "if (!file.exists(data_file_paths$self)) {\n",
    "    extract_data(dataset=dataset, fields=self_rep_data_dict$name,    entity=\"participant\", output = \"data_selfreportedillness\")\n",
    "}\n",
    "if (!file.exists(data_file_paths$smed)) {\n",
    "    extract_data(dataset=dataset, fields=self_med_data_dict$name,    entity=\"participant\", output = \"data_selfreportedmedication\")\n",
    "}\n",
    "if (!file.exists(data_file_paths$hesin)) {\n",
    "    extract_data(dataset=dataset, fields=hes_data_dict$name,         entity=\"hesin\",       output = \"data_hesin\")\n",
    "}\n",
    "if (!file.exists(data_file_paths$diag)) {\n",
    "    extract_data(dataset=dataset, fields=hesdiag_data_dict$name,     entity=\"hesin_diag\",  output = \"data_hesin_diag\")\n",
    "}\n",
    "if (!file.exists(data_file_paths$oper)) {\n",
    "    extract_data(dataset=dataset, fields=hesoper_data_dict$name,     entity=\"hesin_oper\",  output = \"data_hesin_oper\")\n",
    "}\n",
    "if (!file.exists(data_file_paths$gp)) {\n",
    "    extract_data(dataset=dataset, fields=gp_clinical_data_dict$name, entity=\"gp_clinical\", output = \"data_gp_clinical\")\n",
    "}\n",
    "if (!file.exists(data_file_paths$med)) {\n",
    "    extract_data(dataset=dataset, fields=gp_medication_data_dict$name, entity=\"gp_scripts\", output = \"data_gp_medication\")\n",
    "}"
   ]
  },
  {
   "cell_type": "markdown",
   "id": "f9772232-7243-48f7-99ec-0782eb962390",
   "metadata": {},
   "source": [
    "## Read in extracted data"
   ]
  },
  {
   "cell_type": "code",
   "execution_count": null,
   "id": "d9b5c136-87fd-451e-89ea-da43b7599fce",
   "metadata": {
    "tags": []
   },
   "outputs": [],
   "source": [
    "data_files <- list()\n",
    "\n",
    "for (i in seq_along(data_file_paths)) {\n",
    "    if (!file.exists(data_file_paths[[i]])) {\n",
    "        cat(glue(\"Error:\\nFile {basename(data_file_paths[[i]])} not found, \",\n",
    "                 \"check the Monitor tab for the status of the Table-exporter \",\n",
    "                 \"and the 'hermes_data' folder. If this has finished try \",\n",
    "                 \"launching another Notebook session/instance (I'm not sure why \",\n",
    "                 \"the mounted /mnt/project/ file structure doesn't refresh when \",\n",
    "                 \"files are added externally.\"))\n",
    "        stop(\"file not found error\")\n",
    "    }\n",
    "    f <- data_file_paths[[i]]\n",
    "    n <- names(data_file_paths)[i]\n",
    "    cat(glue('...{n}: {f}\\n'), sep=\"\\n\")\n",
    "    flush.console()\n",
    "    data_files[[n]] <- fread(f, quote=\"\")\n",
    "}\n",
    "\n",
    "#lapply(data_files, head, n = 5)"
   ]
  },
  {
   "cell_type": "markdown",
   "id": "7723b218-e199-4faa-a334-0ee50fe71fb5",
   "metadata": {},
   "source": [
    "## Rename columns"
   ]
  },
  {
   "cell_type": "code",
   "execution_count": null,
   "id": "52f079d6-b7f5-40ec-a0a6-56b4084c4fb1",
   "metadata": {
    "tags": []
   },
   "outputs": [],
   "source": [
    "rename_cols <- function(d, code_struc) {\n",
    "    for (col in names(code_struc)) {\n",
    "        if (code_struc[[col]]$search==\"matches\") {\n",
    "            setnames(d, code_struc[[col]]$name, col)\n",
    "        } else if (code_struc[[col]]$search==\"startswith\") {\n",
    "            regex     <- paste0(\"^\", code_struc[[col]]$name)\n",
    "            matches   <- names(d)[grepl(regex, names(d))]\n",
    "            new_names <- paste0(col, \"_\", 1:length(matches))\n",
    "            setnames(d, matches, new_names)\n",
    "        }\n",
    "    }\n",
    "    return(d)\n",
    "}\n",
    "\n",
    "data_files$demog <- rename_cols(data_files$demog, code_struc=participant_codes)\n",
    "data_files$self  <- rename_cols(data_files$self,  code_struc=self_illness_codes)\n",
    "data_files$smed  <- rename_cols(data_files$smed,  code_struc=self_medication_codes)\n",
    "data_files$hesin <- rename_cols(data_files$hesin, code_struc=hesin_to_extract)\n",
    "data_files$diag  <- rename_cols(data_files$diag,  code_struc=hesdiag_to_extract)\n",
    "data_files$oper  <- rename_cols(data_files$oper,  code_struc=hesproc_to_extract)\n",
    "data_files$gp    <- rename_cols(data_files$gp,    code_struc=gp_clinical_codes)\n",
    "data_files$med   <- rename_cols(data_files$med,   code_struc=gp_medication_codes)\n",
    "\n",
    "#lapply(data_files, head, n = 1)"
   ]
  },
  {
   "cell_type": "markdown",
   "id": "4c1c9d7b-1ebd-477f-b628-18b408b28f85",
   "metadata": {},
   "source": [
    "## Data processing"
   ]
  },
  {
   "cell_type": "code",
   "execution_count": null,
   "id": "f5eea41f-4a8f-4d09-9d64-ba9a339fc05a",
   "metadata": {
    "tags": []
   },
   "outputs": [],
   "source": [
    "codes <- fread(file.path(\"heRmes\", \"inst\", \"extdata\", \"hermes_furosemide_codes\", \"hermes_furosemide_codes.tsv\"))\n",
    "codes[, code := sub(\"^'(.+?)'$\", \"\\\\1\", code)]\n",
    "head(codes)"
   ]
  },
  {
   "cell_type": "markdown",
   "id": "b4bb4f48-fd46-49c4-b995-8f1e2072a060",
   "metadata": {},
   "source": [
    "### Clean up the cohort data"
   ]
  },
  {
   "cell_type": "code",
   "execution_count": null,
   "id": "cb6e0baa-566b-4cee-b885-59c5385dc0ab",
   "metadata": {
    "tags": []
   },
   "outputs": [],
   "source": [
    "ethnicity_codes <- list(\n",
    "  white                 = 1,\n",
    "  british               = 1001,\n",
    "  white_black_caribbean = 2001,\n",
    "  indian                = 3001,\n",
    "  caribbean             = 4001,\n",
    "  mixed                 = 2,\n",
    "  irish                 = 1002,\n",
    "  white_black_african   = 2002,\n",
    "  pakistani             = 3002,\n",
    "  african               = 4002,\n",
    "  asian_or_asian_british= 3,\n",
    "  any_other_white       = 1003,\n",
    "  white_asian           = 2003,\n",
    "  bangladeshi           = 3003,\n",
    "  any_other_black       = 4003,\n",
    "  black_or_black_british= 4,\n",
    "  any_other_mixed       = 2004,\n",
    "  any_other_asian       = 3004,\n",
    "  chinese               = 5,\n",
    "  other_ethnic_group    = 6)\n",
    "\n",
    "data_files$demog[, ethnicity := fcoalesce(.SD), .SDcols = names(data_files$demog)[grepl(\"^ethnicity_[0-9]$\", names(data_files$demog))]]\n",
    "\n",
    "data_files$demog <- data_files$demog[, \n",
    "    list(eid               = eid,\n",
    "         reason_lost_fu    = reason_lost_fu,\n",
    "         age               = as.integer(age),\n",
    "         sex               = factor(sex, levels = 0:1, labels = c(\"female\", \"male\")),\n",
    "         ethnicity         = factor(ethnicity, levels = unlist(ethnicity_codes), labels = names(ethnicity_codes)),\n",
    "         ethnicity_group   = factor(sub(\"([0-9])00[0-9]\", \"\\\\1\", ethnicity), levels = unlist(ethnicity_codes), labels = names(ethnicity_codes)),\n",
    "         genetic_sex       = factor(genetic_sex, levels = 0:1, labels = c(\"female\", \"male\")),\n",
    "         genetic_ethnicity = factor(genetic_ethnicity, levels = 1, labels = c(\"caucasian\")), \n",
    "         pc1               = pc1,\n",
    "         pc2               = pc2,\n",
    "         pc3               = pc3,\n",
    "         pc4               = pc4,\n",
    "         pc5               = pc5)]\n",
    "\n",
    "# check\n",
    "stopifnot(\"Failed to parse some date of births\" = all(!is.na(data_files$demog$dob)))\n",
    "stopifnot(\"some ages / dob indicate cohort age <37, is this right?\" = all(data_files$demog$dob <= as.Date(\"1972-01-01\")))"
   ]
  },
  {
   "cell_type": "markdown",
   "id": "11c71fbf-d9bc-4792-911f-f03a4c8df24b",
   "metadata": {},
   "source": [
    "### Self-report illness codes to long"
   ]
  },
  {
   "cell_type": "code",
   "execution_count": null,
   "id": "185abb58-aab7-4a2f-84f8-1b07ccbffb4b",
   "metadata": {
    "tags": []
   },
   "outputs": [],
   "source": [
    "self_rep_code_cols <- grep(\"self_rep_ill_[0-9]+\",      names(data_files$self), value = TRUE)\n",
    "self_rep_year_cols <- grep(\"self_rep_ill_year_[0-9]+\", names(data_files$self), value = TRUE)\n",
    "data_files$self[, (self_rep_code_cols) := lapply(.SD, as.character), .SDcols = self_rep_code_cols]\n",
    "data_files$self[, (self_rep_year_cols) := lapply(.SD, as.numeric),   .SDcols = self_rep_year_cols]\n",
    "data_files$self_illness <- data.table::melt(data_files$self,\n",
    "                                            id.vars = \"eid\",\n",
    "                                            measure = patterns(\"self_rep_ill_[0-9]+\", \"self_rep_ill_year_[0-9]+\"),\n",
    "                                            variable.name = \"element\",\n",
    "                                            value.name = c(\"code\", \"year\"),\n",
    "                                            na.rm = TRUE)\n",
    "data_files$self_illness <- data_files$self_illness[year != -1 & year != -3] # unknown / prefer not to answer\n",
    "data_files$self_illness[, `:=`(date      = lubridate::ymd(paste0(as.character(floor(year)), \"-01-01\")) + lubridate::days(as.integer(365.25 * (year - floor(year)))),\n",
    "                               year      = NULL,\n",
    "                               element   = NULL,\n",
    "                               code      = as.character(code),\n",
    "                               code_type = \"ukbb_self_reported_illness\")]\n",
    "\n",
    "# check self report illness table\n",
    "stopifnot(\"unable to parse dates for self-reported illness codes\" = all(!is.na(data_files$self_illness$date)))\n",
    "stopifnot(\"are you sure something happened before 1900?\" = all(data_files$self_illness$date > as.Date(\"1900-01-01\")))"
   ]
  },
  {
   "cell_type": "markdown",
   "id": "7d47bbfb-296b-4742-a436-589e38786fd8",
   "metadata": {},
   "source": [
    "### Self-report medication codes to long"
   ]
  },
  {
   "cell_type": "code",
   "execution_count": null,
   "id": "3e816036-5c81-4ade-8730-b82a4e9664fa",
   "metadata": {
    "tags": []
   },
   "outputs": [],
   "source": [
    "self_med_code_cols <- grep(\"self_rep_med_[0-9]+\", names(data_files$smed), value = TRUE)\n",
    "data_files$smed[, (self_med_code_cols) := lapply(.SD, as.character), .SDcols = self_med_code_cols]\n",
    "\n",
    "data_files$smed <- data.table::melt(data_files$smed,\n",
    "                                    id.vars = \"eid\",\n",
    "                                    measure = patterns(\"self_rep_med_[0-9]+\"),\n",
    "                                            variable.name = \"element\",\n",
    "                                            value.name = c(\"code\"),\n",
    "                                            na.rm = TRUE)\n",
    "data_files$smed[, `:=`(date      = as.Date(NA_real_),\n",
    "                       element   = NULL,\n",
    "                       code      = as.character(code),\n",
    "                       code_type = \"ukbb_self_reported_medication\")]"
   ]
  },
  {
   "cell_type": "markdown",
   "id": "3c991e4f-c5d3-47c4-8e70-c1819cfd4cc2",
   "metadata": {},
   "source": [
    "### Inpatient diagnosis codes"
   ]
  },
  {
   "cell_type": "code",
   "execution_count": null,
   "id": "872f8578-5090-4854-af5c-be5d9ae2f880",
   "metadata": {
    "tags": []
   },
   "outputs": [],
   "source": [
    "data_files$hesin[is.na(epistart) | epistart == \"\", epistart := admidate]\n",
    "data_files$diag[data_files$hesin, date := as.Date(i.epistart), on = c(\"eid\", \"ins_index\")]\n",
    "data_files$diag[diag_icd9 == \"\", diag_icd9 := NA_character_]\n",
    "data_files$diag[diag_icd10 == \"\", diag_icd10 := NA_character_]\n",
    "data_files$diag <- data.table::melt(data_files$diag,\n",
    "                                    id.vars = c(\"eid\", \"date\"),\n",
    "                                    measure.vars  = c(\"diag_icd9\", \"diag_icd10\"),\n",
    "                                    variable.name = \"code_type\",\n",
    "                                    value.name = \"code\",\n",
    "                                    na.rm = TRUE)\n",
    "data_files$diag[, code_type := data.table::fcase(code_type == \"diag_icd9\", \"icd9\",\n",
    "                                                 code_type == \"diag_icd10\", \"icd10\")]"
   ]
  },
  {
   "cell_type": "markdown",
   "id": "d94f3243-36f5-462c-add5-45778b7bd2cc",
   "metadata": {},
   "source": [
    "### GP activity data"
   ]
  },
  {
   "cell_type": "code",
   "execution_count": null,
   "id": "34987cf1-2ae1-42df-9eb4-6ec0cf8cb099",
   "metadata": {
    "tags": []
   },
   "outputs": [],
   "source": [
    "data_files$gp[read_2 == \"\", read_2 := NA_character_]\n",
    "data_files$gp[read_3 == \"\", read_3 := NA_character_]\n",
    "data_files$gp <- data.table::melt(data_files$gp,\n",
    "                                  id.vars = c(\"eid\", \"date\"),\n",
    "                                  measure.vars  = c(\"read_2\", \"read_3\"),\n",
    "                                  variable.name = \"code_type\",\n",
    "                                  value.name = \"code\",\n",
    "                                  na.rm = TRUE)\n",
    "data_files$gp[, code_type := data.table::fcase(code_type == \"read_2\", \"read2\",\n",
    "                                               code_type == \"read_3\", \"read3\")]"
   ]
  },
  {
   "cell_type": "markdown",
   "id": "8739d805-7178-4af7-8271-7e083522eb72",
   "metadata": {},
   "source": [
    "### GP medication data"
   ]
  },
  {
   "cell_type": "code",
   "execution_count": null,
   "id": "97667f0c-e722-4156-ad8b-a87c7549b0b5",
   "metadata": {
    "tags": []
   },
   "outputs": [],
   "source": [
    "data_files$med[read_2 == \"\", read_2 := NA_character_]\n",
    "data_files$med[bnf_code == \"\", bnf_code := NA_character_]\n",
    "data_files$med[, dmd_code := as.character(dmd_code)]\n",
    "data_files$med <- data.table::melt(data_files$med,\n",
    "                                   id.vars = c(\"eid\", \"date\"),\n",
    "                                   measure.vars  = c(\"read_2\", \"bnf_code\", \"dmd_code\"),\n",
    "                                   variable.name = \"code_type\",\n",
    "                                   value.name = \"code\",\n",
    "                                   na.rm = TRUE)\n",
    "data_files$med[, code_type := data.table::fcase(code_type == \"read_2\",   \"read_med\",\n",
    "                                                code_type == \"bnf_code\", \"bnf\",\n",
    "                                                code_type == \"dmd_code\", \"dmd\")]"
   ]
  },
  {
   "cell_type": "markdown",
   "id": "2db6567b-c7d4-4ffc-9875-dd0c26204b91",
   "metadata": {},
   "source": [
    "### Combine all codes and annotate concepts"
   ]
  },
  {
   "cell_type": "code",
   "execution_count": null,
   "id": "4d061c86-4c48-41fb-a9e4-e5a6494a63db",
   "metadata": {
    "tags": []
   },
   "outputs": [],
   "source": [
    "combined <- rbind(data_files$self_illness, data_files$smed, data_files$diag, data_files$gp, data_files$med)\n",
    "combined <- codes[combined, on = c(\"code\" = \"code\", \"code_type\" = \"code_type\"), allow.cartesian = TRUE]"
   ]
  },
  {
   "cell_type": "markdown",
   "id": "ed609119-1bf2-4c97-a7d3-bcb3457d175b",
   "metadata": {},
   "source": [
    "### Save all ICD-10 codes"
   ]
  },
  {
   "cell_type": "code",
   "execution_count": null,
   "id": "91b55a96-31fc-4336-b90b-09f27f9345dd",
   "metadata": {
    "tags": []
   },
   "outputs": [],
   "source": [
    "all_icd10_codes <- combined[code_type==\"icd10\"][, .(all_icd10_codes = paste0(unique(code),collapse=\";\")), by=eid]\n",
    "data_files$demog[all_icd10_codes, all_icd10_codes := i.all_icd10_codes, on=\"eid\"]"
   ]
  },
  {
   "cell_type": "markdown",
   "id": "83581bce-5358-4736-b28b-5008d00ad6bc",
   "metadata": {},
   "source": [
    "### Annotate individuals with code:code_type counts"
   ]
  },
  {
   "cell_type": "code",
   "execution_count": null,
   "id": "a1a42dfa-a671-4a0c-9f50-e2cd169b179e",
   "metadata": {
    "tags": []
   },
   "outputs": [],
   "source": [
    "combined <- combined[!is.na(concept)] # discard non-annotated codes\n",
    "combined[, concept := tolower(gsub(\" \",\"_\",concept))] # rename\n",
    "d <- dcast(combined, eid ~ concept + code_type, value.var = \"code\",  \n",
    "           fun.aggregate = function(x) paste(x, collapse = \";\"))\n",
    "d[, heart_failure := ifelse(apply(.SD, 1, function(x) any(x != \"\" & !is.na(x))), \"1\", \"\"), .SDcols = names(d)[grepl(\"^heart_failure\", names(d))]]\n",
    "d[, loop_diuretic := ifelse(apply(.SD, 1, function(x) any(x != \"\" & !is.na(x))), \"1\", \"\"), .SDcols = names(d)[grepl(\"^loop_diuretic\", names(d))]]"
   ]
  },
  {
   "cell_type": "markdown",
   "id": "c8e67266-af70-4dc3-bf6b-f0569b98bfdf",
   "metadata": {},
   "source": [
    "### Combine with full cohort"
   ]
  },
  {
   "cell_type": "code",
   "execution_count": null,
   "id": "07244b40-fdef-45b0-b572-e499f7166b08",
   "metadata": {
    "tags": []
   },
   "outputs": [],
   "source": [
    "base_cols <- c(\"eid\", \"age\", \"sex\", \"ethnicity\", \"ethnicity_group\",\"genetic_sex\", \"genetic_ethnicity\", paste0(\"pc\",1:5), \"all_icd10_codes\")\n",
    "measure_cols <- names(d)[names(d) != \"eid\"]\n",
    "cohort <- d[data_files$demog[,mget(base_cols)], on=\"eid\"]\n",
    "#head(cohort)\n",
    "cohort[, (measure_cols) := lapply(.SD, function(x) fifelse(is.na(x),\"\",x)), .SDcols=measure_cols]\n",
    "setcolorder(cohort, base_cols)\n",
    "head(cohort)\n",
    "                                  \n",
    "cohort[data_files$gp[,\"eid\"], any_gp := \"1\", on=\"eid\"][is.na(any_gp), any_gp := \"\"]\n",
    "cohort[data_files$med[,\"eid\"], any_gp_med := \"1\", on=\"eid\"][is.na(any_gp_med), any_gp_med := \"\"]\n",
    "cohort[data_files$diag[,\"eid\"], any_hes := \"1\", on=\"eid\"][is.na(any_hes), any_hes := \"\"]\n",
    "\n",
    "measure_cols <- names(cohort)[!names(cohort) %in% base_cols]\n",
    "summary <- data.table (name = c(\"total\", measure_cols), N = c(nrow(cohort), cohort[, .(sapply(.SD, function(x) sum(!is.na(x) & x!=\"\"))), .SDcols = measure_cols]$V1))\n",
    "head(summary,100)                                                          \n",
    "\n",
    "fwrite(summary,\n",
    "       file = \"hermes_furosemide_phenotype_summary.tsv\",\n",
    "       sep  = \"\\t\")\n",
    "                                                                                              \n",
    "# write out\n",
    "fwrite(cohort,\n",
    "       file = \"hermes_furosemide_phenotypes.tsv.gz\",\n",
    "       sep  = \"\\t\")"
   ]
  },
  {
   "cell_type": "code",
   "execution_count": null,
   "id": "4afcfc57-48be-4228-8502-b2ea8d58a458",
   "metadata": {
    "tags": []
   },
   "outputs": [],
   "source": [
    "### Copy output to project"
   ]
  },
  {
   "cell_type": "code",
   "execution_count": null,
   "id": "46b87ab2-d82a-4043-b7ff-ca971a5583ec",
   "metadata": {
    "tags": []
   },
   "outputs": [],
   "source": [
    "o <- system(\"dx upload hermes_furosemide_phenotype_summary.tsv hermes_furosemide_phenotypes.tsv.gz --destination hermes_furosemide_data\", intern = TRUE)\n",
    "cat(o, sep = \"\\n\")"
   ]
  }
 ],
 "metadata": {
  "kernelspec": {
   "display_name": "R",
   "language": "R",
   "name": "ir"
  },
  "language_info": {
   "codemirror_mode": "r",
   "file_extension": ".r",
   "mimetype": "text/x-r-source",
   "name": "R",
   "pygments_lexer": "r",
   "version": "4.4.0"
  }
 },
 "nbformat": 4,
 "nbformat_minor": 5
}
