{
 "cells": [
  {
   "cell_type": "markdown",
   "id": "253614e0-ef79-4cff-abeb-9c7cec202dfe",
   "metadata": {},
   "source": [
    "## HERMES - furosemide phenotype"
   ]
  },
  {
   "cell_type": "markdown",
   "id": "1a2c0ff6-0886-449e-af31-3044b98588bf",
   "metadata": {},
   "source": [
    "#### Clone HeRmes repository"
   ]
  },
  {
   "cell_type": "code",
   "execution_count": null,
   "id": "fce7e00b-cb51-40d1-977d-16026831d2f0",
   "metadata": {
    "tags": []
   },
   "outputs": [],
   "source": [
    "#system(\"git clone https://github.com/nicksunderland/heRmes.git\")"
   ]
  },
  {
   "cell_type": "markdown",
   "id": "8a01c3b1-910b-405d-aa4a-8fdb18dda816",
   "metadata": {},
   "source": [
    "#### Pushing changes to Github"
   ]
  },
  {
   "cell_type": "code",
   "execution_count": null,
   "id": "4fa66f5d-c128-45fb-88f4-255436e20299",
   "metadata": {
    "tags": []
   },
   "outputs": [],
   "source": [
    "# in ther terminal run\n",
    "# cd /opt/notebooks\n",
    "# dx download git_push.sh\n",
    "# run bash git_push.sh "
   ]
  },
  {
   "cell_type": "markdown",
   "id": "221c70a8-b701-4482-a6d1-a2c00f877a5d",
   "metadata": {},
   "source": [
    "#### Project & record ID"
   ]
  },
  {
   "cell_type": "code",
   "execution_count": null,
   "id": "a5958289-b652-4c12-8a11-0f4683a6da8f",
   "metadata": {
    "tags": []
   },
   "outputs": [],
   "source": [
    "projectid <- \"project-GvZyZ20J81vgPJGbJy8pgpyq\"\n",
    "recordid  <- \"record-Gvb0Bg0Jfxfv0q8Fb2pXqKjg\""
   ]
  },
  {
   "cell_type": "markdown",
   "id": "092c42b4-2cee-4b1c-93f2-b51b73e697fa",
   "metadata": {
    "tags": []
   },
   "source": [
    "#### Libraries"
   ]
  },
  {
   "cell_type": "code",
   "execution_count": null,
   "id": "60c4b528-545b-4f31-b1a1-0352ad833814",
   "metadata": {
    "tags": []
   },
   "outputs": [],
   "source": [
    "library(glue)\n",
    "library(data.table)\n",
    "library(yaml)\n",
    "if (!requireNamespace(\"bit64\", quietly = TRUE)) {\n",
    "  install.packages(\"bit64\")\n",
    "}\n",
    "suppressMessages(library(bit64))\n",
    "source(\"/opt/notebooks/heRmes/R/ukbb_extraction_utils.R\")"
   ]
  },
  {
   "cell_type": "markdown",
   "id": "e519ed12-f0ed-4ca8-b16d-27eb53a787be",
   "metadata": {},
   "source": [
    "## Read in extracted data"
   ]
  },
  {
   "cell_type": "code",
   "execution_count": null,
   "id": "c67949c2-9bae-4ef0-abe5-904b2659d402",
   "metadata": {
    "tags": []
   },
   "outputs": [],
   "source": [
    "# get the extract config\n",
    "config <- read_yaml(\"/opt/notebooks/heRmes/scripts/ukbb_extraction_config.yml\")\n",
    "\n",
    "# take the required tables for this phenotyping\n",
    "    config <- config[c(\"participant\", \"hesin\", \"hes_diag\", \"hes_oper\", \"gp_clinical\", \"gp_scripts\", \"olink_instance_0\", \"olink_instance_2\", \"olink_instance_3\")]\n",
    "\n",
    "# function to \n",
    "\n",
    "# read data \n",
    "data <- list()\n",
    "for (i in seq_along(config)) {\n",
    "    \n",
    "    file_path <- file.path(\"/mnt/project\", config[[i]][[\"output\"]])\n",
    "    \n",
    "    if (!file.exists(file_path)) {\n",
    "        cat(glue(\"Error:\\nFile {file_path} not found, \",\n",
    "                 \"check the Monitor tab for the status of the Table-exporter \",\n",
    "                 \"and the 'hermes_data' folder. If this has finished try \",\n",
    "                 \"launching another Notebook session/instance (I'm not sure why \",\n",
    "                 \"the mounted /mnt/project/ file structure doesn't refresh when \",\n",
    "                 \"files are added externally.\"), sep=\"\\n\")\n",
    "        stop(\"file not found error\")\n",
    "    }\n",
    "    \n",
    "    n <- names(config)[i]\n",
    "    cat(glue('...{n}: {file_path}\\n'), sep=\"\\n\")\n",
    "    flush.console()\n",
    "    data[[n]] <- fread(file_path)\n",
    "    rename_ukbb_cols(data[[n]], col_config=config[[i]][[\"columns\"]])\n",
    "    \n",
    "}\n",
    "\n",
    "lapply(data, head, n = 5)"
   ]
  },
  {
   "cell_type": "markdown",
   "id": "4c1c9d7b-1ebd-477f-b628-18b408b28f85",
   "metadata": {},
   "source": [
    "## Data processing"
   ]
  },
  {
   "cell_type": "code",
   "execution_count": null,
   "id": "f5eea41f-4a8f-4d09-9d64-ba9a339fc05a",
   "metadata": {
    "tags": []
   },
   "outputs": [],
   "source": [
    "codes <- fread(file.path(\"/opt/notebooks\", \"heRmes\", \"inst\", \"extdata\", \"hermes_furosemide_codes\", \"hermes_furosemide_codes.tsv\"))\n",
    "codes[, code := sub(\"^'(.+?)'$\", \"\\\\1\", code)]\n",
    "head(codes)"
   ]
  },
  {
   "cell_type": "markdown",
   "id": "b4bb4f48-fd46-49c4-b995-8f1e2072a060",
   "metadata": {},
   "source": [
    "### Clean up the cohort data"
   ]
  },
  {
   "cell_type": "code",
   "execution_count": null,
   "id": "cb6e0baa-566b-4cee-b885-59c5385dc0ab",
   "metadata": {
    "tags": []
   },
   "outputs": [],
   "source": [
    "ethnicity_codes <- list(\n",
    "  white                 = 1,\n",
    "  british               = 1001,\n",
    "  white_black_caribbean = 2001,\n",
    "  indian                = 3001,\n",
    "  caribbean             = 4001,\n",
    "  mixed                 = 2,\n",
    "  irish                 = 1002,\n",
    "  white_black_african   = 2002,\n",
    "  pakistani             = 3002,\n",
    "  african               = 4002,\n",
    "  asian_or_asian_british= 3,\n",
    "  any_other_white       = 1003,\n",
    "  white_asian           = 2003,\n",
    "  bangladeshi           = 3003,\n",
    "  any_other_black       = 4003,\n",
    "  black_or_black_british= 4,\n",
    "  any_other_mixed       = 2004,\n",
    "  any_other_asian       = 3004,\n",
    "  chinese               = 5,\n",
    "  other_ethnic_group    = 6)\n",
    "\n",
    "data$participant[, ethnicity := fcoalesce(.SD), .SDcols = names(data$participant)[grepl(\"^ethnicity_[0-9]$\", names(data$participant))]]\n",
    "\n",
    "data$demog <- data$participant[, \n",
    "    list(eid               = eid,\n",
    "         reason_lost_fu    = reason_lost_fu,\n",
    "         assessment_age    = as.integer(assessment_age_1),\n",
    "         assessment_date   = as.Date(assessment_date_1),\n",
    "         sex               = factor(sex, levels = 0:1, labels = c(\"female\", \"male\")),\n",
    "         weight            = as.numeric(weight_1), \n",
    "         height            = as.numeric(height_1), \n",
    "         bmi               = as.numeric(bmi_1),\n",
    "         ethnicity         = factor(ethnicity, levels = unlist(ethnicity_codes), labels = names(ethnicity_codes)),\n",
    "         ethnicity_group   = factor(sub(\"([0-9])00[0-9]\", \"\\\\1\", ethnicity), levels = unlist(ethnicity_codes), labels = names(ethnicity_codes)),\n",
    "         genetic_sex       = factor(genetic_sex, levels = 0:1, labels = c(\"female\", \"male\")),\n",
    "         genetic_ethnicity = factor(genetic_ethnicity, levels = 1, labels = c(\"caucasian\")), \n",
    "         pc1               = pc1,\n",
    "         pc2               = pc2,\n",
    "         pc3               = pc3,\n",
    "         pc4               = pc4,\n",
    "         pc5               = pc5)]"
   ]
  },
  {
   "cell_type": "markdown",
   "id": "11c71fbf-d9bc-4792-911f-f03a4c8df24b",
   "metadata": {},
   "source": [
    "### Self-report illness codes to long"
   ]
  },
  {
   "cell_type": "code",
   "execution_count": null,
   "id": "185abb58-aab7-4a2f-84f8-1b07ccbffb4b",
   "metadata": {
    "tags": []
   },
   "outputs": [],
   "source": [
    "self_rep_code_cols <- grep(\"self_rep_ill_[0-9]+\",      names(data$participant), value = TRUE)\n",
    "self_rep_year_cols <- grep(\"self_rep_ill_year_[0-9]+\", names(data$participant), value = TRUE)\n",
    "data$participant[, (self_rep_code_cols) := lapply(.SD, as.character), .SDcols = self_rep_code_cols]\n",
    "data$participant[, (self_rep_year_cols) := lapply(.SD, as.numeric),   .SDcols = self_rep_year_cols]\n",
    "data$self_illness <- data.table::melt(data$participant,\n",
    "                                      id.vars = \"eid\",\n",
    "                                      measure = patterns(\"self_rep_ill_[0-9]+\", \"self_rep_ill_year_[0-9]+\"),\n",
    "                                      variable.name = \"element\",\n",
    "                                      value.name = c(\"code\", \"year\"),\n",
    "                                      na.rm = TRUE)\n",
    "data$self_illness <- data$self_illness[year != -1 & year != -3] # unknown / prefer not to answer\n",
    "data$self_illness[, `:=`(date      = lubridate::ymd(paste0(as.character(floor(year)), \"-01-01\")) + lubridate::days(as.integer(365.25 * (year - floor(year)))),\n",
    "                         year      = NULL,\n",
    "                         element   = NULL,\n",
    "                         code      = as.character(code),\n",
    "                         code_type = \"ukbb_self_reported_illness\")]\n",
    "\n",
    "# check self report illness table\n",
    "stopifnot(\"unable to parse dates for self-reported illness codes\" = all(!is.na(data$self_illness$date)))\n",
    "stopifnot(\"are you sure something happened before 1900?\" = all(data$self_illness$date > as.Date(\"1900-01-01\")))"
   ]
  },
  {
   "cell_type": "markdown",
   "id": "7d47bbfb-296b-4742-a436-589e38786fd8",
   "metadata": {},
   "source": [
    "### Self-report medication codes to long"
   ]
  },
  {
   "cell_type": "code",
   "execution_count": null,
   "id": "3e816036-5c81-4ade-8730-b82a4e9664fa",
   "metadata": {
    "tags": []
   },
   "outputs": [],
   "source": [
    "self_med_code_cols <- grep(\"self_rep_med_[0-9]+\", names(data$participant), value = TRUE)\n",
    "data$participant[, (self_med_code_cols) := lapply(.SD, as.character), .SDcols = self_med_code_cols]\n",
    "data$smed <- data.table::melt(data$participant,\n",
    "                              id.vars = \"eid\",\n",
    "                              measure = patterns(\"self_rep_med_[0-9]+\"),\n",
    "                              variable.name = \"element\",\n",
    "                              value.name = c(\"code\"),\n",
    "                              na.rm = TRUE)\n",
    "data$smed[, `:=`(date      = as.Date(NA_real_),\n",
    "                 element   = NULL,\n",
    "                 code      = as.character(code),\n",
    "                 code_type = \"ukbb_self_reported_medication\")]"
   ]
  },
  {
   "cell_type": "markdown",
   "id": "bc3fd4fc-7650-4f7b-83cb-30ff4524ed63",
   "metadata": {},
   "source": [
    "### OLINK codes to long"
   ]
  },
  {
   "cell_type": "code",
   "execution_count": null,
   "id": "51c13582-8732-44be-8596-4fccd1aa355b",
   "metadata": {
    "tags": []
   },
   "outputs": [],
   "source": [
    "data$olink <- rbindlist(list(\n",
    "    data$olink_instance_0[data$participant, date := i.sample_collection_date_1, on=\"eid\"] |> melt(id.vars=c(\"eid\",\"date\"), measure.vars=c(\"ntprobnp\",\"glp1r\"), value.name=\"value\", variable.name=\"measure\"), \n",
    "    data$olink_instance_2[data$participant, date := i.sample_collection_date_3, on=\"eid\"] |> melt(id.vars=c(\"eid\",\"date\"), measure.vars=c(\"ntprobnp\"), value.name=\"value\", variable.name=\"measure\"), \n",
    "    data$olink_instance_3[data$participant, date := i.sample_collection_date_4, on=\"eid\"] |> melt(id.vars=c(\"eid\",\"date\"), measure.vars=c(\"ntprobnp\"), value.name=\"value\", variable.name=\"measure\")\n",
    ")) \n",
    "data$olink <- data$olink[, .(eid, date=as.Date(date), code=paste(measure, value, sep=\"=\"), code_type = \"olink\")] "
   ]
  },
  {
   "cell_type": "markdown",
   "id": "e3e28797-e2bd-4dd0-afa1-257a5b4c5bb5",
   "metadata": {},
   "source": [
    "### Blood tests to long"
   ]
  },
  {
   "cell_type": "code",
   "execution_count": null,
   "id": "d275136e-42c5-4ff3-be22-4a92702f75f7",
   "metadata": {
    "tags": []
   },
   "outputs": [],
   "source": [
    "data$bloods <- rbind(\n",
    "    data.table::melt(data$participant, \n",
    "                     id.vars = \"eid\", \n",
    "                     measure = patterns(code=\"creatinine_(1|2)\", date=\"sample_collection_date_(1|2)\"),\n",
    "                     na.rm = TRUE)[, code := paste0(\"creatinine=\", code)],\n",
    "    data.table::melt(data$participant, \n",
    "                     id.vars = \"eid\", \n",
    "                     measure = patterns(code=\"cystatin_c_(1|2)\", date=\"sample_collection_date_(1|2)\"),\n",
    "                     na.rm = TRUE)[, code := paste0(\"cystatin_c=\", code)]\n",
    ")\n",
    "data$bloods[, `:=`(variable  = NULL,\n",
    "                   date      = as.Date(date),\n",
    "                   code_type = \"blood_tests\")]"
   ]
  },
  {
   "cell_type": "markdown",
   "id": "3c991e4f-c5d3-47c4-8e70-c1819cfd4cc2",
   "metadata": {},
   "source": [
    "### Inpatient diagnosis codes"
   ]
  },
  {
   "cell_type": "code",
   "execution_count": null,
   "id": "872f8578-5090-4854-af5c-be5d9ae2f880",
   "metadata": {
    "tags": []
   },
   "outputs": [],
   "source": [
    "data$hesin[is.na(epistart) | epistart == \"\", epistart := admidate]\n",
    "data$hes_diag[data$hesin, date := as.Date(i.epistart), on = c(\"eid\", \"ins_index\")]\n",
    "data$hes_diag[diag_icd9 == \"\", diag_icd9 := NA_character_]\n",
    "data$hes_diag[diag_icd10 == \"\", diag_icd10 := NA_character_]\n",
    "data$hes_diag <- data.table::melt(data$hes_diag,\n",
    "                                  id.vars = c(\"eid\", \"date\"),\n",
    "                                  measure.vars  = c(\"diag_icd9\", \"diag_icd10\"),\n",
    "                                  variable.name = \"code_type\",\n",
    "                                  value.name = \"code\",\n",
    "                                  na.rm = TRUE)\n",
    "data$hes_diag[, code_type := data.table::fcase(code_type == \"diag_icd9\", \"icd9\",\n",
    "                                               code_type == \"diag_icd10\", \"icd10\")]"
   ]
  },
  {
   "cell_type": "markdown",
   "id": "d94f3243-36f5-462c-add5-45778b7bd2cc",
   "metadata": {},
   "source": [
    "### GP activity data"
   ]
  },
  {
   "cell_type": "code",
   "execution_count": null,
   "id": "34987cf1-2ae1-42df-9eb4-6ec0cf8cb099",
   "metadata": {
    "tags": []
   },
   "outputs": [],
   "source": [
    "data$gp_clinical[read_2 == \"\", read_2 := NA_character_]\n",
    "data$gp_clinical[read_3 == \"\", read_3 := NA_character_]\n",
    "data$gp_clinical <- data.table::melt(data$gp_clinical,\n",
    "                                     id.vars = c(\"eid\", \"date\"),\n",
    "                                     measure.vars  = c(\"read_2\", \"read_3\"),\n",
    "                                     variable.name = \"code_type\",\n",
    "                                     value.name = \"code\",\n",
    "                                     na.rm = TRUE)\n",
    "data$gp_clinical[, code_type := data.table::fcase(code_type == \"read_2\", \"read2\",\n",
    "                                                  code_type == \"read_3\", \"read3\")]"
   ]
  },
  {
   "cell_type": "markdown",
   "id": "8739d805-7178-4af7-8271-7e083522eb72",
   "metadata": {},
   "source": [
    "### GP medication data"
   ]
  },
  {
   "cell_type": "code",
   "execution_count": null,
   "id": "97667f0c-e722-4156-ad8b-a87c7549b0b5",
   "metadata": {
    "tags": []
   },
   "outputs": [],
   "source": [
    "data$gp_scripts[read_2 == \"\", read_2 := NA_character_]\n",
    "data$gp_scripts[bnf_code == \"\", bnf_code := NA_character_]\n",
    "data$gp_scripts[, dmd_code := as.character(dmd_code)]\n",
    "data$gp_scripts <- data.table::melt(data$gp_scripts,\n",
    "                                    id.vars = c(\"eid\", \"date\"),\n",
    "                                    measure.vars  = c(\"read_2\", \"bnf_code\", \"dmd_code\"),\n",
    "                                    variable.name = \"code_type\",\n",
    "                                    value.name = \"code\",\n",
    "                                    na.rm = TRUE)\n",
    "data$gp_scripts[, code_type := data.table::fcase(code_type == \"read_2\",   \"read_med\",\n",
    "                                                 code_type == \"bnf_code\", \"bnf\",\n",
    "                                                 code_type == \"dmd_code\", \"dmd\")]"
   ]
  },
  {
   "cell_type": "markdown",
   "id": "2db6567b-c7d4-4ffc-9875-dd0c26204b91",
   "metadata": {},
   "source": [
    "### Combine all codes and annotate concepts"
   ]
  },
  {
   "cell_type": "code",
   "execution_count": null,
   "id": "4d061c86-4c48-41fb-a9e4-e5a6494a63db",
   "metadata": {
    "tags": []
   },
   "outputs": [],
   "source": [
    "combined <- rbind(data$self_illness, data$smed, data$hes_diag, data$gp_clinical, data$gp_scripts, data$bloods, data$olink)\n",
    "combined <- codes[combined, on = c(\"code\" = \"code\", \"code_type\" = \"code_type\"), allow.cartesian = TRUE]\n",
    "head(combined)"
   ]
  },
  {
   "cell_type": "markdown",
   "id": "ed609119-1bf2-4c97-a7d3-bcb3457d175b",
   "metadata": {},
   "source": [
    "### Save all ICD-10 codes"
   ]
  },
  {
   "cell_type": "code",
   "execution_count": null,
   "id": "91b55a96-31fc-4336-b90b-09f27f9345dd",
   "metadata": {
    "tags": []
   },
   "outputs": [],
   "source": [
    "library(data.table)\n",
    "all_icd10_codes <- combined[code_type==\"icd10\"][, .(all_icd10_codes = paste0(unique(code),collapse=\";\")), by=eid]\n",
    "data$demog[all_icd10_codes, all_icd10_codes := i.all_icd10_codes, on=\"eid\"]"
   ]
  },
  {
   "cell_type": "markdown",
   "id": "83581bce-5358-4736-b28b-5008d00ad6bc",
   "metadata": {},
   "source": [
    "### Annotate individuals with code:code_type counts"
   ]
  },
  {
   "cell_type": "code",
   "execution_count": null,
   "id": "a1a42dfa-a671-4a0c-9f50-e2cd169b179e",
   "metadata": {
    "tags": []
   },
   "outputs": [],
   "source": [
    "combined[code_type %in% c(\"olink\", \"blood_tests\"), c(\"concept\", \"code\") := tstrsplit(code, \"=\", fixed = TRUE)]\n",
    "combined <- combined[!is.na(concept)] # discard non-annotated codes\n",
    "combined[, concept := tolower(gsub(\" \",\"_\",concept))] # rename\n",
    "combined[, code := paste0(date,\"#\",code)]\n",
    "d <- dcast(combined, eid ~ concept + code_type, value.var = \"code\",  \n",
    "           fun.aggregate = function(x) paste(x, collapse = \";\"))\n",
    "d[, heart_failure := ifelse(apply(.SD, 1, function(x) any(x != \"\" & !is.na(x))), \"1\", \"\"), .SDcols = names(d)[grepl(\"^heart_failure\", names(d))]]\n",
    "d[, loop_diuretic := ifelse(apply(.SD, 1, function(x) any(x != \"\" & !is.na(x))), \"1\", \"\"), .SDcols = names(d)[grepl(\"^loop_diuretic\", names(d))]]"
   ]
  },
  {
   "cell_type": "markdown",
   "id": "c8e67266-af70-4dc3-bf6b-f0569b98bfdf",
   "metadata": {},
   "source": [
    "### Combine with full cohort"
   ]
  },
  {
   "cell_type": "code",
   "execution_count": null,
   "id": "07244b40-fdef-45b0-b572-e499f7166b08",
   "metadata": {
    "tags": []
   },
   "outputs": [],
   "source": [
    "base_cols <- c(\"eid\", \"assessment_age\", \"assessment_date\", \"sex\", \"ethnicity\", \"ethnicity_group\",\"genetic_sex\", \"genetic_ethnicity\", paste0(\"pc\",1:5), \"all_icd10_codes\")\n",
    "measure_cols <- names(d)[names(d) != \"eid\"]\n",
    "cohort <- d[data$demog[,mget(base_cols)], on=\"eid\"]\n",
    "#head(cohort)\n",
    "cohort[, (measure_cols) := lapply(.SD, function(x) fifelse(is.na(x),\"\",x)), .SDcols=measure_cols]\n",
    "setcolorder(cohort, base_cols)\n",
    "head(cohort)\n",
    "                                  \n",
    "cohort[data$gp_clinical[,\"eid\"], any_gp := \"1\", on=\"eid\"][is.na(any_gp), any_gp := \"\"]\n",
    "cohort[data$gp_scripts[,\"eid\"], any_gp_med := \"1\", on=\"eid\"][is.na(any_gp_med), any_gp_med := \"\"]\n",
    "cohort[data$hes_diag[,\"eid\"], any_hes := \"1\", on=\"eid\"][is.na(any_hes), any_hes := \"\"]\n",
    "\n",
    "measure_cols <- names(cohort)[!names(cohort) %in% base_cols]\n",
    "summary <- data.table (name = c(\"total\", measure_cols), N = c(nrow(cohort), cohort[, .(sapply(.SD, function(x) sum(!is.na(x) & x!=\"\"))), .SDcols = measure_cols]$V1))\n",
    "head(summary,100)                                                          \n",
    "\n",
    "fwrite(summary,\n",
    "       file = \"/opt/notebooks/hermes_furosemide_phenotype_summary.tsv\",\n",
    "       sep  = \"\\t\")\n",
    "                                                                                              \n",
    "# write out\n",
    "fwrite(cohort,\n",
    "       file = \"/opt/notebooks/hermes_furosemide_phenotypes.tsv.gz\",\n",
    "       sep  = \"\\t\")"
   ]
  },
  {
   "cell_type": "markdown",
   "id": "d306450f-eaba-41f5-b083-53c30e622d4c",
   "metadata": {
    "tags": []
   },
   "source": [
    "### Copy output to project"
   ]
  },
  {
   "cell_type": "code",
   "execution_count": null,
   "id": "46b87ab2-d82a-4043-b7ff-ca971a5583ec",
   "metadata": {
    "tags": []
   },
   "outputs": [],
   "source": [
    "o <- system(\"dx upload /opt/notebooks/hermes_furosemide_phenotype_summary.tsv /opt/notebooks/hermes_furosemide_phenotypes.tsv.gz --destination hermes_furosemide_data\", intern = TRUE)\n",
    "cat(o, sep = \"\\n\")"
   ]
  },
  {
   "cell_type": "code",
   "execution_count": null,
   "id": "4f477829-c6b5-4a7a-883d-0c748a0efabd",
   "metadata": {},
   "outputs": [],
   "source": []
  }
 ],
 "metadata": {
  "kernelspec": {
   "display_name": "R",
   "language": "R",
   "name": "ir"
  },
  "language_info": {
   "codemirror_mode": "r",
   "file_extension": ".r",
   "mimetype": "text/x-r-source",
   "name": "R",
   "pygments_lexer": "r",
   "version": "4.4.0"
  }
 },
 "nbformat": 4,
 "nbformat_minor": 5
}
