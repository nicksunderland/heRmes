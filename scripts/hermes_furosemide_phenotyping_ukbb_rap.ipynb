{
 "cells": [
  {
   "cell_type": "markdown",
   "id": "253614e0-ef79-4cff-abeb-9c7cec202dfe",
   "metadata": {},
   "source": [
    "## HERMES - furosemide phenotype"
   ]
  },
  {
   "cell_type": "markdown",
   "id": "1a2c0ff6-0886-449e-af31-3044b98588bf",
   "metadata": {},
   "source": [
    "#### Clone HeRmes repository"
   ]
  },
  {
   "cell_type": "code",
   "execution_count": null,
   "id": "fce7e00b-cb51-40d1-977d-16026831d2f0",
   "metadata": {
    "tags": []
   },
   "outputs": [],
   "source": [
    "#system(\"git clone https://github.com/nicksunderland/heRmes.git\")"
   ]
  },
  {
   "cell_type": "markdown",
   "id": "8a01c3b1-910b-405d-aa4a-8fdb18dda816",
   "metadata": {},
   "source": [
    "#### Pushing changes to Github"
   ]
  },
  {
   "cell_type": "code",
   "execution_count": null,
   "id": "4fa66f5d-c128-45fb-88f4-255436e20299",
   "metadata": {
    "tags": []
   },
   "outputs": [],
   "source": [
    "# in ther terminal run\n",
    "# cd /opt/notebooks\n",
    "# dx download git_push.sh\n",
    "# run bash git_push.sh "
   ]
  },
  {
   "cell_type": "markdown",
   "id": "221c70a8-b701-4482-a6d1-a2c00f877a5d",
   "metadata": {},
   "source": [
    "#### Project & record ID"
   ]
  },
  {
   "cell_type": "code",
   "execution_count": null,
   "id": "a5958289-b652-4c12-8a11-0f4683a6da8f",
   "metadata": {
    "tags": []
   },
   "outputs": [],
   "source": [
    "projectid <- \"project-GvZyZ20J81vgPJGbJy8pgpyq\"\n",
    "recordid  <- \"record-Gvb0Bg0Jfxfv0q8Fb2pXqKjg\""
   ]
  },
  {
   "cell_type": "markdown",
   "id": "092c42b4-2cee-4b1c-93f2-b51b73e697fa",
   "metadata": {
    "tags": []
   },
   "source": [
    "#### Libraries"
   ]
  },
  {
   "cell_type": "code",
   "execution_count": 4,
   "id": "60c4b528-545b-4f31-b1a1-0352ad833814",
   "metadata": {
    "tags": []
   },
   "outputs": [],
   "source": [
    "library(glue)\n",
    "library(data.table)\n",
    "library(yaml)\n",
    "if (!requireNamespace(\"bit64\", quietly = TRUE)) {\n",
    "  install.packages(\"bit64\")\n",
    "}\n",
    "suppressMessages(library(bit64))\n",
    "source(\"/opt/notebooks/heRmes/R/ukbb_extraction_utils.R\")"
   ]
  },
  {
   "cell_type": "markdown",
   "id": "e519ed12-f0ed-4ca8-b16d-27eb53a787be",
   "metadata": {},
   "source": [
    "## Read in extracted data"
   ]
  },
  {
   "cell_type": "code",
   "execution_count": null,
   "id": "c67949c2-9bae-4ef0-abe5-904b2659d402",
   "metadata": {
    "tags": []
   },
   "outputs": [
    {
     "name": "stdout",
     "output_type": "stream",
     "text": [
      "...participant: /mnt/project/hermes3_data/data_participant.tsv\n",
      "...hesin: /mnt/project/hermes3_data/data_hesin.tsv\n",
      "...hes_diag: /mnt/project/hermes3_data/data_hesin_diag.tsv\n",
      "...hes_oper: /mnt/project/hermes3_data/data_hesin_oper.tsv\n",
      "...gp_clinical: /mnt/project/hermes3_data/data_gp_clinical.tsv\n"
     ]
    }
   ],
   "source": [
    "# get the extract config\n",
    "config <- read_yaml(\"/opt/notebooks/heRmes/scripts/ukbb_extraction_config.yml\")\n",
    "\n",
    "# take the required tables for this phenotyping\n",
    "config <- config[c(\"participant\", \"hesin\", \"hes_diag\", \"hes_oper\", \"gp_clinical\", \"gp_scripts\", \"olink_instance_0\", \"olink_instance_2\", \"olink_instance_3\")]\n",
    "\n",
    "# function to \n",
    "\n",
    "# read data \n",
    "data <- list()\n",
    "for (i in seq_along(config)) {\n",
    "    \n",
    "    file_path <- file.path(\"/mnt/project\", config[[i]][[\"output\"]])\n",
    "    \n",
    "    if (!file.exists(file_path)) {\n",
    "        cat(glue(\"Error:\\nFile {file_path} not found, \",\n",
    "                 \"check the Monitor tab for the status of the Table-exporter \",\n",
    "                 \"and the 'hermes_data' folder. If this has finished try \",\n",
    "                 \"launching another Notebook session/instance (I'm not sure why \",\n",
    "                 \"the mounted /mnt/project/ file structure doesn't refresh when \",\n",
    "                 \"files are added externally.\"), sep=\"\\n\")\n",
    "        stop(\"file not found error\")\n",
    "    }\n",
    "    \n",
    "    n <- names(config)[i]\n",
    "    cat(glue('...{n}: {file_path}\\n'), sep=\"\\n\")\n",
    "    flush.console()\n",
    "    data[[n]] <- fread(file_path)\n",
    "    rename_ukbb_cols(data[[n]], col_config=config[[i]][[\"columns\"]])\n",
    "    \n",
    "}\n",
    "\n",
    "lapply(data, head, n = 5)"
   ]
  },
  {
   "cell_type": "markdown",
   "id": "4c1c9d7b-1ebd-477f-b628-18b408b28f85",
   "metadata": {},
   "source": [
    "## Data processing"
   ]
  },
  {
   "cell_type": "code",
   "execution_count": 6,
   "id": "f5eea41f-4a8f-4d09-9d64-ba9a339fc05a",
   "metadata": {
    "tags": []
   },
   "outputs": [
    {
     "data": {
      "text/html": [
       "<table class=\"dataframe\">\n",
       "<caption>A data.table: 6 × 4</caption>\n",
       "<thead>\n",
       "\t<tr><th scope=col>concept</th><th scope=col>code</th><th scope=col>code_type</th><th scope=col>description</th></tr>\n",
       "\t<tr><th scope=col>&lt;chr&gt;</th><th scope=col>&lt;chr&gt;</th><th scope=col>&lt;chr&gt;</th><th scope=col>&lt;chr&gt;</th></tr>\n",
       "</thead>\n",
       "<tbody>\n",
       "\t<tr><td>Heart Failure</td><td>1076           </td><td>ukbb_self_reported_illness</td><td>heart failure/pulmonary odema      </td></tr>\n",
       "\t<tr><td>Heart Failure</td><td>0205052AEAAAAAA</td><td>bnf                       </td><td>Sacubitril/Valsartan_Tab 49mg/51mg </td></tr>\n",
       "\t<tr><td>Heart Failure</td><td>0205052AEAAABAB</td><td>bnf                       </td><td>Sacubitril/Valsartan_Tab 97mg/103mg</td></tr>\n",
       "\t<tr><td>Heart Failure</td><td>0205052AEAAACAC</td><td>bnf                       </td><td>Sacubitril/Valsartan_Tab 24mg/26mg </td></tr>\n",
       "\t<tr><td>Heart Failure</td><td>0205052AEBBAAAA</td><td>bnf                       </td><td>Entresto_Tab 49mg/51mg             </td></tr>\n",
       "\t<tr><td>Heart Failure</td><td>0205052AEBBABAB</td><td>bnf                       </td><td>Entresto_Tab 97mg/103mg            </td></tr>\n",
       "</tbody>\n",
       "</table>\n"
      ],
      "text/latex": [
       "A data.table: 6 × 4\n",
       "\\begin{tabular}{llll}\n",
       " concept & code & code\\_type & description\\\\\n",
       " <chr> & <chr> & <chr> & <chr>\\\\\n",
       "\\hline\n",
       "\t Heart Failure & 1076            & ukbb\\_self\\_reported\\_illness & heart failure/pulmonary odema      \\\\\n",
       "\t Heart Failure & 0205052AEAAAAAA & bnf                        & Sacubitril/Valsartan\\_Tab 49mg/51mg \\\\\n",
       "\t Heart Failure & 0205052AEAAABAB & bnf                        & Sacubitril/Valsartan\\_Tab 97mg/103mg\\\\\n",
       "\t Heart Failure & 0205052AEAAACAC & bnf                        & Sacubitril/Valsartan\\_Tab 24mg/26mg \\\\\n",
       "\t Heart Failure & 0205052AEBBAAAA & bnf                        & Entresto\\_Tab 49mg/51mg             \\\\\n",
       "\t Heart Failure & 0205052AEBBABAB & bnf                        & Entresto\\_Tab 97mg/103mg            \\\\\n",
       "\\end{tabular}\n"
      ],
      "text/markdown": [
       "\n",
       "A data.table: 6 × 4\n",
       "\n",
       "| concept &lt;chr&gt; | code &lt;chr&gt; | code_type &lt;chr&gt; | description &lt;chr&gt; |\n",
       "|---|---|---|---|\n",
       "| Heart Failure | 1076            | ukbb_self_reported_illness | heart failure/pulmonary odema       |\n",
       "| Heart Failure | 0205052AEAAAAAA | bnf                        | Sacubitril/Valsartan_Tab 49mg/51mg  |\n",
       "| Heart Failure | 0205052AEAAABAB | bnf                        | Sacubitril/Valsartan_Tab 97mg/103mg |\n",
       "| Heart Failure | 0205052AEAAACAC | bnf                        | Sacubitril/Valsartan_Tab 24mg/26mg  |\n",
       "| Heart Failure | 0205052AEBBAAAA | bnf                        | Entresto_Tab 49mg/51mg              |\n",
       "| Heart Failure | 0205052AEBBABAB | bnf                        | Entresto_Tab 97mg/103mg             |\n",
       "\n"
      ],
      "text/plain": [
       "  concept       code            code_type                 \n",
       "1 Heart Failure 1076            ukbb_self_reported_illness\n",
       "2 Heart Failure 0205052AEAAAAAA bnf                       \n",
       "3 Heart Failure 0205052AEAAABAB bnf                       \n",
       "4 Heart Failure 0205052AEAAACAC bnf                       \n",
       "5 Heart Failure 0205052AEBBAAAA bnf                       \n",
       "6 Heart Failure 0205052AEBBABAB bnf                       \n",
       "  description                        \n",
       "1 heart failure/pulmonary odema      \n",
       "2 Sacubitril/Valsartan_Tab 49mg/51mg \n",
       "3 Sacubitril/Valsartan_Tab 97mg/103mg\n",
       "4 Sacubitril/Valsartan_Tab 24mg/26mg \n",
       "5 Entresto_Tab 49mg/51mg             \n",
       "6 Entresto_Tab 97mg/103mg            "
      ]
     },
     "metadata": {},
     "output_type": "display_data"
    }
   ],
   "source": [
    "codes <- fread(file.path(\"/opt/notebooks\", \"heRmes\", \"inst\", \"extdata\", \"hermes_furosemide_codes\", \"hermes_furosemide_codes.tsv\"))\n",
    "codes[, code := sub(\"^'(.+?)'$\", \"\\\\1\", code)]\n",
    "head(codes)"
   ]
  },
  {
   "cell_type": "markdown",
   "id": "b4bb4f48-fd46-49c4-b995-8f1e2072a060",
   "metadata": {},
   "source": [
    "### Clean up the cohort data"
   ]
  },
  {
   "cell_type": "code",
   "execution_count": 7,
   "id": "cb6e0baa-566b-4cee-b885-59c5385dc0ab",
   "metadata": {
    "tags": []
   },
   "outputs": [],
   "source": [
    "ethnicity_codes <- list(\n",
    "  white                 = 1,\n",
    "  british               = 1001,\n",
    "  white_black_caribbean = 2001,\n",
    "  indian                = 3001,\n",
    "  caribbean             = 4001,\n",
    "  mixed                 = 2,\n",
    "  irish                 = 1002,\n",
    "  white_black_african   = 2002,\n",
    "  pakistani             = 3002,\n",
    "  african               = 4002,\n",
    "  asian_or_asian_british= 3,\n",
    "  any_other_white       = 1003,\n",
    "  white_asian           = 2003,\n",
    "  bangladeshi           = 3003,\n",
    "  any_other_black       = 4003,\n",
    "  black_or_black_british= 4,\n",
    "  any_other_mixed       = 2004,\n",
    "  any_other_asian       = 3004,\n",
    "  chinese               = 5,\n",
    "  other_ethnic_group    = 6)\n",
    "\n",
    "data$participant[, ethnicity := fcoalesce(.SD), .SDcols = names(data$participant)[grepl(\"^ethnicity_[0-9]$\", names(data$participant))]]\n",
    "\n",
    "data$demog <- data$participant[, \n",
    "    list(eid               = eid,\n",
    "         reason_lost_fu    = reason_lost_fu,\n",
    "         age               = as.integer(age),\n",
    "         sex               = factor(sex, levels = 0:1, labels = c(\"female\", \"male\")),\n",
    "         ethnicity         = factor(ethnicity, levels = unlist(ethnicity_codes), labels = names(ethnicity_codes)),\n",
    "         ethnicity_group   = factor(sub(\"([0-9])00[0-9]\", \"\\\\1\", ethnicity), levels = unlist(ethnicity_codes), labels = names(ethnicity_codes)),\n",
    "         genetic_sex       = factor(genetic_sex, levels = 0:1, labels = c(\"female\", \"male\")),\n",
    "         genetic_ethnicity = factor(genetic_ethnicity, levels = 1, labels = c(\"caucasian\")), \n",
    "         pc1               = pc1,\n",
    "         pc2               = pc2,\n",
    "         pc3               = pc3,\n",
    "         pc4               = pc4,\n",
    "         pc5               = pc5)]"
   ]
  },
  {
   "cell_type": "markdown",
   "id": "11c71fbf-d9bc-4792-911f-f03a4c8df24b",
   "metadata": {},
   "source": [
    "### Self-report illness codes to long"
   ]
  },
  {
   "cell_type": "code",
   "execution_count": 8,
   "id": "185abb58-aab7-4a2f-84f8-1b07ccbffb4b",
   "metadata": {
    "tags": []
   },
   "outputs": [],
   "source": [
    "self_rep_code_cols <- grep(\"self_rep_ill_[0-9]+\",      names(data$participant), value = TRUE)\n",
    "self_rep_year_cols <- grep(\"self_rep_ill_year_[0-9]+\", names(data$participant), value = TRUE)\n",
    "data$participant[, (self_rep_code_cols) := lapply(.SD, as.character), .SDcols = self_rep_code_cols]\n",
    "data$participant[, (self_rep_year_cols) := lapply(.SD, as.numeric),   .SDcols = self_rep_year_cols]\n",
    "data$self_illness <- data.table::melt(data$participant,\n",
    "                                      id.vars = \"eid\",\n",
    "                                      measure = patterns(\"self_rep_ill_[0-9]+\", \"self_rep_ill_year_[0-9]+\"),\n",
    "                                      variable.name = \"element\",\n",
    "                                      value.name = c(\"code\", \"year\"),\n",
    "                                      na.rm = TRUE)\n",
    "data$self_illness <- data$self_illness[year != -1 & year != -3] # unknown / prefer not to answer\n",
    "data$self_illness[, `:=`(date      = lubridate::ymd(paste0(as.character(floor(year)), \"-01-01\")) + lubridate::days(as.integer(365.25 * (year - floor(year)))),\n",
    "                         year      = NULL,\n",
    "                         element   = NULL,\n",
    "                         code      = as.character(code),\n",
    "                         code_type = \"ukbb_self_reported_illness\")]\n",
    "\n",
    "# check self report illness table\n",
    "stopifnot(\"unable to parse dates for self-reported illness codes\" = all(!is.na(data$self_illness$date)))\n",
    "stopifnot(\"are you sure something happened before 1900?\" = all(data$self_illness$date > as.Date(\"1900-01-01\")))"
   ]
  },
  {
   "cell_type": "markdown",
   "id": "7d47bbfb-296b-4742-a436-589e38786fd8",
   "metadata": {},
   "source": [
    "### Self-report medication codes to long"
   ]
  },
  {
   "cell_type": "code",
   "execution_count": 9,
   "id": "3e816036-5c81-4ade-8730-b82a4e9664fa",
   "metadata": {
    "tags": []
   },
   "outputs": [],
   "source": [
    "self_med_code_cols <- grep(\"self_rep_med_[0-9]+\", names(data$participant), value = TRUE)\n",
    "data$participant[, (self_med_code_cols) := lapply(.SD, as.character), .SDcols = self_med_code_cols]\n",
    "data$smed <- data.table::melt(data$participant,\n",
    "                              id.vars = \"eid\",\n",
    "                              measure = patterns(\"self_rep_med_[0-9]+\"),\n",
    "                              variable.name = \"element\",\n",
    "                              value.name = c(\"code\"),\n",
    "                              na.rm = TRUE)\n",
    "data$smed[, `:=`(date      = as.Date(NA_real_),\n",
    "                 element   = NULL,\n",
    "                 code      = as.character(code),\n",
    "                 code_type = \"ukbb_self_reported_medication\")]"
   ]
  },
  {
   "cell_type": "markdown",
   "id": "bc3fd4fc-7650-4f7b-83cb-30ff4524ed63",
   "metadata": {},
   "source": [
    "### OLINK codes to long"
   ]
  },
  {
   "cell_type": "code",
   "execution_count": 18,
   "id": "51c13582-8732-44be-8596-4fccd1aa355b",
   "metadata": {
    "tags": []
   },
   "outputs": [
    {
     "name": "stdout",
     "output_type": "stream",
     "text": [
      "  [1] \"eid\"                      \"reason_lost_fu\"          \n",
      "  [3] \"sex\"                      \"age\"                     \n",
      "  [5] \"sample_collection_date_1\" \"sample_collection_date_2\"\n",
      "  [7] \"sample_collection_date_3\" \"sample_collection_date_4\"\n",
      "  [9] \"ethnicity_1\"              \"ethnicity_2\"             \n",
      " [11] \"ethnicity_3\"              \"ethnicity_4\"             \n",
      " [13] \"genetic_sex\"              \"genetic_ethnicity\"       \n",
      " [15] \"pc1\"                      \"pc2\"                     \n",
      " [17] \"pc3\"                      \"pc4\"                     \n",
      " [19] \"pc5\"                      \"self_rep_ill_1\"          \n",
      " [21] \"self_rep_ill_2\"           \"self_rep_ill_3\"          \n",
      " [23] \"self_rep_ill_4\"           \"self_rep_ill_5\"          \n",
      " [25] \"self_rep_ill_6\"           \"self_rep_ill_7\"          \n",
      " [27] \"self_rep_ill_8\"           \"self_rep_ill_9\"          \n",
      " [29] \"self_rep_ill_10\"          \"self_rep_ill_11\"         \n",
      " [31] \"self_rep_ill_12\"          \"self_rep_ill_13\"         \n",
      " [33] \"self_rep_ill_14\"          \"self_rep_ill_15\"         \n",
      " [35] \"self_rep_ill_16\"          \"self_rep_ill_17\"         \n",
      " [37] \"self_rep_ill_18\"          \"self_rep_ill_19\"         \n",
      " [39] \"self_rep_ill_20\"          \"self_rep_ill_21\"         \n",
      " [41] \"self_rep_ill_22\"          \"self_rep_ill_23\"         \n",
      " [43] \"self_rep_ill_24\"          \"self_rep_ill_25\"         \n",
      " [45] \"self_rep_ill_26\"          \"self_rep_ill_27\"         \n",
      " [47] \"self_rep_ill_28\"          \"self_rep_ill_29\"         \n",
      " [49] \"self_rep_ill_30\"          \"self_rep_ill_31\"         \n",
      " [51] \"self_rep_ill_32\"          \"self_rep_ill_33\"         \n",
      " [53] \"self_rep_ill_34\"          \"self_rep_ill_35\"         \n",
      " [55] \"self_rep_ill_36\"          \"self_rep_ill_37\"         \n",
      " [57] \"self_rep_ill_38\"          \"self_rep_ill_39\"         \n",
      " [59] \"self_rep_ill_40\"          \"self_rep_ill_41\"         \n",
      " [61] \"self_rep_ill_42\"          \"self_rep_ill_43\"         \n",
      " [63] \"self_rep_ill_44\"          \"self_rep_ill_45\"         \n",
      " [65] \"self_rep_ill_46\"          \"self_rep_ill_47\"         \n",
      " [67] \"self_rep_ill_48\"          \"self_rep_ill_49\"         \n",
      " [69] \"self_rep_ill_50\"          \"self_rep_ill_51\"         \n",
      " [71] \"self_rep_ill_52\"          \"self_rep_ill_53\"         \n",
      " [73] \"self_rep_ill_54\"          \"self_rep_ill_55\"         \n",
      " [75] \"self_rep_ill_56\"          \"self_rep_ill_57\"         \n",
      " [77] \"self_rep_ill_58\"          \"self_rep_ill_59\"         \n",
      " [79] \"self_rep_ill_60\"          \"self_rep_ill_61\"         \n",
      " [81] \"self_rep_ill_62\"          \"self_rep_ill_63\"         \n",
      " [83] \"self_rep_ill_64\"          \"self_rep_ill_65\"         \n",
      " [85] \"self_rep_ill_66\"          \"self_rep_ill_67\"         \n",
      " [87] \"self_rep_ill_68\"          \"self_rep_ill_69\"         \n",
      " [89] \"self_rep_ill_70\"          \"self_rep_ill_71\"         \n",
      " [91] \"self_rep_ill_72\"          \"self_rep_ill_73\"         \n",
      " [93] \"self_rep_ill_74\"          \"self_rep_ill_75\"         \n",
      " [95] \"self_rep_ill_76\"          \"self_rep_ill_77\"         \n",
      " [97] \"self_rep_ill_78\"          \"self_rep_ill_79\"         \n",
      " [99] \"self_rep_ill_80\"          \"self_rep_ill_81\"         \n",
      "[101] \"self_rep_ill_82\"          \"self_rep_ill_83\"         \n",
      "[103] \"self_rep_ill_84\"          \"self_rep_ill_85\"         \n",
      "[105] \"self_rep_ill_86\"          \"self_rep_ill_87\"         \n",
      "[107] \"self_rep_ill_88\"          \"self_rep_ill_89\"         \n",
      "[109] \"self_rep_ill_90\"          \"self_rep_ill_91\"         \n",
      "[111] \"self_rep_ill_92\"          \"self_rep_ill_93\"         \n",
      "[113] \"self_rep_ill_94\"          \"self_rep_ill_95\"         \n",
      "[115] \"self_rep_ill_96\"          \"self_rep_ill_97\"         \n",
      "[117] \"self_rep_ill_98\"          \"self_rep_ill_99\"         \n",
      "[119] \"self_rep_ill_100\"         \"self_rep_ill_101\"        \n",
      "[121] \"self_rep_ill_102\"         \"self_rep_ill_103\"        \n",
      "[123] \"self_rep_ill_104\"         \"self_rep_ill_105\"        \n",
      "[125] \"self_rep_ill_106\"         \"self_rep_ill_107\"        \n",
      "[127] \"self_rep_ill_108\"         \"self_rep_ill_109\"        \n",
      "[129] \"self_rep_ill_110\"         \"self_rep_ill_111\"        \n",
      "[131] \"self_rep_ill_112\"         \"self_rep_ill_113\"        \n",
      "[133] \"self_rep_ill_114\"         \"self_rep_ill_115\"        \n",
      "[135] \"self_rep_ill_116\"         \"self_rep_ill_117\"        \n",
      "[137] \"self_rep_ill_118\"         \"self_rep_ill_119\"        \n",
      "[139] \"self_rep_ill_120\"         \"self_rep_ill_121\"        \n",
      "[141] \"self_rep_ill_122\"         \"self_rep_ill_123\"        \n",
      "[143] \"self_rep_ill_124\"         \"self_rep_ill_125\"        \n",
      "[145] \"self_rep_ill_126\"         \"self_rep_ill_127\"        \n",
      "[147] \"self_rep_ill_128\"         \"self_rep_ill_129\"        \n",
      "[149] \"self_rep_ill_130\"         \"self_rep_ill_131\"        \n",
      "[151] \"self_rep_ill_132\"         \"self_rep_ill_133\"        \n",
      "[153] \"self_rep_ill_134\"         \"self_rep_ill_135\"        \n",
      "[155] \"self_rep_ill_136\"         \"self_rep_ill_year_1\"     \n",
      "[157] \"self_rep_ill_year_2\"      \"self_rep_ill_year_3\"     \n",
      "[159] \"self_rep_ill_year_4\"      \"self_rep_ill_year_5\"     \n",
      "[161] \"self_rep_ill_year_6\"      \"self_rep_ill_year_7\"     \n",
      "[163] \"self_rep_ill_year_8\"      \"self_rep_ill_year_9\"     \n",
      "[165] \"self_rep_ill_year_10\"     \"self_rep_ill_year_11\"    \n",
      "[167] \"self_rep_ill_year_12\"     \"self_rep_ill_year_13\"    \n",
      "[169] \"self_rep_ill_year_14\"     \"self_rep_ill_year_15\"    \n",
      "[171] \"self_rep_ill_year_16\"     \"self_rep_ill_year_17\"    \n",
      "[173] \"self_rep_ill_year_18\"     \"self_rep_ill_year_19\"    \n",
      "[175] \"self_rep_ill_year_20\"     \"self_rep_ill_year_21\"    \n",
      "[177] \"self_rep_ill_year_22\"     \"self_rep_ill_year_23\"    \n",
      "[179] \"self_rep_ill_year_24\"     \"self_rep_ill_year_25\"    \n",
      "[181] \"self_rep_ill_year_26\"     \"self_rep_ill_year_27\"    \n",
      "[183] \"self_rep_ill_year_28\"     \"self_rep_ill_year_29\"    \n",
      "[185] \"self_rep_ill_year_30\"     \"self_rep_ill_year_31\"    \n",
      "[187] \"self_rep_ill_year_32\"     \"self_rep_ill_year_33\"    \n",
      "[189] \"self_rep_ill_year_34\"     \"self_rep_ill_year_35\"    \n",
      "[191] \"self_rep_ill_year_36\"     \"self_rep_ill_year_37\"    \n",
      "[193] \"self_rep_ill_year_38\"     \"self_rep_ill_year_39\"    \n",
      "[195] \"self_rep_ill_year_40\"     \"self_rep_ill_year_41\"    \n",
      "[197] \"self_rep_ill_year_42\"     \"self_rep_ill_year_43\"    \n",
      "[199] \"self_rep_ill_year_44\"     \"self_rep_ill_year_45\"    \n",
      "[201] \"self_rep_ill_year_46\"     \"self_rep_ill_year_47\"    \n",
      "[203] \"self_rep_ill_year_48\"     \"self_rep_ill_year_49\"    \n",
      "[205] \"self_rep_ill_year_50\"     \"self_rep_ill_year_51\"    \n",
      "[207] \"self_rep_ill_year_52\"     \"self_rep_ill_year_53\"    \n",
      "[209] \"self_rep_ill_year_54\"     \"self_rep_ill_year_55\"    \n",
      "[211] \"self_rep_ill_year_56\"     \"self_rep_ill_year_57\"    \n",
      "[213] \"self_rep_ill_year_58\"     \"self_rep_ill_year_59\"    \n",
      "[215] \"self_rep_ill_year_60\"     \"self_rep_ill_year_61\"    \n",
      "[217] \"self_rep_ill_year_62\"     \"self_rep_ill_year_63\"    \n",
      "[219] \"self_rep_ill_year_64\"     \"self_rep_ill_year_65\"    \n",
      "[221] \"self_rep_ill_year_66\"     \"self_rep_ill_year_67\"    \n",
      "[223] \"self_rep_ill_year_68\"     \"self_rep_ill_year_69\"    \n",
      "[225] \"self_rep_ill_year_70\"     \"self_rep_ill_year_71\"    \n",
      "[227] \"self_rep_ill_year_72\"     \"self_rep_ill_year_73\"    \n",
      "[229] \"self_rep_ill_year_74\"     \"self_rep_ill_year_75\"    \n",
      "[231] \"self_rep_ill_year_76\"     \"self_rep_ill_year_77\"    \n",
      "[233] \"self_rep_ill_year_78\"     \"self_rep_ill_year_79\"    \n",
      "[235] \"self_rep_ill_year_80\"     \"self_rep_ill_year_81\"    \n",
      "[237] \"self_rep_ill_year_82\"     \"self_rep_ill_year_83\"    \n",
      "[239] \"self_rep_ill_year_84\"     \"self_rep_ill_year_85\"    \n",
      "[241] \"self_rep_ill_year_86\"     \"self_rep_ill_year_87\"    \n",
      "[243] \"self_rep_ill_year_88\"     \"self_rep_ill_year_89\"    \n",
      "[245] \"self_rep_ill_year_90\"     \"self_rep_ill_year_91\"    \n",
      "[247] \"self_rep_ill_year_92\"     \"self_rep_ill_year_93\"    \n",
      "[249] \"self_rep_ill_year_94\"     \"self_rep_ill_year_95\"    \n",
      "[251] \"self_rep_ill_year_96\"     \"self_rep_ill_year_97\"    \n",
      "[253] \"self_rep_ill_year_98\"     \"self_rep_ill_year_99\"    \n",
      "[255] \"self_rep_ill_year_100\"    \"self_rep_ill_year_101\"   \n",
      "[257] \"self_rep_ill_year_102\"    \"self_rep_ill_year_103\"   \n",
      "[259] \"self_rep_ill_year_104\"    \"self_rep_ill_year_105\"   \n",
      "[261] \"self_rep_ill_year_106\"    \"self_rep_ill_year_107\"   \n",
      "[263] \"self_rep_ill_year_108\"    \"self_rep_ill_year_109\"   \n",
      "[265] \"self_rep_ill_year_110\"    \"self_rep_ill_year_111\"   \n",
      "[267] \"self_rep_ill_year_112\"    \"self_rep_ill_year_113\"   \n",
      "[269] \"self_rep_ill_year_114\"    \"self_rep_ill_year_115\"   \n",
      "[271] \"self_rep_ill_year_116\"    \"self_rep_ill_year_117\"   \n",
      "[273] \"self_rep_ill_year_118\"    \"self_rep_ill_year_119\"   \n",
      "[275] \"self_rep_ill_year_120\"    \"self_rep_ill_year_121\"   \n",
      "[277] \"self_rep_ill_year_122\"    \"self_rep_ill_year_123\"   \n",
      "[279] \"self_rep_ill_year_124\"    \"self_rep_ill_year_125\"   \n",
      "[281] \"self_rep_ill_year_126\"    \"self_rep_ill_year_127\"   \n",
      "[283] \"self_rep_ill_year_128\"    \"self_rep_ill_year_129\"   \n",
      "[285] \"self_rep_ill_year_130\"    \"self_rep_ill_year_131\"   \n",
      "[287] \"self_rep_ill_year_132\"    \"self_rep_ill_year_133\"   \n",
      "[289] \"self_rep_ill_year_134\"    \"self_rep_ill_year_135\"   \n",
      "[291] \"self_rep_ill_year_136\"    \"self_rep_proc_1\"         \n",
      "[293] \"self_rep_proc_2\"          \"self_rep_proc_3\"         \n",
      "[295] \"self_rep_proc_4\"          \"self_rep_proc_5\"         \n",
      "[297] \"self_rep_proc_6\"          \"self_rep_proc_7\"         \n",
      "[299] \"self_rep_proc_8\"          \"self_rep_proc_9\"         \n",
      "[301] \"self_rep_proc_10\"         \"self_rep_proc_11\"        \n",
      "[303] \"self_rep_proc_12\"         \"self_rep_proc_13\"        \n",
      "[305] \"self_rep_proc_14\"         \"self_rep_proc_15\"        \n",
      "[307] \"self_rep_proc_16\"         \"self_rep_proc_17\"        \n",
      "[309] \"self_rep_proc_18\"         \"self_rep_proc_19\"        \n",
      "[311] \"self_rep_proc_20\"         \"self_rep_proc_21\"        \n",
      "[313] \"self_rep_proc_22\"         \"self_rep_proc_23\"        \n",
      "[315] \"self_rep_proc_24\"         \"self_rep_proc_25\"        \n",
      "[317] \"self_rep_proc_26\"         \"self_rep_proc_27\"        \n",
      "[319] \"self_rep_proc_28\"         \"self_rep_proc_29\"        \n",
      "[321] \"self_rep_proc_30\"         \"self_rep_proc_31\"        \n",
      "[323] \"self_rep_proc_32\"         \"self_rep_proc_33\"        \n",
      "[325] \"self_rep_proc_34\"         \"self_rep_proc_35\"        \n",
      "[327] \"self_rep_proc_36\"         \"self_rep_proc_37\"        \n",
      "[329] \"self_rep_proc_38\"         \"self_rep_proc_39\"        \n",
      "[331] \"self_rep_proc_40\"         \"self_rep_proc_41\"        \n",
      "[333] \"self_rep_proc_42\"         \"self_rep_proc_43\"        \n",
      "[335] \"self_rep_proc_44\"         \"self_rep_proc_45\"        \n",
      "[337] \"self_rep_proc_46\"         \"self_rep_proc_47\"        \n",
      "[339] \"self_rep_proc_48\"         \"self_rep_proc_49\"        \n",
      "[341] \"self_rep_proc_50\"         \"self_rep_proc_51\"        \n",
      "[343] \"self_rep_proc_52\"         \"self_rep_proc_53\"        \n",
      "[345] \"self_rep_proc_54\"         \"self_rep_proc_55\"        \n",
      "[347] \"self_rep_proc_56\"         \"self_rep_proc_57\"        \n",
      "[349] \"self_rep_proc_58\"         \"self_rep_proc_59\"        \n",
      "[351] \"self_rep_proc_60\"         \"self_rep_proc_61\"        \n",
      "[353] \"self_rep_proc_62\"         \"self_rep_proc_63\"        \n",
      "[355] \"self_rep_proc_64\"         \"self_rep_proc_65\"        \n",
      "[357] \"self_rep_proc_66\"         \"self_rep_proc_67\"        \n",
      "[359] \"self_rep_proc_68\"         \"self_rep_proc_69\"        \n",
      "[361] \"self_rep_proc_70\"         \"self_rep_proc_71\"        \n",
      "[363] \"self_rep_proc_72\"         \"self_rep_proc_73\"        \n",
      "[365] \"self_rep_proc_74\"         \"self_rep_proc_75\"        \n",
      "[367] \"self_rep_proc_76\"         \"self_rep_proc_77\"        \n",
      "[369] \"self_rep_proc_78\"         \"self_rep_proc_79\"        \n",
      "[371] \"self_rep_proc_80\"         \"self_rep_proc_81\"        \n",
      "[373] \"self_rep_proc_82\"         \"self_rep_proc_83\"        \n",
      "[375] \"self_rep_proc_84\"         \"self_rep_proc_85\"        \n",
      "[377] \"self_rep_proc_86\"         \"self_rep_proc_87\"        \n",
      "[379] \"self_rep_proc_88\"         \"self_rep_proc_89\"        \n",
      "[381] \"self_rep_proc_90\"         \"self_rep_proc_91\"        \n",
      "[383] \"self_rep_proc_92\"         \"self_rep_proc_93\"        \n",
      "[385] \"self_rep_proc_94\"         \"self_rep_proc_95\"        \n",
      "[387] \"self_rep_proc_96\"         \"self_rep_proc_97\"        \n",
      "[389] \"self_rep_proc_98\"         \"self_rep_proc_99\"        \n",
      "[391] \"self_rep_proc_100\"        \"self_rep_proc_101\"       \n",
      "[393] \"self_rep_proc_102\"        \"self_rep_proc_103\"       \n",
      "[395] \"self_rep_proc_104\"        \"self_rep_proc_105\"       \n",
      "[397] \"self_rep_proc_106\"        \"self_rep_proc_107\"       \n",
      "[399] \"self_rep_proc_108\"        \"self_rep_proc_109\"       \n",
      "[401] \"self_rep_proc_110\"        \"self_rep_proc_111\"       \n",
      "[403] \"self_rep_proc_112\"        \"self_rep_proc_113\"       \n",
      "[405] \"self_rep_proc_114\"        \"self_rep_proc_115\"       \n",
      "[407] \"self_rep_proc_116\"        \"self_rep_proc_117\"       \n",
      "[409] \"self_rep_proc_118\"        \"self_rep_proc_119\"       \n",
      "[411] \"self_rep_proc_120\"        \"self_rep_proc_121\"       \n",
      "[413] \"self_rep_proc_122\"        \"self_rep_proc_123\"       \n",
      "[415] \"self_rep_proc_124\"        \"self_rep_proc_125\"       \n",
      "[417] \"self_rep_proc_126\"        \"self_rep_proc_127\"       \n",
      "[419] \"self_rep_proc_128\"        \"self_rep_proc_year_1\"    \n",
      "[421] \"self_rep_proc_year_2\"     \"self_rep_proc_year_3\"    \n",
      "[423] \"self_rep_proc_year_4\"     \"self_rep_proc_year_5\"    \n",
      "[425] \"self_rep_proc_year_6\"     \"self_rep_proc_year_7\"    \n",
      "[427] \"self_rep_proc_year_8\"     \"self_rep_proc_year_9\"    \n",
      "[429] \"self_rep_proc_year_10\"    \"self_rep_proc_year_11\"   \n",
      "[431] \"self_rep_proc_year_12\"    \"self_rep_proc_year_13\"   \n",
      "[433] \"self_rep_proc_year_14\"    \"self_rep_proc_year_15\"   \n",
      "[435] \"self_rep_proc_year_16\"    \"self_rep_proc_year_17\"   \n",
      "[437] \"self_rep_proc_year_18\"    \"self_rep_proc_year_19\"   \n",
      "[439] \"self_rep_proc_year_20\"    \"self_rep_proc_year_21\"   \n",
      "[441] \"self_rep_proc_year_22\"    \"self_rep_proc_year_23\"   \n",
      "[443] \"self_rep_proc_year_24\"    \"self_rep_proc_year_25\"   \n",
      "[445] \"self_rep_proc_year_26\"    \"self_rep_proc_year_27\"   \n",
      "[447] \"self_rep_proc_year_28\"    \"self_rep_proc_year_29\"   \n",
      "[449] \"self_rep_proc_year_30\"    \"self_rep_proc_year_31\"   \n",
      "[451] \"self_rep_proc_year_32\"    \"self_rep_proc_year_33\"   \n",
      "[453] \"self_rep_proc_year_34\"    \"self_rep_proc_year_35\"   \n",
      "[455] \"self_rep_proc_year_36\"    \"self_rep_proc_year_37\"   \n",
      "[457] \"self_rep_proc_year_38\"    \"self_rep_proc_year_39\"   \n",
      "[459] \"self_rep_proc_year_40\"    \"self_rep_proc_year_41\"   \n",
      "[461] \"self_rep_proc_year_42\"    \"self_rep_proc_year_43\"   \n",
      "[463] \"self_rep_proc_year_44\"    \"self_rep_proc_year_45\"   \n",
      "[465] \"self_rep_proc_year_46\"    \"self_rep_proc_year_47\"   \n",
      "[467] \"self_rep_proc_year_48\"    \"self_rep_proc_year_49\"   \n",
      "[469] \"self_rep_proc_year_50\"    \"self_rep_proc_year_51\"   \n",
      "[471] \"self_rep_proc_year_52\"    \"self_rep_proc_year_53\"   \n",
      "[473] \"self_rep_proc_year_54\"    \"self_rep_proc_year_55\"   \n",
      "[475] \"self_rep_proc_year_56\"    \"self_rep_proc_year_57\"   \n",
      "[477] \"self_rep_proc_year_58\"    \"self_rep_proc_year_59\"   \n",
      "[479] \"self_rep_proc_year_60\"    \"self_rep_proc_year_61\"   \n",
      "[481] \"self_rep_proc_year_62\"    \"self_rep_proc_year_63\"   \n",
      "[483] \"self_rep_proc_year_64\"    \"self_rep_proc_year_65\"   \n",
      "[485] \"self_rep_proc_year_66\"    \"self_rep_proc_year_67\"   \n",
      "[487] \"self_rep_proc_year_68\"    \"self_rep_proc_year_69\"   \n",
      "[489] \"self_rep_proc_year_70\"    \"self_rep_proc_year_71\"   \n",
      "[491] \"self_rep_proc_year_72\"    \"self_rep_proc_year_73\"   \n",
      "[493] \"self_rep_proc_year_74\"    \"self_rep_proc_year_75\"   \n",
      "[495] \"self_rep_proc_year_76\"    \"self_rep_proc_year_77\"   \n",
      "[497] \"self_rep_proc_year_78\"    \"self_rep_proc_year_79\"   \n",
      "[499] \"self_rep_proc_year_80\"    \"self_rep_proc_year_81\"   \n",
      "[501] \"self_rep_proc_year_82\"    \"self_rep_proc_year_83\"   \n",
      "[503] \"self_rep_proc_year_84\"    \"self_rep_proc_year_85\"   \n",
      "[505] \"self_rep_proc_year_86\"    \"self_rep_proc_year_87\"   \n",
      "[507] \"self_rep_proc_year_88\"    \"self_rep_proc_year_89\"   \n",
      "[509] \"self_rep_proc_year_90\"    \"self_rep_proc_year_91\"   \n",
      "[511] \"self_rep_proc_year_92\"    \"self_rep_proc_year_93\"   \n",
      "[513] \"self_rep_proc_year_94\"    \"self_rep_proc_year_95\"   \n",
      "[515] \"self_rep_proc_year_96\"    \"self_rep_proc_year_97\"   \n",
      "[517] \"self_rep_proc_year_98\"    \"self_rep_proc_year_99\"   \n",
      "[519] \"self_rep_proc_year_100\"   \"self_rep_proc_year_101\"  \n",
      "[521] \"self_rep_proc_year_102\"   \"self_rep_proc_year_103\"  \n",
      "[523] \"self_rep_proc_year_104\"   \"self_rep_proc_year_105\"  \n",
      "[525] \"self_rep_proc_year_106\"   \"self_rep_proc_year_107\"  \n",
      "[527] \"self_rep_proc_year_108\"   \"self_rep_proc_year_109\"  \n",
      "[529] \"self_rep_proc_year_110\"   \"self_rep_proc_year_111\"  \n",
      "[531] \"self_rep_proc_year_112\"   \"self_rep_proc_year_113\"  \n",
      "[533] \"self_rep_proc_year_114\"   \"self_rep_proc_year_115\"  \n",
      "[535] \"self_rep_proc_year_116\"   \"self_rep_proc_year_117\"  \n",
      "[537] \"self_rep_proc_year_118\"   \"self_rep_proc_year_119\"  \n",
      "[539] \"self_rep_proc_year_120\"   \"self_rep_proc_year_121\"  \n",
      "[541] \"self_rep_proc_year_122\"   \"self_rep_proc_year_123\"  \n",
      "[543] \"self_rep_proc_year_124\"   \"self_rep_proc_year_125\"  \n",
      "[545] \"self_rep_proc_year_126\"   \"self_rep_proc_year_127\"  \n",
      "[547] \"self_rep_proc_year_128\"   \"self_rep_med_1\"          \n",
      "[549] \"self_rep_med_2\"           \"self_rep_med_3\"          \n",
      "[551] \"self_rep_med_4\"           \"self_rep_med_5\"          \n",
      "[553] \"self_rep_med_6\"           \"self_rep_med_7\"          \n",
      "[555] \"self_rep_med_8\"           \"self_rep_med_9\"          \n",
      "[557] \"self_rep_med_10\"          \"self_rep_med_11\"         \n",
      "[559] \"self_rep_med_12\"          \"self_rep_med_13\"         \n",
      "[561] \"self_rep_med_14\"          \"self_rep_med_15\"         \n",
      "[563] \"self_rep_med_16\"          \"self_rep_med_17\"         \n",
      "[565] \"self_rep_med_18\"          \"self_rep_med_19\"         \n",
      "[567] \"self_rep_med_20\"          \"self_rep_med_21\"         \n",
      "[569] \"self_rep_med_22\"          \"self_rep_med_23\"         \n",
      "[571] \"self_rep_med_24\"          \"self_rep_med_25\"         \n",
      "[573] \"self_rep_med_26\"          \"self_rep_med_27\"         \n",
      "[575] \"self_rep_med_28\"          \"self_rep_med_29\"         \n",
      "[577] \"self_rep_med_30\"          \"self_rep_med_31\"         \n",
      "[579] \"self_rep_med_32\"          \"self_rep_med_33\"         \n",
      "[581] \"self_rep_med_34\"          \"self_rep_med_35\"         \n",
      "[583] \"self_rep_med_36\"          \"self_rep_med_37\"         \n",
      "[585] \"self_rep_med_38\"          \"self_rep_med_39\"         \n",
      "[587] \"self_rep_med_40\"          \"self_rep_med_41\"         \n",
      "[589] \"self_rep_med_42\"          \"self_rep_med_43\"         \n",
      "[591] \"self_rep_med_44\"          \"self_rep_med_45\"         \n",
      "[593] \"self_rep_med_46\"          \"self_rep_med_47\"         \n",
      "[595] \"self_rep_med_48\"          \"self_rep_med_49\"         \n",
      "[597] \"self_rep_med_50\"          \"self_rep_med_51\"         \n",
      "[599] \"self_rep_med_52\"          \"self_rep_med_53\"         \n",
      "[601] \"self_rep_med_54\"          \"self_rep_med_55\"         \n",
      "[603] \"self_rep_med_56\"          \"self_rep_med_57\"         \n",
      "[605] \"self_rep_med_58\"          \"self_rep_med_59\"         \n",
      "[607] \"self_rep_med_60\"          \"self_rep_med_61\"         \n",
      "[609] \"self_rep_med_62\"          \"self_rep_med_63\"         \n",
      "[611] \"self_rep_med_64\"          \"self_rep_med_65\"         \n",
      "[613] \"self_rep_med_66\"          \"self_rep_med_67\"         \n",
      "[615] \"self_rep_med_68\"          \"self_rep_med_69\"         \n",
      "[617] \"self_rep_med_70\"          \"self_rep_med_71\"         \n",
      "[619] \"self_rep_med_72\"          \"self_rep_med_73\"         \n",
      "[621] \"self_rep_med_74\"          \"self_rep_med_75\"         \n",
      "[623] \"self_rep_med_76\"          \"self_rep_med_77\"         \n",
      "[625] \"self_rep_med_78\"          \"self_rep_med_79\"         \n",
      "[627] \"self_rep_med_80\"          \"self_rep_med_81\"         \n",
      "[629] \"self_rep_med_82\"          \"self_rep_med_83\"         \n",
      "[631] \"self_rep_med_84\"          \"self_rep_med_85\"         \n",
      "[633] \"self_rep_med_86\"          \"self_rep_med_87\"         \n",
      "[635] \"self_rep_med_88\"          \"self_rep_med_89\"         \n",
      "[637] \"self_rep_med_90\"          \"self_rep_med_91\"         \n",
      "[639] \"self_rep_med_92\"          \"self_rep_med_93\"         \n",
      "[641] \"self_rep_med_94\"          \"self_rep_med_95\"         \n",
      "[643] \"self_rep_med_96\"          \"self_rep_med_97\"         \n",
      "[645] \"self_rep_med_98\"          \"self_rep_med_99\"         \n",
      "[647] \"self_rep_med_100\"         \"self_rep_med_101\"        \n",
      "[649] \"self_rep_med_102\"         \"self_rep_med_103\"        \n",
      "[651] \"self_rep_med_104\"         \"self_rep_med_105\"        \n",
      "[653] \"self_rep_med_106\"         \"self_rep_med_107\"        \n",
      "[655] \"self_rep_med_108\"         \"self_rep_med_109\"        \n",
      "[657] \"self_rep_med_110\"         \"self_rep_med_111\"        \n",
      "[659] \"self_rep_med_112\"         \"self_rep_med_113\"        \n",
      "[661] \"self_rep_med_114\"         \"self_rep_med_115\"        \n",
      "[663] \"self_rep_med_116\"         \"self_rep_med_117\"        \n",
      "[665] \"self_rep_med_118\"         \"self_rep_med_119\"        \n",
      "[667] \"self_rep_med_120\"         \"self_rep_med_121\"        \n",
      "[669] \"self_rep_med_122\"         \"self_rep_med_123\"        \n",
      "[671] \"self_rep_med_124\"         \"self_rep_med_125\"        \n",
      "[673] \"self_rep_med_126\"         \"self_rep_med_127\"        \n",
      "[675] \"self_rep_med_128\"         \"self_rep_med_129\"        \n",
      "[677] \"self_rep_med_130\"         \"self_rep_med_131\"        \n",
      "[679] \"self_rep_med_132\"         \"self_rep_med_133\"        \n",
      "[681] \"self_rep_med_134\"         \"self_rep_med_135\"        \n",
      "[683] \"self_rep_med_136\"         \"self_rep_med_137\"        \n",
      "[685] \"self_rep_med_138\"         \"self_rep_med_139\"        \n",
      "[687] \"self_rep_med_140\"         \"self_rep_med_141\"        \n",
      "[689] \"self_rep_med_142\"         \"self_rep_med_143\"        \n",
      "[691] \"self_rep_med_144\"         \"self_rep_med_145\"        \n",
      "[693] \"self_rep_med_146\"         \"self_rep_med_147\"        \n",
      "[695] \"self_rep_med_148\"         \"self_rep_med_149\"        \n",
      "[697] \"self_rep_med_150\"         \"self_rep_med_151\"        \n",
      "[699] \"self_rep_med_152\"         \"self_rep_med_153\"        \n",
      "[701] \"self_rep_med_154\"         \"self_rep_med_155\"        \n",
      "[703] \"self_rep_med_156\"         \"self_rep_med_157\"        \n",
      "[705] \"self_rep_med_158\"         \"self_rep_med_159\"        \n",
      "[707] \"self_rep_med_160\"         \"self_rep_med_161\"        \n",
      "[709] \"self_rep_med_162\"         \"self_rep_med_163\"        \n",
      "[711] \"self_rep_med_164\"         \"self_rep_med_165\"        \n",
      "[713] \"self_rep_med_166\"         \"self_rep_med_167\"        \n",
      "[715] \"self_rep_med_168\"         \"self_rep_med_169\"        \n",
      "[717] \"self_rep_med_170\"         \"self_rep_med_171\"        \n",
      "[719] \"self_rep_med_172\"         \"self_rep_med_173\"        \n",
      "[721] \"self_rep_med_174\"         \"self_rep_med_175\"        \n",
      "[723] \"self_rep_med_176\"         \"self_rep_med_177\"        \n",
      "[725] \"self_rep_med_178\"         \"self_rep_med_179\"        \n",
      "[727] \"self_rep_med_180\"         \"self_rep_med_181\"        \n",
      "[729] \"self_rep_med_182\"         \"self_rep_med_183\"        \n",
      "[731] \"self_rep_med_184\"         \"self_rep_med_185\"        \n",
      "[733] \"self_rep_med_186\"         \"self_rep_med_187\"        \n",
      "[735] \"self_rep_med_188\"         \"self_rep_med_189\"        \n",
      "[737] \"self_rep_med_190\"         \"self_rep_med_191\"        \n",
      "[739] \"self_rep_med_192\"         \"ethnicity\"               \n"
     ]
    }
   ],
   "source": [
    "print(names(data)[grepl(\".\", names(data$participant))])\n",
    "# olink_code_cols <- grep(\"self_rep_med_[0-9]+\", names(data$participant), value = TRUE)\n",
    "# data$participant[, (self_med_code_cols) := lapply(.SD, as.character), .SDcols = self_med_code_cols]\n",
    "# data$smed <- data.table::melt(data$participant,\n",
    "#                               id.vars = \"eid\",\n",
    "#                               measure = patterns(\"self_rep_med_[0-9]+\"),\n",
    "#                               variable.name = \"element\",\n",
    "#                               value.name = c(\"code\"),\n",
    "#                               na.rm = TRUE)\n",
    "# data$smed[, `:=`(date      = as.Date(NA_real_),\n",
    "#                  element   = NULL,\n",
    "#                  code      = as.character(code),\n",
    "#                  code_type = \"ukbb_self_reported_medication\")]"
   ]
  },
  {
   "cell_type": "markdown",
   "id": "3c991e4f-c5d3-47c4-8e70-c1819cfd4cc2",
   "metadata": {},
   "source": [
    "### Inpatient diagnosis codes"
   ]
  },
  {
   "cell_type": "code",
   "execution_count": 10,
   "id": "872f8578-5090-4854-af5c-be5d9ae2f880",
   "metadata": {
    "tags": []
   },
   "outputs": [],
   "source": [
    "data$hesin[is.na(epistart) | epistart == \"\", epistart := admidate]\n",
    "data$hes_diag[data$hesin, date := as.Date(i.epistart), on = c(\"eid\", \"ins_index\")]\n",
    "data$hes_diag[diag_icd9 == \"\", diag_icd9 := NA_character_]\n",
    "data$hes_diag[diag_icd10 == \"\", diag_icd10 := NA_character_]\n",
    "data$hes_diag <- data.table::melt(data$hes_diag,\n",
    "                                  id.vars = c(\"eid\", \"date\"),\n",
    "                                  measure.vars  = c(\"diag_icd9\", \"diag_icd10\"),\n",
    "                                  variable.name = \"code_type\",\n",
    "                                  value.name = \"code\",\n",
    "                                  na.rm = TRUE)\n",
    "data$hes_diag[, code_type := data.table::fcase(code_type == \"diag_icd9\", \"icd9\",\n",
    "                                               code_type == \"diag_icd10\", \"icd10\")]"
   ]
  },
  {
   "cell_type": "markdown",
   "id": "d94f3243-36f5-462c-add5-45778b7bd2cc",
   "metadata": {},
   "source": [
    "### GP activity data"
   ]
  },
  {
   "cell_type": "code",
   "execution_count": 11,
   "id": "34987cf1-2ae1-42df-9eb4-6ec0cf8cb099",
   "metadata": {
    "tags": []
   },
   "outputs": [],
   "source": [
    "data$gp_clinical[read_2 == \"\", read_2 := NA_character_]\n",
    "data$gp_clinical[read_3 == \"\", read_3 := NA_character_]\n",
    "data$gp_clinical <- data.table::melt(data$gp_clinical,\n",
    "                                     id.vars = c(\"eid\", \"date\"),\n",
    "                                     measure.vars  = c(\"read_2\", \"read_3\"),\n",
    "                                     variable.name = \"code_type\",\n",
    "                                     value.name = \"code\",\n",
    "                                     na.rm = TRUE)\n",
    "data$gp_clinical[, code_type := data.table::fcase(code_type == \"read_2\", \"read2\",\n",
    "                                                  code_type == \"read_3\", \"read3\")]"
   ]
  },
  {
   "cell_type": "markdown",
   "id": "8739d805-7178-4af7-8271-7e083522eb72",
   "metadata": {},
   "source": [
    "### GP medication data"
   ]
  },
  {
   "cell_type": "code",
   "execution_count": 12,
   "id": "97667f0c-e722-4156-ad8b-a87c7549b0b5",
   "metadata": {
    "tags": []
   },
   "outputs": [],
   "source": [
    "data$gp_scripts[read_2 == \"\", read_2 := NA_character_]\n",
    "data$gp_scripts[bnf_code == \"\", bnf_code := NA_character_]\n",
    "data$gp_scripts[, dmd_code := as.character(dmd_code)]\n",
    "data$gp_scripts <- data.table::melt(data$gp_scripts,\n",
    "                                    id.vars = c(\"eid\", \"date\"),\n",
    "                                    measure.vars  = c(\"read_2\", \"bnf_code\", \"dmd_code\"),\n",
    "                                    variable.name = \"code_type\",\n",
    "                                    value.name = \"code\",\n",
    "                                    na.rm = TRUE)\n",
    "data$gp_scripts[, code_type := data.table::fcase(code_type == \"read_2\",   \"read_med\",\n",
    "                                                 code_type == \"bnf_code\", \"bnf\",\n",
    "                                                 code_type == \"dmd_code\", \"dmd\")]"
   ]
  },
  {
   "cell_type": "markdown",
   "id": "2db6567b-c7d4-4ffc-9875-dd0c26204b91",
   "metadata": {},
   "source": [
    "### Combine all codes and annotate concepts"
   ]
  },
  {
   "cell_type": "code",
   "execution_count": 13,
   "id": "4d061c86-4c48-41fb-a9e4-e5a6494a63db",
   "metadata": {
    "tags": []
   },
   "outputs": [
    {
     "data": {
      "text/html": [
       "<table class=\"dataframe\">\n",
       "<caption>A data.table: 6 × 6</caption>\n",
       "<thead>\n",
       "\t<tr><th scope=col>concept</th><th scope=col>code</th><th scope=col>code_type</th><th scope=col>description</th><th scope=col>eid</th><th scope=col>date</th></tr>\n",
       "\t<tr><th scope=col>&lt;chr&gt;</th><th scope=col>&lt;chr&gt;</th><th scope=col>&lt;chr&gt;</th><th scope=col>&lt;chr&gt;</th><th scope=col>&lt;int&gt;</th><th scope=col>&lt;date&gt;</th></tr>\n",
       "</thead>\n",
       "<tbody>\n",
       "\t<tr><td>NA</td><td>1351</td><td>ukbb_self_reported_illness</td><td>NA</td><td>1000074</td><td>2006-07-02</td></tr>\n",
       "\t<tr><td>NA</td><td>1086</td><td>ukbb_self_reported_illness</td><td>NA</td><td>1000194</td><td>1962-07-02</td></tr>\n",
       "\t<tr><td>NA</td><td>1065</td><td>ukbb_self_reported_illness</td><td>NA</td><td>1000258</td><td>2005-03-15</td></tr>\n",
       "\t<tr><td>NA</td><td>1436</td><td>ukbb_self_reported_illness</td><td>NA</td><td>1000280</td><td>1992-05-26</td></tr>\n",
       "\t<tr><td>NA</td><td>1154</td><td>ukbb_self_reported_illness</td><td>NA</td><td>1000299</td><td>2007-07-02</td></tr>\n",
       "\t<tr><td>NA</td><td>1226</td><td>ukbb_self_reported_illness</td><td>NA</td><td>1000314</td><td>1995-07-02</td></tr>\n",
       "</tbody>\n",
       "</table>\n"
      ],
      "text/latex": [
       "A data.table: 6 × 6\n",
       "\\begin{tabular}{llllll}\n",
       " concept & code & code\\_type & description & eid & date\\\\\n",
       " <chr> & <chr> & <chr> & <chr> & <int> & <date>\\\\\n",
       "\\hline\n",
       "\t NA & 1351 & ukbb\\_self\\_reported\\_illness & NA & 1000074 & 2006-07-02\\\\\n",
       "\t NA & 1086 & ukbb\\_self\\_reported\\_illness & NA & 1000194 & 1962-07-02\\\\\n",
       "\t NA & 1065 & ukbb\\_self\\_reported\\_illness & NA & 1000258 & 2005-03-15\\\\\n",
       "\t NA & 1436 & ukbb\\_self\\_reported\\_illness & NA & 1000280 & 1992-05-26\\\\\n",
       "\t NA & 1154 & ukbb\\_self\\_reported\\_illness & NA & 1000299 & 2007-07-02\\\\\n",
       "\t NA & 1226 & ukbb\\_self\\_reported\\_illness & NA & 1000314 & 1995-07-02\\\\\n",
       "\\end{tabular}\n"
      ],
      "text/markdown": [
       "\n",
       "A data.table: 6 × 6\n",
       "\n",
       "| concept &lt;chr&gt; | code &lt;chr&gt; | code_type &lt;chr&gt; | description &lt;chr&gt; | eid &lt;int&gt; | date &lt;date&gt; |\n",
       "|---|---|---|---|---|---|\n",
       "| NA | 1351 | ukbb_self_reported_illness | NA | 1000074 | 2006-07-02 |\n",
       "| NA | 1086 | ukbb_self_reported_illness | NA | 1000194 | 1962-07-02 |\n",
       "| NA | 1065 | ukbb_self_reported_illness | NA | 1000258 | 2005-03-15 |\n",
       "| NA | 1436 | ukbb_self_reported_illness | NA | 1000280 | 1992-05-26 |\n",
       "| NA | 1154 | ukbb_self_reported_illness | NA | 1000299 | 2007-07-02 |\n",
       "| NA | 1226 | ukbb_self_reported_illness | NA | 1000314 | 1995-07-02 |\n",
       "\n"
      ],
      "text/plain": [
       "  concept code code_type                  description eid     date      \n",
       "1 NA      1351 ukbb_self_reported_illness NA          1000074 2006-07-02\n",
       "2 NA      1086 ukbb_self_reported_illness NA          1000194 1962-07-02\n",
       "3 NA      1065 ukbb_self_reported_illness NA          1000258 2005-03-15\n",
       "4 NA      1436 ukbb_self_reported_illness NA          1000280 1992-05-26\n",
       "5 NA      1154 ukbb_self_reported_illness NA          1000299 2007-07-02\n",
       "6 NA      1226 ukbb_self_reported_illness NA          1000314 1995-07-02"
      ]
     },
     "metadata": {},
     "output_type": "display_data"
    }
   ],
   "source": [
    "combined <- rbind(data$self_illness, data$smed, data$hes_diag, data$gp_clinical, data$gp_scripts)\n",
    "combined <- codes[combined, on = c(\"code\" = \"code\", \"code_type\" = \"code_type\"), allow.cartesian = TRUE]\n",
    "head(combined)"
   ]
  },
  {
   "cell_type": "markdown",
   "id": "ed609119-1bf2-4c97-a7d3-bcb3457d175b",
   "metadata": {},
   "source": [
    "### Save all ICD-10 codes"
   ]
  },
  {
   "cell_type": "code",
   "execution_count": 15,
   "id": "91b55a96-31fc-4336-b90b-09f27f9345dd",
   "metadata": {
    "tags": []
   },
   "outputs": [],
   "source": [
    "all_icd10_codes <- combined[code_type==\"icd10\"][, .(all_icd10_codes = paste0(unique(code),collapse=\";\")), by=eid]\n",
    "data$demog[all_icd10_codes, all_icd10_codes := i.all_icd10_codes, on=\"eid\"]"
   ]
  },
  {
   "cell_type": "markdown",
   "id": "83581bce-5358-4736-b28b-5008d00ad6bc",
   "metadata": {},
   "source": [
    "### Annotate individuals with code:code_type counts"
   ]
  },
  {
   "cell_type": "code",
   "execution_count": null,
   "id": "a1a42dfa-a671-4a0c-9f50-e2cd169b179e",
   "metadata": {
    "tags": []
   },
   "outputs": [],
   "source": [
    "combined <- combined[!is.na(concept)] # discard non-annotated codes\n",
    "combined[, concept := tolower(gsub(\" \",\"_\",concept))] # rename\n",
    "d <- dcast(combined, eid ~ concept + code_type, value.var = \"code\",  \n",
    "           fun.aggregate = function(x) paste(x, collapse = \";\"))\n",
    "d[, heart_failure := ifelse(apply(.SD, 1, function(x) any(x != \"\" & !is.na(x))), \"1\", \"\"), .SDcols = names(d)[grepl(\"^heart_failure\", names(d))]]\n",
    "d[, loop_diuretic := ifelse(apply(.SD, 1, function(x) any(x != \"\" & !is.na(x))), \"1\", \"\"), .SDcols = names(d)[grepl(\"^loop_diuretic\", names(d))]]"
   ]
  },
  {
   "cell_type": "markdown",
   "id": "c8e67266-af70-4dc3-bf6b-f0569b98bfdf",
   "metadata": {},
   "source": [
    "### Combine with full cohort"
   ]
  },
  {
   "cell_type": "code",
   "execution_count": null,
   "id": "07244b40-fdef-45b0-b572-e499f7166b08",
   "metadata": {
    "tags": []
   },
   "outputs": [],
   "source": [
    "base_cols <- c(\"eid\", \"age\", \"sex\", \"ethnicity\", \"ethnicity_group\",\"genetic_sex\", \"genetic_ethnicity\", paste0(\"pc\",1:5), \"all_icd10_codes\")\n",
    "measure_cols <- names(d)[names(d) != \"eid\"]\n",
    "cohort <- d[data_files$demog[,mget(base_cols)], on=\"eid\"]\n",
    "#head(cohort)\n",
    "cohort[, (measure_cols) := lapply(.SD, function(x) fifelse(is.na(x),\"\",x)), .SDcols=measure_cols]\n",
    "setcolorder(cohort, base_cols)\n",
    "head(cohort)\n",
    "                                  \n",
    "cohort[data_files$gp[,\"eid\"], any_gp := \"1\", on=\"eid\"][is.na(any_gp), any_gp := \"\"]\n",
    "cohort[data_files$med[,\"eid\"], any_gp_med := \"1\", on=\"eid\"][is.na(any_gp_med), any_gp_med := \"\"]\n",
    "cohort[data_files$diag[,\"eid\"], any_hes := \"1\", on=\"eid\"][is.na(any_hes), any_hes := \"\"]\n",
    "\n",
    "measure_cols <- names(cohort)[!names(cohort) %in% base_cols]\n",
    "summary <- data.table (name = c(\"total\", measure_cols), N = c(nrow(cohort), cohort[, .(sapply(.SD, function(x) sum(!is.na(x) & x!=\"\"))), .SDcols = measure_cols]$V1))\n",
    "head(summary,100)                                                          \n",
    "\n",
    "fwrite(summary,\n",
    "       file = \"hermes_furosemide_phenotype_summary.tsv\",\n",
    "       sep  = \"\\t\")\n",
    "                                                                                              \n",
    "# write out\n",
    "fwrite(cohort,\n",
    "       file = \"hermes_furosemide_phenotypes.tsv.gz\",\n",
    "       sep  = \"\\t\")"
   ]
  },
  {
   "cell_type": "code",
   "execution_count": null,
   "id": "4afcfc57-48be-4228-8502-b2ea8d58a458",
   "metadata": {
    "tags": []
   },
   "outputs": [],
   "source": [
    "### Copy output to project"
   ]
  },
  {
   "cell_type": "code",
   "execution_count": null,
   "id": "46b87ab2-d82a-4043-b7ff-ca971a5583ec",
   "metadata": {
    "tags": []
   },
   "outputs": [],
   "source": [
    "o <- system(\"dx upload hermes_furosemide_phenotype_summary.tsv hermes_furosemide_phenotypes.tsv.gz --destination hermes_furosemide_data\", intern = TRUE)\n",
    "cat(o, sep = \"\\n\")"
   ]
  }
 ],
 "metadata": {
  "kernelspec": {
   "display_name": "R",
   "language": "R",
   "name": "ir"
  },
  "language_info": {
   "codemirror_mode": "r",
   "file_extension": ".r",
   "mimetype": "text/x-r-source",
   "name": "R",
   "pygments_lexer": "r",
   "version": "4.4.0"
  }
 },
 "nbformat": 4,
 "nbformat_minor": 5
}
