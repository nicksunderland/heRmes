{
 "cells": [
  {
   "cell_type": "markdown",
   "id": "81e72fef-291b-45d4-a94e-61cbf9facc00",
   "metadata": {
    "tags": []
   },
   "source": [
    "# HERMES 3.0 UK Biobank Phenotyping"
   ]
  },
  {
   "cell_type": "markdown",
   "id": "9f94aa4c-a983-4661-9795-0d72f9b70067",
   "metadata": {},
   "source": [
    "### Libraries"
   ]
  },
  {
   "cell_type": "code",
   "execution_count": 87,
   "id": "bdb57ea6-ecdc-4d37-b40c-016ef7e8bf48",
   "metadata": {
    "tags": []
   },
   "outputs": [
    {
     "data": {
      "text/html": [
       "<style>\n",
       ".list-inline {list-style: none; margin:0; padding: 0}\n",
       ".list-inline>li {display: inline-block}\n",
       ".list-inline>li:not(:last-child)::after {content: \"\\00b7\"; padding: 0 .5ex}\n",
       "</style>\n",
       "<ol class=list-inline><li>'Name: dxpy'</li><li>'Version: 0.377.0'</li><li>'Summary: DNAnexus Platform API bindings for Python'</li><li>'Home-page: https://github.com/dnanexus/dx-toolkit'</li><li>'Author: Aleksandra Zalcman, Andrey Kislyuk, Anurag Biyani, Geet Duggal, Katherine Lai, Kurt Jensen, Marek Hrvol, Ohad Rodeh, Phil Sung'</li><li>'Author-email: support@dnanexus.com'</li><li>'License: Apache Software License'</li><li>'Location: /opt/conda/lib/python3.11/site-packages'</li><li>'Requires: argcomplete, certifi, psutil, python-dateutil, urllib3, websocket-client'</li><li>'Required-by: '</li></ol>\n"
      ],
      "text/latex": [
       "\\begin{enumerate*}\n",
       "\\item 'Name: dxpy'\n",
       "\\item 'Version: 0.377.0'\n",
       "\\item 'Summary: DNAnexus Platform API bindings for Python'\n",
       "\\item 'Home-page: https://github.com/dnanexus/dx-toolkit'\n",
       "\\item 'Author: Aleksandra Zalcman, Andrey Kislyuk, Anurag Biyani, Geet Duggal, Katherine Lai, Kurt Jensen, Marek Hrvol, Ohad Rodeh, Phil Sung'\n",
       "\\item 'Author-email: support@dnanexus.com'\n",
       "\\item 'License: Apache Software License'\n",
       "\\item 'Location: /opt/conda/lib/python3.11/site-packages'\n",
       "\\item 'Requires: argcomplete, certifi, psutil, python-dateutil, urllib3, websocket-client'\n",
       "\\item 'Required-by: '\n",
       "\\end{enumerate*}\n"
      ],
      "text/markdown": [
       "1. 'Name: dxpy'\n",
       "2. 'Version: 0.377.0'\n",
       "3. 'Summary: DNAnexus Platform API bindings for Python'\n",
       "4. 'Home-page: https://github.com/dnanexus/dx-toolkit'\n",
       "5. 'Author: Aleksandra Zalcman, Andrey Kislyuk, Anurag Biyani, Geet Duggal, Katherine Lai, Kurt Jensen, Marek Hrvol, Ohad Rodeh, Phil Sung'\n",
       "6. 'Author-email: support@dnanexus.com'\n",
       "7. 'License: Apache Software License'\n",
       "8. 'Location: /opt/conda/lib/python3.11/site-packages'\n",
       "9. 'Requires: argcomplete, certifi, psutil, python-dateutil, urllib3, websocket-client'\n",
       "10. 'Required-by: '\n",
       "\n",
       "\n"
      ],
      "text/plain": [
       " [1] \"Name: dxpy\"                                                                                                                            \n",
       " [2] \"Version: 0.377.0\"                                                                                                                      \n",
       " [3] \"Summary: DNAnexus Platform API bindings for Python\"                                                                                    \n",
       " [4] \"Home-page: https://github.com/dnanexus/dx-toolkit\"                                                                                     \n",
       " [5] \"Author: Aleksandra Zalcman, Andrey Kislyuk, Anurag Biyani, Geet Duggal, Katherine Lai, Kurt Jensen, Marek Hrvol, Ohad Rodeh, Phil Sung\"\n",
       " [6] \"Author-email: support@dnanexus.com\"                                                                                                    \n",
       " [7] \"License: Apache Software License\"                                                                                                      \n",
       " [8] \"Location: /opt/conda/lib/python3.11/site-packages\"                                                                                     \n",
       " [9] \"Requires: argcomplete, certifi, psutil, python-dateutil, urllib3, websocket-client\"                                                    \n",
       "[10] \"Required-by: \"                                                                                                                         "
      ]
     },
     "metadata": {},
     "output_type": "display_data"
    }
   ],
   "source": [
    "system(\"pip3 show dxpy\", intern = TRUE)\n",
    "library(glue)\n",
    "library(data.table)"
   ]
  },
  {
   "cell_type": "markdown",
   "id": "ada82aba-0aa5-467c-bd1a-078f15d6828b",
   "metadata": {},
   "source": [
    "### Project & dataset IDs"
   ]
  },
  {
   "cell_type": "code",
   "execution_count": 88,
   "id": "7b1b95fa-d787-49e1-a1b1-89124d92df9a",
   "metadata": {
    "tags": []
   },
   "outputs": [
    {
     "name": "stdout",
     "output_type": "stream",
     "text": [
      "Project record ID: project-GvZyZ20J81vgPJGbJy8pgpyq:record-Gvb0Bg0Jfxfv0q8Fb2pXqKjg \n"
     ]
    }
   ],
   "source": [
    "projectid <- \"project-GvZyZ20J81vgPJGbJy8pgpyq\"\n",
    "rid       <- \"record-Gvb0Bg0Jfxfv0q8Fb2pXqKjg\"\n",
    "dataset   <- glue(\"{projectid}:{rid}\")\n",
    "cat(\"Project record ID:\", dataset, \"\\n\")"
   ]
  },
  {
   "cell_type": "markdown",
   "id": "ec22f5e5-51a8-4050-ba9a-4dde35a82559",
   "metadata": {},
   "source": [
    "## Data extraction"
   ]
  },
  {
   "cell_type": "markdown",
   "id": "46e784d8-cfbb-4b79-b502-49700fb0813a",
   "metadata": {},
   "source": [
    "### Download data dictionary"
   ]
  },
  {
   "cell_type": "code",
   "execution_count": 89,
   "id": "bb3060b7-4af8-45e1-a638-88ab720fdd43",
   "metadata": {
    "tags": []
   },
   "outputs": [],
   "source": [
    "setwd(\"/opt/notebooks\")\n",
    "cmd <- glue(\"dx extract_dataset {dataset} -ddd\")\n",
    "system(cmd)\n",
    "dict_files <- list.files(pattern=\"codings|data_dictionary|entity_dictionary\")\n",
    "data_dict_file <- dict_files[grepl(\"data_dictionary\", dict_files)]"
   ]
  },
  {
   "cell_type": "markdown",
   "id": "f9eb191e-fb44-49c9-9018-5995461ec6d0",
   "metadata": {},
   "source": [
    "#### Data dictionary filter function"
   ]
  },
  {
   "cell_type": "code",
   "execution_count": null,
   "id": "782c982c-b4b6-4da9-a594-9e2cb25db578",
   "metadata": {
    "tags": []
   },
   "outputs": [],
   "source": [
    "extract_data <- function(dataset, fields, output) {\n",
    "    cmd <- glue::glue(\"dx extract_dataset {dataset} --fields {paste(fields, collapse=',')} --delimiter ',' -o {output}\")\n",
    "    system(cmd, intern = FALSE, wait = TRUE, ignore.stdout = FALSE, ignore.stderr = FALSE)\n",
    "}\n",
    "\n",
    "filter_data_dict <- function(dict_path, codes_str) {\n",
    "    \n",
    "    d <- lapply(codes_str, function(x) {\n",
    "        \n",
    "        if (x$search==\"matches\") {\n",
    "            data_dict[entity==x$entity & name==x$name]\n",
    "        } else if (x$search==\"startswith\") {\n",
    "            data_dict[entity==x$entity & grepl(paste0(\"^\", x$name), name)]\n",
    "        }\n",
    "        \n",
    "    }) |> rbindlist(idcol = \"item\")\n",
    "    \n",
    "    d[, field_id := paste(entity, name, sep=\".\")]\n",
    "    \n",
    "    return(d)\n",
    "}"
   ]
  },
  {
   "cell_type": "markdown",
   "id": "3691e73a-0728-48d9-8fff-0f6ce23fc02b",
   "metadata": {},
   "source": [
    "### Extract participant data"
   ]
  },
  {
   "cell_type": "code",
   "execution_count": 104,
   "id": "59997f6a-b821-4666-aaa1-6dbb4a3f0387",
   "metadata": {
    "tags": []
   },
   "outputs": [
    {
     "data": {
      "text/html": [
       "<table class=\"dataframe\">\n",
       "<caption>A data.table: 3 × 18</caption>\n",
       "<thead>\n",
       "\t<tr><th scope=col>item</th><th scope=col>entity</th><th scope=col>name</th><th scope=col>type</th><th scope=col>primary_key_type</th><th scope=col>coding_name</th><th scope=col>concept</th><th scope=col>description</th><th scope=col>folder_path</th><th scope=col>is_multi_select</th><th scope=col>is_sparse_coding</th><th scope=col>linkout</th><th scope=col>longitudinal_axis_type</th><th scope=col>referenced_entity_field</th><th scope=col>relationship</th><th scope=col>title</th><th scope=col>units</th><th scope=col>field_id</th></tr>\n",
       "\t<tr><th scope=col>&lt;chr&gt;</th><th scope=col>&lt;chr&gt;</th><th scope=col>&lt;chr&gt;</th><th scope=col>&lt;chr&gt;</th><th scope=col>&lt;chr&gt;</th><th scope=col>&lt;chr&gt;</th><th scope=col>&lt;lgl&gt;</th><th scope=col>&lt;lgl&gt;</th><th scope=col>&lt;chr&gt;</th><th scope=col>&lt;chr&gt;</th><th scope=col>&lt;chr&gt;</th><th scope=col>&lt;chr&gt;</th><th scope=col>&lt;lgl&gt;</th><th scope=col>&lt;chr&gt;</th><th scope=col>&lt;chr&gt;</th><th scope=col>&lt;chr&gt;</th><th scope=col>&lt;chr&gt;</th><th scope=col>&lt;chr&gt;</th></tr>\n",
       "</thead>\n",
       "<tbody>\n",
       "\t<tr><td>eid           </td><td>participant</td><td>eid </td><td>string </td><td>global</td><td>                </td><td>NA</td><td>NA</td><td>Participant Information                              </td><td></td><td></td><td>                                                     </td><td>NA</td><td></td><td></td><td>Participant ID          </td><td></td><td>participant.eid </td></tr>\n",
       "\t<tr><td>reason_lost_fu</td><td>participant</td><td>p190</td><td>integer</td><td><span style=white-space:pre-wrap>      </span></td><td>data_coding_1965</td><td>NA</td><td>NA</td><td>Population characteristics &gt; Ongoing characteristics </td><td></td><td></td><td>http://biobank.ctsu.ox.ac.uk/crystal/field.cgi?id=190</td><td>NA</td><td></td><td></td><td>Reason lost to follow-up</td><td></td><td>participant.p190</td></tr>\n",
       "\t<tr><td><span style=white-space:pre-wrap>sex           </span></td><td>participant</td><td>p31 </td><td>integer</td><td><span style=white-space:pre-wrap>      </span></td><td><span style=white-space:pre-wrap>data_coding_9   </span></td><td>NA</td><td>NA</td><td>Population characteristics &gt; Baseline characteristics</td><td></td><td></td><td>http://biobank.ctsu.ox.ac.uk/crystal/field.cgi?id=31 </td><td>NA</td><td></td><td></td><td><span style=white-space:pre-wrap>Sex                     </span></td><td></td><td>participant.p31 </td></tr>\n",
       "</tbody>\n",
       "</table>\n"
      ],
      "text/latex": [
       "A data.table: 3 × 18\n",
       "\\begin{tabular}{llllllllllllllllll}\n",
       " item & entity & name & type & primary\\_key\\_type & coding\\_name & concept & description & folder\\_path & is\\_multi\\_select & is\\_sparse\\_coding & linkout & longitudinal\\_axis\\_type & referenced\\_entity\\_field & relationship & title & units & field\\_id\\\\\n",
       " <chr> & <chr> & <chr> & <chr> & <chr> & <chr> & <lgl> & <lgl> & <chr> & <chr> & <chr> & <chr> & <lgl> & <chr> & <chr> & <chr> & <chr> & <chr>\\\\\n",
       "\\hline\n",
       "\t eid            & participant & eid  & string  & global &                  & NA & NA & Participant Information                               &  &  &                                                       & NA &  &  & Participant ID           &  & participant.eid \\\\\n",
       "\t reason\\_lost\\_fu & participant & p190 & integer &        & data\\_coding\\_1965 & NA & NA & Population characteristics > Ongoing characteristics  &  &  & http://biobank.ctsu.ox.ac.uk/crystal/field.cgi?id=190 & NA &  &  & Reason lost to follow-up &  & participant.p190\\\\\n",
       "\t sex            & participant & p31  & integer &        & data\\_coding\\_9    & NA & NA & Population characteristics > Baseline characteristics &  &  & http://biobank.ctsu.ox.ac.uk/crystal/field.cgi?id=31  & NA &  &  & Sex                      &  & participant.p31 \\\\\n",
       "\\end{tabular}\n"
      ],
      "text/markdown": [
       "\n",
       "A data.table: 3 × 18\n",
       "\n",
       "| item &lt;chr&gt; | entity &lt;chr&gt; | name &lt;chr&gt; | type &lt;chr&gt; | primary_key_type &lt;chr&gt; | coding_name &lt;chr&gt; | concept &lt;lgl&gt; | description &lt;lgl&gt; | folder_path &lt;chr&gt; | is_multi_select &lt;chr&gt; | is_sparse_coding &lt;chr&gt; | linkout &lt;chr&gt; | longitudinal_axis_type &lt;lgl&gt; | referenced_entity_field &lt;chr&gt; | relationship &lt;chr&gt; | title &lt;chr&gt; | units &lt;chr&gt; | field_id &lt;chr&gt; |\n",
       "|---|---|---|---|---|---|---|---|---|---|---|---|---|---|---|---|---|---|\n",
       "| eid            | participant | eid  | string  | global | <!----> | NA | NA | Participant Information                               | <!----> | <!----> | <!----> | NA | <!----> | <!----> | Participant ID           | <!----> | participant.eid  |\n",
       "| reason_lost_fu | participant | p190 | integer | <!----> | data_coding_1965 | NA | NA | Population characteristics &gt; Ongoing characteristics  | <!----> | <!----> | http://biobank.ctsu.ox.ac.uk/crystal/field.cgi?id=190 | NA | <!----> | <!----> | Reason lost to follow-up | <!----> | participant.p190 |\n",
       "| sex            | participant | p31  | integer | <!----> | data_coding_9    | NA | NA | Population characteristics &gt; Baseline characteristics | <!----> | <!----> | http://biobank.ctsu.ox.ac.uk/crystal/field.cgi?id=31  | NA | <!----> | <!----> | Sex                      | <!----> | participant.p31  |\n",
       "\n"
      ],
      "text/plain": [
       "  item           entity      name type    primary_key_type coding_name     \n",
       "1 eid            participant eid  string  global                           \n",
       "2 reason_lost_fu participant p190 integer                  data_coding_1965\n",
       "3 sex            participant p31  integer                  data_coding_9   \n",
       "  concept description folder_path                                          \n",
       "1 NA      NA          Participant Information                              \n",
       "2 NA      NA          Population characteristics > Ongoing characteristics \n",
       "3 NA      NA          Population characteristics > Baseline characteristics\n",
       "  is_multi_select is_sparse_coding\n",
       "1                                 \n",
       "2                                 \n",
       "3                                 \n",
       "  linkout                                               longitudinal_axis_type\n",
       "1                                                       NA                    \n",
       "2 http://biobank.ctsu.ox.ac.uk/crystal/field.cgi?id=190 NA                    \n",
       "3 http://biobank.ctsu.ox.ac.uk/crystal/field.cgi?id=31  NA                    \n",
       "  referenced_entity_field relationship title                    units\n",
       "1                                      Participant ID                \n",
       "2                                      Reason lost to follow-up      \n",
       "3                                      Sex                           \n",
       "  field_id        \n",
       "1 participant.eid \n",
       "2 participant.p190\n",
       "3 participant.p31 "
      ]
     },
     "metadata": {},
     "output_type": "display_data"
    }
   ],
   "source": [
    "participant_codes= list(eid                = list(name=\"eid\",       entity=\"participant\", search=\"matches\"),\n",
    "                        reason_lost_fu     = list(name=\"p190\",      entity=\"participant\", search=\"matches\"),\n",
    "                        sex                = list(name=\"p31\",       entity=\"participant\", search=\"matches\"),\n",
    "                        age                = list(name=\"p21022\",    entity=\"participant\", search=\"matches\"),\n",
    "                        ethnicity          = list(name=\"p21000\",    entity=\"participant\", search=\"matches\"),\n",
    "                        genetic_sex        = list(name=\"p22001\",    entity=\"participant\", search=\"matches\"),\n",
    "                        genetic_ethnicity  = list(name=\"p22006\",    entity=\"participant\", search=\"matches\"),\n",
    "                        pc1                = list(name=\"p22009_a1\", entity=\"participant\", search=\"matches\"),\n",
    "                        pc2                = list(name=\"p22009_a2\", entity=\"participant\", search=\"matches\"),\n",
    "                        pc3                = list(name=\"p22009_a3\", entity=\"participant\", search=\"matches\"),\n",
    "                        pc4                = list(name=\"p22009_a4\", entity=\"participant\", search=\"matches\"),\n",
    "                        pc5                = list(name=\"p22009_a5\", entity=\"participant\", search=\"matches\"))\n",
    "\n",
    "                        # self_rep_ill       = list(name=\"p20002\",    entity=\"participant\", search=\"startswith\"),\n",
    "                        # self_rep_ill_year  = list(name=\"p20008\",    entity=\"participant\", search=\"startswith\"),\n",
    "                        # self_rep_proc      = list(name=\"p20004\",    entity=\"participant\", search=\"startswith\"),\n",
    "                        # self_rep_proc_year = list(name=\"p20010\",    entity=\"participant\", search=\"startswith\"))\n",
    "\n",
    "filt_data_dict = filter_data_dict(data_dict_file, participant_codes)\n",
    "head(filt_data_dict, 3)"
   ]
  },
  {
   "cell_type": "code",
   "execution_count": 105,
   "id": "706d1c1a-149c-44da-b736-092a4697d641",
   "metadata": {
    "tags": []
   },
   "outputs": [],
   "source": [
    "extract_data(dataset, fields = filt_data_dict$field_id, output = \"data_participant.csv\")"
   ]
  },
  {
   "cell_type": "markdown",
   "id": "cea08cd4-112b-4c86-a802-1db9a3c856a8",
   "metadata": {},
   "source": [
    "### Extract self-report illness data"
   ]
  },
  {
   "cell_type": "code",
   "execution_count": null,
   "id": "88706a48-d083-4c85-bef8-dfe4a537d398",
   "metadata": {},
   "outputs": [],
   "source": [
    "self_report_codes= list(# self_rep_ill       = list(name=\"p20002\",    entity=\"participant\", search=\"startswith\"),\n",
    "                        # self_rep_ill_year  = list(name=\"p20008\",    entity=\"participant\", search=\"startswith\"),\n",
    "                        # self_rep_proc      = list(name=\"p20004\",    entity=\"participant\", search=\"startswith\"),\n",
    "                        # self_rep_proc_year = list(name=\"p20010\",    entity=\"participant\", search=\"startswith\"))\n",
    "\n",
    "filt_data_dict = filter_data_dict(data_dict_file, participant_codes)\n",
    "head(filt_data_dict, 3)"
   ]
  },
  {
   "cell_type": "markdown",
   "id": "3ff46213-5c7b-46a7-82a8-c9bfdc2c35af",
   "metadata": {},
   "source": [
    "### Extract HES inpatient data"
   ]
  },
  {
   "cell_type": "code",
   "execution_count": 83,
   "id": "309afd67-5b22-4088-87af-130af25f4d06",
   "metadata": {
    "tags": []
   },
   "outputs": [
    {
     "data": {
      "text/html": [
       "<table class=\"dataframe\">\n",
       "<caption>A data.table: 4 × 18</caption>\n",
       "<thead>\n",
       "\t<tr><th scope=col>item</th><th scope=col>entity</th><th scope=col>name</th><th scope=col>type</th><th scope=col>primary_key_type</th><th scope=col>coding_name</th><th scope=col>concept</th><th scope=col>description</th><th scope=col>folder_path</th><th scope=col>is_multi_select</th><th scope=col>is_sparse_coding</th><th scope=col>linkout</th><th scope=col>longitudinal_axis_type</th><th scope=col>referenced_entity_field</th><th scope=col>relationship</th><th scope=col>title</th><th scope=col>units</th><th scope=col>field_id</th></tr>\n",
       "\t<tr><th scope=col>&lt;chr&gt;</th><th scope=col>&lt;chr&gt;</th><th scope=col>&lt;chr&gt;</th><th scope=col>&lt;chr&gt;</th><th scope=col>&lt;chr&gt;</th><th scope=col>&lt;chr&gt;</th><th scope=col>&lt;lgl&gt;</th><th scope=col>&lt;lgl&gt;</th><th scope=col>&lt;chr&gt;</th><th scope=col>&lt;chr&gt;</th><th scope=col>&lt;chr&gt;</th><th scope=col>&lt;chr&gt;</th><th scope=col>&lt;lgl&gt;</th><th scope=col>&lt;chr&gt;</th><th scope=col>&lt;chr&gt;</th><th scope=col>&lt;chr&gt;</th><th scope=col>&lt;chr&gt;</th><th scope=col>&lt;chr&gt;</th></tr>\n",
       "</thead>\n",
       "<tbody>\n",
       "\t<tr><td>eid      </td><td>hesin</td><td>eid      </td><td>string </td><td></td><td></td><td>NA</td><td>NA</td><td></td><td></td><td></td><td></td><td>NA</td><td>participant:eid</td><td>many_to_one</td><td>Participant ID               </td><td></td><td>hesin.eid      </td></tr>\n",
       "\t<tr><td>ins_index</td><td>hesin</td><td>ins_index</td><td>integer</td><td></td><td></td><td>NA</td><td>NA</td><td></td><td></td><td></td><td></td><td>NA</td><td>               </td><td>           </td><td>Instance index               </td><td></td><td>hesin.ins_index</td></tr>\n",
       "\t<tr><td>epistart </td><td>hesin</td><td>epistart </td><td>date   </td><td></td><td></td><td>NA</td><td>NA</td><td></td><td></td><td></td><td></td><td>NA</td><td>               </td><td>           </td><td>Episode start date           </td><td></td><td>hesin.epistart </td></tr>\n",
       "\t<tr><td>admidate </td><td>hesin</td><td>admidate </td><td>date   </td><td></td><td></td><td>NA</td><td>NA</td><td></td><td></td><td></td><td></td><td>NA</td><td>               </td><td>           </td><td>Date of admission to hospital</td><td></td><td>hesin.admidate </td></tr>\n",
       "</tbody>\n",
       "</table>\n"
      ],
      "text/latex": [
       "A data.table: 4 × 18\n",
       "\\begin{tabular}{llllllllllllllllll}\n",
       " item & entity & name & type & primary\\_key\\_type & coding\\_name & concept & description & folder\\_path & is\\_multi\\_select & is\\_sparse\\_coding & linkout & longitudinal\\_axis\\_type & referenced\\_entity\\_field & relationship & title & units & field\\_id\\\\\n",
       " <chr> & <chr> & <chr> & <chr> & <chr> & <chr> & <lgl> & <lgl> & <chr> & <chr> & <chr> & <chr> & <lgl> & <chr> & <chr> & <chr> & <chr> & <chr>\\\\\n",
       "\\hline\n",
       "\t eid       & hesin & eid       & string  &  &  & NA & NA &  &  &  &  & NA & participant:eid & many\\_to\\_one & Participant ID                &  & hesin.eid      \\\\\n",
       "\t ins\\_index & hesin & ins\\_index & integer &  &  & NA & NA &  &  &  &  & NA &                 &             & Instance index                &  & hesin.ins\\_index\\\\\n",
       "\t epistart  & hesin & epistart  & date    &  &  & NA & NA &  &  &  &  & NA &                 &             & Episode start date            &  & hesin.epistart \\\\\n",
       "\t admidate  & hesin & admidate  & date    &  &  & NA & NA &  &  &  &  & NA &                 &             & Date of admission to hospital &  & hesin.admidate \\\\\n",
       "\\end{tabular}\n"
      ],
      "text/markdown": [
       "\n",
       "A data.table: 4 × 18\n",
       "\n",
       "| item &lt;chr&gt; | entity &lt;chr&gt; | name &lt;chr&gt; | type &lt;chr&gt; | primary_key_type &lt;chr&gt; | coding_name &lt;chr&gt; | concept &lt;lgl&gt; | description &lt;lgl&gt; | folder_path &lt;chr&gt; | is_multi_select &lt;chr&gt; | is_sparse_coding &lt;chr&gt; | linkout &lt;chr&gt; | longitudinal_axis_type &lt;lgl&gt; | referenced_entity_field &lt;chr&gt; | relationship &lt;chr&gt; | title &lt;chr&gt; | units &lt;chr&gt; | field_id &lt;chr&gt; |\n",
       "|---|---|---|---|---|---|---|---|---|---|---|---|---|---|---|---|---|---|\n",
       "| eid       | hesin | eid       | string  | <!----> | <!----> | NA | NA | <!----> | <!----> | <!----> | <!----> | NA | participant:eid | many_to_one | Participant ID                | <!----> | hesin.eid       |\n",
       "| ins_index | hesin | ins_index | integer | <!----> | <!----> | NA | NA | <!----> | <!----> | <!----> | <!----> | NA | <!----> | <!----> | Instance index                | <!----> | hesin.ins_index |\n",
       "| epistart  | hesin | epistart  | date    | <!----> | <!----> | NA | NA | <!----> | <!----> | <!----> | <!----> | NA | <!----> | <!----> | Episode start date            | <!----> | hesin.epistart  |\n",
       "| admidate  | hesin | admidate  | date    | <!----> | <!----> | NA | NA | <!----> | <!----> | <!----> | <!----> | NA | <!----> | <!----> | Date of admission to hospital | <!----> | hesin.admidate  |\n",
       "\n"
      ],
      "text/plain": [
       "  item      entity name      type    primary_key_type coding_name concept\n",
       "1 eid       hesin  eid       string                               NA     \n",
       "2 ins_index hesin  ins_index integer                              NA     \n",
       "3 epistart  hesin  epistart  date                                 NA     \n",
       "4 admidate  hesin  admidate  date                                 NA     \n",
       "  description folder_path is_multi_select is_sparse_coding linkout\n",
       "1 NA                                                              \n",
       "2 NA                                                              \n",
       "3 NA                                                              \n",
       "4 NA                                                              \n",
       "  longitudinal_axis_type referenced_entity_field relationship\n",
       "1 NA                     participant:eid         many_to_one \n",
       "2 NA                                                         \n",
       "3 NA                                                         \n",
       "4 NA                                                         \n",
       "  title                         units field_id       \n",
       "1 Participant ID                      hesin.eid      \n",
       "2 Instance index                      hesin.ins_index\n",
       "3 Episode start date                  hesin.epistart \n",
       "4 Date of admission to hospital       hesin.admidate "
      ]
     },
     "metadata": {},
     "output_type": "display_data"
    }
   ],
   "source": [
    "hesin_to_extract = list(eid                = list(name=\"eid\",       entity=\"hesin\", search=\"matches\"),\n",
    "                        ins_index          = list(name=\"ins_index\", entity=\"hesin\", search=\"matches\"),\n",
    "                        epistart           = list(name=\"epistart\",  entity=\"hesin\", search=\"matches\"),\n",
    "                        admidate           = list(name=\"admidate\",  entity=\"hesin\", search=\"matches\"))\n",
    "\n",
    "filt_data_dict = filter_data_dict(data_dict_file, hesin_to_extract)\n",
    "head(filt_data_dict, 4)"
   ]
  },
  {
   "cell_type": "code",
   "execution_count": 97,
   "id": "2bbad12b-474d-48de-aa51-f2be227caf87",
   "metadata": {
    "tags": []
   },
   "outputs": [],
   "source": [
    "extract_data(dataset, fields = filt_data_dict$field_id, output = \"data_hesin.csv\")"
   ]
  },
  {
   "cell_type": "markdown",
   "id": "1f73f29b-5c64-45ab-b87f-ef0c87b12f87",
   "metadata": {},
   "source": [
    "### Extract HES diagnoses"
   ]
  },
  {
   "cell_type": "code",
   "execution_count": 34,
   "id": "ea65ffec-0e44-4ccb-b62f-1a0bc32548df",
   "metadata": {
    "tags": []
   },
   "outputs": [
    {
     "data": {
      "text/html": [
       "<table class=\"dataframe\">\n",
       "<caption>A data.table: 4 × 18</caption>\n",
       "<thead>\n",
       "\t<tr><th scope=col>item</th><th scope=col>entity</th><th scope=col>name</th><th scope=col>type</th><th scope=col>primary_key_type</th><th scope=col>coding_name</th><th scope=col>concept</th><th scope=col>description</th><th scope=col>folder_path</th><th scope=col>is_multi_select</th><th scope=col>is_sparse_coding</th><th scope=col>linkout</th><th scope=col>longitudinal_axis_type</th><th scope=col>referenced_entity_field</th><th scope=col>relationship</th><th scope=col>title</th><th scope=col>units</th><th scope=col>field_id</th></tr>\n",
       "\t<tr><th scope=col>&lt;chr&gt;</th><th scope=col>&lt;chr&gt;</th><th scope=col>&lt;chr&gt;</th><th scope=col>&lt;chr&gt;</th><th scope=col>&lt;chr&gt;</th><th scope=col>&lt;chr&gt;</th><th scope=col>&lt;lgl&gt;</th><th scope=col>&lt;lgl&gt;</th><th scope=col>&lt;chr&gt;</th><th scope=col>&lt;chr&gt;</th><th scope=col>&lt;chr&gt;</th><th scope=col>&lt;chr&gt;</th><th scope=col>&lt;lgl&gt;</th><th scope=col>&lt;chr&gt;</th><th scope=col>&lt;chr&gt;</th><th scope=col>&lt;chr&gt;</th><th scope=col>&lt;chr&gt;</th><th scope=col>&lt;chr&gt;</th></tr>\n",
       "</thead>\n",
       "<tbody>\n",
       "\t<tr><td>eid      </td><td>hesin_diag</td><td>eid       </td><td>string </td><td></td><td>              </td><td>NA</td><td>NA</td><td></td><td></td><td></td><td></td><td>NA</td><td></td><td></td><td>Participant ID   </td><td></td><td>hesin_diag.eid       </td></tr>\n",
       "\t<tr><td>ins_index</td><td>hesin_diag</td><td>ins_index </td><td>integer</td><td></td><td>              </td><td>NA</td><td>NA</td><td></td><td></td><td></td><td></td><td>NA</td><td></td><td></td><td>Instance index   </td><td></td><td>hesin_diag.ins_index </td></tr>\n",
       "\t<tr><td>epistart </td><td>hesin_diag</td><td>diag_icd9 </td><td>string </td><td></td><td>data_coding_87</td><td>NA</td><td>NA</td><td></td><td></td><td></td><td></td><td>NA</td><td></td><td></td><td>Diagnoses - ICD9 </td><td></td><td>hesin_diag.diag_icd9 </td></tr>\n",
       "\t<tr><td>admidate </td><td>hesin_diag</td><td>diag_icd10</td><td>string </td><td></td><td>data_coding_19</td><td>NA</td><td>NA</td><td></td><td></td><td></td><td></td><td>NA</td><td></td><td></td><td>Diagnoses - ICD10</td><td></td><td>hesin_diag.diag_icd10</td></tr>\n",
       "</tbody>\n",
       "</table>\n"
      ],
      "text/latex": [
       "A data.table: 4 × 18\n",
       "\\begin{tabular}{llllllllllllllllll}\n",
       " item & entity & name & type & primary\\_key\\_type & coding\\_name & concept & description & folder\\_path & is\\_multi\\_select & is\\_sparse\\_coding & linkout & longitudinal\\_axis\\_type & referenced\\_entity\\_field & relationship & title & units & field\\_id\\\\\n",
       " <chr> & <chr> & <chr> & <chr> & <chr> & <chr> & <lgl> & <lgl> & <chr> & <chr> & <chr> & <chr> & <lgl> & <chr> & <chr> & <chr> & <chr> & <chr>\\\\\n",
       "\\hline\n",
       "\t eid       & hesin\\_diag & eid        & string  &  &                & NA & NA &  &  &  &  & NA &  &  & Participant ID    &  & hesin\\_diag.eid       \\\\\n",
       "\t ins\\_index & hesin\\_diag & ins\\_index  & integer &  &                & NA & NA &  &  &  &  & NA &  &  & Instance index    &  & hesin\\_diag.ins\\_index \\\\\n",
       "\t epistart  & hesin\\_diag & diag\\_icd9  & string  &  & data\\_coding\\_87 & NA & NA &  &  &  &  & NA &  &  & Diagnoses - ICD9  &  & hesin\\_diag.diag\\_icd9 \\\\\n",
       "\t admidate  & hesin\\_diag & diag\\_icd10 & string  &  & data\\_coding\\_19 & NA & NA &  &  &  &  & NA &  &  & Diagnoses - ICD10 &  & hesin\\_diag.diag\\_icd10\\\\\n",
       "\\end{tabular}\n"
      ],
      "text/markdown": [
       "\n",
       "A data.table: 4 × 18\n",
       "\n",
       "| item &lt;chr&gt; | entity &lt;chr&gt; | name &lt;chr&gt; | type &lt;chr&gt; | primary_key_type &lt;chr&gt; | coding_name &lt;chr&gt; | concept &lt;lgl&gt; | description &lt;lgl&gt; | folder_path &lt;chr&gt; | is_multi_select &lt;chr&gt; | is_sparse_coding &lt;chr&gt; | linkout &lt;chr&gt; | longitudinal_axis_type &lt;lgl&gt; | referenced_entity_field &lt;chr&gt; | relationship &lt;chr&gt; | title &lt;chr&gt; | units &lt;chr&gt; | field_id &lt;chr&gt; |\n",
       "|---|---|---|---|---|---|---|---|---|---|---|---|---|---|---|---|---|---|\n",
       "| eid       | hesin_diag | eid        | string  | <!----> | <!----> | NA | NA | <!----> | <!----> | <!----> | <!----> | NA | <!----> | <!----> | Participant ID    | <!----> | hesin_diag.eid        |\n",
       "| ins_index | hesin_diag | ins_index  | integer | <!----> | <!----> | NA | NA | <!----> | <!----> | <!----> | <!----> | NA | <!----> | <!----> | Instance index    | <!----> | hesin_diag.ins_index  |\n",
       "| epistart  | hesin_diag | diag_icd9  | string  | <!----> | data_coding_87 | NA | NA | <!----> | <!----> | <!----> | <!----> | NA | <!----> | <!----> | Diagnoses - ICD9  | <!----> | hesin_diag.diag_icd9  |\n",
       "| admidate  | hesin_diag | diag_icd10 | string  | <!----> | data_coding_19 | NA | NA | <!----> | <!----> | <!----> | <!----> | NA | <!----> | <!----> | Diagnoses - ICD10 | <!----> | hesin_diag.diag_icd10 |\n",
       "\n"
      ],
      "text/plain": [
       "  item      entity     name       type    primary_key_type coding_name   \n",
       "1 eid       hesin_diag eid        string                                 \n",
       "2 ins_index hesin_diag ins_index  integer                                \n",
       "3 epistart  hesin_diag diag_icd9  string                   data_coding_87\n",
       "4 admidate  hesin_diag diag_icd10 string                   data_coding_19\n",
       "  concept description folder_path is_multi_select is_sparse_coding linkout\n",
       "1 NA      NA                                                              \n",
       "2 NA      NA                                                              \n",
       "3 NA      NA                                                              \n",
       "4 NA      NA                                                              \n",
       "  longitudinal_axis_type referenced_entity_field relationship title            \n",
       "1 NA                                                          Participant ID   \n",
       "2 NA                                                          Instance index   \n",
       "3 NA                                                          Diagnoses - ICD9 \n",
       "4 NA                                                          Diagnoses - ICD10\n",
       "  units field_id             \n",
       "1       hesin_diag.eid       \n",
       "2       hesin_diag.ins_index \n",
       "3       hesin_diag.diag_icd9 \n",
       "4       hesin_diag.diag_icd10"
      ]
     },
     "metadata": {},
     "output_type": "display_data"
    }
   ],
   "source": [
    "hesdiag_to_extract=list(eid                = list(name=\"eid\",       entity=\"hesin_diag\", search=\"matches\"),\n",
    "                        ins_index          = list(name=\"ins_index\", entity=\"hesin_diag\", search=\"matches\"),\n",
    "                        epistart           = list(name=\"epistart\",  entity=\"hesin_diag\", search=\"matches\"),\n",
    "                        admidate           = list(name=\"admidate\",  entity=\"hesin_diag\", search=\"matches\"))\n",
    "\n",
    "filt_data_dict = filter_data_dict(data_dict_file, hesdiag_to_extract)\n",
    "head(filt_data_dict, 4)"
   ]
  },
  {
   "cell_type": "code",
   "execution_count": 35,
   "id": "a850a343-34ce-47b9-963b-aae5891114a6",
   "metadata": {
    "tags": []
   },
   "outputs": [],
   "source": [
    "extract_data(dataset, fields = filt_data_dict$field_id, output = \"data_hesin_diag.csv\")"
   ]
  },
  {
   "cell_type": "markdown",
   "id": "108d9f3c-a06a-48d4-a98f-3117eb023959",
   "metadata": {
    "tags": []
   },
   "source": [
    "### Extract HES procedures"
   ]
  },
  {
   "cell_type": "code",
   "execution_count": 37,
   "id": "b576012f-7406-4311-8646-79ca290a37f5",
   "metadata": {
    "collapsed": true,
    "jupyter": {
     "outputs_hidden": true,
     "source_hidden": true
    },
    "tags": []
   },
   "outputs": [
    {
     "data": {
      "text/html": [
       "<table class=\"dataframe\">\n",
       "<caption>A data.table: 4 × 18</caption>\n",
       "<thead>\n",
       "\t<tr><th scope=col>item</th><th scope=col>entity</th><th scope=col>name</th><th scope=col>type</th><th scope=col>primary_key_type</th><th scope=col>coding_name</th><th scope=col>concept</th><th scope=col>description</th><th scope=col>folder_path</th><th scope=col>is_multi_select</th><th scope=col>is_sparse_coding</th><th scope=col>linkout</th><th scope=col>longitudinal_axis_type</th><th scope=col>referenced_entity_field</th><th scope=col>relationship</th><th scope=col>title</th><th scope=col>units</th><th scope=col>field_id</th></tr>\n",
       "\t<tr><th scope=col>&lt;chr&gt;</th><th scope=col>&lt;chr&gt;</th><th scope=col>&lt;chr&gt;</th><th scope=col>&lt;chr&gt;</th><th scope=col>&lt;chr&gt;</th><th scope=col>&lt;chr&gt;</th><th scope=col>&lt;lgl&gt;</th><th scope=col>&lt;lgl&gt;</th><th scope=col>&lt;chr&gt;</th><th scope=col>&lt;chr&gt;</th><th scope=col>&lt;chr&gt;</th><th scope=col>&lt;chr&gt;</th><th scope=col>&lt;lgl&gt;</th><th scope=col>&lt;chr&gt;</th><th scope=col>&lt;chr&gt;</th><th scope=col>&lt;chr&gt;</th><th scope=col>&lt;chr&gt;</th><th scope=col>&lt;chr&gt;</th></tr>\n",
       "</thead>\n",
       "<tbody>\n",
       "\t<tr><td>eid      </td><td>hesin_oper</td><td>eid      </td><td>string </td><td></td><td>               </td><td>NA</td><td>NA</td><td></td><td></td><td></td><td></td><td>NA</td><td></td><td></td><td>Participant ID              </td><td></td><td>hesin_oper.eid      </td></tr>\n",
       "\t<tr><td>ins_index</td><td>hesin_oper</td><td>ins_index</td><td>integer</td><td></td><td>               </td><td>NA</td><td>NA</td><td></td><td></td><td></td><td></td><td>NA</td><td></td><td></td><td>Instance index              </td><td></td><td>hesin_oper.ins_index</td></tr>\n",
       "\t<tr><td>epistart </td><td>hesin_oper</td><td>oper3    </td><td>string </td><td></td><td>data_coding_259</td><td>NA</td><td>NA</td><td></td><td></td><td></td><td></td><td>NA</td><td></td><td></td><td>Operative procedures - OPCS3</td><td></td><td>hesin_oper.oper3    </td></tr>\n",
       "\t<tr><td>admidate </td><td>hesin_oper</td><td>oper4    </td><td>string </td><td></td><td>data_coding_240</td><td>NA</td><td>NA</td><td></td><td></td><td></td><td></td><td>NA</td><td></td><td></td><td>Operative procedures - OPCS4</td><td></td><td>hesin_oper.oper4    </td></tr>\n",
       "</tbody>\n",
       "</table>\n"
      ],
      "text/latex": [
       "A data.table: 4 × 18\n",
       "\\begin{tabular}{llllllllllllllllll}\n",
       " item & entity & name & type & primary\\_key\\_type & coding\\_name & concept & description & folder\\_path & is\\_multi\\_select & is\\_sparse\\_coding & linkout & longitudinal\\_axis\\_type & referenced\\_entity\\_field & relationship & title & units & field\\_id\\\\\n",
       " <chr> & <chr> & <chr> & <chr> & <chr> & <chr> & <lgl> & <lgl> & <chr> & <chr> & <chr> & <chr> & <lgl> & <chr> & <chr> & <chr> & <chr> & <chr>\\\\\n",
       "\\hline\n",
       "\t eid       & hesin\\_oper & eid       & string  &  &                 & NA & NA &  &  &  &  & NA &  &  & Participant ID               &  & hesin\\_oper.eid      \\\\\n",
       "\t ins\\_index & hesin\\_oper & ins\\_index & integer &  &                 & NA & NA &  &  &  &  & NA &  &  & Instance index               &  & hesin\\_oper.ins\\_index\\\\\n",
       "\t epistart  & hesin\\_oper & oper3     & string  &  & data\\_coding\\_259 & NA & NA &  &  &  &  & NA &  &  & Operative procedures - OPCS3 &  & hesin\\_oper.oper3    \\\\\n",
       "\t admidate  & hesin\\_oper & oper4     & string  &  & data\\_coding\\_240 & NA & NA &  &  &  &  & NA &  &  & Operative procedures - OPCS4 &  & hesin\\_oper.oper4    \\\\\n",
       "\\end{tabular}\n"
      ],
      "text/markdown": [
       "\n",
       "A data.table: 4 × 18\n",
       "\n",
       "| item &lt;chr&gt; | entity &lt;chr&gt; | name &lt;chr&gt; | type &lt;chr&gt; | primary_key_type &lt;chr&gt; | coding_name &lt;chr&gt; | concept &lt;lgl&gt; | description &lt;lgl&gt; | folder_path &lt;chr&gt; | is_multi_select &lt;chr&gt; | is_sparse_coding &lt;chr&gt; | linkout &lt;chr&gt; | longitudinal_axis_type &lt;lgl&gt; | referenced_entity_field &lt;chr&gt; | relationship &lt;chr&gt; | title &lt;chr&gt; | units &lt;chr&gt; | field_id &lt;chr&gt; |\n",
       "|---|---|---|---|---|---|---|---|---|---|---|---|---|---|---|---|---|---|\n",
       "| eid       | hesin_oper | eid       | string  | <!----> | <!----> | NA | NA | <!----> | <!----> | <!----> | <!----> | NA | <!----> | <!----> | Participant ID               | <!----> | hesin_oper.eid       |\n",
       "| ins_index | hesin_oper | ins_index | integer | <!----> | <!----> | NA | NA | <!----> | <!----> | <!----> | <!----> | NA | <!----> | <!----> | Instance index               | <!----> | hesin_oper.ins_index |\n",
       "| epistart  | hesin_oper | oper3     | string  | <!----> | data_coding_259 | NA | NA | <!----> | <!----> | <!----> | <!----> | NA | <!----> | <!----> | Operative procedures - OPCS3 | <!----> | hesin_oper.oper3     |\n",
       "| admidate  | hesin_oper | oper4     | string  | <!----> | data_coding_240 | NA | NA | <!----> | <!----> | <!----> | <!----> | NA | <!----> | <!----> | Operative procedures - OPCS4 | <!----> | hesin_oper.oper4     |\n",
       "\n"
      ],
      "text/plain": [
       "  item      entity     name      type    primary_key_type coding_name    \n",
       "1 eid       hesin_oper eid       string                                  \n",
       "2 ins_index hesin_oper ins_index integer                                 \n",
       "3 epistart  hesin_oper oper3     string                   data_coding_259\n",
       "4 admidate  hesin_oper oper4     string                   data_coding_240\n",
       "  concept description folder_path is_multi_select is_sparse_coding linkout\n",
       "1 NA      NA                                                              \n",
       "2 NA      NA                                                              \n",
       "3 NA      NA                                                              \n",
       "4 NA      NA                                                              \n",
       "  longitudinal_axis_type referenced_entity_field relationship\n",
       "1 NA                                                         \n",
       "2 NA                                                         \n",
       "3 NA                                                         \n",
       "4 NA                                                         \n",
       "  title                        units field_id            \n",
       "1 Participant ID                     hesin_oper.eid      \n",
       "2 Instance index                     hesin_oper.ins_index\n",
       "3 Operative procedures - OPCS3       hesin_oper.oper3    \n",
       "4 Operative procedures - OPCS4       hesin_oper.oper4    "
      ]
     },
     "metadata": {},
     "output_type": "display_data"
    }
   ],
   "source": [
    "hesproc_to_extract=list(eid                = list(name=\"eid\",       entity=\"hesin_oper\", search=\"matches\"),\n",
    "                        ins_index          = list(name=\"ins_index\", entity=\"hesin_oper\", search=\"matches\"),\n",
    "                        epistart           = list(name=\"oper3\",     entity=\"hesin_oper\", search=\"matches\"),\n",
    "                        admidate           = list(name=\"oper4\",     entity=\"hesin_oper\", search=\"matches\"))\n",
    "filt_data_dict = filter_data_dict(data_dict_file, hesproc_to_extract)\n",
    "head(filt_data_dict, 4)"
   ]
  },
  {
   "cell_type": "code",
   "execution_count": 38,
   "id": "4e6e145c-1feb-480e-928f-be79a61cce10",
   "metadata": {
    "tags": []
   },
   "outputs": [],
   "source": [
    "extract_data(dataset, fields = filt_data_dict$field_id, output = \"data_hesin_oper.csv\")"
   ]
  },
  {
   "cell_type": "markdown",
   "id": "ecb78f2e-b3ad-4d18-b2de-14792073ce31",
   "metadata": {},
   "source": [
    "## Data processing"
   ]
  },
  {
   "cell_type": "markdown",
   "id": "34079878-d881-462f-8ce6-8ed17029b799",
   "metadata": {},
   "source": [
    "### Read in the heRmes codes\n",
    "ICD-9/10 coding is provided but we need to add the self reported codes from the UK-BB too."
   ]
  },
  {
   "cell_type": "code",
   "execution_count": null,
   "id": "60a80c57-ba34-45d9-a6d4-2318928c12be",
   "metadata": {
    "jupyter": {
     "source_hidden": true
    },
    "tags": []
   },
   "outputs": [],
   "source": [
    "codes <- fread(file.path(\"heRmes\", \"inst\", \"extdata\", \"hermes_3_codes\", \"hermes_3_codes.tsv\"))\n",
    "self_reported_codes <- list(\n",
    "  list(name = \"Heart Failure\",                      code = \"1076\", code_type = \"ukbb_self_reported_illness\"),\n",
    "  list(name = \"Myocardial infarction\",              code = \"1075\", code_type = \"ukbb_self_reported_illness\"),\n",
    "  list(name = \"Hypertrophic cardiomyopathy\",        code = \"1588\", code_type = \"ukbb_self_reported_illness\"),\n",
    "  list(name = \"Coronary artery bypass grafting\",    code = \"1095\", code_type = \"ukbb_self_reported_procedure\"),\n",
    "  list(name = \"Percutaneous coronary intervention\", code = \"1070\", code_type = \"ukbb_self_reported_procedure\")\n",
    ")\n",
    "codes <- rbind(codes,\n",
    "               data.table(Concept     = paste0(sapply(self_reported_codes, function(x) x$name), \" Self Reported\"),\n",
    "                          Code        = sapply(self_reported_codes, function(x) x$code),\n",
    "                          Source      = sapply(self_reported_codes, function(x) x$code_type),\n",
    "                          Description = sapply(self_reported_codes, function(x) x$name)))\n",
    "codes[, `:=`(code      = Code,\n",
    "             code_type = fcase(Source==\"ICD10\", \"icd10\",\n",
    "                               Source==\"ICD9\",  \"icd9\",\n",
    "                               Source==\"OPCS4\", \"opcs4\",\n",
    "                               Source==\"ukbb_self_reported_illness\", \"ukbb_self_reported_illness\",\n",
    "                               Source==\"ukbb_self_reported_procedure\", \"ukbb_self_reported_procedure\"))]\n",
    "codes <- codes[!is.na(code_type)]                                               "
   ]
  },
  {
   "cell_type": "markdown",
   "id": "adc449b9-649d-48b7-996d-400eeb73dddf",
   "metadata": {},
   "source": [
    "### Read in the extracted data"
   ]
  },
  {
   "cell_type": "code",
   "execution_count": 84,
   "id": "814887b4-58a8-45c6-89e7-be68ab53b413",
   "metadata": {
    "tags": []
   },
   "outputs": [],
   "source": [
    "rename_cols <- function(d, code_struc) {\n",
    "    for (col in names(code_struc)) {\n",
    "        if (code_struc[[col]]$search==\"matches\") {\n",
    "            setnames(d, paste(code_struc[[col]]$entity, code_struc[[col]]$name, sep=\".\"), col)\n",
    "        } else if (code_struc[[col]]$search==\"matches\") {\n",
    "            matches   <- names(d)[grepl(paste0(\"^\", code_struc[[col]]$entity, \".\", code_struc[[col]]$name), names(d))]\n",
    "            new_names <- paste0(col, \"_\", 1:length(matches))\n",
    "            setnames(d, matches, new_names)\n",
    "        }\n",
    "    }\n",
    "    return(d)\n",
    "}"
   ]
  },
  {
   "cell_type": "code",
   "execution_count": 106,
   "id": "936051e4-f9e4-4aba-a7bb-faadfa3630d7",
   "metadata": {
    "tags": []
   },
   "outputs": [
    {
     "data": {
      "text/html": [
       "<table class=\"dataframe\">\n",
       "<caption>A data.table: 1 × 11</caption>\n",
       "<thead>\n",
       "\t<tr><th scope=col>eid</th><th scope=col>reason_lost_fu</th><th scope=col>sex</th><th scope=col>age</th><th scope=col>genetic_sex</th><th scope=col>genetic_ethnicity</th><th scope=col>pc1</th><th scope=col>pc2</th><th scope=col>pc3</th><th scope=col>pc4</th><th scope=col>pc5</th></tr>\n",
       "\t<tr><th scope=col>&lt;int&gt;</th><th scope=col>&lt;int&gt;</th><th scope=col>&lt;int&gt;</th><th scope=col>&lt;int&gt;</th><th scope=col>&lt;int&gt;</th><th scope=col>&lt;int&gt;</th><th scope=col>&lt;dbl&gt;</th><th scope=col>&lt;dbl&gt;</th><th scope=col>&lt;dbl&gt;</th><th scope=col>&lt;dbl&gt;</th><th scope=col>&lt;dbl&gt;</th></tr>\n",
       "</thead>\n",
       "<tbody>\n",
       "\t<tr><td>1000061</td><td>NA</td><td>1</td><td>57</td><td>1</td><td>1</td><td>-13.7016</td><td>2.07305</td><td>-1.47433</td><td>2.385</td><td>4.26327</td></tr>\n",
       "</tbody>\n",
       "</table>\n"
      ],
      "text/latex": [
       "A data.table: 1 × 11\n",
       "\\begin{tabular}{lllllllllll}\n",
       " eid & reason\\_lost\\_fu & sex & age & genetic\\_sex & genetic\\_ethnicity & pc1 & pc2 & pc3 & pc4 & pc5\\\\\n",
       " <int> & <int> & <int> & <int> & <int> & <int> & <dbl> & <dbl> & <dbl> & <dbl> & <dbl>\\\\\n",
       "\\hline\n",
       "\t 1000061 & NA & 1 & 57 & 1 & 1 & -13.7016 & 2.07305 & -1.47433 & 2.385 & 4.26327\\\\\n",
       "\\end{tabular}\n"
      ],
      "text/markdown": [
       "\n",
       "A data.table: 1 × 11\n",
       "\n",
       "| eid &lt;int&gt; | reason_lost_fu &lt;int&gt; | sex &lt;int&gt; | age &lt;int&gt; | genetic_sex &lt;int&gt; | genetic_ethnicity &lt;int&gt; | pc1 &lt;dbl&gt; | pc2 &lt;dbl&gt; | pc3 &lt;dbl&gt; | pc4 &lt;dbl&gt; | pc5 &lt;dbl&gt; |\n",
       "|---|---|---|---|---|---|---|---|---|---|---|\n",
       "| 1000061 | NA | 1 | 57 | 1 | 1 | -13.7016 | 2.07305 | -1.47433 | 2.385 | 4.26327 |\n",
       "\n"
      ],
      "text/plain": [
       "  eid     reason_lost_fu sex age genetic_sex genetic_ethnicity pc1      pc2    \n",
       "1 1000061 NA             1   57  1           1                 -13.7016 2.07305\n",
       "  pc3      pc4   pc5    \n",
       "1 -1.47433 2.385 4.26327"
      ]
     },
     "metadata": {},
     "output_type": "display_data"
    }
   ],
   "source": [
    "demog <- fread(\"data_participant.csv\")\n",
    "# hesin <- fread(\"data_hesin.csv\")\n",
    "# diag  <- fread(\"data_hesin_diag.csv\")\n",
    "# oper  <- fread(\"data_hesin_oper.csv\")\n",
    "\n",
    "demog <- rename_cols(demog, participant_codes)\n",
    "# hesin <- rename_cols(hesin, hesin_to_extract)\n",
    "# diag  <- rename_cols(diag,  hesdiag_to_extract)\n",
    "# oper  <- rename_cols(oper,  hesproc_to_extract)\n",
    "\n",
    "head(demog, 1)\n",
    "# head(hesin, 1)\n",
    "# head(diag,  1)\n",
    "# head(oper,  1)"
   ]
  },
  {
   "cell_type": "markdown",
   "id": "593b715d-22e1-4904-a58e-c7411ffd843f",
   "metadata": {},
   "source": [
    "### Clean up the cohort data"
   ]
  },
  {
   "cell_type": "code",
   "execution_count": 86,
   "id": "78749200-dbd4-4127-b57d-939587408675",
   "metadata": {
    "collapsed": true,
    "jupyter": {
     "outputs_hidden": true
    },
    "tags": []
   },
   "outputs": [
    {
     "ename": "ERROR",
     "evalue": "Error in eval(jsub, SDenv, parent.frame()): object 'ethnicity' not found\n",
     "output_type": "error",
     "traceback": [
      "Error in eval(jsub, SDenv, parent.frame()): object 'ethnicity' not found\nTraceback:\n",
      "1. `[.data.table`(demog, , list(eid = eid, age = as.integer(age), \n .     sex = factor(sex, levels = 0:1, labels = c(\"female\", \"male\")), \n .     ethnicity = factor(ethnicity, levels = unlist(ethnicity_codes), \n .         labels = names(ethnicity_codes)), ethnicity_group = factor(sub(\"([0-9])00[0-9]\", \n .         \"\\\\1\", ethnicity), levels = unlist(ethnicity_codes), \n .         labels = names(ethnicity_codes)), genetic_sex = factor(genetic_sex, \n .         levels = 0:1, labels = c(\"female\", \"male\")), genetic_ethnicity = factor(genetic_ethnicity, \n .         levels = 1, labels = c(\"caucasian\"))))",
      "2. eval(jsub, SDenv, parent.frame())",
      "3. eval(jsub, SDenv, parent.frame())",
      "4. factor(ethnicity, levels = unlist(ethnicity_codes), labels = names(ethnicity_codes))",
      "5. .handleSimpleError(function (cnd) \n . {\n .     watcher$capture_plot_and_output()\n .     cnd <- sanitize_call(cnd)\n .     watcher$push(cnd)\n .     switch(on_error, continue = invokeRestart(\"eval_continue\"), \n .         stop = invokeRestart(\"eval_stop\"), error = NULL)\n . }, \"object 'ethnicity' not found\", base::quote(eval(jsub, SDenv, \n .     parent.frame())))"
     ]
    }
   ],
   "source": [
    "ethnicity_codes <- list(\n",
    "  white                 = 1,\n",
    "  british               = 1001,\n",
    "  white_black_caribbean =\t2001,\n",
    "  indian                = 3001,\n",
    "  caribbean             = 4001,\n",
    "  mixed                 = 2,\n",
    "  irish                 =\t1002,\n",
    "  white_black_african\t  = 2002,\n",
    "  pakistani             = 3002,\n",
    "  african\t              = 4002,\n",
    "  asian_or_asian_british=\t3,\n",
    "  any_other_white       =\t1003,\n",
    "  white_asian           =\t2003,\n",
    "  bangladeshi           =\t3003,\n",
    "  any_other_black       =\t4003,\n",
    "  black_or_black_british=\t4,\n",
    "  any_other_mixed       =\t2004,\n",
    "  any_other_asian       =\t3004,\n",
    "  chinese               =\t5,\n",
    "  other_ethnic_group    = 6)\n",
    "\n",
    "cohort <- demog[, list(eid               = eid,\n",
    "                       age               = as.integer(age),\n",
    "                       sex               = factor(sex, levels = 0:1, labels = c(\"female\", \"male\")),\n",
    "                       ethnicity         = factor(ethnicity, levels = unlist(ethnicity_codes), labels = names(ethnicity_codes)),\n",
    "                       ethnicity_group   = factor(sub(\"([0-9])00[0-9]\", \"\\\\1\", ethnicity), levels = unlist(ethnicity_codes), labels = names(ethnicity_codes)),\n",
    "                       genetic_sex       = factor(genetic_sex, levels = 0:1, labels = c(\"female\", \"male\")),\n",
    "                       genetic_ethnicity = factor(genetic_ethnicity, levels = 1, labels = c(\"caucasian\")))]\n",
    "cohort[demog, paste0(\"pc\", 1:5) := mget(paste0(\"pc\", 1:5)), on = \"eid\"]\n",
    "\n",
    "# check\n",
    "stopifnot(\"Failed to parse some date of births\" = all(!is.na(cohort$dob)))\n",
    "stopifnot(\"some ages / dob indicate cohort age <37, is this right?\" = all(cohort$dob <= as.Date(\"1972-01-01\")))"
   ]
  },
  {
   "cell_type": "markdown",
   "id": "bd2e43ef-4628-4dbb-b517-f75e15829596",
   "metadata": {},
   "source": [
    "### Self-report illness codes to long"
   ]
  },
  {
   "cell_type": "code",
   "execution_count": null,
   "id": "05591e70-6e38-4474-b860-60465100a180",
   "metadata": {},
   "outputs": [],
   "source": [
    "self_rep_code_regex <- \"20002-[0-9]+\\\\.[0-9]+\"\n",
    "self_rep_year_regex <- \"20008-[0-9]+\\\\.[0-9]+\"\n",
    "self_rep_code_cols <- grep(self_rep_code_regex, names(demog), value = TRUE)\n",
    "self_rep_year_cols <- grep(self_rep_year_regex, names(demog), value = TRUE)\n",
    "demog[, (self_rep_code_cols) := lapply(.SD, as.character), .SDcols = self_rep_code_cols]\n",
    "demog[, (self_rep_year_cols) := lapply(.SD, as.numeric),   .SDcols = self_rep_year_cols]\n",
    "self_rep_illness <- data.table::melt(demog,\n",
    "                                     id.vars = \"eid\",\n",
    "                                     measure = patterns(self_rep_code_regex, self_rep_year_regex),\n",
    "                                     variable.name = \"element\",\n",
    "                                     value.name = c(\"code\", \"year\"),\n",
    "                                     na.rm = TRUE)\n",
    "self_rep_illness <- self_rep_illness[year != -1 & year != -3] # unknown / prefer not to answer\n",
    "self_rep_illness[, `:=`(date      = lubridate::ymd(paste0(as.character(floor(year)), \"-01-01\")) + lubridate::days(as.integer(365.25 * (year - floor(year)))),\n",
    "                        year      = NULL,\n",
    "                        element   = NULL,\n",
    "                        code      = as.character(code),\n",
    "                        code_type = \"ukbb_self_reported_illness\")]\n",
    "\n",
    "# check self report illness table\n",
    "stopifnot(\"unable to parse dates for self-reported illness codes\" = all(!is.na(self_rep_illness$date)))\n",
    "stopifnot(\"are you sure something happened before 1900?\" = all(self_rep_illness$date > as.Date(\"1900-01-01\")))"
   ]
  },
  {
   "cell_type": "markdown",
   "id": "c635c0db-6817-4284-96a0-7f85763ca25b",
   "metadata": {},
   "source": [
    "### Self-report procedure codes to long"
   ]
  },
  {
   "cell_type": "code",
   "execution_count": null,
   "id": "5ce3cea8-7d90-4196-9a5a-5a814a2ac9e8",
   "metadata": {},
   "outputs": [],
   "source": [
    "self_rep_proc_code_regex <- \"20004-[0-9]+\\\\.[0-9]+\"\n",
    "self_rep_proc_year_regex <- \"20010-[0-9]+\\\\.[0-9]+\"\n",
    "self_rep_proc_code_cols <- grep(self_rep_proc_code_regex, names(self_oper), value = TRUE)\n",
    "self_rep_proc_year_cols <- grep(self_rep_proc_year_regex, names(self_oper), value = TRUE)\n",
    "self_oper[, (self_rep_proc_code_cols) := lapply(.SD, as.character), .SDcols = self_rep_proc_code_cols]\n",
    "self_oper[, (self_rep_proc_year_cols) := lapply(.SD, as.numeric),   .SDcols = self_rep_proc_year_cols]\n",
    "self_rep_oper <- data.table::melt(self_oper,\n",
    "                                  id.vars = \"eid\",\n",
    "                                  measure = patterns(self_rep_proc_code_regex, self_rep_proc_year_regex),\n",
    "                                  variable.name = \"element\",\n",
    "                                  value.name = c(\"code\", \"year\"),\n",
    "                                  na.rm = TRUE)\n",
    "self_rep_oper <- self_rep_oper[year != -1 & year != -3] # unknown / prefer not to answer\n",
    "self_rep_oper[, `:=`(date      = lubridate::ymd(paste0(as.character(floor(year)), \"-01-01\")) + lubridate::days(as.integer(365.25 * (year - floor(year)))),\n",
    "                     year      = NULL,\n",
    "                     element   = NULL,\n",
    "                     code      = as.character(code),\n",
    "                     code_type = \"ukbb_self_reported_procedure\")]\n",
    "\n",
    "# check self report illness table\n",
    "stopifnot(\"unable to parse dates for self-reported procedure codes\" = all(!is.na(self_rep_oper$date)))\n",
    "stopifnot(\"are you sure something happened before 1900?\" = all(self_rep_oper$date > as.Date(\"1900-01-01\")))"
   ]
  },
  {
   "cell_type": "markdown",
   "id": "61f3db7e-224a-40cf-a29c-162cd645976b",
   "metadata": {},
   "source": [
    "### Inpatient diagnosis codes"
   ]
  },
  {
   "cell_type": "code",
   "execution_count": null,
   "id": "8a63f2b4-59ae-4e80-b2dc-6b984d9575d2",
   "metadata": {},
   "outputs": [],
   "source": [
    "hesin[is.na(epistart) | epistart == \"\", epistart := admidate]\n",
    "diag[hesin, date := as.Date(i.epistart), on = c(\"eid(participant - eid)\", \"ins_index\")]\n",
    "diag[, eid := `eid(participant - eid)`]\n",
    "diag[diag_icd9 == \"\", diag_icd9 := NA_character_]\n",
    "diag[diag_icd10 == \"\", diag_icd10 := NA_character_]\n",
    "diag <- data.table::melt(diag,\n",
    "                         id.vars = c(\"eid\", \"date\"),\n",
    "                         measure.vars  = c(\"diag_icd9\", \"diag_icd10\"),\n",
    "                         variable.name = \"code_type\",\n",
    "                         value.name = \"code\",\n",
    "                         na.rm = TRUE)\n",
    "diag[, code_type := data.table::fcase(code_type == \"diag_icd9\", \"icd9\",\n",
    "                                      code_type == \"diag_icd10\", \"icd10\")]"
   ]
  },
  {
   "cell_type": "markdown",
   "id": "52b4caf2-e20c-4388-bd89-49e05272f596",
   "metadata": {},
   "source": [
    "### Inpatient procedure codes"
   ]
  },
  {
   "cell_type": "code",
   "execution_count": null,
   "id": "7635964b-7bad-4e6e-8637-ea5a52f7533a",
   "metadata": {},
   "outputs": [],
   "source": [
    "oper[hesin, date := as.Date(i.epistart), on = c(\"eid(participant - eid)\", \"ins_index\")]\n",
    "oper[, eid := `eid(participant - eid)`]\n",
    "oper[oper3 == \"\", oper3 := NA_character_]\n",
    "oper[oper4 == \"\", oper4 := NA_character_]\n",
    "oper <- data.table::melt(oper,\n",
    "                         id.vars = c(\"eid\", \"date\"),\n",
    "                         measure.vars  = c(\"oper3\", \"oper4\"),\n",
    "                         variable.name = \"code_type\",\n",
    "                         value.name = \"code\",\n",
    "                         na.rm = TRUE)\n",
    "oper[, code_type := data.table::fcase(code_type == \"oper3\", \"opcs3\",\n",
    "                                      code_type == \"oper4\", \"opcs4\")]"
   ]
  },
  {
   "cell_type": "markdown",
   "id": "41be10ed-464e-48a6-bf7e-bd5318ffceb7",
   "metadata": {},
   "source": [
    "### Combine all codes\n",
    "Keep only unique codes per individuals at the code's first occurance."
   ]
  },
  {
   "cell_type": "code",
   "execution_count": null,
   "id": "9f09239b-4ecd-4908-a6ad-59f7b2d3126f",
   "metadata": {},
   "outputs": [],
   "source": [
    "combined <- rbind(self_rep_illness, self_rep_oper, diag, oper)\n",
    "combined <- codes[combined, on = c(\"code\" = \"code\", \"code_type\" = \"code_type\"), allow.cartesian = TRUE]\n",
    "combined <- combined[!is.na(Concept)]\n",
    "combined <- combined[combined[, .I[which.min(date)], by = c(\"eid\", \"Concept\")]$V1]"
   ]
  },
  {
   "cell_type": "markdown",
   "id": "7fe9da7b-9ccb-423a-8fef-3718aecbba0e",
   "metadata": {},
   "source": [
    "### Annotate the cohort with the codes"
   ]
  },
  {
   "cell_type": "code",
   "execution_count": null,
   "id": "f8cf8bb0-6a5e-4cf2-94d5-5b7b9e553a54",
   "metadata": {},
   "outputs": [],
   "source": [
    "concepts <- unique(codes$Concept)\n",
    "for (g in concepts) {\n",
    "\n",
    "  col_name <- tolower(gsub(\" \", \"_\", gsub(\"[()]\",\"\",g)))\n",
    "  cohort[combined[Concept == g], paste0(col_name, c(\"\", \"_first_date\")) := list(TRUE, as.Date(i.date)), on = \"eid\"]\n",
    "  cohort[is.na(get(col_name)), (col_name) := FALSE]\n",
    "\n",
    "}"
   ]
  },
  {
   "cell_type": "markdown",
   "id": "054054a6-2b74-4d0b-8aeb-d72b57cfab35",
   "metadata": {},
   "source": [
    "### Remove withdrawals"
   ]
  },
  {
   "cell_type": "code",
   "execution_count": null,
   "id": "691efb87-8dc8-4fad-a1ec-f219a82317a9",
   "metadata": {},
   "outputs": [],
   "source": [
    "cohort <- cohort[withdraw, withdrawal := TRUE, on = c(\"eid\" = \"V1\")]\n",
    "cohort[is.na(withdrawal), withdrawal := FALSE]"
   ]
  }
 ],
 "metadata": {
  "kernelspec": {
   "display_name": "R",
   "language": "R",
   "name": "ir"
  },
  "language_info": {
   "codemirror_mode": "r",
   "file_extension": ".r",
   "mimetype": "text/x-r-source",
   "name": "R",
   "pygments_lexer": "r",
   "version": "4.4.0"
  }
 },
 "nbformat": 4,
 "nbformat_minor": 5
}
