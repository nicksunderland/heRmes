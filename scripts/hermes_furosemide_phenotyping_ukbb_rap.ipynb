{
 "cells": [
  {
   "cell_type": "markdown",
   "id": "253614e0-ef79-4cff-abeb-9c7cec202dfe",
   "metadata": {},
   "source": [
    "## HERMES - furosemide phenotype"
   ]
  },
  {
   "cell_type": "markdown",
   "id": "1a2c0ff6-0886-449e-af31-3044b98588bf",
   "metadata": {},
   "source": [
    "#### Clone HeRmes repository"
   ]
  },
  {
   "cell_type": "code",
   "execution_count": 5,
   "id": "fce7e00b-cb51-40d1-977d-16026831d2f0",
   "metadata": {
    "tags": []
   },
   "outputs": [],
   "source": [
    "#system(\"git clone https://github.com/nicksunderland/heRmes.git\")"
   ]
  },
  {
   "cell_type": "markdown",
   "id": "8a01c3b1-910b-405d-aa4a-8fdb18dda816",
   "metadata": {},
   "source": [
    "#### Pushing changes to Github"
   ]
  },
  {
   "cell_type": "code",
   "execution_count": 6,
   "id": "4fa66f5d-c128-45fb-88f4-255436e20299",
   "metadata": {
    "tags": []
   },
   "outputs": [],
   "source": [
    "# in ther terminal run\n",
    "# cd /opt/notebooks\n",
    "# dx download git_push.sh\n",
    "# run bash git_push.sh "
   ]
  },
  {
   "cell_type": "markdown",
   "id": "221c70a8-b701-4482-a6d1-a2c00f877a5d",
   "metadata": {},
   "source": [
    "#### Project & record ID"
   ]
  },
  {
   "cell_type": "code",
   "execution_count": 1,
   "id": "a5958289-b652-4c12-8a11-0f4683a6da8f",
   "metadata": {
    "tags": []
   },
   "outputs": [],
   "source": [
    "projectid <- \"project-GvZyZ20J81vgPJGbJy8pgpyq\"\n",
    "recordid  <- \"record-Gvb0Bg0Jfxfv0q8Fb2pXqKjg\""
   ]
  },
  {
   "cell_type": "markdown",
   "id": "092c42b4-2cee-4b1c-93f2-b51b73e697fa",
   "metadata": {
    "tags": []
   },
   "source": [
    "#### Libraries"
   ]
  },
  {
   "cell_type": "code",
   "execution_count": 2,
   "id": "60c4b528-545b-4f31-b1a1-0352ad833814",
   "metadata": {
    "tags": []
   },
   "outputs": [
    {
     "name": "stderr",
     "output_type": "stream",
     "text": [
      "Installing package into ‘/usr/local/lib/R/site-library’\n",
      "(as ‘lib’ is unspecified)\n",
      "\n",
      "also installing the dependency ‘bit’\n",
      "\n",
      "\n",
      "Loading required package: bit\n",
      "\n",
      "\n",
      "Attaching package: ‘bit’\n",
      "\n",
      "\n",
      "The following object is masked from ‘package:data.table’:\n",
      "\n",
      "    setattr\n",
      "\n",
      "\n",
      "The following object is masked from ‘package:base’:\n",
      "\n",
      "    xor\n",
      "\n",
      "\n",
      "Attaching package bit64\n",
      "\n",
      "package:bit64 (c) 2011-2017 Jens Oehlschlaegel\n",
      "\n",
      "creators: integer64 runif64 seq :\n",
      "\n",
      "coercion: as.integer64 as.vector as.logical as.integer as.double as.character as.bitstring\n",
      "\n",
      "logical operator: ! & | xor != == < <= >= >\n",
      "\n",
      "arithmetic operator: + - * / %/% %% ^\n",
      "\n",
      "math: sign abs sqrt log log2 log10\n",
      "\n",
      "math: floor ceiling trunc round\n",
      "\n",
      "querying: is.integer64 is.vector [is.atomic} [length] format print str\n",
      "\n",
      "values: is.na is.nan is.finite is.infinite\n",
      "\n",
      "aggregation: any all min max range sum prod\n",
      "\n",
      "cumulation: diff cummin cummax cumsum cumprod\n",
      "\n",
      "access: length<- [ [<- [[ [[<-\n",
      "\n",
      "combine: c rep cbind rbind as.data.frame\n",
      "\n",
      "WARNING don't use as subscripts\n",
      "\n",
      "WARNING semantics differ from integer\n",
      "\n",
      "for more help type ?bit64\n",
      "\n",
      "\n",
      "Attaching package: ‘bit64’\n",
      "\n",
      "\n",
      "The following object is masked from ‘package:utils’:\n",
      "\n",
      "    hashtab\n",
      "\n",
      "\n",
      "The following objects are masked from ‘package:base’:\n",
      "\n",
      "    :, %in%, colSums, is.double, match, order, rank, rowSums\n",
      "\n",
      "\n"
     ]
    }
   ],
   "source": [
    "library(glue)\n",
    "library(data.table)\n",
    "if (!requireNamespace(\"bit64\", quietly = TRUE)) {\n",
    "  install.packages(\"bit64\")\n",
    "}\n",
    "library(bit64)"
   ]
  },
  {
   "cell_type": "markdown",
   "id": "e519ed12-f0ed-4ca8-b16d-27eb53a787be",
   "metadata": {},
   "source": [
    "## Extract GP data"
   ]
  },
  {
   "cell_type": "markdown",
   "id": "82469460-c77b-45e2-a07e-59e21906c8ae",
   "metadata": {},
   "source": [
    "#### Download data dictionary"
   ]
  },
  {
   "cell_type": "code",
   "execution_count": 3,
   "id": "1f59a396-ecfd-499d-8fd2-12c5d863e8cf",
   "metadata": {
    "tags": []
   },
   "outputs": [],
   "source": [
    "setwd(\"/opt/notebooks\")\n",
    "dataset <- glue(\"{projectid}:{recordid}\")\n",
    "cmd <- glue(\"dx extract_dataset {dataset} -ddd\")\n",
    "system(cmd)\n",
    "dict_files <- list.files(pattern=\"codings|data_dictionary|entity_dictionary\")\n",
    "data_dict_file <- dict_files[grepl(\"data_dictionary\", dict_files)]"
   ]
  },
  {
   "cell_type": "markdown",
   "id": "6d526b7d-5f9d-4fcb-8e7c-9b6b37148d21",
   "metadata": {},
   "source": [
    "#### Data dictionary filter function"
   ]
  },
  {
   "cell_type": "code",
   "execution_count": 4,
   "id": "58f48ced-e3e2-49bf-9442-f9c8b76f5952",
   "metadata": {
    "tags": []
   },
   "outputs": [],
   "source": [
    "#' @title filter_data_dict\n",
    "#'\n",
    "#' @param dict_path, str, path to the dataset.data_dictionary.csv\n",
    "#' @param codes_str, list, list of lists representing UKBB column name, table entity, and search strategy list(name=, entity=, search=). \n",
    "#'   name must be a valid column name in the data_dictionary, entity a valid entity in the entity dictionary, and search either \"matches\"\n",
    "#'   for exact matches, or starts with to match cases of multiple instances (repeated measures usually)\n",
    "#'\n",
    "#' @returns a filtered subset of the data_dictionary \n",
    "#'\n",
    "filter_data_dict <- function(dict_path, codes_struc) {\n",
    "    \n",
    "    data_dict <- fread(dict_path)\n",
    "    \n",
    "    d <- lapply(codes_struc, function(x) {\n",
    "        \n",
    "        d0 <- data.table()\n",
    "        if (x$search==\"matches\") {\n",
    "            d0 <- data_dict[entity==x$entity & name==x$name]\n",
    "        } else if (x$search==\"startswith\") {\n",
    "            d0 <- data_dict[entity==x$entity & grepl(paste0(\"^\", x$name), name)]\n",
    "        }\n",
    "        \n",
    "        if (nrow(d0)==0) {\n",
    "            cat(glue(\"Code [{x$name}] not found in data dictionary\\n\"))\n",
    "            stop(\"Code not found error\")\n",
    "        }\n",
    "        \n",
    "        d0\n",
    "        \n",
    "    }) |> rbindlist(idcol = \"item\")\n",
    "    \n",
    "    return(d)\n",
    "}"
   ]
  },
  {
   "cell_type": "markdown",
   "id": "15c7daf4-282a-4d6f-a197-f13d93e4c68a",
   "metadata": {
    "tags": []
   },
   "source": [
    "#### Data extraction function"
   ]
  },
  {
   "cell_type": "code",
   "execution_count": 5,
   "id": "e06b047b-93c2-42f9-8110-47a10f48d15c",
   "metadata": {
    "tags": []
   },
   "outputs": [],
   "source": [
    "#' @title extract_data\n",
    "#'\n",
    "#' @param dataset, str, a valid dataset id - format \"{projectid}:{recordid}\" \n",
    "#' @param fields, str, vector of UK-BB format column names e.g. p31\n",
    "#' @param entity, str, string of length one - the entity to extract from e.g. participants\n",
    "#' @param output, str, the base name for the output file, no extension\n",
    "#'\n",
    "#' @returns NULL side effect is starting a table-exporter job which outputs the file to /hermes3_data directory in the RAP\n",
    "#'\n",
    "extract_data <- function(dataset, fields, entity, output) {\n",
    "    \n",
    "    field_str <- paste0('-ifield_names=\"', fields, '\"', collapse=\" \") \n",
    "    \n",
    "    cmd <- glue(\n",
    "      \"dx run table-exporter \",\n",
    "      \"-idataset_or_cohort_or_dashboard={dataset} \",\n",
    "      \"-ioutput={output} \",\n",
    "      \"-ioutput_format=TSV \",\n",
    "      \"-iheader_style=FIELD-NAME \",\n",
    "      \"-icoding_option=RAW \",\n",
    "      \"{field_str} \",\n",
    "      \"-ientity={entity} \",\n",
    "      \"--destination hermes3_data/\"\n",
    "    )    \n",
    "\n",
    "    o <- system(cmd, intern = TRUE)\n",
    "    cat(o, sep = \"\\n\")\n",
    "}"
   ]
  },
  {
   "cell_type": "markdown",
   "id": "ce1455d7-7c73-4ec6-8dad-f60bcdb593c4",
   "metadata": {},
   "source": [
    "### Define participant data"
   ]
  },
  {
   "cell_type": "code",
   "execution_count": 6,
   "id": "98e3732a-60a8-476b-bb37-6a85fd020ba6",
   "metadata": {
    "tags": []
   },
   "outputs": [
    {
     "data": {
      "text/html": [
       "<table class=\"dataframe\">\n",
       "<caption>A data.table: 3 × 17</caption>\n",
       "<thead>\n",
       "\t<tr><th scope=col>item</th><th scope=col>entity</th><th scope=col>name</th><th scope=col>type</th><th scope=col>primary_key_type</th><th scope=col>coding_name</th><th scope=col>concept</th><th scope=col>description</th><th scope=col>folder_path</th><th scope=col>is_multi_select</th><th scope=col>is_sparse_coding</th><th scope=col>linkout</th><th scope=col>longitudinal_axis_type</th><th scope=col>referenced_entity_field</th><th scope=col>relationship</th><th scope=col>title</th><th scope=col>units</th></tr>\n",
       "\t<tr><th scope=col>&lt;chr&gt;</th><th scope=col>&lt;chr&gt;</th><th scope=col>&lt;chr&gt;</th><th scope=col>&lt;chr&gt;</th><th scope=col>&lt;chr&gt;</th><th scope=col>&lt;chr&gt;</th><th scope=col>&lt;lgl&gt;</th><th scope=col>&lt;lgl&gt;</th><th scope=col>&lt;chr&gt;</th><th scope=col>&lt;chr&gt;</th><th scope=col>&lt;chr&gt;</th><th scope=col>&lt;chr&gt;</th><th scope=col>&lt;lgl&gt;</th><th scope=col>&lt;chr&gt;</th><th scope=col>&lt;chr&gt;</th><th scope=col>&lt;chr&gt;</th><th scope=col>&lt;chr&gt;</th></tr>\n",
       "</thead>\n",
       "<tbody>\n",
       "\t<tr><td>eid           </td><td>participant</td><td>eid </td><td>string </td><td>global</td><td>                </td><td>NA</td><td>NA</td><td>Participant Information                              </td><td></td><td></td><td>                                                     </td><td>NA</td><td></td><td></td><td>Participant ID          </td><td></td></tr>\n",
       "\t<tr><td>reason_lost_fu</td><td>participant</td><td>p190</td><td>integer</td><td><span style=white-space:pre-wrap>      </span></td><td>data_coding_1965</td><td>NA</td><td>NA</td><td>Population characteristics &gt; Ongoing characteristics </td><td></td><td></td><td>http://biobank.ctsu.ox.ac.uk/crystal/field.cgi?id=190</td><td>NA</td><td></td><td></td><td>Reason lost to follow-up</td><td></td></tr>\n",
       "\t<tr><td><span style=white-space:pre-wrap>sex           </span></td><td>participant</td><td>p31 </td><td>integer</td><td><span style=white-space:pre-wrap>      </span></td><td><span style=white-space:pre-wrap>data_coding_9   </span></td><td>NA</td><td>NA</td><td>Population characteristics &gt; Baseline characteristics</td><td></td><td></td><td>http://biobank.ctsu.ox.ac.uk/crystal/field.cgi?id=31 </td><td>NA</td><td></td><td></td><td><span style=white-space:pre-wrap>Sex                     </span></td><td></td></tr>\n",
       "</tbody>\n",
       "</table>\n"
      ],
      "text/latex": [
       "A data.table: 3 × 17\n",
       "\\begin{tabular}{lllllllllllllllll}\n",
       " item & entity & name & type & primary\\_key\\_type & coding\\_name & concept & description & folder\\_path & is\\_multi\\_select & is\\_sparse\\_coding & linkout & longitudinal\\_axis\\_type & referenced\\_entity\\_field & relationship & title & units\\\\\n",
       " <chr> & <chr> & <chr> & <chr> & <chr> & <chr> & <lgl> & <lgl> & <chr> & <chr> & <chr> & <chr> & <lgl> & <chr> & <chr> & <chr> & <chr>\\\\\n",
       "\\hline\n",
       "\t eid            & participant & eid  & string  & global &                  & NA & NA & Participant Information                               &  &  &                                                       & NA &  &  & Participant ID           & \\\\\n",
       "\t reason\\_lost\\_fu & participant & p190 & integer &        & data\\_coding\\_1965 & NA & NA & Population characteristics > Ongoing characteristics  &  &  & http://biobank.ctsu.ox.ac.uk/crystal/field.cgi?id=190 & NA &  &  & Reason lost to follow-up & \\\\\n",
       "\t sex            & participant & p31  & integer &        & data\\_coding\\_9    & NA & NA & Population characteristics > Baseline characteristics &  &  & http://biobank.ctsu.ox.ac.uk/crystal/field.cgi?id=31  & NA &  &  & Sex                      & \\\\\n",
       "\\end{tabular}\n"
      ],
      "text/markdown": [
       "\n",
       "A data.table: 3 × 17\n",
       "\n",
       "| item &lt;chr&gt; | entity &lt;chr&gt; | name &lt;chr&gt; | type &lt;chr&gt; | primary_key_type &lt;chr&gt; | coding_name &lt;chr&gt; | concept &lt;lgl&gt; | description &lt;lgl&gt; | folder_path &lt;chr&gt; | is_multi_select &lt;chr&gt; | is_sparse_coding &lt;chr&gt; | linkout &lt;chr&gt; | longitudinal_axis_type &lt;lgl&gt; | referenced_entity_field &lt;chr&gt; | relationship &lt;chr&gt; | title &lt;chr&gt; | units &lt;chr&gt; |\n",
       "|---|---|---|---|---|---|---|---|---|---|---|---|---|---|---|---|---|\n",
       "| eid            | participant | eid  | string  | global | <!----> | NA | NA | Participant Information                               | <!----> | <!----> | <!----> | NA | <!----> | <!----> | Participant ID           | <!----> |\n",
       "| reason_lost_fu | participant | p190 | integer | <!----> | data_coding_1965 | NA | NA | Population characteristics &gt; Ongoing characteristics  | <!----> | <!----> | http://biobank.ctsu.ox.ac.uk/crystal/field.cgi?id=190 | NA | <!----> | <!----> | Reason lost to follow-up | <!----> |\n",
       "| sex            | participant | p31  | integer | <!----> | data_coding_9    | NA | NA | Population characteristics &gt; Baseline characteristics | <!----> | <!----> | http://biobank.ctsu.ox.ac.uk/crystal/field.cgi?id=31  | NA | <!----> | <!----> | Sex                      | <!----> |\n",
       "\n"
      ],
      "text/plain": [
       "  item           entity      name type    primary_key_type coding_name     \n",
       "1 eid            participant eid  string  global                           \n",
       "2 reason_lost_fu participant p190 integer                  data_coding_1965\n",
       "3 sex            participant p31  integer                  data_coding_9   \n",
       "  concept description folder_path                                          \n",
       "1 NA      NA          Participant Information                              \n",
       "2 NA      NA          Population characteristics > Ongoing characteristics \n",
       "3 NA      NA          Population characteristics > Baseline characteristics\n",
       "  is_multi_select is_sparse_coding\n",
       "1                                 \n",
       "2                                 \n",
       "3                                 \n",
       "  linkout                                               longitudinal_axis_type\n",
       "1                                                       NA                    \n",
       "2 http://biobank.ctsu.ox.ac.uk/crystal/field.cgi?id=190 NA                    \n",
       "3 http://biobank.ctsu.ox.ac.uk/crystal/field.cgi?id=31  NA                    \n",
       "  referenced_entity_field relationship title                    units\n",
       "1                                      Participant ID                \n",
       "2                                      Reason lost to follow-up      \n",
       "3                                      Sex                           "
      ]
     },
     "metadata": {},
     "output_type": "display_data"
    }
   ],
   "source": [
    "participant_codes= list(eid                = list(name=\"eid\",       entity=\"participant\", search=\"matches\"),\n",
    "                        reason_lost_fu     = list(name=\"p190\",      entity=\"participant\", search=\"matches\"),\n",
    "                        sex                = list(name=\"p31\",       entity=\"participant\", search=\"matches\"),\n",
    "                        age                = list(name=\"p21022\",    entity=\"participant\", search=\"matches\"),\n",
    "                        ethnicity          = list(name=\"p21000\",    entity=\"participant\", search=\"startswith\"),\n",
    "                        genetic_sex        = list(name=\"p22001\",    entity=\"participant\", search=\"matches\"),\n",
    "                        genetic_ethnicity  = list(name=\"p22006\",    entity=\"participant\", search=\"matches\"),\n",
    "                        pc1                = list(name=\"p22009_a1\", entity=\"participant\", search=\"matches\"),\n",
    "                        pc2                = list(name=\"p22009_a2\", entity=\"participant\", search=\"matches\"),\n",
    "                        pc3                = list(name=\"p22009_a3\", entity=\"participant\", search=\"matches\"),\n",
    "                        pc4                = list(name=\"p22009_a4\", entity=\"participant\", search=\"matches\"),\n",
    "                        pc5                = list(name=\"p22009_a5\", entity=\"participant\", search=\"matches\"))\n",
    "\n",
    "participant_data_dict = filter_data_dict(data_dict_file, participant_codes)\n",
    "head(participant_data_dict, 3)"
   ]
  },
  {
   "cell_type": "markdown",
   "id": "dd6a0459-196c-4fe3-aeef-03f2f7aec841",
   "metadata": {},
   "source": [
    "### Define self-report illness data"
   ]
  },
  {
   "cell_type": "code",
   "execution_count": 7,
   "id": "e8f71e5a-d357-4d51-bae5-5087045532d9",
   "metadata": {
    "tags": []
   },
   "outputs": [
    {
     "data": {
      "text/html": [
       "<table class=\"dataframe\">\n",
       "<caption>A data.table: 3 × 17</caption>\n",
       "<thead>\n",
       "\t<tr><th scope=col>item</th><th scope=col>entity</th><th scope=col>name</th><th scope=col>type</th><th scope=col>primary_key_type</th><th scope=col>coding_name</th><th scope=col>concept</th><th scope=col>description</th><th scope=col>folder_path</th><th scope=col>is_multi_select</th><th scope=col>is_sparse_coding</th><th scope=col>linkout</th><th scope=col>longitudinal_axis_type</th><th scope=col>referenced_entity_field</th><th scope=col>relationship</th><th scope=col>title</th><th scope=col>units</th></tr>\n",
       "\t<tr><th scope=col>&lt;chr&gt;</th><th scope=col>&lt;chr&gt;</th><th scope=col>&lt;chr&gt;</th><th scope=col>&lt;chr&gt;</th><th scope=col>&lt;chr&gt;</th><th scope=col>&lt;chr&gt;</th><th scope=col>&lt;lgl&gt;</th><th scope=col>&lt;lgl&gt;</th><th scope=col>&lt;chr&gt;</th><th scope=col>&lt;chr&gt;</th><th scope=col>&lt;chr&gt;</th><th scope=col>&lt;chr&gt;</th><th scope=col>&lt;lgl&gt;</th><th scope=col>&lt;chr&gt;</th><th scope=col>&lt;chr&gt;</th><th scope=col>&lt;chr&gt;</th><th scope=col>&lt;chr&gt;</th></tr>\n",
       "</thead>\n",
       "<tbody>\n",
       "\t<tr><td>eid         </td><td>participant</td><td>eid         </td><td>string </td><td>global</td><td>             </td><td>NA</td><td>NA</td><td>Participant Information                                  </td><td></td><td></td><td>                                                       </td><td>NA</td><td></td><td></td><td>Participant ID                                               </td><td></td></tr>\n",
       "\t<tr><td>self_rep_ill</td><td>participant</td><td>p20002_i0_a0</td><td>integer</td><td><span style=white-space:pre-wrap>      </span></td><td>data_coding_6</td><td>NA</td><td>NA</td><td>Assessment centre &gt; Verbal interview &gt; Medical conditions</td><td></td><td></td><td>http://biobank.ctsu.ox.ac.uk/crystal/field.cgi?id=20002</td><td>NA</td><td></td><td></td><td>Non-cancer illness code, self-reported | Instance 0 | Array 0</td><td></td></tr>\n",
       "\t<tr><td>self_rep_ill</td><td>participant</td><td>p20002_i0_a1</td><td>integer</td><td><span style=white-space:pre-wrap>      </span></td><td>data_coding_6</td><td>NA</td><td>NA</td><td>Assessment centre &gt; Verbal interview &gt; Medical conditions</td><td></td><td></td><td>http://biobank.ctsu.ox.ac.uk/crystal/field.cgi?id=20002</td><td>NA</td><td></td><td></td><td>Non-cancer illness code, self-reported | Instance 0 | Array 1</td><td></td></tr>\n",
       "</tbody>\n",
       "</table>\n"
      ],
      "text/latex": [
       "A data.table: 3 × 17\n",
       "\\begin{tabular}{lllllllllllllllll}\n",
       " item & entity & name & type & primary\\_key\\_type & coding\\_name & concept & description & folder\\_path & is\\_multi\\_select & is\\_sparse\\_coding & linkout & longitudinal\\_axis\\_type & referenced\\_entity\\_field & relationship & title & units\\\\\n",
       " <chr> & <chr> & <chr> & <chr> & <chr> & <chr> & <lgl> & <lgl> & <chr> & <chr> & <chr> & <chr> & <lgl> & <chr> & <chr> & <chr> & <chr>\\\\\n",
       "\\hline\n",
       "\t eid          & participant & eid          & string  & global &               & NA & NA & Participant Information                                   &  &  &                                                         & NA &  &  & Participant ID                                                & \\\\\n",
       "\t self\\_rep\\_ill & participant & p20002\\_i0\\_a0 & integer &        & data\\_coding\\_6 & NA & NA & Assessment centre > Verbal interview > Medical conditions &  &  & http://biobank.ctsu.ox.ac.uk/crystal/field.cgi?id=20002 & NA &  &  & Non-cancer illness code, self-reported \\textbar{} Instance 0 \\textbar{} Array 0 & \\\\\n",
       "\t self\\_rep\\_ill & participant & p20002\\_i0\\_a1 & integer &        & data\\_coding\\_6 & NA & NA & Assessment centre > Verbal interview > Medical conditions &  &  & http://biobank.ctsu.ox.ac.uk/crystal/field.cgi?id=20002 & NA &  &  & Non-cancer illness code, self-reported \\textbar{} Instance 0 \\textbar{} Array 1 & \\\\\n",
       "\\end{tabular}\n"
      ],
      "text/markdown": [
       "\n",
       "A data.table: 3 × 17\n",
       "\n",
       "| item &lt;chr&gt; | entity &lt;chr&gt; | name &lt;chr&gt; | type &lt;chr&gt; | primary_key_type &lt;chr&gt; | coding_name &lt;chr&gt; | concept &lt;lgl&gt; | description &lt;lgl&gt; | folder_path &lt;chr&gt; | is_multi_select &lt;chr&gt; | is_sparse_coding &lt;chr&gt; | linkout &lt;chr&gt; | longitudinal_axis_type &lt;lgl&gt; | referenced_entity_field &lt;chr&gt; | relationship &lt;chr&gt; | title &lt;chr&gt; | units &lt;chr&gt; |\n",
       "|---|---|---|---|---|---|---|---|---|---|---|---|---|---|---|---|---|\n",
       "| eid          | participant | eid          | string  | global | <!----> | NA | NA | Participant Information                                   | <!----> | <!----> | <!----> | NA | <!----> | <!----> | Participant ID                                                | <!----> |\n",
       "| self_rep_ill | participant | p20002_i0_a0 | integer | <!----> | data_coding_6 | NA | NA | Assessment centre &gt; Verbal interview &gt; Medical conditions | <!----> | <!----> | http://biobank.ctsu.ox.ac.uk/crystal/field.cgi?id=20002 | NA | <!----> | <!----> | Non-cancer illness code, self-reported | Instance 0 | Array 0 | <!----> |\n",
       "| self_rep_ill | participant | p20002_i0_a1 | integer | <!----> | data_coding_6 | NA | NA | Assessment centre &gt; Verbal interview &gt; Medical conditions | <!----> | <!----> | http://biobank.ctsu.ox.ac.uk/crystal/field.cgi?id=20002 | NA | <!----> | <!----> | Non-cancer illness code, self-reported | Instance 0 | Array 1 | <!----> |\n",
       "\n"
      ],
      "text/plain": [
       "  item         entity      name         type    primary_key_type coding_name  \n",
       "1 eid          participant eid          string  global                        \n",
       "2 self_rep_ill participant p20002_i0_a0 integer                  data_coding_6\n",
       "3 self_rep_ill participant p20002_i0_a1 integer                  data_coding_6\n",
       "  concept description folder_path                                              \n",
       "1 NA      NA          Participant Information                                  \n",
       "2 NA      NA          Assessment centre > Verbal interview > Medical conditions\n",
       "3 NA      NA          Assessment centre > Verbal interview > Medical conditions\n",
       "  is_multi_select is_sparse_coding\n",
       "1                                 \n",
       "2                                 \n",
       "3                                 \n",
       "  linkout                                                \n",
       "1                                                        \n",
       "2 http://biobank.ctsu.ox.ac.uk/crystal/field.cgi?id=20002\n",
       "3 http://biobank.ctsu.ox.ac.uk/crystal/field.cgi?id=20002\n",
       "  longitudinal_axis_type referenced_entity_field relationship\n",
       "1 NA                                                         \n",
       "2 NA                                                         \n",
       "3 NA                                                         \n",
       "  title                                                         units\n",
       "1 Participant ID                                                     \n",
       "2 Non-cancer illness code, self-reported | Instance 0 | Array 0      \n",
       "3 Non-cancer illness code, self-reported | Instance 0 | Array 1      "
      ]
     },
     "metadata": {},
     "output_type": "display_data"
    }
   ],
   "source": [
    "self_illness_codes=list(eid                = list(name=\"eid\",    entity=\"participant\", search=\"matches\"),\n",
    "                        self_rep_ill       = list(name=\"p20002\", entity=\"participant\", search=\"startswith\"), # 0:3 instances\n",
    "                        self_rep_ill_year  = list(name=\"p20008\", entity=\"participant\", search=\"startswith\"), # 0:3 instances\n",
    "                        self_rep_proc      = list(name=\"p20004\", entity=\"participant\", search=\"startswith\"), # 0:3 instances\n",
    "                        self_rep_proc_year = list(name=\"p20010\", entity=\"participant\", search=\"startswith\")) # 0:3 instances\n",
    "\n",
    "self_rep_data_dict = filter_data_dict(data_dict_file, self_illness_codes)\n",
    "head(self_rep_data_dict, 3)"
   ]
  },
  {
   "cell_type": "markdown",
   "id": "f8be70be-4083-4593-a748-8782b3ebb390",
   "metadata": {},
   "source": [
    "### Define self-report medication data"
   ]
  },
  {
   "cell_type": "code",
   "execution_count": 8,
   "id": "8f7f8dc1-4525-4405-82ef-99b9a5829a8d",
   "metadata": {
    "tags": []
   },
   "outputs": [
    {
     "data": {
      "text/html": [
       "<table class=\"dataframe\">\n",
       "<caption>A data.table: 3 × 17</caption>\n",
       "<thead>\n",
       "\t<tr><th scope=col>item</th><th scope=col>entity</th><th scope=col>name</th><th scope=col>type</th><th scope=col>primary_key_type</th><th scope=col>coding_name</th><th scope=col>concept</th><th scope=col>description</th><th scope=col>folder_path</th><th scope=col>is_multi_select</th><th scope=col>is_sparse_coding</th><th scope=col>linkout</th><th scope=col>longitudinal_axis_type</th><th scope=col>referenced_entity_field</th><th scope=col>relationship</th><th scope=col>title</th><th scope=col>units</th></tr>\n",
       "\t<tr><th scope=col>&lt;chr&gt;</th><th scope=col>&lt;chr&gt;</th><th scope=col>&lt;chr&gt;</th><th scope=col>&lt;chr&gt;</th><th scope=col>&lt;chr&gt;</th><th scope=col>&lt;chr&gt;</th><th scope=col>&lt;lgl&gt;</th><th scope=col>&lt;lgl&gt;</th><th scope=col>&lt;chr&gt;</th><th scope=col>&lt;chr&gt;</th><th scope=col>&lt;chr&gt;</th><th scope=col>&lt;chr&gt;</th><th scope=col>&lt;lgl&gt;</th><th scope=col>&lt;chr&gt;</th><th scope=col>&lt;chr&gt;</th><th scope=col>&lt;chr&gt;</th><th scope=col>&lt;chr&gt;</th></tr>\n",
       "</thead>\n",
       "<tbody>\n",
       "\t<tr><td>eid         </td><td>participant</td><td>eid         </td><td>string </td><td>global</td><td>             </td><td>NA</td><td>NA</td><td>Participant Information                           </td><td></td><td></td><td>                                                       </td><td>NA</td><td></td><td></td><td>Participant ID                                  </td><td></td></tr>\n",
       "\t<tr><td>self_rep_med</td><td>participant</td><td>p20003_i0_a0</td><td>integer</td><td><span style=white-space:pre-wrap>      </span></td><td>data_coding_4</td><td>NA</td><td>NA</td><td>Assessment centre &gt; Verbal interview &gt; Medications</td><td></td><td></td><td>http://biobank.ctsu.ox.ac.uk/crystal/field.cgi?id=20003</td><td>NA</td><td></td><td></td><td>Treatment/medication code | Instance 0 | Array 0</td><td></td></tr>\n",
       "\t<tr><td>self_rep_med</td><td>participant</td><td>p20003_i0_a1</td><td>integer</td><td><span style=white-space:pre-wrap>      </span></td><td>data_coding_4</td><td>NA</td><td>NA</td><td>Assessment centre &gt; Verbal interview &gt; Medications</td><td></td><td></td><td>http://biobank.ctsu.ox.ac.uk/crystal/field.cgi?id=20003</td><td>NA</td><td></td><td></td><td>Treatment/medication code | Instance 0 | Array 1</td><td></td></tr>\n",
       "</tbody>\n",
       "</table>\n"
      ],
      "text/latex": [
       "A data.table: 3 × 17\n",
       "\\begin{tabular}{lllllllllllllllll}\n",
       " item & entity & name & type & primary\\_key\\_type & coding\\_name & concept & description & folder\\_path & is\\_multi\\_select & is\\_sparse\\_coding & linkout & longitudinal\\_axis\\_type & referenced\\_entity\\_field & relationship & title & units\\\\\n",
       " <chr> & <chr> & <chr> & <chr> & <chr> & <chr> & <lgl> & <lgl> & <chr> & <chr> & <chr> & <chr> & <lgl> & <chr> & <chr> & <chr> & <chr>\\\\\n",
       "\\hline\n",
       "\t eid          & participant & eid          & string  & global &               & NA & NA & Participant Information                            &  &  &                                                         & NA &  &  & Participant ID                                   & \\\\\n",
       "\t self\\_rep\\_med & participant & p20003\\_i0\\_a0 & integer &        & data\\_coding\\_4 & NA & NA & Assessment centre > Verbal interview > Medications &  &  & http://biobank.ctsu.ox.ac.uk/crystal/field.cgi?id=20003 & NA &  &  & Treatment/medication code \\textbar{} Instance 0 \\textbar{} Array 0 & \\\\\n",
       "\t self\\_rep\\_med & participant & p20003\\_i0\\_a1 & integer &        & data\\_coding\\_4 & NA & NA & Assessment centre > Verbal interview > Medications &  &  & http://biobank.ctsu.ox.ac.uk/crystal/field.cgi?id=20003 & NA &  &  & Treatment/medication code \\textbar{} Instance 0 \\textbar{} Array 1 & \\\\\n",
       "\\end{tabular}\n"
      ],
      "text/markdown": [
       "\n",
       "A data.table: 3 × 17\n",
       "\n",
       "| item &lt;chr&gt; | entity &lt;chr&gt; | name &lt;chr&gt; | type &lt;chr&gt; | primary_key_type &lt;chr&gt; | coding_name &lt;chr&gt; | concept &lt;lgl&gt; | description &lt;lgl&gt; | folder_path &lt;chr&gt; | is_multi_select &lt;chr&gt; | is_sparse_coding &lt;chr&gt; | linkout &lt;chr&gt; | longitudinal_axis_type &lt;lgl&gt; | referenced_entity_field &lt;chr&gt; | relationship &lt;chr&gt; | title &lt;chr&gt; | units &lt;chr&gt; |\n",
       "|---|---|---|---|---|---|---|---|---|---|---|---|---|---|---|---|---|\n",
       "| eid          | participant | eid          | string  | global | <!----> | NA | NA | Participant Information                            | <!----> | <!----> | <!----> | NA | <!----> | <!----> | Participant ID                                   | <!----> |\n",
       "| self_rep_med | participant | p20003_i0_a0 | integer | <!----> | data_coding_4 | NA | NA | Assessment centre &gt; Verbal interview &gt; Medications | <!----> | <!----> | http://biobank.ctsu.ox.ac.uk/crystal/field.cgi?id=20003 | NA | <!----> | <!----> | Treatment/medication code | Instance 0 | Array 0 | <!----> |\n",
       "| self_rep_med | participant | p20003_i0_a1 | integer | <!----> | data_coding_4 | NA | NA | Assessment centre &gt; Verbal interview &gt; Medications | <!----> | <!----> | http://biobank.ctsu.ox.ac.uk/crystal/field.cgi?id=20003 | NA | <!----> | <!----> | Treatment/medication code | Instance 0 | Array 1 | <!----> |\n",
       "\n"
      ],
      "text/plain": [
       "  item         entity      name         type    primary_key_type coding_name  \n",
       "1 eid          participant eid          string  global                        \n",
       "2 self_rep_med participant p20003_i0_a0 integer                  data_coding_4\n",
       "3 self_rep_med participant p20003_i0_a1 integer                  data_coding_4\n",
       "  concept description folder_path                                       \n",
       "1 NA      NA          Participant Information                           \n",
       "2 NA      NA          Assessment centre > Verbal interview > Medications\n",
       "3 NA      NA          Assessment centre > Verbal interview > Medications\n",
       "  is_multi_select is_sparse_coding\n",
       "1                                 \n",
       "2                                 \n",
       "3                                 \n",
       "  linkout                                                \n",
       "1                                                        \n",
       "2 http://biobank.ctsu.ox.ac.uk/crystal/field.cgi?id=20003\n",
       "3 http://biobank.ctsu.ox.ac.uk/crystal/field.cgi?id=20003\n",
       "  longitudinal_axis_type referenced_entity_field relationship\n",
       "1 NA                                                         \n",
       "2 NA                                                         \n",
       "3 NA                                                         \n",
       "  title                                            units\n",
       "1 Participant ID                                        \n",
       "2 Treatment/medication code | Instance 0 | Array 0      \n",
       "3 Treatment/medication code | Instance 0 | Array 1      "
      ]
     },
     "metadata": {},
     "output_type": "display_data"
    }
   ],
   "source": [
    "self_medication_codes=list(eid                = list(name=\"eid\",    entity=\"participant\", search=\"matches\"),\n",
    "                           self_rep_med       = list(name=\"p20003\", entity=\"participant\", search=\"startswith\")) # 0:3 instances\n",
    "\n",
    "self_med_data_dict = filter_data_dict(data_dict_file, self_medication_codes)\n",
    "head(self_med_data_dict, 3)"
   ]
  },
  {
   "cell_type": "markdown",
   "id": "25601612-93ea-493d-97cf-c9ffc49b6aed",
   "metadata": {},
   "source": [
    "### Define HES inpatient data"
   ]
  },
  {
   "cell_type": "code",
   "execution_count": 9,
   "id": "b72f11de-3981-4856-9413-064cb210f589",
   "metadata": {
    "tags": []
   },
   "outputs": [
    {
     "data": {
      "text/html": [
       "<table class=\"dataframe\">\n",
       "<caption>A data.table: 4 × 17</caption>\n",
       "<thead>\n",
       "\t<tr><th scope=col>item</th><th scope=col>entity</th><th scope=col>name</th><th scope=col>type</th><th scope=col>primary_key_type</th><th scope=col>coding_name</th><th scope=col>concept</th><th scope=col>description</th><th scope=col>folder_path</th><th scope=col>is_multi_select</th><th scope=col>is_sparse_coding</th><th scope=col>linkout</th><th scope=col>longitudinal_axis_type</th><th scope=col>referenced_entity_field</th><th scope=col>relationship</th><th scope=col>title</th><th scope=col>units</th></tr>\n",
       "\t<tr><th scope=col>&lt;chr&gt;</th><th scope=col>&lt;chr&gt;</th><th scope=col>&lt;chr&gt;</th><th scope=col>&lt;chr&gt;</th><th scope=col>&lt;chr&gt;</th><th scope=col>&lt;chr&gt;</th><th scope=col>&lt;lgl&gt;</th><th scope=col>&lt;lgl&gt;</th><th scope=col>&lt;chr&gt;</th><th scope=col>&lt;chr&gt;</th><th scope=col>&lt;chr&gt;</th><th scope=col>&lt;chr&gt;</th><th scope=col>&lt;lgl&gt;</th><th scope=col>&lt;chr&gt;</th><th scope=col>&lt;chr&gt;</th><th scope=col>&lt;chr&gt;</th><th scope=col>&lt;chr&gt;</th></tr>\n",
       "</thead>\n",
       "<tbody>\n",
       "\t<tr><td>eid      </td><td>hesin</td><td>eid      </td><td>string </td><td></td><td></td><td>NA</td><td>NA</td><td></td><td></td><td></td><td></td><td>NA</td><td>participant:eid</td><td>many_to_one</td><td>Participant ID               </td><td></td></tr>\n",
       "\t<tr><td>ins_index</td><td>hesin</td><td>ins_index</td><td>integer</td><td></td><td></td><td>NA</td><td>NA</td><td></td><td></td><td></td><td></td><td>NA</td><td>               </td><td>           </td><td>Instance index               </td><td></td></tr>\n",
       "\t<tr><td>epistart </td><td>hesin</td><td>epistart </td><td>date   </td><td></td><td></td><td>NA</td><td>NA</td><td></td><td></td><td></td><td></td><td>NA</td><td>               </td><td>           </td><td>Episode start date           </td><td></td></tr>\n",
       "\t<tr><td>admidate </td><td>hesin</td><td>admidate </td><td>date   </td><td></td><td></td><td>NA</td><td>NA</td><td></td><td></td><td></td><td></td><td>NA</td><td>               </td><td>           </td><td>Date of admission to hospital</td><td></td></tr>\n",
       "</tbody>\n",
       "</table>\n"
      ],
      "text/latex": [
       "A data.table: 4 × 17\n",
       "\\begin{tabular}{lllllllllllllllll}\n",
       " item & entity & name & type & primary\\_key\\_type & coding\\_name & concept & description & folder\\_path & is\\_multi\\_select & is\\_sparse\\_coding & linkout & longitudinal\\_axis\\_type & referenced\\_entity\\_field & relationship & title & units\\\\\n",
       " <chr> & <chr> & <chr> & <chr> & <chr> & <chr> & <lgl> & <lgl> & <chr> & <chr> & <chr> & <chr> & <lgl> & <chr> & <chr> & <chr> & <chr>\\\\\n",
       "\\hline\n",
       "\t eid       & hesin & eid       & string  &  &  & NA & NA &  &  &  &  & NA & participant:eid & many\\_to\\_one & Participant ID                & \\\\\n",
       "\t ins\\_index & hesin & ins\\_index & integer &  &  & NA & NA &  &  &  &  & NA &                 &             & Instance index                & \\\\\n",
       "\t epistart  & hesin & epistart  & date    &  &  & NA & NA &  &  &  &  & NA &                 &             & Episode start date            & \\\\\n",
       "\t admidate  & hesin & admidate  & date    &  &  & NA & NA &  &  &  &  & NA &                 &             & Date of admission to hospital & \\\\\n",
       "\\end{tabular}\n"
      ],
      "text/markdown": [
       "\n",
       "A data.table: 4 × 17\n",
       "\n",
       "| item &lt;chr&gt; | entity &lt;chr&gt; | name &lt;chr&gt; | type &lt;chr&gt; | primary_key_type &lt;chr&gt; | coding_name &lt;chr&gt; | concept &lt;lgl&gt; | description &lt;lgl&gt; | folder_path &lt;chr&gt; | is_multi_select &lt;chr&gt; | is_sparse_coding &lt;chr&gt; | linkout &lt;chr&gt; | longitudinal_axis_type &lt;lgl&gt; | referenced_entity_field &lt;chr&gt; | relationship &lt;chr&gt; | title &lt;chr&gt; | units &lt;chr&gt; |\n",
       "|---|---|---|---|---|---|---|---|---|---|---|---|---|---|---|---|---|\n",
       "| eid       | hesin | eid       | string  | <!----> | <!----> | NA | NA | <!----> | <!----> | <!----> | <!----> | NA | participant:eid | many_to_one | Participant ID                | <!----> |\n",
       "| ins_index | hesin | ins_index | integer | <!----> | <!----> | NA | NA | <!----> | <!----> | <!----> | <!----> | NA | <!----> | <!----> | Instance index                | <!----> |\n",
       "| epistart  | hesin | epistart  | date    | <!----> | <!----> | NA | NA | <!----> | <!----> | <!----> | <!----> | NA | <!----> | <!----> | Episode start date            | <!----> |\n",
       "| admidate  | hesin | admidate  | date    | <!----> | <!----> | NA | NA | <!----> | <!----> | <!----> | <!----> | NA | <!----> | <!----> | Date of admission to hospital | <!----> |\n",
       "\n"
      ],
      "text/plain": [
       "  item      entity name      type    primary_key_type coding_name concept\n",
       "1 eid       hesin  eid       string                               NA     \n",
       "2 ins_index hesin  ins_index integer                              NA     \n",
       "3 epistart  hesin  epistart  date                                 NA     \n",
       "4 admidate  hesin  admidate  date                                 NA     \n",
       "  description folder_path is_multi_select is_sparse_coding linkout\n",
       "1 NA                                                              \n",
       "2 NA                                                              \n",
       "3 NA                                                              \n",
       "4 NA                                                              \n",
       "  longitudinal_axis_type referenced_entity_field relationship\n",
       "1 NA                     participant:eid         many_to_one \n",
       "2 NA                                                         \n",
       "3 NA                                                         \n",
       "4 NA                                                         \n",
       "  title                         units\n",
       "1 Participant ID                     \n",
       "2 Instance index                     \n",
       "3 Episode start date                 \n",
       "4 Date of admission to hospital      "
      ]
     },
     "metadata": {},
     "output_type": "display_data"
    }
   ],
   "source": [
    "hesin_to_extract = list(eid                = list(name=\"eid\",       entity=\"hesin\", search=\"matches\"),\n",
    "                        ins_index          = list(name=\"ins_index\", entity=\"hesin\", search=\"matches\"),\n",
    "                        epistart           = list(name=\"epistart\",  entity=\"hesin\", search=\"matches\"),\n",
    "                        admidate           = list(name=\"admidate\",  entity=\"hesin\", search=\"matches\"))\n",
    "\n",
    "hes_data_dict = filter_data_dict(data_dict_file, hesin_to_extract)\n",
    "head(hes_data_dict, 4)"
   ]
  },
  {
   "cell_type": "markdown",
   "id": "1e0ff29e-9037-4c53-b14c-7d56c5fe2da1",
   "metadata": {},
   "source": [
    "### Define HES diagnoses data"
   ]
  },
  {
   "cell_type": "code",
   "execution_count": 10,
   "id": "eeb900fa-1b69-430d-89cb-a6626d5a209d",
   "metadata": {
    "tags": []
   },
   "outputs": [
    {
     "data": {
      "text/html": [
       "<table class=\"dataframe\">\n",
       "<caption>A data.table: 4 × 17</caption>\n",
       "<thead>\n",
       "\t<tr><th scope=col>item</th><th scope=col>entity</th><th scope=col>name</th><th scope=col>type</th><th scope=col>primary_key_type</th><th scope=col>coding_name</th><th scope=col>concept</th><th scope=col>description</th><th scope=col>folder_path</th><th scope=col>is_multi_select</th><th scope=col>is_sparse_coding</th><th scope=col>linkout</th><th scope=col>longitudinal_axis_type</th><th scope=col>referenced_entity_field</th><th scope=col>relationship</th><th scope=col>title</th><th scope=col>units</th></tr>\n",
       "\t<tr><th scope=col>&lt;chr&gt;</th><th scope=col>&lt;chr&gt;</th><th scope=col>&lt;chr&gt;</th><th scope=col>&lt;chr&gt;</th><th scope=col>&lt;chr&gt;</th><th scope=col>&lt;chr&gt;</th><th scope=col>&lt;lgl&gt;</th><th scope=col>&lt;lgl&gt;</th><th scope=col>&lt;chr&gt;</th><th scope=col>&lt;chr&gt;</th><th scope=col>&lt;chr&gt;</th><th scope=col>&lt;chr&gt;</th><th scope=col>&lt;lgl&gt;</th><th scope=col>&lt;chr&gt;</th><th scope=col>&lt;chr&gt;</th><th scope=col>&lt;chr&gt;</th><th scope=col>&lt;chr&gt;</th></tr>\n",
       "</thead>\n",
       "<tbody>\n",
       "\t<tr><td>eid       </td><td>hesin_diag</td><td>eid       </td><td>string </td><td></td><td>              </td><td>NA</td><td>NA</td><td></td><td></td><td></td><td></td><td>NA</td><td></td><td></td><td>Participant ID   </td><td></td></tr>\n",
       "\t<tr><td>ins_index </td><td>hesin_diag</td><td>ins_index </td><td>integer</td><td></td><td>              </td><td>NA</td><td>NA</td><td></td><td></td><td></td><td></td><td>NA</td><td></td><td></td><td>Instance index   </td><td></td></tr>\n",
       "\t<tr><td>diag_icd9 </td><td>hesin_diag</td><td>diag_icd9 </td><td>string </td><td></td><td>data_coding_87</td><td>NA</td><td>NA</td><td></td><td></td><td></td><td></td><td>NA</td><td></td><td></td><td>Diagnoses - ICD9 </td><td></td></tr>\n",
       "\t<tr><td>diag_icd10</td><td>hesin_diag</td><td>diag_icd10</td><td>string </td><td></td><td>data_coding_19</td><td>NA</td><td>NA</td><td></td><td></td><td></td><td></td><td>NA</td><td></td><td></td><td>Diagnoses - ICD10</td><td></td></tr>\n",
       "</tbody>\n",
       "</table>\n"
      ],
      "text/latex": [
       "A data.table: 4 × 17\n",
       "\\begin{tabular}{lllllllllllllllll}\n",
       " item & entity & name & type & primary\\_key\\_type & coding\\_name & concept & description & folder\\_path & is\\_multi\\_select & is\\_sparse\\_coding & linkout & longitudinal\\_axis\\_type & referenced\\_entity\\_field & relationship & title & units\\\\\n",
       " <chr> & <chr> & <chr> & <chr> & <chr> & <chr> & <lgl> & <lgl> & <chr> & <chr> & <chr> & <chr> & <lgl> & <chr> & <chr> & <chr> & <chr>\\\\\n",
       "\\hline\n",
       "\t eid        & hesin\\_diag & eid        & string  &  &                & NA & NA &  &  &  &  & NA &  &  & Participant ID    & \\\\\n",
       "\t ins\\_index  & hesin\\_diag & ins\\_index  & integer &  &                & NA & NA &  &  &  &  & NA &  &  & Instance index    & \\\\\n",
       "\t diag\\_icd9  & hesin\\_diag & diag\\_icd9  & string  &  & data\\_coding\\_87 & NA & NA &  &  &  &  & NA &  &  & Diagnoses - ICD9  & \\\\\n",
       "\t diag\\_icd10 & hesin\\_diag & diag\\_icd10 & string  &  & data\\_coding\\_19 & NA & NA &  &  &  &  & NA &  &  & Diagnoses - ICD10 & \\\\\n",
       "\\end{tabular}\n"
      ],
      "text/markdown": [
       "\n",
       "A data.table: 4 × 17\n",
       "\n",
       "| item &lt;chr&gt; | entity &lt;chr&gt; | name &lt;chr&gt; | type &lt;chr&gt; | primary_key_type &lt;chr&gt; | coding_name &lt;chr&gt; | concept &lt;lgl&gt; | description &lt;lgl&gt; | folder_path &lt;chr&gt; | is_multi_select &lt;chr&gt; | is_sparse_coding &lt;chr&gt; | linkout &lt;chr&gt; | longitudinal_axis_type &lt;lgl&gt; | referenced_entity_field &lt;chr&gt; | relationship &lt;chr&gt; | title &lt;chr&gt; | units &lt;chr&gt; |\n",
       "|---|---|---|---|---|---|---|---|---|---|---|---|---|---|---|---|---|\n",
       "| eid        | hesin_diag | eid        | string  | <!----> | <!----> | NA | NA | <!----> | <!----> | <!----> | <!----> | NA | <!----> | <!----> | Participant ID    | <!----> |\n",
       "| ins_index  | hesin_diag | ins_index  | integer | <!----> | <!----> | NA | NA | <!----> | <!----> | <!----> | <!----> | NA | <!----> | <!----> | Instance index    | <!----> |\n",
       "| diag_icd9  | hesin_diag | diag_icd9  | string  | <!----> | data_coding_87 | NA | NA | <!----> | <!----> | <!----> | <!----> | NA | <!----> | <!----> | Diagnoses - ICD9  | <!----> |\n",
       "| diag_icd10 | hesin_diag | diag_icd10 | string  | <!----> | data_coding_19 | NA | NA | <!----> | <!----> | <!----> | <!----> | NA | <!----> | <!----> | Diagnoses - ICD10 | <!----> |\n",
       "\n"
      ],
      "text/plain": [
       "  item       entity     name       type    primary_key_type coding_name   \n",
       "1 eid        hesin_diag eid        string                                 \n",
       "2 ins_index  hesin_diag ins_index  integer                                \n",
       "3 diag_icd9  hesin_diag diag_icd9  string                   data_coding_87\n",
       "4 diag_icd10 hesin_diag diag_icd10 string                   data_coding_19\n",
       "  concept description folder_path is_multi_select is_sparse_coding linkout\n",
       "1 NA      NA                                                              \n",
       "2 NA      NA                                                              \n",
       "3 NA      NA                                                              \n",
       "4 NA      NA                                                              \n",
       "  longitudinal_axis_type referenced_entity_field relationship title            \n",
       "1 NA                                                          Participant ID   \n",
       "2 NA                                                          Instance index   \n",
       "3 NA                                                          Diagnoses - ICD9 \n",
       "4 NA                                                          Diagnoses - ICD10\n",
       "  units\n",
       "1      \n",
       "2      \n",
       "3      \n",
       "4      "
      ]
     },
     "metadata": {},
     "output_type": "display_data"
    }
   ],
   "source": [
    "hesdiag_to_extract=list(eid                = list(name=\"eid\",        entity=\"hesin_diag\", search=\"matches\"),\n",
    "                        ins_index          = list(name=\"ins_index\",  entity=\"hesin_diag\", search=\"matches\"),\n",
    "                        diag_icd9          = list(name=\"diag_icd9\",  entity=\"hesin_diag\", search=\"matches\"),\n",
    "                        diag_icd10         = list(name=\"diag_icd10\", entity=\"hesin_diag\", search=\"matches\"))\n",
    "\n",
    "hesdiag_data_dict = filter_data_dict(data_dict_file, hesdiag_to_extract)\n",
    "head(hesdiag_data_dict, 4)"
   ]
  },
  {
   "cell_type": "markdown",
   "id": "fe49ac85-0407-4f8e-b82d-d81729e6195d",
   "metadata": {},
   "source": [
    "### Define HES procedures data"
   ]
  },
  {
   "cell_type": "code",
   "execution_count": 11,
   "id": "8e4362f5-d8f0-4c49-acd0-c5519230ba50",
   "metadata": {
    "tags": []
   },
   "outputs": [
    {
     "data": {
      "text/html": [
       "<table class=\"dataframe\">\n",
       "<caption>A data.table: 4 × 17</caption>\n",
       "<thead>\n",
       "\t<tr><th scope=col>item</th><th scope=col>entity</th><th scope=col>name</th><th scope=col>type</th><th scope=col>primary_key_type</th><th scope=col>coding_name</th><th scope=col>concept</th><th scope=col>description</th><th scope=col>folder_path</th><th scope=col>is_multi_select</th><th scope=col>is_sparse_coding</th><th scope=col>linkout</th><th scope=col>longitudinal_axis_type</th><th scope=col>referenced_entity_field</th><th scope=col>relationship</th><th scope=col>title</th><th scope=col>units</th></tr>\n",
       "\t<tr><th scope=col>&lt;chr&gt;</th><th scope=col>&lt;chr&gt;</th><th scope=col>&lt;chr&gt;</th><th scope=col>&lt;chr&gt;</th><th scope=col>&lt;chr&gt;</th><th scope=col>&lt;chr&gt;</th><th scope=col>&lt;lgl&gt;</th><th scope=col>&lt;lgl&gt;</th><th scope=col>&lt;chr&gt;</th><th scope=col>&lt;chr&gt;</th><th scope=col>&lt;chr&gt;</th><th scope=col>&lt;chr&gt;</th><th scope=col>&lt;lgl&gt;</th><th scope=col>&lt;chr&gt;</th><th scope=col>&lt;chr&gt;</th><th scope=col>&lt;chr&gt;</th><th scope=col>&lt;chr&gt;</th></tr>\n",
       "</thead>\n",
       "<tbody>\n",
       "\t<tr><td>eid      </td><td>hesin_oper</td><td>eid      </td><td>string </td><td></td><td>               </td><td>NA</td><td>NA</td><td></td><td></td><td></td><td></td><td>NA</td><td></td><td></td><td>Participant ID              </td><td></td></tr>\n",
       "\t<tr><td>ins_index</td><td>hesin_oper</td><td>ins_index</td><td>integer</td><td></td><td>               </td><td>NA</td><td>NA</td><td></td><td></td><td></td><td></td><td>NA</td><td></td><td></td><td>Instance index              </td><td></td></tr>\n",
       "\t<tr><td>oper3    </td><td>hesin_oper</td><td>oper3    </td><td>string </td><td></td><td>data_coding_259</td><td>NA</td><td>NA</td><td></td><td></td><td></td><td></td><td>NA</td><td></td><td></td><td>Operative procedures - OPCS3</td><td></td></tr>\n",
       "\t<tr><td>oper4    </td><td>hesin_oper</td><td>oper4    </td><td>string </td><td></td><td>data_coding_240</td><td>NA</td><td>NA</td><td></td><td></td><td></td><td></td><td>NA</td><td></td><td></td><td>Operative procedures - OPCS4</td><td></td></tr>\n",
       "</tbody>\n",
       "</table>\n"
      ],
      "text/latex": [
       "A data.table: 4 × 17\n",
       "\\begin{tabular}{lllllllllllllllll}\n",
       " item & entity & name & type & primary\\_key\\_type & coding\\_name & concept & description & folder\\_path & is\\_multi\\_select & is\\_sparse\\_coding & linkout & longitudinal\\_axis\\_type & referenced\\_entity\\_field & relationship & title & units\\\\\n",
       " <chr> & <chr> & <chr> & <chr> & <chr> & <chr> & <lgl> & <lgl> & <chr> & <chr> & <chr> & <chr> & <lgl> & <chr> & <chr> & <chr> & <chr>\\\\\n",
       "\\hline\n",
       "\t eid       & hesin\\_oper & eid       & string  &  &                 & NA & NA &  &  &  &  & NA &  &  & Participant ID               & \\\\\n",
       "\t ins\\_index & hesin\\_oper & ins\\_index & integer &  &                 & NA & NA &  &  &  &  & NA &  &  & Instance index               & \\\\\n",
       "\t oper3     & hesin\\_oper & oper3     & string  &  & data\\_coding\\_259 & NA & NA &  &  &  &  & NA &  &  & Operative procedures - OPCS3 & \\\\\n",
       "\t oper4     & hesin\\_oper & oper4     & string  &  & data\\_coding\\_240 & NA & NA &  &  &  &  & NA &  &  & Operative procedures - OPCS4 & \\\\\n",
       "\\end{tabular}\n"
      ],
      "text/markdown": [
       "\n",
       "A data.table: 4 × 17\n",
       "\n",
       "| item &lt;chr&gt; | entity &lt;chr&gt; | name &lt;chr&gt; | type &lt;chr&gt; | primary_key_type &lt;chr&gt; | coding_name &lt;chr&gt; | concept &lt;lgl&gt; | description &lt;lgl&gt; | folder_path &lt;chr&gt; | is_multi_select &lt;chr&gt; | is_sparse_coding &lt;chr&gt; | linkout &lt;chr&gt; | longitudinal_axis_type &lt;lgl&gt; | referenced_entity_field &lt;chr&gt; | relationship &lt;chr&gt; | title &lt;chr&gt; | units &lt;chr&gt; |\n",
       "|---|---|---|---|---|---|---|---|---|---|---|---|---|---|---|---|---|\n",
       "| eid       | hesin_oper | eid       | string  | <!----> | <!----> | NA | NA | <!----> | <!----> | <!----> | <!----> | NA | <!----> | <!----> | Participant ID               | <!----> |\n",
       "| ins_index | hesin_oper | ins_index | integer | <!----> | <!----> | NA | NA | <!----> | <!----> | <!----> | <!----> | NA | <!----> | <!----> | Instance index               | <!----> |\n",
       "| oper3     | hesin_oper | oper3     | string  | <!----> | data_coding_259 | NA | NA | <!----> | <!----> | <!----> | <!----> | NA | <!----> | <!----> | Operative procedures - OPCS3 | <!----> |\n",
       "| oper4     | hesin_oper | oper4     | string  | <!----> | data_coding_240 | NA | NA | <!----> | <!----> | <!----> | <!----> | NA | <!----> | <!----> | Operative procedures - OPCS4 | <!----> |\n",
       "\n"
      ],
      "text/plain": [
       "  item      entity     name      type    primary_key_type coding_name    \n",
       "1 eid       hesin_oper eid       string                                  \n",
       "2 ins_index hesin_oper ins_index integer                                 \n",
       "3 oper3     hesin_oper oper3     string                   data_coding_259\n",
       "4 oper4     hesin_oper oper4     string                   data_coding_240\n",
       "  concept description folder_path is_multi_select is_sparse_coding linkout\n",
       "1 NA      NA                                                              \n",
       "2 NA      NA                                                              \n",
       "3 NA      NA                                                              \n",
       "4 NA      NA                                                              \n",
       "  longitudinal_axis_type referenced_entity_field relationship\n",
       "1 NA                                                         \n",
       "2 NA                                                         \n",
       "3 NA                                                         \n",
       "4 NA                                                         \n",
       "  title                        units\n",
       "1 Participant ID                    \n",
       "2 Instance index                    \n",
       "3 Operative procedures - OPCS3      \n",
       "4 Operative procedures - OPCS4      "
      ]
     },
     "metadata": {},
     "output_type": "display_data"
    }
   ],
   "source": [
    "hesproc_to_extract=list(eid                = list(name=\"eid\",       entity=\"hesin_oper\", search=\"matches\"),\n",
    "                        ins_index          = list(name=\"ins_index\", entity=\"hesin_oper\", search=\"matches\"),\n",
    "                        oper3              = list(name=\"oper3\",     entity=\"hesin_oper\", search=\"matches\"),\n",
    "                        oper4              = list(name=\"oper4\",     entity=\"hesin_oper\", search=\"matches\"))\n",
    "hesoper_data_dict = filter_data_dict(data_dict_file, hesproc_to_extract)\n",
    "head(hesoper_data_dict, 4)"
   ]
  },
  {
   "cell_type": "markdown",
   "id": "f52f2dc1-1206-4de3-bd04-d31ff06ea7da",
   "metadata": {},
   "source": [
    "#### Define GP clinical data"
   ]
  },
  {
   "cell_type": "code",
   "execution_count": 12,
   "id": "c343e2b8-f2ba-4ea3-9637-28563100028e",
   "metadata": {
    "tags": []
   },
   "outputs": [
    {
     "data": {
      "text/html": [
       "<table class=\"dataframe\">\n",
       "<caption>A data.table: 3 × 17</caption>\n",
       "<thead>\n",
       "\t<tr><th scope=col>item</th><th scope=col>entity</th><th scope=col>name</th><th scope=col>type</th><th scope=col>primary_key_type</th><th scope=col>coding_name</th><th scope=col>concept</th><th scope=col>description</th><th scope=col>folder_path</th><th scope=col>is_multi_select</th><th scope=col>is_sparse_coding</th><th scope=col>linkout</th><th scope=col>longitudinal_axis_type</th><th scope=col>referenced_entity_field</th><th scope=col>relationship</th><th scope=col>title</th><th scope=col>units</th></tr>\n",
       "\t<tr><th scope=col>&lt;chr&gt;</th><th scope=col>&lt;chr&gt;</th><th scope=col>&lt;chr&gt;</th><th scope=col>&lt;chr&gt;</th><th scope=col>&lt;chr&gt;</th><th scope=col>&lt;chr&gt;</th><th scope=col>&lt;lgl&gt;</th><th scope=col>&lt;lgl&gt;</th><th scope=col>&lt;chr&gt;</th><th scope=col>&lt;chr&gt;</th><th scope=col>&lt;chr&gt;</th><th scope=col>&lt;chr&gt;</th><th scope=col>&lt;lgl&gt;</th><th scope=col>&lt;chr&gt;</th><th scope=col>&lt;chr&gt;</th><th scope=col>&lt;chr&gt;</th><th scope=col>&lt;chr&gt;</th></tr>\n",
       "</thead>\n",
       "<tbody>\n",
       "\t<tr><td>eid          </td><td>gp_clinical</td><td>eid          </td><td>string</td><td></td><td>               </td><td>NA</td><td>NA</td><td></td><td></td><td>   </td><td></td><td>NA</td><td>participant:eid</td><td>many_to_one</td><td>Participant ID                </td><td></td></tr>\n",
       "\t<tr><td>data_provider</td><td>gp_clinical</td><td>data_provider</td><td>string</td><td></td><td>data_coding_626</td><td>NA</td><td>NA</td><td></td><td></td><td>   </td><td></td><td>NA</td><td>               </td><td>           </td><td>Data provider                 </td><td></td></tr>\n",
       "\t<tr><td>date         </td><td>gp_clinical</td><td>event_dt     </td><td>date  </td><td></td><td>data_coding_819</td><td>NA</td><td>NA</td><td></td><td></td><td>yes</td><td></td><td>NA</td><td>               </td><td>           </td><td>Date clinical code was entered</td><td></td></tr>\n",
       "</tbody>\n",
       "</table>\n"
      ],
      "text/latex": [
       "A data.table: 3 × 17\n",
       "\\begin{tabular}{lllllllllllllllll}\n",
       " item & entity & name & type & primary\\_key\\_type & coding\\_name & concept & description & folder\\_path & is\\_multi\\_select & is\\_sparse\\_coding & linkout & longitudinal\\_axis\\_type & referenced\\_entity\\_field & relationship & title & units\\\\\n",
       " <chr> & <chr> & <chr> & <chr> & <chr> & <chr> & <lgl> & <lgl> & <chr> & <chr> & <chr> & <chr> & <lgl> & <chr> & <chr> & <chr> & <chr>\\\\\n",
       "\\hline\n",
       "\t eid           & gp\\_clinical & eid           & string &  &                 & NA & NA &  &  &     &  & NA & participant:eid & many\\_to\\_one & Participant ID                 & \\\\\n",
       "\t data\\_provider & gp\\_clinical & data\\_provider & string &  & data\\_coding\\_626 & NA & NA &  &  &     &  & NA &                 &             & Data provider                  & \\\\\n",
       "\t date          & gp\\_clinical & event\\_dt      & date   &  & data\\_coding\\_819 & NA & NA &  &  & yes &  & NA &                 &             & Date clinical code was entered & \\\\\n",
       "\\end{tabular}\n"
      ],
      "text/markdown": [
       "\n",
       "A data.table: 3 × 17\n",
       "\n",
       "| item &lt;chr&gt; | entity &lt;chr&gt; | name &lt;chr&gt; | type &lt;chr&gt; | primary_key_type &lt;chr&gt; | coding_name &lt;chr&gt; | concept &lt;lgl&gt; | description &lt;lgl&gt; | folder_path &lt;chr&gt; | is_multi_select &lt;chr&gt; | is_sparse_coding &lt;chr&gt; | linkout &lt;chr&gt; | longitudinal_axis_type &lt;lgl&gt; | referenced_entity_field &lt;chr&gt; | relationship &lt;chr&gt; | title &lt;chr&gt; | units &lt;chr&gt; |\n",
       "|---|---|---|---|---|---|---|---|---|---|---|---|---|---|---|---|---|\n",
       "| eid           | gp_clinical | eid           | string | <!----> | <!----> | NA | NA | <!----> | <!----> | <!----> | <!----> | NA | participant:eid | many_to_one | Participant ID                 | <!----> |\n",
       "| data_provider | gp_clinical | data_provider | string | <!----> | data_coding_626 | NA | NA | <!----> | <!----> | <!----> | <!----> | NA | <!----> | <!----> | Data provider                  | <!----> |\n",
       "| date          | gp_clinical | event_dt      | date   | <!----> | data_coding_819 | NA | NA | <!----> | <!----> | yes | <!----> | NA | <!----> | <!----> | Date clinical code was entered | <!----> |\n",
       "\n"
      ],
      "text/plain": [
       "  item          entity      name          type   primary_key_type\n",
       "1 eid           gp_clinical eid           string                 \n",
       "2 data_provider gp_clinical data_provider string                 \n",
       "3 date          gp_clinical event_dt      date                   \n",
       "  coding_name     concept description folder_path is_multi_select\n",
       "1                 NA      NA                                     \n",
       "2 data_coding_626 NA      NA                                     \n",
       "3 data_coding_819 NA      NA                                     \n",
       "  is_sparse_coding linkout longitudinal_axis_type referenced_entity_field\n",
       "1                          NA                     participant:eid        \n",
       "2                          NA                                            \n",
       "3 yes                      NA                                            \n",
       "  relationship title                          units\n",
       "1 many_to_one  Participant ID                      \n",
       "2              Data provider                       \n",
       "3              Date clinical code was entered      "
      ]
     },
     "metadata": {},
     "output_type": "display_data"
    }
   ],
   "source": [
    "gp_clinical_codes= list(eid           = list(name=\"eid\",           entity=\"gp_clinical\", search=\"matches\"),\n",
    "                        data_provider = list(name=\"data_provider\", entity=\"gp_clinical\", search=\"matches\"),\n",
    "                        date          = list(name=\"event_dt\",      entity=\"gp_clinical\", search=\"matches\"),\n",
    "                        read_2        = list(name=\"read_2\",        entity=\"gp_clinical\", search=\"matches\"),\n",
    "                        read_3        = list(name=\"read_3\",        entity=\"gp_clinical\", search=\"matches\"),\n",
    "                        value1        = list(name=\"value1\",        entity=\"gp_clinical\", search=\"matches\"),\n",
    "                        value2        = list(name=\"value2\",        entity=\"gp_clinical\", search=\"matches\"),\n",
    "                        value3        = list(name=\"value3\",        entity=\"gp_clinical\", search=\"matches\"))\n",
    "\n",
    "gp_clinical_data_dict = filter_data_dict(data_dict_file, gp_clinical_codes)\n",
    "head(gp_clinical_data_dict, 3)"
   ]
  },
  {
   "cell_type": "markdown",
   "id": "58389547-f535-4385-ab00-77dd097f8e40",
   "metadata": {},
   "source": [
    "#### Define GP medications data"
   ]
  },
  {
   "cell_type": "code",
   "execution_count": 13,
   "id": "ae366890-5135-4c23-acee-1293fe0dfb82",
   "metadata": {
    "tags": []
   },
   "outputs": [
    {
     "data": {
      "text/html": [
       "<table class=\"dataframe\">\n",
       "<caption>A data.table: 3 × 17</caption>\n",
       "<thead>\n",
       "\t<tr><th scope=col>item</th><th scope=col>entity</th><th scope=col>name</th><th scope=col>type</th><th scope=col>primary_key_type</th><th scope=col>coding_name</th><th scope=col>concept</th><th scope=col>description</th><th scope=col>folder_path</th><th scope=col>is_multi_select</th><th scope=col>is_sparse_coding</th><th scope=col>linkout</th><th scope=col>longitudinal_axis_type</th><th scope=col>referenced_entity_field</th><th scope=col>relationship</th><th scope=col>title</th><th scope=col>units</th></tr>\n",
       "\t<tr><th scope=col>&lt;chr&gt;</th><th scope=col>&lt;chr&gt;</th><th scope=col>&lt;chr&gt;</th><th scope=col>&lt;chr&gt;</th><th scope=col>&lt;chr&gt;</th><th scope=col>&lt;chr&gt;</th><th scope=col>&lt;lgl&gt;</th><th scope=col>&lt;lgl&gt;</th><th scope=col>&lt;chr&gt;</th><th scope=col>&lt;chr&gt;</th><th scope=col>&lt;chr&gt;</th><th scope=col>&lt;chr&gt;</th><th scope=col>&lt;lgl&gt;</th><th scope=col>&lt;chr&gt;</th><th scope=col>&lt;chr&gt;</th><th scope=col>&lt;chr&gt;</th><th scope=col>&lt;chr&gt;</th></tr>\n",
       "</thead>\n",
       "<tbody>\n",
       "\t<tr><td>eid          </td><td>gp_scripts</td><td>eid          </td><td>string</td><td></td><td>               </td><td>NA</td><td>NA</td><td></td><td></td><td>   </td><td></td><td>NA</td><td>participant:eid</td><td>many_to_one</td><td>Participant ID              </td><td></td></tr>\n",
       "\t<tr><td>data_provider</td><td>gp_scripts</td><td>data_provider</td><td>string</td><td></td><td>data_coding_626</td><td>NA</td><td>NA</td><td></td><td></td><td>   </td><td></td><td>NA</td><td>               </td><td>           </td><td>Data provider               </td><td></td></tr>\n",
       "\t<tr><td>date         </td><td>gp_scripts</td><td>issue_date   </td><td>date  </td><td></td><td>data_coding_819</td><td>NA</td><td>NA</td><td></td><td></td><td>yes</td><td></td><td>NA</td><td>               </td><td>           </td><td>Date prescription was issued</td><td></td></tr>\n",
       "</tbody>\n",
       "</table>\n"
      ],
      "text/latex": [
       "A data.table: 3 × 17\n",
       "\\begin{tabular}{lllllllllllllllll}\n",
       " item & entity & name & type & primary\\_key\\_type & coding\\_name & concept & description & folder\\_path & is\\_multi\\_select & is\\_sparse\\_coding & linkout & longitudinal\\_axis\\_type & referenced\\_entity\\_field & relationship & title & units\\\\\n",
       " <chr> & <chr> & <chr> & <chr> & <chr> & <chr> & <lgl> & <lgl> & <chr> & <chr> & <chr> & <chr> & <lgl> & <chr> & <chr> & <chr> & <chr>\\\\\n",
       "\\hline\n",
       "\t eid           & gp\\_scripts & eid           & string &  &                 & NA & NA &  &  &     &  & NA & participant:eid & many\\_to\\_one & Participant ID               & \\\\\n",
       "\t data\\_provider & gp\\_scripts & data\\_provider & string &  & data\\_coding\\_626 & NA & NA &  &  &     &  & NA &                 &             & Data provider                & \\\\\n",
       "\t date          & gp\\_scripts & issue\\_date    & date   &  & data\\_coding\\_819 & NA & NA &  &  & yes &  & NA &                 &             & Date prescription was issued & \\\\\n",
       "\\end{tabular}\n"
      ],
      "text/markdown": [
       "\n",
       "A data.table: 3 × 17\n",
       "\n",
       "| item &lt;chr&gt; | entity &lt;chr&gt; | name &lt;chr&gt; | type &lt;chr&gt; | primary_key_type &lt;chr&gt; | coding_name &lt;chr&gt; | concept &lt;lgl&gt; | description &lt;lgl&gt; | folder_path &lt;chr&gt; | is_multi_select &lt;chr&gt; | is_sparse_coding &lt;chr&gt; | linkout &lt;chr&gt; | longitudinal_axis_type &lt;lgl&gt; | referenced_entity_field &lt;chr&gt; | relationship &lt;chr&gt; | title &lt;chr&gt; | units &lt;chr&gt; |\n",
       "|---|---|---|---|---|---|---|---|---|---|---|---|---|---|---|---|---|\n",
       "| eid           | gp_scripts | eid           | string | <!----> | <!----> | NA | NA | <!----> | <!----> | <!----> | <!----> | NA | participant:eid | many_to_one | Participant ID               | <!----> |\n",
       "| data_provider | gp_scripts | data_provider | string | <!----> | data_coding_626 | NA | NA | <!----> | <!----> | <!----> | <!----> | NA | <!----> | <!----> | Data provider                | <!----> |\n",
       "| date          | gp_scripts | issue_date    | date   | <!----> | data_coding_819 | NA | NA | <!----> | <!----> | yes | <!----> | NA | <!----> | <!----> | Date prescription was issued | <!----> |\n",
       "\n"
      ],
      "text/plain": [
       "  item          entity     name          type   primary_key_type\n",
       "1 eid           gp_scripts eid           string                 \n",
       "2 data_provider gp_scripts data_provider string                 \n",
       "3 date          gp_scripts issue_date    date                   \n",
       "  coding_name     concept description folder_path is_multi_select\n",
       "1                 NA      NA                                     \n",
       "2 data_coding_626 NA      NA                                     \n",
       "3 data_coding_819 NA      NA                                     \n",
       "  is_sparse_coding linkout longitudinal_axis_type referenced_entity_field\n",
       "1                          NA                     participant:eid        \n",
       "2                          NA                                            \n",
       "3 yes                      NA                                            \n",
       "  relationship title                        units\n",
       "1 many_to_one  Participant ID                    \n",
       "2              Data provider                     \n",
       "3              Date prescription was issued      "
      ]
     },
     "metadata": {},
     "output_type": "display_data"
    }
   ],
   "source": [
    "gp_medication_codes= list(eid           = list(name=\"eid\",           entity=\"gp_scripts\", search=\"matches\"),\n",
    "                          data_provider = list(name=\"data_provider\", entity=\"gp_scripts\", search=\"matches\"),\n",
    "                          date          = list(name=\"issue_date\",    entity=\"gp_scripts\", search=\"matches\"),\n",
    "                          read_2        = list(name=\"read_2\",        entity=\"gp_scripts\", search=\"matches\"),\n",
    "                          bnf_code      = list(name=\"bnf_code\",      entity=\"gp_scripts\", search=\"matches\"),\n",
    "                          dmd_code      = list(name=\"dmd_code\",      entity=\"gp_scripts\", search=\"matches\"),\n",
    "                          drug_name     = list(name=\"drug_name\",     entity=\"gp_scripts\", search=\"matches\"),\n",
    "                          quantity      = list(name=\"quantity\",      entity=\"gp_scripts\", search=\"matches\"))\n",
    "\n",
    "gp_medication_data_dict = filter_data_dict(data_dict_file, gp_medication_codes)\n",
    "head(gp_medication_data_dict, 3)"
   ]
  },
  {
   "cell_type": "markdown",
   "id": "98871d66-93ef-4404-8ea9-be43f0a4e634",
   "metadata": {},
   "source": [
    "#### Run Table-Exporter extraction"
   ]
  },
  {
   "cell_type": "code",
   "execution_count": 14,
   "id": "c67949c2-9bae-4ef0-abe5-904b2659d402",
   "metadata": {
    "tags": []
   },
   "outputs": [],
   "source": [
    "data_file_paths <- list(\n",
    "    demog = \"/mnt/project/hermes3_data/data_participant.tsv\",\n",
    "    self  = \"/mnt/project/hermes3_data/data_selfreportedillness.tsv\",\n",
    "    smed  = \"/mnt/project/hermes3_data/data_selfreportedmedication.tsv\",\n",
    "    hesin = \"/mnt/project/hermes3_data/data_hesin.tsv\",\n",
    "    diag  = \"/mnt/project/hermes3_data/data_hesin_diag.tsv\",\n",
    "    oper  = \"/mnt/project/hermes3_data/data_hesin_oper.tsv\",\n",
    "    gp    = \"/mnt/project/hermes3_data/data_gp_clinical.tsv\",\n",
    "    med   = \"/mnt/project/hermes3_data/data_gp_medication.tsv\"\n",
    ")\n",
    "\n",
    "if (!file.exists(data_file_paths$demog)) {\n",
    "    extract_data(dataset=dataset, fields=participant_data_dict$name, entity=\"participant\", output = \"data_participant\")\n",
    "}\n",
    "if (!file.exists(data_file_paths$self)) {\n",
    "    extract_data(dataset=dataset, fields=self_rep_data_dict$name,    entity=\"participant\", output = \"data_selfreportedillness\")\n",
    "}\n",
    "if (!file.exists(data_file_paths$smed)) {\n",
    "    extract_data(dataset=dataset, fields=self_med_data_dict$name,    entity=\"participant\", output = \"data_selfreportedmedication\")\n",
    "}\n",
    "if (!file.exists(data_file_paths$hesin)) {\n",
    "    extract_data(dataset=dataset, fields=hes_data_dict$name,         entity=\"hesin\",       output = \"data_hesin\")\n",
    "}\n",
    "if (!file.exists(data_file_paths$diag)) {\n",
    "    extract_data(dataset=dataset, fields=hesdiag_data_dict$name,     entity=\"hesin_diag\",  output = \"data_hesin_diag\")\n",
    "}\n",
    "if (!file.exists(data_file_paths$oper)) {\n",
    "    extract_data(dataset=dataset, fields=hesoper_data_dict$name,     entity=\"hesin_oper\",  output = \"data_hesin_oper\")\n",
    "}\n",
    "if (!file.exists(data_file_paths$gp)) {\n",
    "    extract_data(dataset=dataset, fields=gp_clinical_data_dict$name, entity=\"gp_clinical\", output = \"data_gp_clinical\")\n",
    "}\n",
    "if (!file.exists(data_file_paths$med)) {\n",
    "    extract_data(dataset=dataset, fields=gp_medication_data_dict$name, entity=\"gp_scripts\", output = \"data_gp_medication\")\n",
    "}"
   ]
  },
  {
   "cell_type": "markdown",
   "id": "f9772232-7243-48f7-99ec-0782eb962390",
   "metadata": {},
   "source": [
    "## Read in extracted data"
   ]
  },
  {
   "cell_type": "code",
   "execution_count": null,
   "id": "d9b5c136-87fd-451e-89ea-da43b7599fce",
   "metadata": {
    "tags": []
   },
   "outputs": [],
   "source": [
    "data_files <- list()\n",
    "\n",
    "for (i in seq_along(data_file_paths)) {\n",
    "    if (!file.exists(data_file_paths[[i]])) {\n",
    "        cat(glue(\"Error:\\nFile {basename(data_file_paths[[i]])} not found, \",\n",
    "                 \"check the Monitor tab for the status of the Table-exporter \",\n",
    "                 \"and the 'hermes_data' folder. If this has finished try \",\n",
    "                 \"launching another Notebook session/instance (I'm not sure why \",\n",
    "                 \"the mounted /mnt/project/ file structure doesn't refresh when \",\n",
    "                 \"files are added externally.\"))\n",
    "        stop(\"file not found error\")\n",
    "    }\n",
    "    f <- data_file_paths[[i]]\n",
    "    n <- names(data_file_paths)[i]\n",
    "    cat(glue('...{n}: {f}\\n'), sep=\"\\n\")\n",
    "    flush.console()\n",
    "    data_files[[n]] <- fread(f, quote=\"\")\n",
    "}\n",
    "\n",
    "#lapply(data_files, head, n = 5)"
   ]
  },
  {
   "cell_type": "markdown",
   "id": "7723b218-e199-4faa-a334-0ee50fe71fb5",
   "metadata": {},
   "source": [
    "## Rename columns"
   ]
  },
  {
   "cell_type": "code",
   "execution_count": 16,
   "id": "52f079d6-b7f5-40ec-a0a6-56b4084c4fb1",
   "metadata": {
    "tags": []
   },
   "outputs": [],
   "source": [
    "rename_cols <- function(d, code_struc) {\n",
    "    for (col in names(code_struc)) {\n",
    "        if (code_struc[[col]]$search==\"matches\") {\n",
    "            setnames(d, code_struc[[col]]$name, col)\n",
    "        } else if (code_struc[[col]]$search==\"startswith\") {\n",
    "            regex     <- paste0(\"^\", code_struc[[col]]$name)\n",
    "            matches   <- names(d)[grepl(regex, names(d))]\n",
    "            new_names <- paste0(col, \"_\", 1:length(matches))\n",
    "            setnames(d, matches, new_names)\n",
    "        }\n",
    "    }\n",
    "    return(d)\n",
    "}\n",
    "\n",
    "data_files$demog <- rename_cols(data_files$demog, code_struc=participant_codes)\n",
    "data_files$self  <- rename_cols(data_files$self,  code_struc=self_illness_codes)\n",
    "data_files$smed  <- rename_cols(data_files$smed,  code_struc=self_medication_codes)\n",
    "data_files$hesin <- rename_cols(data_files$hesin, code_struc=hesin_to_extract)\n",
    "data_files$diag  <- rename_cols(data_files$diag,  code_struc=hesdiag_to_extract)\n",
    "data_files$oper  <- rename_cols(data_files$oper,  code_struc=hesproc_to_extract)\n",
    "data_files$gp    <- rename_cols(data_files$gp,    code_struc=gp_clinical_codes)\n",
    "data_files$med   <- rename_cols(data_files$med,   code_struc=gp_medication_codes)\n",
    "\n",
    "#lapply(data_files, head, n = 1)"
   ]
  },
  {
   "cell_type": "markdown",
   "id": "4c1c9d7b-1ebd-477f-b628-18b408b28f85",
   "metadata": {},
   "source": [
    "## Data processing"
   ]
  },
  {
   "cell_type": "code",
   "execution_count": 17,
   "id": "f5eea41f-4a8f-4d09-9d64-ba9a339fc05a",
   "metadata": {
    "tags": []
   },
   "outputs": [
    {
     "data": {
      "text/html": [
       "<table class=\"dataframe\">\n",
       "<caption>A data.table: 6 × 4</caption>\n",
       "<thead>\n",
       "\t<tr><th scope=col>concept</th><th scope=col>code</th><th scope=col>code_type</th><th scope=col>description</th></tr>\n",
       "\t<tr><th scope=col>&lt;chr&gt;</th><th scope=col>&lt;chr&gt;</th><th scope=col>&lt;chr&gt;</th><th scope=col>&lt;chr&gt;</th></tr>\n",
       "</thead>\n",
       "<tbody>\n",
       "\t<tr><td>Heart Failure</td><td>1076           </td><td>ukbb_self_reported_illness</td><td>heart failure/pulmonary odema      </td></tr>\n",
       "\t<tr><td>Heart Failure</td><td>0205052AEAAAAAA</td><td>bnf                       </td><td>Sacubitril/Valsartan_Tab 49mg/51mg </td></tr>\n",
       "\t<tr><td>Heart Failure</td><td>0205052AEAAABAB</td><td>bnf                       </td><td>Sacubitril/Valsartan_Tab 97mg/103mg</td></tr>\n",
       "\t<tr><td>Heart Failure</td><td>0205052AEAAACAC</td><td>bnf                       </td><td>Sacubitril/Valsartan_Tab 24mg/26mg </td></tr>\n",
       "\t<tr><td>Heart Failure</td><td>0205052AEBBAAAA</td><td>bnf                       </td><td>Entresto_Tab 49mg/51mg             </td></tr>\n",
       "\t<tr><td>Heart Failure</td><td>0205052AEBBABAB</td><td>bnf                       </td><td>Entresto_Tab 97mg/103mg            </td></tr>\n",
       "</tbody>\n",
       "</table>\n"
      ],
      "text/latex": [
       "A data.table: 6 × 4\n",
       "\\begin{tabular}{llll}\n",
       " concept & code & code\\_type & description\\\\\n",
       " <chr> & <chr> & <chr> & <chr>\\\\\n",
       "\\hline\n",
       "\t Heart Failure & 1076            & ukbb\\_self\\_reported\\_illness & heart failure/pulmonary odema      \\\\\n",
       "\t Heart Failure & 0205052AEAAAAAA & bnf                        & Sacubitril/Valsartan\\_Tab 49mg/51mg \\\\\n",
       "\t Heart Failure & 0205052AEAAABAB & bnf                        & Sacubitril/Valsartan\\_Tab 97mg/103mg\\\\\n",
       "\t Heart Failure & 0205052AEAAACAC & bnf                        & Sacubitril/Valsartan\\_Tab 24mg/26mg \\\\\n",
       "\t Heart Failure & 0205052AEBBAAAA & bnf                        & Entresto\\_Tab 49mg/51mg             \\\\\n",
       "\t Heart Failure & 0205052AEBBABAB & bnf                        & Entresto\\_Tab 97mg/103mg            \\\\\n",
       "\\end{tabular}\n"
      ],
      "text/markdown": [
       "\n",
       "A data.table: 6 × 4\n",
       "\n",
       "| concept &lt;chr&gt; | code &lt;chr&gt; | code_type &lt;chr&gt; | description &lt;chr&gt; |\n",
       "|---|---|---|---|\n",
       "| Heart Failure | 1076            | ukbb_self_reported_illness | heart failure/pulmonary odema       |\n",
       "| Heart Failure | 0205052AEAAAAAA | bnf                        | Sacubitril/Valsartan_Tab 49mg/51mg  |\n",
       "| Heart Failure | 0205052AEAAABAB | bnf                        | Sacubitril/Valsartan_Tab 97mg/103mg |\n",
       "| Heart Failure | 0205052AEAAACAC | bnf                        | Sacubitril/Valsartan_Tab 24mg/26mg  |\n",
       "| Heart Failure | 0205052AEBBAAAA | bnf                        | Entresto_Tab 49mg/51mg              |\n",
       "| Heart Failure | 0205052AEBBABAB | bnf                        | Entresto_Tab 97mg/103mg             |\n",
       "\n"
      ],
      "text/plain": [
       "  concept       code            code_type                 \n",
       "1 Heart Failure 1076            ukbb_self_reported_illness\n",
       "2 Heart Failure 0205052AEAAAAAA bnf                       \n",
       "3 Heart Failure 0205052AEAAABAB bnf                       \n",
       "4 Heart Failure 0205052AEAAACAC bnf                       \n",
       "5 Heart Failure 0205052AEBBAAAA bnf                       \n",
       "6 Heart Failure 0205052AEBBABAB bnf                       \n",
       "  description                        \n",
       "1 heart failure/pulmonary odema      \n",
       "2 Sacubitril/Valsartan_Tab 49mg/51mg \n",
       "3 Sacubitril/Valsartan_Tab 97mg/103mg\n",
       "4 Sacubitril/Valsartan_Tab 24mg/26mg \n",
       "5 Entresto_Tab 49mg/51mg             \n",
       "6 Entresto_Tab 97mg/103mg            "
      ]
     },
     "metadata": {},
     "output_type": "display_data"
    }
   ],
   "source": [
    "codes <- fread(file.path(\"heRmes\", \"inst\", \"extdata\", \"hermes_furosemide_codes\", \"hermes_furosemide_codes.tsv\"))\n",
    "codes[, code := sub(\"^'(.+?)'$\", \"\\\\1\", code)]\n",
    "head(codes)"
   ]
  },
  {
   "cell_type": "markdown",
   "id": "b4bb4f48-fd46-49c4-b995-8f1e2072a060",
   "metadata": {},
   "source": [
    "### Clean up the cohort data"
   ]
  },
  {
   "cell_type": "code",
   "execution_count": 18,
   "id": "cb6e0baa-566b-4cee-b885-59c5385dc0ab",
   "metadata": {
    "tags": []
   },
   "outputs": [],
   "source": [
    "ethnicity_codes <- list(\n",
    "  white                 = 1,\n",
    "  british               = 1001,\n",
    "  white_black_caribbean = 2001,\n",
    "  indian                = 3001,\n",
    "  caribbean             = 4001,\n",
    "  mixed                 = 2,\n",
    "  irish                 = 1002,\n",
    "  white_black_african   = 2002,\n",
    "  pakistani             = 3002,\n",
    "  african               = 4002,\n",
    "  asian_or_asian_british= 3,\n",
    "  any_other_white       = 1003,\n",
    "  white_asian           = 2003,\n",
    "  bangladeshi           = 3003,\n",
    "  any_other_black       = 4003,\n",
    "  black_or_black_british= 4,\n",
    "  any_other_mixed       = 2004,\n",
    "  any_other_asian       = 3004,\n",
    "  chinese               = 5,\n",
    "  other_ethnic_group    = 6)\n",
    "\n",
    "data_files$demog[, ethnicity := fcoalesce(.SD), .SDcols = names(data_files$demog)[grepl(\"^ethnicity_[0-9]$\", names(data_files$demog))]]\n",
    "\n",
    "data_files$demog <- data_files$demog[, \n",
    "    list(eid               = eid,\n",
    "         reason_lost_fu    = reason_lost_fu,\n",
    "         age               = as.integer(age),\n",
    "         sex               = factor(sex, levels = 0:1, labels = c(\"female\", \"male\")),\n",
    "         ethnicity         = factor(ethnicity, levels = unlist(ethnicity_codes), labels = names(ethnicity_codes)),\n",
    "         ethnicity_group   = factor(sub(\"([0-9])00[0-9]\", \"\\\\1\", ethnicity), levels = unlist(ethnicity_codes), labels = names(ethnicity_codes)),\n",
    "         genetic_sex       = factor(genetic_sex, levels = 0:1, labels = c(\"female\", \"male\")),\n",
    "         genetic_ethnicity = factor(genetic_ethnicity, levels = 1, labels = c(\"caucasian\")), \n",
    "         pc1               = pc1,\n",
    "         pc2               = pc2,\n",
    "         pc3               = pc3,\n",
    "         pc4               = pc4,\n",
    "         pc5               = pc5)]\n",
    "\n",
    "# check\n",
    "stopifnot(\"Failed to parse some date of births\" = all(!is.na(data_files$demog$dob)))\n",
    "stopifnot(\"some ages / dob indicate cohort age <37, is this right?\" = all(data_files$demog$dob <= as.Date(\"1972-01-01\")))"
   ]
  },
  {
   "cell_type": "markdown",
   "id": "11c71fbf-d9bc-4792-911f-f03a4c8df24b",
   "metadata": {},
   "source": [
    "### Self-report illness codes to long"
   ]
  },
  {
   "cell_type": "code",
   "execution_count": 19,
   "id": "185abb58-aab7-4a2f-84f8-1b07ccbffb4b",
   "metadata": {
    "tags": []
   },
   "outputs": [],
   "source": [
    "self_rep_code_cols <- grep(\"self_rep_ill_[0-9]+\",      names(data_files$self), value = TRUE)\n",
    "self_rep_year_cols <- grep(\"self_rep_ill_year_[0-9]+\", names(data_files$self), value = TRUE)\n",
    "data_files$self[, (self_rep_code_cols) := lapply(.SD, as.character), .SDcols = self_rep_code_cols]\n",
    "data_files$self[, (self_rep_year_cols) := lapply(.SD, as.numeric),   .SDcols = self_rep_year_cols]\n",
    "data_files$self_illness <- data.table::melt(data_files$self,\n",
    "                                            id.vars = \"eid\",\n",
    "                                            measure = patterns(\"self_rep_ill_[0-9]+\", \"self_rep_ill_year_[0-9]+\"),\n",
    "                                            variable.name = \"element\",\n",
    "                                            value.name = c(\"code\", \"year\"),\n",
    "                                            na.rm = TRUE)\n",
    "data_files$self_illness <- data_files$self_illness[year != -1 & year != -3] # unknown / prefer not to answer\n",
    "data_files$self_illness[, `:=`(date      = lubridate::ymd(paste0(as.character(floor(year)), \"-01-01\")) + lubridate::days(as.integer(365.25 * (year - floor(year)))),\n",
    "                               year      = NULL,\n",
    "                               element   = NULL,\n",
    "                               code      = as.character(code),\n",
    "                               code_type = \"ukbb_self_reported_illness\")]\n",
    "\n",
    "# check self report illness table\n",
    "stopifnot(\"unable to parse dates for self-reported illness codes\" = all(!is.na(data_files$self_illness$date)))\n",
    "stopifnot(\"are you sure something happened before 1900?\" = all(data_files$self_illness$date > as.Date(\"1900-01-01\")))"
   ]
  },
  {
   "cell_type": "markdown",
   "id": "7d47bbfb-296b-4742-a436-589e38786fd8",
   "metadata": {},
   "source": [
    "### Self-report medication codes to long"
   ]
  },
  {
   "cell_type": "code",
   "execution_count": 29,
   "id": "3e816036-5c81-4ade-8730-b82a4e9664fa",
   "metadata": {
    "tags": []
   },
   "outputs": [],
   "source": [
    "self_med_code_cols <- grep(\"self_rep_med_[0-9]+\", names(data_files$smed), value = TRUE)\n",
    "data_files$smed[, (self_med_code_cols) := lapply(.SD, as.character), .SDcols = self_med_code_cols]\n",
    "\n",
    "data_files$smed <- data.table::melt(data_files$smed,\n",
    "                                    id.vars = \"eid\",\n",
    "                                    measure = patterns(\"self_rep_med_[0-9]+\"),\n",
    "                                            variable.name = \"element\",\n",
    "                                            value.name = c(\"code\"),\n",
    "                                            na.rm = TRUE)\n",
    "data_files$smed[, `:=`(date      = as.Date(NA_real_),\n",
    "                       element   = NULL,\n",
    "                       code      = as.character(code),\n",
    "                       code_type = \"ukbb_self_reported_medication\")]"
   ]
  },
  {
   "cell_type": "markdown",
   "id": "3c991e4f-c5d3-47c4-8e70-c1819cfd4cc2",
   "metadata": {},
   "source": [
    "### Inpatient diagnosis codes"
   ]
  },
  {
   "cell_type": "code",
   "execution_count": 22,
   "id": "872f8578-5090-4854-af5c-be5d9ae2f880",
   "metadata": {
    "tags": []
   },
   "outputs": [],
   "source": [
    "data_files$hesin[is.na(epistart) | epistart == \"\", epistart := admidate]\n",
    "data_files$diag[data_files$hesin, date := as.Date(i.epistart), on = c(\"eid\", \"ins_index\")]\n",
    "data_files$diag[diag_icd9 == \"\", diag_icd9 := NA_character_]\n",
    "data_files$diag[diag_icd10 == \"\", diag_icd10 := NA_character_]\n",
    "data_files$diag <- data.table::melt(data_files$diag,\n",
    "                                    id.vars = c(\"eid\", \"date\"),\n",
    "                                    measure.vars  = c(\"diag_icd9\", \"diag_icd10\"),\n",
    "                                    variable.name = \"code_type\",\n",
    "                                    value.name = \"code\",\n",
    "                                    na.rm = TRUE)\n",
    "data_files$diag[, code_type := data.table::fcase(code_type == \"diag_icd9\", \"icd9\",\n",
    "                                                 code_type == \"diag_icd10\", \"icd10\")]"
   ]
  },
  {
   "cell_type": "markdown",
   "id": "d94f3243-36f5-462c-add5-45778b7bd2cc",
   "metadata": {},
   "source": [
    "### GP activity data"
   ]
  },
  {
   "cell_type": "code",
   "execution_count": 23,
   "id": "34987cf1-2ae1-42df-9eb4-6ec0cf8cb099",
   "metadata": {
    "tags": []
   },
   "outputs": [],
   "source": [
    "data_files$gp[read_2 == \"\", read_2 := NA_character_]\n",
    "data_files$gp[read_3 == \"\", read_3 := NA_character_]\n",
    "data_files$gp <- data.table::melt(data_files$gp,\n",
    "                                  id.vars = c(\"eid\", \"date\"),\n",
    "                                  measure.vars  = c(\"read_2\", \"read_3\"),\n",
    "                                  variable.name = \"code_type\",\n",
    "                                  value.name = \"code\",\n",
    "                                  na.rm = TRUE)\n",
    "data_files$gp[, code_type := data.table::fcase(code_type == \"read_2\", \"read2\",\n",
    "                                               code_type == \"read_3\", \"read3\")]"
   ]
  },
  {
   "cell_type": "markdown",
   "id": "8739d805-7178-4af7-8271-7e083522eb72",
   "metadata": {},
   "source": [
    "### GP medication data"
   ]
  },
  {
   "cell_type": "code",
   "execution_count": 24,
   "id": "97667f0c-e722-4156-ad8b-a87c7549b0b5",
   "metadata": {
    "tags": []
   },
   "outputs": [],
   "source": [
    "data_files$med[read_2 == \"\", read_2 := NA_character_]\n",
    "data_files$med[bnf_code == \"\", bnf_code := NA_character_]\n",
    "data_files$med[, dmd_code := as.character(dmd_code)]\n",
    "data_files$med <- data.table::melt(data_files$med,\n",
    "                                   id.vars = c(\"eid\", \"date\"),\n",
    "                                   measure.vars  = c(\"read_2\", \"bnf_code\", \"dmd_code\"),\n",
    "                                   variable.name = \"code_type\",\n",
    "                                   value.name = \"code\",\n",
    "                                   na.rm = TRUE)\n",
    "data_files$med[, code_type := data.table::fcase(code_type == \"read_2\",   \"read_med\",\n",
    "                                                code_type == \"bnf_code\", \"bnf\",\n",
    "                                                code_type == \"dmd_code\", \"dmd\")]"
   ]
  },
  {
   "cell_type": "markdown",
   "id": "2db6567b-c7d4-4ffc-9875-dd0c26204b91",
   "metadata": {},
   "source": [
    "### Combine all codes\n",
    "Keep only unique codes per individuals at the code's first occurance."
   ]
  },
  {
   "cell_type": "code",
   "execution_count": 30,
   "id": "4d061c86-4c48-41fb-a9e4-e5a6494a63db",
   "metadata": {
    "tags": []
   },
   "outputs": [],
   "source": [
    "combined <- rbind(data_files$self_illness, data_files$smed, data_files$diag, data_files$gp, data_files$med)\n",
    "combined <- codes[combined, on = c(\"code\" = \"code\", \"code_type\" = \"code_type\"), allow.cartesian = TRUE]\n",
    "combined <- combined[!is.na(concept)]\n",
    "combined[, concept := tolower(gsub(\" \",\"_\",concept))]\n",
    "#combined <- combined[combined[, .I[which.min(date)], by = c(\"eid\", \"concept\", \"code_type\")]$V1]\n",
    "#print(combined)"
   ]
  },
  {
   "cell_type": "markdown",
   "id": "83581bce-5358-4736-b28b-5008d00ad6bc",
   "metadata": {},
   "source": [
    "### Annotate individuals with code:code_type counts"
   ]
  },
  {
   "cell_type": "code",
   "execution_count": 64,
   "id": "a1a42dfa-a671-4a0c-9f50-e2cd169b179e",
   "metadata": {
    "tags": []
   },
   "outputs": [],
   "source": [
    "d <- dcast(combined, eid ~ concept + code_type, value.var = \"code\",  \n",
    "           fun.aggregate = function(x) paste(x, collapse = \";\"))\n",
    "d[, heart_failure := ifelse(apply(.SD, 1, function(x) any(x != \"\" & !is.na(x))), \"1\", \"\"), .SDcols = names(d)[grepl(\"^heart_failure\", names(d))]]\n",
    "d[, loop_diuretic := ifelse(apply(.SD, 1, function(x) any(x != \"\" & !is.na(x))), \"1\", \"\"), .SDcols = names(d)[grepl(\"^loop_diuretic\", names(d))]]"
   ]
  },
  {
   "cell_type": "markdown",
   "id": "c8e67266-af70-4dc3-bf6b-f0569b98bfdf",
   "metadata": {},
   "source": [
    "### Combine with full cohort"
   ]
  },
  {
   "cell_type": "code",
   "execution_count": 66,
   "id": "07244b40-fdef-45b0-b572-e499f7166b08",
   "metadata": {
    "tags": []
   },
   "outputs": [
    {
     "data": {
      "text/html": [
       "<table class=\"dataframe\">\n",
       "<caption>A data.table: 6 × 25</caption>\n",
       "<thead>\n",
       "\t<tr><th scope=col>eid</th><th scope=col>age</th><th scope=col>sex</th><th scope=col>ethnicity</th><th scope=col>ethnicity_group</th><th scope=col>genetic_sex</th><th scope=col>genetic_ethnicity</th><th scope=col>pc1</th><th scope=col>pc2</th><th scope=col>pc3</th><th scope=col>⋯</th><th scope=col>heart_failure_read2</th><th scope=col>heart_failure_read3</th><th scope=col>heart_failure_read_med</th><th scope=col>heart_failure_ukbb_self_reported_illness</th><th scope=col>loop_diuretic_bnf</th><th scope=col>loop_diuretic_dmd</th><th scope=col>loop_diuretic_read_med</th><th scope=col>loop_diuretic_ukbb_self_reported_medication</th><th scope=col>heart_failure</th><th scope=col>loop_diuretic</th></tr>\n",
       "\t<tr><th scope=col>&lt;int&gt;</th><th scope=col>&lt;int&gt;</th><th scope=col>&lt;fct&gt;</th><th scope=col>&lt;fct&gt;</th><th scope=col>&lt;fct&gt;</th><th scope=col>&lt;fct&gt;</th><th scope=col>&lt;fct&gt;</th><th scope=col>&lt;dbl&gt;</th><th scope=col>&lt;dbl&gt;</th><th scope=col>&lt;dbl&gt;</th><th scope=col>⋯</th><th scope=col>&lt;chr&gt;</th><th scope=col>&lt;chr&gt;</th><th scope=col>&lt;chr&gt;</th><th scope=col>&lt;chr&gt;</th><th scope=col>&lt;chr&gt;</th><th scope=col>&lt;chr&gt;</th><th scope=col>&lt;chr&gt;</th><th scope=col>&lt;chr&gt;</th><th scope=col>&lt;chr&gt;</th><th scope=col>&lt;chr&gt;</th></tr>\n",
       "</thead>\n",
       "<tbody>\n",
       "\t<tr><td>1062757</td><td>62</td><td>female</td><td>british</td><td>white</td><td>female</td><td>caucasian</td><td>-12.6693</td><td>4.30928</td><td>-2.234380</td><td>⋯</td><td></td><td></td><td></td><td></td><td>             </td><td></td><td></td><td></td><td></td><td> </td></tr>\n",
       "\t<tr><td>2217356</td><td>57</td><td>male  </td><td>british</td><td>white</td><td>NA    </td><td>NA       </td><td>      NA</td><td>     NA</td><td>       NA</td><td>⋯</td><td></td><td></td><td></td><td></td><td>             </td><td></td><td></td><td></td><td></td><td> </td></tr>\n",
       "\t<tr><td>3712401</td><td>56</td><td>male  </td><td>british</td><td>white</td><td>male  </td><td>caucasian</td><td>-13.7558</td><td>5.64773</td><td>-3.581870</td><td>⋯</td><td></td><td></td><td></td><td></td><td>             </td><td></td><td></td><td></td><td></td><td> </td></tr>\n",
       "\t<tr><td>1011090</td><td>49</td><td>female</td><td>british</td><td>white</td><td>female</td><td>caucasian</td><td>-12.3794</td><td>2.03865</td><td>-0.837131</td><td>⋯</td><td></td><td></td><td></td><td></td><td>             </td><td></td><td></td><td></td><td></td><td> </td></tr>\n",
       "\t<tr><td>2874739</td><td>59</td><td>female</td><td>british</td><td>white</td><td>female</td><td>caucasian</td><td>-12.6667</td><td>4.18819</td><td>-1.969960</td><td>⋯</td><td></td><td></td><td></td><td></td><td>             </td><td></td><td></td><td></td><td></td><td> </td></tr>\n",
       "\t<tr><td>1189855</td><td>54</td><td>female</td><td>british</td><td>white</td><td>female</td><td>caucasian</td><td>-13.3813</td><td>3.63312</td><td>-3.341360</td><td>⋯</td><td></td><td></td><td></td><td></td><td>020202;020202</td><td></td><td></td><td></td><td></td><td>1</td></tr>\n",
       "</tbody>\n",
       "</table>\n"
      ],
      "text/latex": [
       "A data.table: 6 × 25\n",
       "\\begin{tabular}{lllllllllllllllllllll}\n",
       " eid & age & sex & ethnicity & ethnicity\\_group & genetic\\_sex & genetic\\_ethnicity & pc1 & pc2 & pc3 & ⋯ & heart\\_failure\\_read2 & heart\\_failure\\_read3 & heart\\_failure\\_read\\_med & heart\\_failure\\_ukbb\\_self\\_reported\\_illness & loop\\_diuretic\\_bnf & loop\\_diuretic\\_dmd & loop\\_diuretic\\_read\\_med & loop\\_diuretic\\_ukbb\\_self\\_reported\\_medication & heart\\_failure & loop\\_diuretic\\\\\n",
       " <int> & <int> & <fct> & <fct> & <fct> & <fct> & <fct> & <dbl> & <dbl> & <dbl> & ⋯ & <chr> & <chr> & <chr> & <chr> & <chr> & <chr> & <chr> & <chr> & <chr> & <chr>\\\\\n",
       "\\hline\n",
       "\t 1062757 & 62 & female & british & white & female & caucasian & -12.6693 & 4.30928 & -2.234380 & ⋯ &  &  &  &  &               &  &  &  &  &  \\\\\n",
       "\t 2217356 & 57 & male   & british & white & NA     & NA        &       NA &      NA &        NA & ⋯ &  &  &  &  &               &  &  &  &  &  \\\\\n",
       "\t 3712401 & 56 & male   & british & white & male   & caucasian & -13.7558 & 5.64773 & -3.581870 & ⋯ &  &  &  &  &               &  &  &  &  &  \\\\\n",
       "\t 1011090 & 49 & female & british & white & female & caucasian & -12.3794 & 2.03865 & -0.837131 & ⋯ &  &  &  &  &               &  &  &  &  &  \\\\\n",
       "\t 2874739 & 59 & female & british & white & female & caucasian & -12.6667 & 4.18819 & -1.969960 & ⋯ &  &  &  &  &               &  &  &  &  &  \\\\\n",
       "\t 1189855 & 54 & female & british & white & female & caucasian & -13.3813 & 3.63312 & -3.341360 & ⋯ &  &  &  &  & 020202;020202 &  &  &  &  & 1\\\\\n",
       "\\end{tabular}\n"
      ],
      "text/markdown": [
       "\n",
       "A data.table: 6 × 25\n",
       "\n",
       "| eid &lt;int&gt; | age &lt;int&gt; | sex &lt;fct&gt; | ethnicity &lt;fct&gt; | ethnicity_group &lt;fct&gt; | genetic_sex &lt;fct&gt; | genetic_ethnicity &lt;fct&gt; | pc1 &lt;dbl&gt; | pc2 &lt;dbl&gt; | pc3 &lt;dbl&gt; | ⋯ ⋯ | heart_failure_read2 &lt;chr&gt; | heart_failure_read3 &lt;chr&gt; | heart_failure_read_med &lt;chr&gt; | heart_failure_ukbb_self_reported_illness &lt;chr&gt; | loop_diuretic_bnf &lt;chr&gt; | loop_diuretic_dmd &lt;chr&gt; | loop_diuretic_read_med &lt;chr&gt; | loop_diuretic_ukbb_self_reported_medication &lt;chr&gt; | heart_failure &lt;chr&gt; | loop_diuretic &lt;chr&gt; |\n",
       "|---|---|---|---|---|---|---|---|---|---|---|---|---|---|---|---|---|---|---|---|---|\n",
       "| 1062757 | 62 | female | british | white | female | caucasian | -12.6693 | 4.30928 | -2.234380 | ⋯ | <!----> | <!----> | <!----> | <!----> | <!----> | <!----> | <!----> | <!----> | <!----> | <!----> |\n",
       "| 2217356 | 57 | male   | british | white | NA     | NA        |       NA |      NA |        NA | ⋯ | <!----> | <!----> | <!----> | <!----> | <!----> | <!----> | <!----> | <!----> | <!----> | <!----> |\n",
       "| 3712401 | 56 | male   | british | white | male   | caucasian | -13.7558 | 5.64773 | -3.581870 | ⋯ | <!----> | <!----> | <!----> | <!----> | <!----> | <!----> | <!----> | <!----> | <!----> | <!----> |\n",
       "| 1011090 | 49 | female | british | white | female | caucasian | -12.3794 | 2.03865 | -0.837131 | ⋯ | <!----> | <!----> | <!----> | <!----> | <!----> | <!----> | <!----> | <!----> | <!----> | <!----> |\n",
       "| 2874739 | 59 | female | british | white | female | caucasian | -12.6667 | 4.18819 | -1.969960 | ⋯ | <!----> | <!----> | <!----> | <!----> | <!----> | <!----> | <!----> | <!----> | <!----> | <!----> |\n",
       "| 1189855 | 54 | female | british | white | female | caucasian | -13.3813 | 3.63312 | -3.341360 | ⋯ | <!----> | <!----> | <!----> | <!----> | 020202;020202 | <!----> | <!----> | <!----> | <!----> | 1 |\n",
       "\n"
      ],
      "text/plain": [
       "  eid     age sex    ethnicity ethnicity_group genetic_sex genetic_ethnicity\n",
       "1 1062757 62  female british   white           female      caucasian        \n",
       "2 2217356 57  male   british   white           NA          NA               \n",
       "3 3712401 56  male   british   white           male        caucasian        \n",
       "4 1011090 49  female british   white           female      caucasian        \n",
       "5 2874739 59  female british   white           female      caucasian        \n",
       "6 1189855 54  female british   white           female      caucasian        \n",
       "  pc1      pc2     pc3       ⋯ heart_failure_read2 heart_failure_read3\n",
       "1 -12.6693 4.30928 -2.234380 ⋯                                        \n",
       "2       NA      NA        NA ⋯                                        \n",
       "3 -13.7558 5.64773 -3.581870 ⋯                                        \n",
       "4 -12.3794 2.03865 -0.837131 ⋯                                        \n",
       "5 -12.6667 4.18819 -1.969960 ⋯                                        \n",
       "6 -13.3813 3.63312 -3.341360 ⋯                                        \n",
       "  heart_failure_read_med heart_failure_ukbb_self_reported_illness\n",
       "1                                                                \n",
       "2                                                                \n",
       "3                                                                \n",
       "4                                                                \n",
       "5                                                                \n",
       "6                                                                \n",
       "  loop_diuretic_bnf loop_diuretic_dmd loop_diuretic_read_med\n",
       "1                                                           \n",
       "2                                                           \n",
       "3                                                           \n",
       "4                                                           \n",
       "5                                                           \n",
       "6 020202;020202                                             \n",
       "  loop_diuretic_ukbb_self_reported_medication heart_failure loop_diuretic\n",
       "1                                                                        \n",
       "2                                                                        \n",
       "3                                                                        \n",
       "4                                                                        \n",
       "5                                                                        \n",
       "6                                                           1            "
      ]
     },
     "metadata": {},
     "output_type": "display_data"
    },
    {
     "data": {
      "text/html": [
       "<table class=\"dataframe\">\n",
       "<caption>A data.table: 17 × 2</caption>\n",
       "<thead>\n",
       "\t<tr><th scope=col>name</th><th scope=col>N</th></tr>\n",
       "\t<tr><th scope=col>&lt;chr&gt;</th><th scope=col>&lt;int&gt;</th></tr>\n",
       "</thead>\n",
       "<tbody>\n",
       "\t<tr><td>total                                      </td><td>502134</td></tr>\n",
       "\t<tr><td>heart_failure_bnf                          </td><td>  1573</td></tr>\n",
       "\t<tr><td>heart_failure_icd10                        </td><td> 20147</td></tr>\n",
       "\t<tr><td>heart_failure_icd9                         </td><td>    20</td></tr>\n",
       "\t<tr><td>heart_failure_read2                        </td><td>  1014</td></tr>\n",
       "\t<tr><td>heart_failure_read3                        </td><td>  1563</td></tr>\n",
       "\t<tr><td>heart_failure_read_med                     </td><td>     1</td></tr>\n",
       "\t<tr><td>heart_failure_ukbb_self_reported_illness   </td><td>   398</td></tr>\n",
       "\t<tr><td>loop_diuretic_bnf                          </td><td> 13895</td></tr>\n",
       "\t<tr><td>loop_diuretic_dmd                          </td><td>  3708</td></tr>\n",
       "\t<tr><td>loop_diuretic_read_med                     </td><td>  3756</td></tr>\n",
       "\t<tr><td>loop_diuretic_ukbb_self_reported_medication</td><td>  4535</td></tr>\n",
       "\t<tr><td>heart_failure                              </td><td> 22435</td></tr>\n",
       "\t<tr><td>loop_diuretic                              </td><td> 22002</td></tr>\n",
       "\t<tr><td>any_gp                                     </td><td>229950</td></tr>\n",
       "\t<tr><td>any_gp_med                                 </td><td>221968</td></tr>\n",
       "\t<tr><td>any_hes                                    </td><td>448884</td></tr>\n",
       "</tbody>\n",
       "</table>\n"
      ],
      "text/latex": [
       "A data.table: 17 × 2\n",
       "\\begin{tabular}{ll}\n",
       " name & N\\\\\n",
       " <chr> & <int>\\\\\n",
       "\\hline\n",
       "\t total                                       & 502134\\\\\n",
       "\t heart\\_failure\\_bnf                           &   1573\\\\\n",
       "\t heart\\_failure\\_icd10                         &  20147\\\\\n",
       "\t heart\\_failure\\_icd9                          &     20\\\\\n",
       "\t heart\\_failure\\_read2                         &   1014\\\\\n",
       "\t heart\\_failure\\_read3                         &   1563\\\\\n",
       "\t heart\\_failure\\_read\\_med                      &      1\\\\\n",
       "\t heart\\_failure\\_ukbb\\_self\\_reported\\_illness    &    398\\\\\n",
       "\t loop\\_diuretic\\_bnf                           &  13895\\\\\n",
       "\t loop\\_diuretic\\_dmd                           &   3708\\\\\n",
       "\t loop\\_diuretic\\_read\\_med                      &   3756\\\\\n",
       "\t loop\\_diuretic\\_ukbb\\_self\\_reported\\_medication &   4535\\\\\n",
       "\t heart\\_failure                               &  22435\\\\\n",
       "\t loop\\_diuretic                               &  22002\\\\\n",
       "\t any\\_gp                                      & 229950\\\\\n",
       "\t any\\_gp\\_med                                  & 221968\\\\\n",
       "\t any\\_hes                                     & 448884\\\\\n",
       "\\end{tabular}\n"
      ],
      "text/markdown": [
       "\n",
       "A data.table: 17 × 2\n",
       "\n",
       "| name &lt;chr&gt; | N &lt;int&gt; |\n",
       "|---|---|\n",
       "| total                                       | 502134 |\n",
       "| heart_failure_bnf                           |   1573 |\n",
       "| heart_failure_icd10                         |  20147 |\n",
       "| heart_failure_icd9                          |     20 |\n",
       "| heart_failure_read2                         |   1014 |\n",
       "| heart_failure_read3                         |   1563 |\n",
       "| heart_failure_read_med                      |      1 |\n",
       "| heart_failure_ukbb_self_reported_illness    |    398 |\n",
       "| loop_diuretic_bnf                           |  13895 |\n",
       "| loop_diuretic_dmd                           |   3708 |\n",
       "| loop_diuretic_read_med                      |   3756 |\n",
       "| loop_diuretic_ukbb_self_reported_medication |   4535 |\n",
       "| heart_failure                               |  22435 |\n",
       "| loop_diuretic                               |  22002 |\n",
       "| any_gp                                      | 229950 |\n",
       "| any_gp_med                                  | 221968 |\n",
       "| any_hes                                     | 448884 |\n",
       "\n"
      ],
      "text/plain": [
       "   name                                        N     \n",
       "1  total                                       502134\n",
       "2  heart_failure_bnf                             1573\n",
       "3  heart_failure_icd10                          20147\n",
       "4  heart_failure_icd9                              20\n",
       "5  heart_failure_read2                           1014\n",
       "6  heart_failure_read3                           1563\n",
       "7  heart_failure_read_med                           1\n",
       "8  heart_failure_ukbb_self_reported_illness       398\n",
       "9  loop_diuretic_bnf                            13895\n",
       "10 loop_diuretic_dmd                             3708\n",
       "11 loop_diuretic_read_med                        3756\n",
       "12 loop_diuretic_ukbb_self_reported_medication   4535\n",
       "13 heart_failure                                22435\n",
       "14 loop_diuretic                                22002\n",
       "15 any_gp                                      229950\n",
       "16 any_gp_med                                  221968\n",
       "17 any_hes                                     448884"
      ]
     },
     "metadata": {},
     "output_type": "display_data"
    }
   ],
   "source": [
    "base_cols <- c(\"eid\", \"age\", \"sex\", \"ethnicity\", \"ethnicity_group\",\"genetic_sex\", \"genetic_ethnicity\", paste0(\"pc\",1:5))\n",
    "measure_cols <- names(d)[names(d) != \"eid\"]\n",
    "cohort <- d[data_files$demog[,mget(base_cols)], on=\"eid\"]\n",
    "#head(cohort)\n",
    "cohort[, (measure_cols) := lapply(.SD, function(x) fifelse(is.na(x),\"\",x)), .SDcols=measure_cols]\n",
    "setcolorder(cohort, base_cols)\n",
    "head(cohort)\n",
    "                                  \n",
    "cohort[data_files$gp[,\"eid\"], any_gp := \"1\", on=\"eid\"][is.na(any_gp), any_gp := \"\"]\n",
    "cohort[data_files$med[,\"eid\"], any_gp_med := \"1\", on=\"eid\"][is.na(any_gp_med), any_gp_med := \"\"]\n",
    "cohort[data_files$diag[,\"eid\"], any_hes := \"1\", on=\"eid\"][is.na(any_hes), any_hes := \"\"]\n",
    "\n",
    "measure_cols <- names(cohort)[!names(cohort) %in% base_cols]\n",
    "summary <- data.table (name = c(\"total\", measure_cols), N = c(nrow(cohort), cohort[, .(sapply(.SD, function(x) sum(!is.na(x) & x!=\"\"))), .SDcols = measure_cols]$V1))\n",
    "head(summary,100)                                                          \n",
    "\n",
    "fwrite(summary,\n",
    "       file = \"hermes_furosemide_phenotype_summary.tsv\",\n",
    "       sep  = \"\\t\")\n",
    "                                                                                              \n",
    "# write out\n",
    "fwrite(cohort,\n",
    "       file = \"hermes_furosemide_phenotypes.tsv.gz\",\n",
    "       sep  = \"\\t\")"
   ]
  },
  {
   "cell_type": "code",
   "execution_count": null,
   "id": "4afcfc57-48be-4228-8502-b2ea8d58a458",
   "metadata": {},
   "outputs": [],
   "source": [
    "### Copy output to project"
   ]
  },
  {
   "cell_type": "code",
   "execution_count": null,
   "id": "46b87ab2-d82a-4043-b7ff-ca971a5583ec",
   "metadata": {},
   "outputs": [],
   "source": [
    "o <- system(\"dx upload hermes_furosemide_phenotype_summary.tsv hermes_furosemide_phenotypes.tsv.gz --destination hermes_furosemide_data\", intern = TRUE)\n",
    "cat(o, sep = \"\\n\")"
   ]
  }
 ],
 "metadata": {
  "kernelspec": {
   "display_name": "R",
   "language": "R",
   "name": "ir"
  },
  "language_info": {
   "codemirror_mode": "r",
   "file_extension": ".r",
   "mimetype": "text/x-r-source",
   "name": "R",
   "pygments_lexer": "r",
   "version": "4.4.0"
  }
 },
 "nbformat": 4,
 "nbformat_minor": 5
}
