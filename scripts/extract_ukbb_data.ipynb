{
 "cells": [
  {
   "cell_type": "markdown",
   "id": "253614e0-ef79-4cff-abeb-9c7cec202dfe",
   "metadata": {},
   "source": [
    "## HERMES - furosemide phenotype"
   ]
  },
  {
   "cell_type": "markdown",
   "id": "1a2c0ff6-0886-449e-af31-3044b98588bf",
   "metadata": {},
   "source": [
    "#### Clone HeRmes repository"
   ]
  },
  {
   "cell_type": "code",
   "execution_count": null,
   "id": "fce7e00b-cb51-40d1-977d-16026831d2f0",
   "metadata": {
    "tags": []
   },
   "outputs": [],
   "source": [
    "#system(\"git clone https://github.com/nicksunderland/heRmes.git\")"
   ]
  },
  {
   "cell_type": "markdown",
   "id": "8a01c3b1-910b-405d-aa4a-8fdb18dda816",
   "metadata": {},
   "source": [
    "#### Pushing changes to Github"
   ]
  },
  {
   "cell_type": "code",
   "execution_count": null,
   "id": "4fa66f5d-c128-45fb-88f4-255436e20299",
   "metadata": {
    "tags": []
   },
   "outputs": [],
   "source": [
    "# in ther terminal run\n",
    "# cd /opt/notebooks\n",
    "# dx download git_push.sh\n",
    "# run bash git_push.sh "
   ]
  },
  {
   "cell_type": "markdown",
   "id": "221c70a8-b701-4482-a6d1-a2c00f877a5d",
   "metadata": {},
   "source": [
    "#### Project & record ID"
   ]
  },
  {
   "cell_type": "code",
   "execution_count": null,
   "id": "a5958289-b652-4c12-8a11-0f4683a6da8f",
   "metadata": {
    "tags": []
   },
   "outputs": [],
   "source": [
    "projectid <- \"project-GvZyZ20J81vgPJGbJy8pgpyq\"\n",
    "recordid  <- \"record-Gvb0Bg0Jfxfv0q8Fb2pXqKjg\""
   ]
  },
  {
   "cell_type": "markdown",
   "id": "092c42b4-2cee-4b1c-93f2-b51b73e697fa",
   "metadata": {
    "tags": []
   },
   "source": [
    "#### Libraries"
   ]
  },
  {
   "cell_type": "code",
   "execution_count": null,
   "id": "faddfa1e-4e3b-415d-bf27-b52c4334df49",
   "metadata": {
    "tags": []
   },
   "outputs": [],
   "source": [
    "library(glue)\n",
    "library(data.table)\n",
    "library(yaml)\n",
    "source(\"/opt/notebooks/heRmes/R/ukbb_extraction_utils.R\")"
   ]
  },
  {
   "cell_type": "markdown",
   "id": "e519ed12-f0ed-4ca8-b16d-27eb53a787be",
   "metadata": {},
   "source": [
    "## Extract data\n",
    "Given the large datasets we make use of the `dx run table-exporter` to extract the required phenotype data. The extraction function below will create a table-exportor job which you will be able to track in the 'Monitor' table on your RAP's homepage. The data will be extracted to your project into a folder called `hermes3_data`. The data is not immediately uploaded to this session, although we will import it later. \n",
    "\n",
    "To get the small data dictionaries locally in this session we use the `dx extract_dataset` function. "
   ]
  },
  {
   "cell_type": "markdown",
   "id": "82469460-c77b-45e2-a07e-59e21906c8ae",
   "metadata": {},
   "source": [
    "#### Download data dictionary"
   ]
  },
  {
   "cell_type": "code",
   "execution_count": null,
   "id": "1f59a396-ecfd-499d-8fd2-12c5d863e8cf",
   "metadata": {
    "tags": []
   },
   "outputs": [],
   "source": [
    "setwd(\"/opt/notebooks\")\n",
    "dataset <- glue(\"{projectid}:{recordid}\")\n",
    "cmd <- glue(\"dx extract_dataset {dataset} -ddd\")\n",
    "system(cmd)\n",
    "dict_files <- list.files(pattern=\"codings|data_dictionary|entity_dictionary\")\n",
    "data_dict_file <- dict_files[grepl(\"data_dictionary\", dict_files)]"
   ]
  },
  {
   "cell_type": "markdown",
   "id": "ce1455d7-7c73-4ec6-8dad-f60bcdb593c4",
   "metadata": {},
   "source": [
    "#### Read the extraction config file"
   ]
  },
  {
   "cell_type": "code",
   "execution_count": null,
   "id": "98e3732a-60a8-476b-bb37-6a85fd020ba6",
   "metadata": {
    "tags": []
   },
   "outputs": [],
   "source": [
    "config <- read_yaml(\"/opt/notebooks/heRmes/scripts/ukbb_extraction_config.yml\")\n",
    "\n",
    "extraction_template <- lapply(config, function(table) filter_ukbb_data_dict(data_dict_file, table$entity, table$columns))\n",
    "                       \n",
    "lapply(extraction_template, head, 3)               "
   ]
  },
  {
   "cell_type": "markdown",
   "id": "98871d66-93ef-4404-8ea9-be43f0a4e634",
   "metadata": {},
   "source": [
    "#### Run Table-Exporter extraction\n",
    "Check the monitor tab in the project for completion of the file extraction jobs"
   ]
  },
  {
   "cell_type": "code",
   "execution_count": null,
   "id": "c67949c2-9bae-4ef0-abe5-904b2659d402",
   "metadata": {
    "tags": []
   },
   "outputs": [],
   "source": [
    "for (table in names(config)) {\n",
    "    \n",
    "    filepath <- file.path(\"/mnt/project\", config[[table]][[\"output\"]]) \n",
    "    if (!file.exists(filepath)) {\n",
    "        extract_ukbb_data(dataset = dataset, \n",
    "                          fields  = extraction_template[[table]][[\"name\"]],\n",
    "                          entity  = config[[table]][[\"entity\"]],\n",
    "                          output  = config[[table]][[\"output\"]])\n",
    "    } else {\n",
    "        cat(\"File:\", filepath, \"- exists\\n\")\n",
    "    }\n",
    "    \n",
    "}"
   ]
  }
 ],
 "metadata": {
  "kernelspec": {
   "display_name": "R",
   "language": "R",
   "name": "ir"
  },
  "language_info": {
   "codemirror_mode": "r",
   "file_extension": ".r",
   "mimetype": "text/x-r-source",
   "name": "R",
   "pygments_lexer": "r",
   "version": "4.4.0"
  }
 },
 "nbformat": 4,
 "nbformat_minor": 5
}
